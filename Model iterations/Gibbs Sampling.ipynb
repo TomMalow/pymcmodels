{
 "cells": [
  {
   "cell_type": "code",
   "execution_count": 1,
   "metadata": {
    "collapsed": true
   },
   "outputs": [],
   "source": [
    "%matplotlib inline\n",
    "from collections import defaultdict\n",
    "import pymc as pm\n",
    "import numpy as np\n",
    "from matplotlib import pyplot as plt\n",
    "import random\n",
    "import time"
   ]
  },
  {
   "cell_type": "code",
   "execution_count": 2,
   "metadata": {
    "collapsed": true
   },
   "outputs": [],
   "source": [
    "def random_limit(distribution):\n",
    "    val = distribution.random()\n",
    "    while val > 1 or val < 0:\n",
    "        val = distribution.random()\n",
    "    return val\n",
    "\n",
    "class grader(object):\n",
    "    def __init__(self, name,bias_mean,bias_tau):\n",
    "        self.name = name\n",
    "        self.handins = list()\n",
    "        self.bias_mean = bias_mean\n",
    "        self.bias_tau = bias_tau\n",
    "        \n",
    "    def add_handin(self, handin):\n",
    "        self.handins.append(handin)\n",
    "                \n",
    "    def grade_handins(self):\n",
    "        for handin in self.handins:\n",
    "            B = pm.Normal('B_generator',self.bias_mean,self.bias_tau)\n",
    "            handin.add_gradeing(self,B.random())\n",
    "\n",
    "class handin:\n",
    "    def __init__(self,title,owner,true_value,precision):\n",
    "        self.title = title\n",
    "        self.owner = owner\n",
    "        self.gradeings = dict()\n",
    "        self.graders = list()\n",
    "        self.true_val = true_value\n",
    "        self.precision = precision\n",
    "    \n",
    "    def add_grader(self,grader):\n",
    "        self.graders.append(grader)\n",
    "    \n",
    "    def add_gradeing(self,grader,bias):\n",
    "        obs = pm.Normal('obs_generator',self.true_val+bias,self.precision)\n",
    "        self.gradeings[grader.name] = random_limit(obs)\n",
    "        \n",
    "        \n",
    "class assignment(object):\n",
    "    \n",
    "    def __init__(self, handins_input, graders_input):\n",
    "        self.handins = dict()\n",
    "        self.graders = dict()\n",
    "        for handin in handins_input:\n",
    "            self.handins[handin.title] = handin\n",
    "        for grader in graders_input:\n",
    "            self.graders[grader.name] = grader\n",
    "    \n",
    "    def add_handin(self, handin):\n",
    "        self.handing[handin.title] = handin\n",
    "        \n",
    "    def add_grader(self, grader):\n",
    "        self.graders[grader.title] = grader\n",
    "    \n",
    "    def find_ungraded_handin(self, grader):\n",
    "        \n",
    "        # sort the handins by the one with the least\n",
    "        sorted_l = sorted(self.handins.values(),key=lambda x: len(x.graders))\n",
    "        #i = int(random.uniform(0,len(sorted_l)))\n",
    "        i = 0\n",
    "        handin = sorted_l[i]\n",
    "        while handin in grader.handins or (handin.owner.name == grader.name):\n",
    "        #while(handin.owner.name == grader.name):\n",
    "            i += 1\n",
    "            #i = int(random.uniform(0,len(sorted_l)))\n",
    "            handin = sorted_l[i]\n",
    "        return handin\n",
    "            \n",
    "    def grade_handins(self,n_gradings):\n",
    "        self.n_gradings = n_gradings\n",
    "        # Distribute handins\n",
    "        for i in xrange(0,n_gradings):\n",
    "            for grader in self.graders.itervalues():\n",
    "                h = self.find_ungraded_handin(grader)\n",
    "                h.add_grader(g)\n",
    "                grader.add_handin(h)\n",
    "                \n",
    "        # grade handins\n",
    "        for grader in self.graders.itervalues():\n",
    "            grader.grade_handins()"
   ]
  },
  {
   "cell_type": "code",
   "execution_count": 3,
   "metadata": {
    "collapsed": true
   },
   "outputs": [],
   "source": [
    "T_mu = pm.Normal('T_mu_generator',0.5,25)\n",
    "T_tau = pm.Gamma('T_tau_generator',10,0.1)\n",
    "B_mu = pm.Normal('B_mu_generator',0,100)\n",
    "B_tau = pm.Gamma('B_tau_generator',50,0.1)\n",
    "\n",
    "handins_data = list()\n",
    "graders_data = list()\n",
    "\n",
    "for i in xrange(0,20):\n",
    "    g = grader('%i' % i,B_mu.random(),B_tau.random())\n",
    "    graders_data.append(g)\n",
    "for i in xrange(0,10):    \n",
    "    t_mu = random_limit(T_mu)\n",
    "    h = handin('%i' % i, graders_data[i], t_mu, T_tau.random())\n",
    "    handins_data.append(h)\n",
    "    \n",
    "assignment_data_true = assignment(handins_data,graders_data)\n",
    "assignment_data_true.grade_handins(5)"
   ]
  },
  {
   "cell_type": "code",
   "execution_count": null,
   "metadata": {
    "collapsed": true
   },
   "outputs": [],
   "source": [
    "T_mu = pm.Normal('T_mu_generator',0.5,25)\n",
    "T_tau = pm.Gamma('T_tau_generator',10,0.1)\n",
    "B_mu = pm.Normal('B_mu_generator',0,100)\n",
    "B_tau = pm.Gamma('B_tau_generator',50,0.1)\n",
    "\n",
    "handins_data = list()\n",
    "\n",
    "for i in xrange(20,40):\n",
    "    t_mu = random_limit(T_mu)\n",
    "    h = handin('%i' % i, graders_data[i-20], t_mu, T_tau.random())\n",
    "    handins_data.append(h)\n",
    "    \n",
    "assignment_data_2 = assignment(handins_data,graders_data)\n",
    "assignment_data_2.grade_handins(10)"
   ]
  },
  {
   "cell_type": "code",
   "execution_count": null,
   "metadata": {
    "collapsed": true
   },
   "outputs": [],
   "source": [
    "T_mu = pm.Normal('T_mu_generator',0.5,25)\n",
    "T_tau = pm.Gamma('T_tau_generator',10,0.1)\n",
    "B_mu = pm.Normal('B_mu_generator',0,100)\n",
    "B_tau = pm.Gamma('B_tau_generator',50,0.1)\n",
    "\n",
    "handins_data = list()\n",
    "\n",
    "for i in xrange(40,60):\n",
    "    t_mu = random_limit(T_mu)\n",
    "    h = handin('%i' % i, graders_data[i-60], t_mu, T_tau.random())\n",
    "    handins_data.append(h)\n",
    "    \n",
    "assignment_data_3 = assignment(handins_data,graders_data)\n",
    "assignment_data_3.grade_handins(10)"
   ]
  },
  {
   "cell_type": "markdown",
   "metadata": {},
   "source": [
    "## Gibbs Implementation"
   ]
  },
  {
   "cell_type": "code",
   "execution_count": 170,
   "metadata": {
    "collapsed": false
   },
   "outputs": [],
   "source": [
    "def gibbs_model(data):\n",
    "    \n",
    "    # Counts\n",
    "    N_H = len(data.handins) # Number of handins\n",
    "    N_G = len(data.graders) # Number of graders\n",
    "    N_g = data.n_gradings   # Number of gradings\n",
    "    N_eval = N_g*N_G   # Number of evaluations in total\n",
    "    \n",
    "    # Hyperparameters\n",
    "    ga_h = 0.5\n",
    "    la_h = 1.0\n",
    "    al_h = 10.0\n",
    "    be_h = 0.1\n",
    "\n",
    "    ga_g = 0.0\n",
    "    la_g = 1.0\n",
    "    al_g = 50.0\n",
    "    be_g = 0.1\n",
    "    \n",
    "    al_e = 10.0\n",
    "    be_e = 1.0\n",
    "    t_h = 500.0\n",
    "    t_g = 100.0\n",
    "    \n",
    "    # Prior parameters\n",
    "    u_h = dict()\n",
    "    t_h = dict()\n",
    "    u_g = dict()\n",
    "    t_g = dict()\n",
    "    T = dict()\n",
    "    B = dict()\n",
    "\n",
    "    # Draw from priors\n",
    "    e = np.random.gamma(al_e,1.0/be_e)\n",
    "    for h in range(N_H):\n",
    "        t_h[h] = np.random.gamma(al_h,1.0/be_h)\n",
    "        u_h[h] = np.random.normal(ga_h,np.sqrt(1.0/(la_g * t_h[h])))\n",
    "        T[h] = np.random.normal(u_h[h],np.sqrt(1.0/t_h[h]))\n",
    "    for g in range(N_G):\n",
    "        t_g[g] = np.random.gamma(al_g,1.0/be_g)\n",
    "        u_g[g] = np.random.normal(ga_g,np.sqrt(1.0/(la_g * t_g[g])))\n",
    "        B[g] = np.random.normal(u_g[g],np.sqrt(1.0/t_g[g]))\n",
    "\n",
    "    # Gibbs sampling\n",
    "    \n",
    "    burn_in = 1000  # warm-up steps\n",
    "    samples = 5000 # Gibbs sampling steps\n",
    "    \n",
    "    # Tracers initialising\n",
    "    trace_e = list()\n",
    "    trace_u_h = defaultdict(list)\n",
    "    trace_t_h = defaultdict(list)\n",
    "    trace_u_g = defaultdict(list)\n",
    "    trace_t_g = defaultdict(list)\n",
    "    trace_T = defaultdict(list)\n",
    "    trace_B = defaultdict(list)\n",
    "    tw = time.time()\n",
    "    for r in range(burn_in + samples):\n",
    "        print \"\\r%i\" % (r+1) + \" out of %i\" % (burn_in + samples),\n",
    "        # Sample T\n",
    "        for h in range(N_H):\n",
    "            handin = data.handins[str(h)]\n",
    "            n_gradings = len(handin.graders)\n",
    "            sum_ = 0.0\n",
    "            for g, val in handin.gradeings.iteritems():\n",
    "                sum_ = sum_ + val - B[int(g)]\n",
    "            v = e*n_gradings+t_h[h]\n",
    "            T[h] = np.random.normal((u_h[h]*t_h[h]+e*sum_)/v,np.sqrt(1/v))\n",
    "            \n",
    "        # Sample B\n",
    "        for g in range(N_G):\n",
    "            grader = data.graders[str(g)]\n",
    "            n_gradings = len(grader.handins)\n",
    "            sum_ = 0.0\n",
    "            for h in grader.handins:\n",
    "                sum_ = sum_ + h.gradeings[str(g)] - T[int(h.title)]\n",
    "            v = e*n_gradings+t_g[g]\n",
    "            B[g] = np.random.normal((u_g[g]*t_g[g]+e*sum_)/v,np.sqrt(1/v))\n",
    "        \n",
    "        # Sample e\n",
    "        sum_ = 0.0\n",
    "        for h in range(N_H):\n",
    "            for g, grading in data.handins[str(h)].gradeings.iteritems():\n",
    "                sum_ = sum_ + np.square(grading - (T[int(h)]+B[int(g)]))\n",
    "        e = np.random.gamma(al_e+0.5*N_eval,1.0/(be_e+0.5*sum_))\n",
    "\n",
    "        # Sample u_h and t_h\n",
    "        for h in range(N_H):\n",
    "            la_ = (la_h+1.0)\n",
    "            al_ = al_h + 0.5 * la_h + 0.5 * np.square(T[h]-u_h[h])\n",
    "            be_ = be_h + 0.5 + 0.5 * 1.0\n",
    "#            al_ = al_h+0.5\n",
    "#            be_ = be_h+0.5*((la_h*np.square(T[h]-ga_h))/la_)\n",
    "            t_h[h] = np.random.gamma(al_,1.0/be_)\n",
    "            u_h[h] = np.random.normal((la_h*ga_h+T[h])/la_,np.sqrt(1.0/(la_*t_h[h])))\n",
    "\n",
    "        # Sample u_g and t_g\n",
    "        for g in range(N_G):\n",
    "            la_ = (la_g+1.0)\n",
    "            al_ = al_g + 0.5 * la_g + 0.5 * np.square(B[g]-u_g[g])\n",
    "            be_ = be_g + 0.5 + 0.5 * 1.0\n",
    "#            al_ = al_g+0.5\n",
    "#            be_ = be_g+0.5*((la_g*np.square(B[g]-ga_g))/la_)\n",
    "            t_g[g] = np.random.gamma(al_,1.0/be_)\n",
    "            u_g[g] = np.random.normal((la_g*ga_g+B[g])/la_,np.sqrt(1.0/(t_g[g])))\n",
    "            \n",
    "        # Collect tracings\n",
    "        if r > burn_in:\n",
    "            trace_e.append(e)\n",
    "            for h in range(N_H):\n",
    "                trace_u_h[h].append(u_h[h])\n",
    "                trace_t_h[h].append(t_h[h])\n",
    "                trace_T[h].append(T[h])\n",
    "            for g in range(N_G):\n",
    "                trace_u_g[g].append(u_g[g])\n",
    "                trace_t_g[g].append(t_g[g])\n",
    "                trace_B[g].append(B[g])\n",
    "    print\n",
    "    print \"Wall time: %f\" % (time.time() - tw)\n",
    "    \n",
    "    \n",
    "    traces = {'e' : trace_e,\n",
    "              'u_h' : trace_u_h,\n",
    "              't_h' : trace_t_h,\n",
    "              'u_g' : trace_u_g,\n",
    "              't_g' : trace_t_g,\n",
    "              'T' : trace_T,\n",
    "              'B' : trace_B}\n",
    "\n",
    "    return traces"
   ]
  },
  {
   "cell_type": "code",
   "execution_count": 171,
   "metadata": {
    "collapsed": false
   },
   "outputs": [
    {
     "name": "stdout",
     "output_type": "stream",
     "text": [
      "6000 out of 6000\n",
      "Wall time: 11.237512\n"
     ]
    }
   ],
   "source": [
    "traces = gibbs_model(assignment_data_true)"
   ]
  },
  {
   "cell_type": "code",
   "execution_count": 172,
   "metadata": {
    "collapsed": false
   },
   "outputs": [
    {
     "data": {
      "image/png": "[encoded data removed]",
      "text/plain": [
       "<matplotlib.figure.Figure at 0x112b03750>"
      ]
     },
     "metadata": {},
     "output_type": "display_data"
    }
   ],
   "source": [
    "plt.hist(traces['e'])\n",
    "plt.show()"
   ]
  },
  {
   "cell_type": "code",
   "execution_count": 173,
   "metadata": {
    "collapsed": false
   },
   "outputs": [],
   "source": [
    "def plot_scores(scores):\n",
    "    ax = plt.subplot(111)\n",
    "    \n",
    "    scores.sort()\n",
    "    print sum(map(lambda x : (float(x[1]) - float(x[0])) ** 2,scores)) / len(scores)\n",
    "    model = map(lambda x : float(x[1]),scores)\n",
    "    true = map(lambda x : float(x[0]),scores)\n",
    "    label = map(lambda x : float(x[2]),scores)\n",
    "    y = xrange(0,len(scores))\n",
    "    plt.plot(model,y,'or',label=\"Gibbs sampling\",alpha=0.65)\n",
    "    plt.plot(true,y,'ob',label=\"True score\",alpha=0.65)\n",
    "    box = ax.get_position()\n",
    "    ax.set_position([box.x0, box.y0,\n",
    "                     box.width+0.45, box.height*2])\n",
    "    plt.yticks(xrange(0,len(scores)),label)\n",
    "    plt.legend(loc='center left', bbox_to_anchor=(1, 0.5))"
   ]
  },
  {
   "cell_type": "code",
   "execution_count": 174,
   "metadata": {
    "collapsed": false
   },
   "outputs": [
    {
     "name": "stdout",
     "output_type": "stream",
     "text": [
      "0.00232587863103\n"
     ]
    },
    {
     "data": {
      "image/png": "[encoded data removed]",
      "text/plain": [
       "<matplotlib.figure.Figure at 0x113361150>"
      ]
     },
     "metadata": {},
     "output_type": "display_data"
    }
   ],
   "source": [
    "scores = list()\n",
    "for name, g in assignment_data_true.graders.iteritems():\n",
    "    scores.append((float(g.bias_mean),np.mean(traces['B'][int(name)]),name))\n",
    "plot_scores(scores)"
   ]
  },
  {
   "cell_type": "code",
   "execution_count": 175,
   "metadata": {
    "collapsed": false
   },
   "outputs": [
    {
     "name": "stdout",
     "output_type": "stream",
     "text": [
      "0.00152700891149\n"
     ]
    },
    {
     "data": {
      "image/png": "[encoded data removed]",
      "text/plain": [
       "<matplotlib.figure.Figure at 0x113724e90>"
      ]
     },
     "metadata": {},
     "output_type": "display_data"
    }
   ],
   "source": [
    "scores = list()\n",
    "for title, h in assignment_data_true.handins.iteritems():\n",
    "    scores.append((float(h.true_val),np.mean(traces['T'][int(title)]),title))\n",
    "plot_scores(scores)"
   ]
  },
  {
   "cell_type": "code",
   "execution_count": 176,
   "metadata": {
    "collapsed": false
   },
   "outputs": [
    {
     "name": "stdout",
     "output_type": "stream",
     "text": [
      "203885.266024\n"
     ]
    },
    {
     "data": {
      "image/png": "[encoded data removed]",
      "text/plain": [
       "<matplotlib.figure.Figure at 0x112edc5d0>"
      ]
     },
     "metadata": {},
     "output_type": "display_data"
    }
   ],
   "source": [
    "scores = list()\n",
    "for name, g in assignment_data_true.graders.iteritems():\n",
    "    scores.append((float(g.bias_tau),np.mean(traces['t_g'][int(name)]),name))\n",
    "plot_scores(scores)"
   ]
  },
  {
   "cell_type": "code",
   "execution_count": 177,
   "metadata": {
    "collapsed": false
   },
   "outputs": [
    {
     "name": "stdout",
     "output_type": "stream",
     "text": [
      "8801.88354244\n"
     ]
    },
    {
     "data": {
      "image/png": "[encoded data removed]",
      "text/plain": [
       "<matplotlib.figure.Figure at 0x113444990>"
      ]
     },
     "metadata": {},
     "output_type": "display_data"
    }
   ],
   "source": [
    "scores = list()\n",
    "for title, h in assignment_data_true.handins.iteritems():\n",
    "    scores.append((float(h.precision),np.mean(traces['t_h'][int(title)]),title))\n",
    "\n",
    "plot_scores(scores)"
   ]
  },
  {
   "cell_type": "code",
   "execution_count": null,
   "metadata": {
    "collapsed": true
   },
   "outputs": [],
   "source": []
  }
 ],
 "metadata": {
  "kernelspec": {
   "display_name": "Python 2",
   "language": "python",
   "name": "python2"
  },
  "language_info": {
   "codemirror_mode": {
    "name": "ipython",
    "version": 2
   },
   "file_extension": ".py",
   "mimetype": "text/x-python",
   "name": "python",
   "nbconvert_exporter": "python",
   "pygments_lexer": "ipython2",
   "version": "2.7.10"
  }
 },
 "nbformat": 4,
 "nbformat_minor": 0
}
