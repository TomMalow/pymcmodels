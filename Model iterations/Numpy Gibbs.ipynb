{
 "cells": [
  {
   "cell_type": "code",
   "execution_count": 1,
   "metadata": {
    "collapsed": true
   },
   "outputs": [],
   "source": [
    "%matplotlib inline\n",
    "from collections import defaultdict\n",
    "from scipy.sparse import dok_matrix, csr_matrix\n",
    "import numpy as np\n",
    "import time\n",
    "import math\n",
    "import random"
   ]
  },
  {
   "cell_type": "code",
   "execution_count": null,
   "metadata": {
    "collapsed": true
   },
   "outputs": [],
   "source": [
    "def random_limit(distribution):\n",
    "    val = distribution.random()\n",
    "    while val > 1 or val < 0:\n",
    "        val = distribution.random()\n",
    "    return val\n",
    "\n",
    "class grader(object):\n",
    "    def __init__(self, name,bias_mean,bias_tau):\n",
    "        self.name = name\n",
    "        self.handins = list()\n",
    "        self.bias_mean = bias_mean\n",
    "        self.bias_tau = bias_tau\n",
    "        \n",
    "    def add_handin(self, handin):\n",
    "        self.handins.append(handin)\n",
    "                \n",
    "    def grade_handins(self):\n",
    "        for handin in self.handins:\n",
    "            B = pm.Normal('B_generator',self.bias_mean,self.bias_tau)\n",
    "            handin.add_gradeing(self,B.random())\n",
    "\n",
    "class handin:\n",
    "    def __init__(self,title,owner,true_value,precision):\n",
    "        self.title = title\n",
    "        self.owner = owner\n",
    "        self.gradeings = dict()\n",
    "        self.graders = list()\n",
    "        self.true_val = true_value\n",
    "        self.precision = precision\n",
    "    \n",
    "    def add_grader(self,grader):\n",
    "        self.graders.append(grader)\n",
    "    \n",
    "    def add_gradeing(self,grader,bias):\n",
    "        obs = pm.Normal('obs_generator',self.true_val+bias,self.precision)\n",
    "        self.gradeings[grader.name] = random_limit(obs)\n",
    "        \n",
    "        \n",
    "class assignment(object):\n",
    "    \n",
    "    def __init__(self, handins_input, graders_input):\n",
    "        self.handins = dict()\n",
    "        self.graders = dict()\n",
    "        for handin in handins_input:\n",
    "            self.handins[handin.title] = handin\n",
    "        for grader in graders_input:\n",
    "            self.graders[grader.name] = grader\n",
    "    \n",
    "    def add_handin(self, handin):\n",
    "        self.handing[handin.title] = handin\n",
    "        \n",
    "    def add_grader(self, grader):\n",
    "        self.graders[grader.title] = grader\n",
    "    \n",
    "    def find_ungraded_handin(self, grader):\n",
    "        \n",
    "        # sort the handins by the one with the least\n",
    "        sorted_l = sorted(self.handins.values(),key=lambda x: len(x.graders))\n",
    "        #i = int(random.uniform(0,len(sorted_l)))\n",
    "        i = 0\n",
    "        handin = sorted_l[i]\n",
    "        while handin in grader.handins or (handin.owner.name == grader.name):\n",
    "        #while(handin.owner.name == grader.name):\n",
    "            i += 1\n",
    "            #i = int(random.uniform(0,len(sorted_l)))\n",
    "            handin = sorted_l[i]\n",
    "        return handin\n",
    "            \n",
    "    def grade_handins(self,n_gradings):\n",
    "        self.n_gradings = n_gradings\n",
    "        # Distribute handins\n",
    "        for i in xrange(0,n_gradings):\n",
    "            for grader in self.graders.itervalues():\n",
    "                h = self.find_ungraded_handin(grader)\n",
    "                h.add_grader(g)\n",
    "                grader.add_handin(h)\n",
    "                \n",
    "        # grade handins\n",
    "        for grader in self.graders.itervalues():\n",
    "            grader.grade_handins()\n",
    "            \n",
    "class Course(object):\n",
    "    \n",
    "    def __init__(self):\n",
    "        self.assignments = list()\n",
    "        self.handins = dict()\n",
    "        self.graders = dict()\n",
    "        self.n_gradings = 0\n",
    "    \n",
    "    def add_assignment(self,assignment):\n",
    "        self.assignments.append(assignment)\n",
    "        for a in self.assignments:\n",
    "            self.handins.update(a.handins)\n",
    "            self.graders.update(a.graders)\n",
    "        self.n_gradings = self.n_gradings + a.n_gradings"
   ]
  },
  {
   "cell_type": "code",
   "execution_count": null,
   "metadata": {
    "collapsed": true
   },
   "outputs": [],
   "source": [
    "course = Course()\n",
    "\n",
    "T_mu = pm.Normal('T_mu_generator',0.5,25)\n",
    "T_tau = pm.Gamma('T_tau_generator',10,0.1)\n",
    "B_mu = pm.Normal('B_mu_generator',0,100)\n",
    "B_tau = pm.Gamma('B_tau_generator',50,0.1)\n",
    "\n",
    "handins_data = list()\n",
    "graders_data = list()\n",
    "\n",
    "for i in xrange(0,60):\n",
    "    g = grader('%i' % i,B_mu.random(),B_tau.random())\n",
    "    graders_data.append(g)\n",
    "for i in xrange(0,60):    \n",
    "    t_mu = random_limit(T_mu)\n",
    "    h = handin('%i' % i, graders_data[i], t_mu, T_tau.random())\n",
    "    handins_data.append(h)\n",
    "    \n",
    "assignment_data = assignment(handins_data,graders_data)\n",
    "assignment_data.grade_handins(5)\n",
    "course.add_assignment(assignment_data)"
   ]
  },
  {
   "cell_type": "code",
   "execution_count": null,
   "metadata": {
    "collapsed": false
   },
   "outputs": [],
   "source": [
    "handins_data = list()\n",
    "\n",
    "for i in xrange(60,120):\n",
    "    t_mu = random_limit(T_mu)\n",
    "    h = handin('%i' % i, graders_data[i-60], t_mu, T_tau.random())\n",
    "    handins_data.append(h)\n",
    "    \n",
    "assignment_data_2 = assignment(handins_data,graders_data)\n",
    "assignment_data_2.grade_handins(5)\n",
    "course.add_assignment(assignment_data_2)"
   ]
  },
  {
   "cell_type": "markdown",
   "metadata": {},
   "source": [
    "Mock data for testing purpose"
   ]
  },
  {
   "cell_type": "code",
   "execution_count": 6,
   "metadata": {
    "collapsed": false
   },
   "outputs": [],
   "source": [
    "from scipy.sparse import dok_matrix\n",
    "\n",
    "# Dimension\n",
    "H = 6\n",
    "G = 6\n",
    "\n",
    "S = dok_matrix((H, G), dtype=np.float32)\n",
    "\n",
    "for g in xrange(G):\n",
    "    for h in xrange(H):    \n",
    "        if h != g:\n",
    "            S[h,g] = random.random()"
   ]
  },
  {
   "cell_type": "code",
   "execution_count": 7,
   "metadata": {
    "collapsed": false
   },
   "outputs": [],
   "source": [
    "Sh = {}\n",
    "Sg = {}\n",
    "cnt = 0\n",
    "\n",
    "for g in xrange(G):\n",
    "    Sg[g] = S[:,g]\n",
    "\n",
    "for h in xrange(H):  \n",
    "    Sh[h] = S[h,:]    \n",
    "    cnt += Sh[h].nnz"
   ]
  },
  {
   "cell_type": "code",
   "execution_count": 8,
   "metadata": {
    "collapsed": false
   },
   "outputs": [],
   "source": [
    "Sih = {}\n",
    "Sig = {}\n",
    "\n",
    "for h in range(H):\n",
    "    Sih[h] = Sh[h].nonzero()[1]\n",
    "\n",
    "for g in range(G):\n",
    "    Sig[g] = Sg[g].nonzero()[1]"
   ]
  },
  {
   "cell_type": "code",
   "execution_count": 9,
   "metadata": {
    "collapsed": false
   },
   "outputs": [],
   "source": [
    "# Counts\n",
    "N_H = S.shape[0] # Number of handins\n",
    "N_G = S.shape[1] # Number of graders\n",
    "N_g = 5   # Number of gradings\n",
    "N_eval = S.getnnz()   # Number of evaluations in total\n",
    "\n",
    "# Hyperparameters\n",
    "ga_h = 0.5\n",
    "la_h = 1.0\n",
    "al_h = 10.0\n",
    "be_h = 0.1\n",
    "\n",
    "ga_g = 0.0\n",
    "la_g = 1.0\n",
    "al_g = 50.0\n",
    "be_g = 0.1\n",
    "\n",
    "al_e = 10.0\n",
    "be_e = 1.0\n",
    "t_h = 500.0\n",
    "t_g = 100.0\n",
    "\n",
    "# Prior parameters\n",
    "u_h = dict()\n",
    "t_h = dict()\n",
    "u_g = dict()\n",
    "t_g = dict()\n",
    "T = dict()\n",
    "B = dict()\n",
    "\n",
    "# Draw from priors\n",
    "e = np.random.gamma(al_e,1.0/be_e)\n",
    "t_h = np.random.gamma(np.ones((N_H,1))*al_h,1.0/be_h)\n",
    "u_h = np.random.normal(ga_h,np.sqrt(1.0/(la_g * t_h)))\n",
    "T = np.random.normal(u_h,np.sqrt(1.0/t_h)) \n",
    "t_g = np.random.gamma(np.ones((N_G,1))*al_g,1.0/be_g)\n",
    "u_g = np.random.normal(ga_g,np.sqrt(1.0/(la_g * t_g)))\n",
    "B = np.random.normal(u_g,np.sqrt(1.0/t_g))"
   ]
  },
  {
   "cell_type": "code",
   "execution_count": 10,
   "metadata": {
    "collapsed": false
   },
   "outputs": [],
   "source": [
    "# Gibbs sampling\n",
    "\n",
    "burn_in = 1000  # warm-up steps\n",
    "samples = 6000 # Gibbs sampling steps\n",
    "\n",
    "# Tracers initialising\n",
    "trace_e = np.zeros((samples))\n",
    "trace_u_h = np.zeros((N_H,samples))\n",
    "trace_t_h = np.zeros((N_H,samples))\n",
    "trace_u_g = np.zeros((N_G,samples))\n",
    "trace_t_g = np.zeros((N_G,samples))\n",
    "trace_T = np.zeros((N_H,samples))\n",
    "trace_B = np.zeros((N_G,samples))"
   ]
  },
  {
   "cell_type": "code",
   "execution_count": 11,
   "metadata": {
    "collapsed": false
   },
   "outputs": [],
   "source": [
    "def construct_sparse(row_index, data, row_count):\n",
    "    X = dok_matrix((1,row_count))\n",
    "    data = np.asarray(data).flatten()\n",
    "    for ri,d in zip(row_index, data):\n",
    "        X[0,ri] = d\n",
    "    return X"
   ]
  },
  {
   "cell_type": "code",
   "execution_count": 12,
   "metadata": {
    "collapsed": false
   },
   "outputs": [
    {
     "name": "stdout",
     "output_type": "stream",
     "text": [
      "598 out of 7000"
     ]
    },
    {
     "ename": "KeyboardInterrupt",
     "evalue": "",
     "output_type": "error",
     "traceback": [
      "\u001b[0;31m---------------------------------------------------------------------------\u001b[0m",
      "\u001b[0;31mKeyboardInterrupt\u001b[0m                         Traceback (most recent call last)",
      "\u001b[0;32m<ipython-input-12-a0b5602280bd>\u001b[0m in \u001b[0;36m<module>\u001b[0;34m()\u001b[0m\n\u001b[1;32m     22\u001b[0m     \u001b[0;32mfor\u001b[0m \u001b[0mh\u001b[0m \u001b[0;32min\u001b[0m \u001b[0mrange\u001b[0m\u001b[0;34m(\u001b[0m\u001b[0mN_H\u001b[0m\u001b[0;34m)\u001b[0m\u001b[0;34m:\u001b[0m\u001b[0;34m\u001b[0m\u001b[0m\n\u001b[1;32m     23\u001b[0m         \u001b[0mBh\u001b[0m \u001b[0;34m=\u001b[0m \u001b[0mB\u001b[0m\u001b[0;34m[\u001b[0m\u001b[0mSh\u001b[0m\u001b[0;34m[\u001b[0m\u001b[0mh\u001b[0m\u001b[0;34m]\u001b[0m\u001b[0;34m.\u001b[0m\u001b[0mtodense\u001b[0m\u001b[0;34m(\u001b[0m\u001b[0;34m)\u001b[0m\u001b[0;34m.\u001b[0m\u001b[0mT\u001b[0m \u001b[0;34m!=\u001b[0m \u001b[0;36m0\u001b[0m\u001b[0;34m]\u001b[0m\u001b[0;34m\u001b[0m\u001b[0m\n\u001b[0;32m---> 24\u001b[0;31m         \u001b[0msum_\u001b[0m \u001b[0;34m=\u001b[0m \u001b[0msum_\u001b[0m \u001b[0;34m+\u001b[0m \u001b[0mnp\u001b[0m\u001b[0;34m.\u001b[0m\u001b[0msquare\u001b[0m\u001b[0;34m(\u001b[0m\u001b[0;34m(\u001b[0m\u001b[0mSh\u001b[0m\u001b[0;34m[\u001b[0m\u001b[0mh\u001b[0m\u001b[0;34m]\u001b[0m \u001b[0;34m-\u001b[0m \u001b[0mT\u001b[0m\u001b[0;34m[\u001b[0m\u001b[0mh\u001b[0m\u001b[0;34m]\u001b[0m\u001b[0;34m+\u001b[0m\u001b[0mconstruct_sparse\u001b[0m\u001b[0;34m(\u001b[0m\u001b[0mSih\u001b[0m\u001b[0;34m[\u001b[0m\u001b[0mh\u001b[0m\u001b[0;34m]\u001b[0m\u001b[0;34m,\u001b[0m\u001b[0mBh\u001b[0m\u001b[0;34m,\u001b[0m\u001b[0mG\u001b[0m\u001b[0;34m)\u001b[0m\u001b[0;34m)\u001b[0m\u001b[0;34m.\u001b[0m\u001b[0msum\u001b[0m\u001b[0;34m(\u001b[0m\u001b[0;34m)\u001b[0m\u001b[0;34m)\u001b[0m\u001b[0;34m\u001b[0m\u001b[0m\n\u001b[0m\u001b[1;32m     25\u001b[0m     \u001b[0me\u001b[0m \u001b[0;34m=\u001b[0m \u001b[0mnp\u001b[0m\u001b[0;34m.\u001b[0m\u001b[0mrandom\u001b[0m\u001b[0;34m.\u001b[0m\u001b[0mgamma\u001b[0m\u001b[0;34m(\u001b[0m\u001b[0mal_e\u001b[0m\u001b[0;34m+\u001b[0m\u001b[0;36m0.5\u001b[0m\u001b[0;34m*\u001b[0m\u001b[0mN_eval\u001b[0m\u001b[0;34m,\u001b[0m\u001b[0;36m1.0\u001b[0m\u001b[0;34m/\u001b[0m\u001b[0;34m(\u001b[0m\u001b[0mbe_e\u001b[0m\u001b[0;34m+\u001b[0m\u001b[0;36m0.5\u001b[0m\u001b[0;34m*\u001b[0m\u001b[0msum_\u001b[0m\u001b[0;34m)\u001b[0m\u001b[0;34m)\u001b[0m\u001b[0;34m\u001b[0m\u001b[0m\n\u001b[1;32m     26\u001b[0m \u001b[0;34m\u001b[0m\u001b[0m\n",
      "\u001b[0;32m/System/Library/Frameworks/Python.framework/Versions/2.7/Extras/lib/python/scipy/sparse/dok.pyc\u001b[0m in \u001b[0;36m__radd__\u001b[0;34m(self, other)\u001b[0m\n\u001b[1;32m    382\u001b[0m             \u001b[0mnew\u001b[0m \u001b[0;34m=\u001b[0m \u001b[0mcsc\u001b[0m \u001b[0;34m+\u001b[0m \u001b[0mother\u001b[0m\u001b[0;34m\u001b[0m\u001b[0m\n\u001b[1;32m    383\u001b[0m         \u001b[0;32melif\u001b[0m \u001b[0misdense\u001b[0m\u001b[0;34m(\u001b[0m\u001b[0mother\u001b[0m\u001b[0;34m)\u001b[0m\u001b[0;34m:\u001b[0m\u001b[0;34m\u001b[0m\u001b[0m\n\u001b[0;32m--> 384\u001b[0;31m             \u001b[0mnew\u001b[0m \u001b[0;34m=\u001b[0m \u001b[0mother\u001b[0m \u001b[0;34m+\u001b[0m \u001b[0mself\u001b[0m\u001b[0;34m.\u001b[0m\u001b[0mtodense\u001b[0m\u001b[0;34m(\u001b[0m\u001b[0;34m)\u001b[0m\u001b[0;34m\u001b[0m\u001b[0m\n\u001b[0m\u001b[1;32m    385\u001b[0m         \u001b[0;32melse\u001b[0m\u001b[0;34m:\u001b[0m\u001b[0;34m\u001b[0m\u001b[0m\n\u001b[1;32m    386\u001b[0m             \u001b[0;32mraise\u001b[0m \u001b[0mTypeError\u001b[0m\u001b[0;34m(\u001b[0m\u001b[0;34m\"data type not understood\"\u001b[0m\u001b[0;34m)\u001b[0m\u001b[0;34m\u001b[0m\u001b[0m\n",
      "\u001b[0;32m/System/Library/Frameworks/Python.framework/Versions/2.7/Extras/lib/python/scipy/sparse/base.pyc\u001b[0m in \u001b[0;36mtodense\u001b[0;34m(self, order, out)\u001b[0m\n\u001b[1;32m    544\u001b[0m             \u001b[0;34m`\u001b[0m\u001b[0mnumpy\u001b[0m\u001b[0;34m.\u001b[0m\u001b[0mmatrix\u001b[0m\u001b[0;34m`\u001b[0m \u001b[0mobject\u001b[0m \u001b[0mthat\u001b[0m \u001b[0mshares\u001b[0m \u001b[0mthe\u001b[0m \u001b[0msame\u001b[0m \u001b[0mmemory\u001b[0m\u001b[0;34m.\u001b[0m\u001b[0;34m\u001b[0m\u001b[0m\n\u001b[1;32m    545\u001b[0m         \"\"\"\n\u001b[0;32m--> 546\u001b[0;31m         \u001b[0;32mreturn\u001b[0m \u001b[0mnp\u001b[0m\u001b[0;34m.\u001b[0m\u001b[0masmatrix\u001b[0m\u001b[0;34m(\u001b[0m\u001b[0mself\u001b[0m\u001b[0;34m.\u001b[0m\u001b[0mtoarray\u001b[0m\u001b[0;34m(\u001b[0m\u001b[0morder\u001b[0m\u001b[0;34m=\u001b[0m\u001b[0morder\u001b[0m\u001b[0;34m,\u001b[0m \u001b[0mout\u001b[0m\u001b[0;34m=\u001b[0m\u001b[0mout\u001b[0m\u001b[0;34m)\u001b[0m\u001b[0;34m)\u001b[0m\u001b[0;34m\u001b[0m\u001b[0m\n\u001b[0m\u001b[1;32m    547\u001b[0m \u001b[0;34m\u001b[0m\u001b[0m\n\u001b[1;32m    548\u001b[0m     \u001b[0;32mdef\u001b[0m \u001b[0mtoarray\u001b[0m\u001b[0;34m(\u001b[0m\u001b[0mself\u001b[0m\u001b[0;34m,\u001b[0m \u001b[0morder\u001b[0m\u001b[0;34m=\u001b[0m\u001b[0mNone\u001b[0m\u001b[0;34m,\u001b[0m \u001b[0mout\u001b[0m\u001b[0;34m=\u001b[0m\u001b[0mNone\u001b[0m\u001b[0;34m)\u001b[0m\u001b[0;34m:\u001b[0m\u001b[0;34m\u001b[0m\u001b[0m\n",
      "\u001b[0;32m/System/Library/Frameworks/Python.framework/Versions/2.7/Extras/lib/python/scipy/sparse/dok.pyc\u001b[0m in \u001b[0;36mtoarray\u001b[0;34m(self, order, out)\u001b[0m\n\u001b[1;32m    519\u001b[0m     \u001b[0;32mdef\u001b[0m \u001b[0mtoarray\u001b[0m\u001b[0;34m(\u001b[0m\u001b[0mself\u001b[0m\u001b[0;34m,\u001b[0m \u001b[0morder\u001b[0m\u001b[0;34m=\u001b[0m\u001b[0mNone\u001b[0m\u001b[0;34m,\u001b[0m \u001b[0mout\u001b[0m\u001b[0;34m=\u001b[0m\u001b[0mNone\u001b[0m\u001b[0;34m)\u001b[0m\u001b[0;34m:\u001b[0m\u001b[0;34m\u001b[0m\u001b[0m\n\u001b[1;32m    520\u001b[0m         \u001b[0;34m\"\"\"See the docstring for `spmatrix.toarray`.\"\"\"\u001b[0m\u001b[0;34m\u001b[0m\u001b[0m\n\u001b[0;32m--> 521\u001b[0;31m         \u001b[0;32mreturn\u001b[0m \u001b[0mself\u001b[0m\u001b[0;34m.\u001b[0m\u001b[0mtocoo\u001b[0m\u001b[0;34m(\u001b[0m\u001b[0;34m)\u001b[0m\u001b[0;34m.\u001b[0m\u001b[0mtoarray\u001b[0m\u001b[0;34m(\u001b[0m\u001b[0morder\u001b[0m\u001b[0;34m=\u001b[0m\u001b[0morder\u001b[0m\u001b[0;34m,\u001b[0m \u001b[0mout\u001b[0m\u001b[0;34m=\u001b[0m\u001b[0mout\u001b[0m\u001b[0;34m)\u001b[0m\u001b[0;34m\u001b[0m\u001b[0m\n\u001b[0m\u001b[1;32m    522\u001b[0m \u001b[0;34m\u001b[0m\u001b[0m\n\u001b[1;32m    523\u001b[0m     \u001b[0;32mdef\u001b[0m \u001b[0mresize\u001b[0m\u001b[0;34m(\u001b[0m\u001b[0mself\u001b[0m\u001b[0;34m,\u001b[0m \u001b[0mshape\u001b[0m\u001b[0;34m)\u001b[0m\u001b[0;34m:\u001b[0m\u001b[0;34m\u001b[0m\u001b[0m\n",
      "\u001b[0;32m/System/Library/Frameworks/Python.framework/Versions/2.7/Extras/lib/python/scipy/sparse/dok.pyc\u001b[0m in \u001b[0;36mtocoo\u001b[0;34m(self)\u001b[0m\n\u001b[1;32m    501\u001b[0m             \u001b[0mindices\u001b[0m \u001b[0;34m=\u001b[0m \u001b[0mnp\u001b[0m\u001b[0;34m.\u001b[0m\u001b[0masarray\u001b[0m\u001b[0;34m(\u001b[0m\u001b[0m_list\u001b[0m\u001b[0;34m(\u001b[0m\u001b[0mself\u001b[0m\u001b[0;34m.\u001b[0m\u001b[0mkeys\u001b[0m\u001b[0;34m(\u001b[0m\u001b[0;34m)\u001b[0m\u001b[0;34m)\u001b[0m\u001b[0;34m,\u001b[0m \u001b[0mdtype\u001b[0m\u001b[0;34m=\u001b[0m\u001b[0mnp\u001b[0m\u001b[0;34m.\u001b[0m\u001b[0mintc\u001b[0m\u001b[0;34m)\u001b[0m\u001b[0;34m.\u001b[0m\u001b[0mT\u001b[0m\u001b[0;34m\u001b[0m\u001b[0m\n\u001b[1;32m    502\u001b[0m             return coo_matrix((data,indices), shape=self.shape,\n\u001b[0;32m--> 503\u001b[0;31m                               dtype=self.dtype)\n\u001b[0m\u001b[1;32m    504\u001b[0m \u001b[0;34m\u001b[0m\u001b[0m\n\u001b[1;32m    505\u001b[0m     \u001b[0;32mdef\u001b[0m \u001b[0mtodok\u001b[0m\u001b[0;34m(\u001b[0m\u001b[0mself\u001b[0m\u001b[0;34m,\u001b[0m\u001b[0mcopy\u001b[0m\u001b[0;34m=\u001b[0m\u001b[0mFalse\u001b[0m\u001b[0;34m)\u001b[0m\u001b[0;34m:\u001b[0m\u001b[0;34m\u001b[0m\u001b[0m\n",
      "\u001b[0;32m/System/Library/Frameworks/Python.framework/Versions/2.7/Extras/lib/python/scipy/sparse/coo.pyc\u001b[0m in \u001b[0;36m__init__\u001b[0;34m(self, arg1, shape, dtype, copy)\u001b[0m\n\u001b[1;32m    191\u001b[0m             \u001b[0mself\u001b[0m\u001b[0;34m.\u001b[0m\u001b[0mdata\u001b[0m \u001b[0;34m=\u001b[0m \u001b[0mself\u001b[0m\u001b[0;34m.\u001b[0m\u001b[0mdata\u001b[0m\u001b[0;34m.\u001b[0m\u001b[0mastype\u001b[0m\u001b[0;34m(\u001b[0m\u001b[0mdtype\u001b[0m\u001b[0;34m)\u001b[0m\u001b[0;34m\u001b[0m\u001b[0m\n\u001b[1;32m    192\u001b[0m \u001b[0;34m\u001b[0m\u001b[0m\n\u001b[0;32m--> 193\u001b[0;31m         \u001b[0mself\u001b[0m\u001b[0;34m.\u001b[0m\u001b[0m_check\u001b[0m\u001b[0;34m(\u001b[0m\u001b[0;34m)\u001b[0m\u001b[0;34m\u001b[0m\u001b[0m\n\u001b[0m\u001b[1;32m    194\u001b[0m \u001b[0;34m\u001b[0m\u001b[0m\n\u001b[1;32m    195\u001b[0m     \u001b[0;32mdef\u001b[0m \u001b[0mgetnnz\u001b[0m\u001b[0;34m(\u001b[0m\u001b[0mself\u001b[0m\u001b[0;34m)\u001b[0m\u001b[0;34m:\u001b[0m\u001b[0;34m\u001b[0m\u001b[0m\n",
      "\u001b[0;32m/System/Library/Frameworks/Python.framework/Versions/2.7/Extras/lib/python/scipy/sparse/coo.pyc\u001b[0m in \u001b[0;36m_check\u001b[0;34m(self)\u001b[0m\n\u001b[1;32m    224\u001b[0m             \u001b[0;32mif\u001b[0m \u001b[0mself\u001b[0m\u001b[0;34m.\u001b[0m\u001b[0mrow\u001b[0m\u001b[0;34m.\u001b[0m\u001b[0mmax\u001b[0m\u001b[0;34m(\u001b[0m\u001b[0;34m)\u001b[0m \u001b[0;34m>=\u001b[0m \u001b[0mself\u001b[0m\u001b[0;34m.\u001b[0m\u001b[0mshape\u001b[0m\u001b[0;34m[\u001b[0m\u001b[0;36m0\u001b[0m\u001b[0;34m]\u001b[0m\u001b[0;34m:\u001b[0m\u001b[0;34m\u001b[0m\u001b[0m\n\u001b[1;32m    225\u001b[0m                 \u001b[0;32mraise\u001b[0m \u001b[0mValueError\u001b[0m\u001b[0;34m(\u001b[0m\u001b[0;34m'row index exceedes matrix dimensions'\u001b[0m\u001b[0;34m)\u001b[0m\u001b[0;34m\u001b[0m\u001b[0m\n\u001b[0;32m--> 226\u001b[0;31m             \u001b[0;32mif\u001b[0m \u001b[0mself\u001b[0m\u001b[0;34m.\u001b[0m\u001b[0mcol\u001b[0m\u001b[0;34m.\u001b[0m\u001b[0mmax\u001b[0m\u001b[0;34m(\u001b[0m\u001b[0;34m)\u001b[0m \u001b[0;34m>=\u001b[0m \u001b[0mself\u001b[0m\u001b[0;34m.\u001b[0m\u001b[0mshape\u001b[0m\u001b[0;34m[\u001b[0m\u001b[0;36m1\u001b[0m\u001b[0;34m]\u001b[0m\u001b[0;34m:\u001b[0m\u001b[0;34m\u001b[0m\u001b[0m\n\u001b[0m\u001b[1;32m    227\u001b[0m                 \u001b[0;32mraise\u001b[0m \u001b[0mValueError\u001b[0m\u001b[0;34m(\u001b[0m\u001b[0;34m'column index exceedes matrix dimensions'\u001b[0m\u001b[0;34m)\u001b[0m\u001b[0;34m\u001b[0m\u001b[0m\n\u001b[1;32m    228\u001b[0m             \u001b[0;32mif\u001b[0m \u001b[0mself\u001b[0m\u001b[0;34m.\u001b[0m\u001b[0mrow\u001b[0m\u001b[0;34m.\u001b[0m\u001b[0mmin\u001b[0m\u001b[0;34m(\u001b[0m\u001b[0;34m)\u001b[0m \u001b[0;34m<\u001b[0m \u001b[0;36m0\u001b[0m\u001b[0;34m:\u001b[0m\u001b[0;34m\u001b[0m\u001b[0m\n",
      "\u001b[0;32m/Library/Python/2.7/site-packages/numpy/core/_methods.pyc\u001b[0m in \u001b[0;36m_amax\u001b[0;34m(a, axis, out, keepdims)\u001b[0m\n\u001b[1;32m     24\u001b[0m \u001b[0;31m# small reductions\u001b[0m\u001b[0;34m\u001b[0m\u001b[0;34m\u001b[0m\u001b[0m\n\u001b[1;32m     25\u001b[0m \u001b[0;32mdef\u001b[0m \u001b[0m_amax\u001b[0m\u001b[0;34m(\u001b[0m\u001b[0ma\u001b[0m\u001b[0;34m,\u001b[0m \u001b[0maxis\u001b[0m\u001b[0;34m=\u001b[0m\u001b[0mNone\u001b[0m\u001b[0;34m,\u001b[0m \u001b[0mout\u001b[0m\u001b[0;34m=\u001b[0m\u001b[0mNone\u001b[0m\u001b[0;34m,\u001b[0m \u001b[0mkeepdims\u001b[0m\u001b[0;34m=\u001b[0m\u001b[0mFalse\u001b[0m\u001b[0;34m)\u001b[0m\u001b[0;34m:\u001b[0m\u001b[0;34m\u001b[0m\u001b[0m\n\u001b[0;32m---> 26\u001b[0;31m     \u001b[0;32mreturn\u001b[0m \u001b[0mumr_maximum\u001b[0m\u001b[0;34m(\u001b[0m\u001b[0ma\u001b[0m\u001b[0;34m,\u001b[0m \u001b[0maxis\u001b[0m\u001b[0;34m,\u001b[0m \u001b[0mNone\u001b[0m\u001b[0;34m,\u001b[0m \u001b[0mout\u001b[0m\u001b[0;34m,\u001b[0m \u001b[0mkeepdims\u001b[0m\u001b[0;34m)\u001b[0m\u001b[0;34m\u001b[0m\u001b[0m\n\u001b[0m\u001b[1;32m     27\u001b[0m \u001b[0;34m\u001b[0m\u001b[0m\n\u001b[1;32m     28\u001b[0m \u001b[0;32mdef\u001b[0m \u001b[0m_amin\u001b[0m\u001b[0;34m(\u001b[0m\u001b[0ma\u001b[0m\u001b[0;34m,\u001b[0m \u001b[0maxis\u001b[0m\u001b[0;34m=\u001b[0m\u001b[0mNone\u001b[0m\u001b[0;34m,\u001b[0m \u001b[0mout\u001b[0m\u001b[0;34m=\u001b[0m\u001b[0mNone\u001b[0m\u001b[0;34m,\u001b[0m \u001b[0mkeepdims\u001b[0m\u001b[0;34m=\u001b[0m\u001b[0mFalse\u001b[0m\u001b[0;34m)\u001b[0m\u001b[0;34m:\u001b[0m\u001b[0;34m\u001b[0m\u001b[0m\n",
      "\u001b[0;31mKeyboardInterrupt\u001b[0m: "
     ]
    }
   ],
   "source": [
    "tw = time.time()\n",
    "for r in range(burn_in + samples):\n",
    "    print \"\\r%i\" % (r+1) + \" out of %i\" % (burn_in + samples),\n",
    "    \n",
    "    # Sample T\n",
    "    for h in range(H):\n",
    "        Bh = B[Sh[h].todense().T != 0]\n",
    "        n_gradings = (Sh[h] > 0.0).sum()\n",
    "        sum_ = (Sh[h] - construct_sparse(Sih[h],Bh,G)).sum()\n",
    "        v = e*n_gradings+t_h[h]\n",
    "        T[h] = np.random.normal((u_h[h]*t_h[h]+e*sum_)/v,np.sqrt(1/v))\n",
    "        \n",
    "    # Sample B\n",
    "    for g in range(G):\n",
    "        Bg = B.T[Sg[g].todense().T != 0]\n",
    "        n_gradings = (Sg[g] > 0.0).sum()\n",
    "        sum_ = (Sg[g] - construct_sparse(Sig[g],Bg,H).T).sum()\n",
    "        v = e*n_gradings+t_g[g]\n",
    "        B[g] = np.random.normal((u_g[g]*t_g[h]+e*sum_)/v,np.sqrt(1/v))\n",
    "        \n",
    "    sum_ = 0.0\n",
    "    for h in range(N_H):\n",
    "        Bh = B[Sh[h].todense().T != 0]\n",
    "        sum_ = sum_ + np.square((Sh[h] - T[h]+construct_sparse(Sih[h],Bh,G)).sum())\n",
    "    e = np.random.gamma(al_e+0.5*N_eval,1.0/(be_e+0.5*sum_))\n",
    "    \n",
    "    # Sample u_h and t_h\n",
    "    \n",
    "    la_ = (la_h+1.0)\n",
    "    al_ = al_h + 0.5 * la_h + 0.5 * np.square(T-u_h)\n",
    "    be_ = be_h + 0.5 + 0.5 * 1.0\n",
    "    t_h = np.random.gamma(al_,1.0/be_)\n",
    "    u_h = np.random.normal((la_h*ga_h+T)/la_,np.sqrt(1.0/(la_*t_h)))\n",
    "\n",
    "    # Sample u_g and t_g\n",
    "   \n",
    "    la_ = (la_g+1)\n",
    "    al_ = al_g + 0.5 * la_g + 0.5 * np.square(B-u_g)\n",
    "    be_ = be_g + 0.5 + 0.5 * 1\n",
    "    t_g = np.random.gamma(al_,1.0/be_)\n",
    "    u_g = np.random.normal((la_g*ga_g+B)/la_,np.sqrt(1.0/(t_g)))\n",
    "    \n",
    "    # Collect tracings\n",
    "    if r > burn_in:\n",
    "        trace_e[r] = e\n",
    "        trace_u_h[:,r] = u_h.flatten()\n",
    "        trace_t_h[:,r] = t_h.flatten()\n",
    "        trace_T[:,r] = T.flatten()\n",
    "        trace_u_g[:,r] = u_g.flatten()\n",
    "        trace_t_g[:,r] = t_g.flatten()\n",
    "        trace_B[:,r] = B.flatten()\n",
    "print\n",
    "print \"Wall time: %f\" % (time.time() - tw)\n",
    "\n",
    "\n",
    "traces = {'e' : trace_e,\n",
    "          'u_h' : trace_u_h,\n",
    "          't_h' : trace_t_h,\n",
    "          'u_g' : trace_u_g,\n",
    "          't_g' : trace_t_g,\n",
    "          'T' : trace_T,\n",
    "          'B' : trace_B}"
   ]
  },
  {
   "cell_type": "code",
   "execution_count": null,
   "metadata": {
    "collapsed": false
   },
   "outputs": [],
   "source": [
    "traces['e']"
   ]
  },
  {
   "cell_type": "code",
   "execution_count": null,
   "metadata": {
    "collapsed": true
   },
   "outputs": [],
   "source": [
    "# Sample u_h and t_h\n",
    "\n",
    "la_ = (la_h+1.0)\n",
    "al_ = al_h + 0.5 * la_h + 0.5 * np.square(T-u_h)\n",
    "be_ = be_h + 0.5 + 0.5 * 1.0\n",
    "t_h = np.random.gamma(al_,1.0/be_)\n",
    "u_h = np.random.normal((la_h*ga_h+T)/la_,np.sqrt(1.0/(la_*t_h)))\n"
   ]
  },
  {
   "cell_type": "code",
   "execution_count": null,
   "metadata": {
    "collapsed": true
   },
   "outputs": [],
   "source": [
    "\n",
    "\n",
    "\n",
    "    for h in range(N_H):\n",
    "        handin = data.handins[str(h)]\n",
    "        n_gradings = len(handin.graders)\n",
    "        sum_ = 0.0\n",
    "        for g, val in handin.gradeings.iteritems():\n",
    "            sum_ = sum_ + val - B[int(g)]\n",
    "        v = e*n_gradings+t_h[h]\n",
    "        T[h] = np.random.normal((u_h[h]*t_h[h]+e*sum_)/v,np.sqrt(1/v))\n",
    "\n",
    "    # Sample B\n",
    "    for g in range(N_G):\n",
    "        grader = data.graders[str(g)]\n",
    "        n_gradings = len(grader.handins)\n",
    "        sum_ = 0.0\n",
    "        for h in grader.handins:\n",
    "            sum_ = sum_ + h.gradeings[str(g)] - T[int(h.title)]\n",
    "        v = e*n_gradings+t_g[g]\n",
    "        B[g] = np.random.normal((u_g[g]*t_g[g]+e*sum_)/v,np.sqrt(1/v))\n",
    "\n",
    "    # Sample e\n",
    "    sum_ = 0.0\n",
    "    for h in range(N_H):\n",
    "        for g, grading in data.handins[str(h)].gradeings.iteritems():\n",
    "            sum_ = sum_ + np.square(grading - (T[int(h)]+B[int(g)]))\n",
    "    e = np.random.gamma(al_e+0.5*N_eval,1.0/(be_e+0.5*sum_))\n",
    "\n",
    "    # Sample u_h and t_h\n",
    "    for h in range(N_H):\n",
    "        la_ = (la_h+1.0)\n",
    "        al_ = al_h + 0.5 * la_h + 0.5 * np.square(T[h]-u_h[h])\n",
    "        be_ = be_h + 0.5 + 0.5 * 1.0\n",
    "#            al_ = al_h+0.5\n",
    "#            be_ = be_h+0.5*((la_h*np.square(T[h]-ga_h))/la_)\n",
    "        t_h[h] = np.random.gamma(al_,1.0/be_)\n",
    "        u_h[h] = np.random.normal((la_h*ga_h+T[h])/la_,np.sqrt(1.0/(la_*t_h[h])))\n",
    "\n",
    "    # Sample u_g and t_g\n",
    "    for g in range(N_G):\n",
    "        la_ = (la_g+1)\n",
    "        al_ = al_g + 0.5 * la_g + 0.5 * np.square(B[g]-u_g[g])\n",
    "        be_ = be_g + 0.5 + 0.5 * 1\n",
    "#            al_ = al_g+0.5\n",
    "#            be_ = be_g+0.5*((la_g*np.square(B[g]-ga_g))/la_)\n",
    "        t_g[g] = np.random.gamma(al_,1.0/be_)\n",
    "        u_g[g] = np.random.normal((la_g*ga_g+B[g])/la_,np.sqrt(1.0/(t_g[g])))\n",
    "\n",
    "    # Collect tracings\n",
    "    if r > burn_in:\n",
    "        trace_e.append(e)\n",
    "        for h in range(N_H):\n",
    "            trace_u_h[h].append(u_h[h])\n",
    "            trace_t_h[h].append(t_h[h])\n",
    "            trace_T[h].append(T[h])\n",
    "        for g in range(N_G):\n",
    "            trace_u_g[g].append(u_g[g])\n",
    "            trace_t_g[g].append(t_g[g])\n",
    "            trace_B[g].append(B[g])\n",
    "print\n",
    "print \"Wall time: %f\" % (time.time() - tw)\n",
    "\n",
    "\n",
    "traces = {'e' : trace_e,\n",
    "          'u_h' : trace_u_h,\n",
    "          't_h' : trace_t_h,\n",
    "          'u_g' : trace_u_g,\n",
    "          't_g' : trace_t_g,\n",
    "          'T' : trace_T,\n",
    "          'B' : trace_B}"
   ]
  }
 ],
 "metadata": {
  "kernelspec": {
   "display_name": "Python 2",
   "language": "python",
   "name": "python2"
  },
  "language_info": {
   "codemirror_mode": {
    "name": "ipython",
    "version": 2
   },
   "file_extension": ".py",
   "mimetype": "text/x-python",
   "name": "python",
   "nbconvert_exporter": "python",
   "pygments_lexer": "ipython2",
   "version": "2.7.10"
  }
 },
 "nbformat": 4,
 "nbformat_minor": 0
}
