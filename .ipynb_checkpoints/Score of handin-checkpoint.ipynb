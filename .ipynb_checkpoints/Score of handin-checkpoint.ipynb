{
 "cells": [
  {
   "cell_type": "markdown",
   "metadata": {},
   "source": [
    "#  Score of handin average questions"
   ]
  },
  {
   "cell_type": "markdown",
   "metadata": {},
   "source": [
    "I will in this notebook attempt to find the true score of a handin based on handins and graders. The score of each question will be reduced to a single score taken from the average of questions"
   ]
  },
  {
   "cell_type": "markdown",
   "metadata": {},
   "source": [
    "##  Model"
   ]
  },
  {
   "cell_type": "markdown",
   "metadata": {},
   "source": [
    "$$ O_{hg} = T_h + B_g $$\n",
    "\n",
    "$$T_h \\sim N(\\mu_h, \\sigma_h)$$\n",
    "\n",
    "$$B_g \\sim N(\\mu_g, \\sigma_g)$$\n"
   ]
  },
  {
   "cell_type": "markdown",
   "metadata": {},
   "source": [
    "###  Simple model"
   ]
  },
  {
   "cell_type": "markdown",
   "metadata": {},
   "source": [
    "I will first implement the model for a single handin and see if the model works in a simple version before scalling it up to consider a second dimension."
   ]
  },
  {
   "cell_type": "markdown",
   "metadata": {},
   "source": [
    "$$ O_{hg} = T + B_g $$\n",
    "\n",
    "$$T \\sim N(\\mu, \\sigma)$$\n",
    "\n",
    "$$B_g \\sim N(\\mu_g, \\sigma_g)$$\n"
   ]
  },
  {
   "cell_type": "code",
   "execution_count": 1,
   "metadata": {
    "collapsed": true
   },
   "outputs": [],
   "source": [
    "%matplotlib inline\n",
    "from collections import defaultdict\n",
    "import pymc as pm\n",
    "from pymc.Matplot import plot\n",
    "import numpy as np\n",
    "from matplotlib import pyplot as plt\n",
    "import json\n",
    "from pymongo import MongoClient\n",
    "import pymongo\n",
    "from bson.objectid import ObjectId"
   ]
  },
  {
   "cell_type": "code",
   "execution_count": 296,
   "metadata": {
    "collapsed": false
   },
   "outputs": [],
   "source": [
    "def simple_model(data):\n",
    "    N = len(data)\n",
    "\n",
    "    # True score\n",
    "    T_mu = pm.Uniform('T_mu',0,1)\n",
    "    T = pm.Normal('T', mu=T_mu, tau=100, value = np.mean(data))\n",
    "\n",
    "    # Bias\n",
    "    B = list()\n",
    "    O = list()\n",
    "\n",
    "    for i in range(0, N):\n",
    "        B.append(pm.Normal('B_%i' % i, mu=0, tau=100))\n",
    "        O.append(pm.Normal('O_%i' % i, mu = T + B[i], tau=100, observed=True, value=data[i]))\n",
    "            \n",
    "    collection = [T,\n",
    "                  pm.Container(O),\n",
    "                  pm.Container(B)]\n",
    "    \n",
    "    model = pm.Model(collection)\n",
    "    map_ = pm.MAP(model)\n",
    "    map_.fit()\n",
    "    mcmc = pm.MCMC(model)\n",
    "    mcmc.sample(15000, 7500)\n",
    "    return mcmc"
   ]
  },
  {
   "cell_type": "markdown",
   "metadata": {},
   "source": [
    "##  Data"
   ]
  },
  {
   "cell_type": "markdown",
   "metadata": {},
   "source": [
    "This section is about getting hold of the relevant data needed for fitting our model"
   ]
  },
  {
   "cell_type": "code",
   "execution_count": 90,
   "metadata": {
    "collapsed": false
   },
   "outputs": [],
   "source": [
    "client = MongoClient()\n",
    "db = client.heroku_rnwkcq9r"
   ]
  },
  {
   "cell_type": "code",
   "execution_count": 91,
   "metadata": {
    "collapsed": true
   },
   "outputs": [],
   "source": [
    "def question_text(question_id):\n",
    "    question = db.question.find_one({'_id': question_id})\n",
    "    return question['text']"
   ]
  },
  {
   "cell_type": "code",
   "execution_count": 92,
   "metadata": {
    "collapsed": true
   },
   "outputs": [],
   "source": [
    "def question_max_value(question_id):\n",
    "    question = db.question.find_one({'_id': question_id})\n",
    "    if question['question_type'] == \"boolean\":\n",
    "        return 1\n",
    "    elif question[\"question_type\"] == \"numerical\":\n",
    "        if 'numericalAnswers' in question:\n",
    "            max_value = max(map(int,question['numericalAnswers'].keys()))\n",
    "            return max_value\n",
    "        else:\n",
    "            return 5"
   ]
  },
  {
   "cell_type": "code",
   "execution_count": 93,
   "metadata": {
    "collapsed": true
   },
   "outputs": [],
   "source": [
    "def answer_value(answer_id):\n",
    "    answer = db.answer.find_one({'_id': answer_id})\n",
    "    q_id = answer['question']\n",
    "    if 'numerical_answer' in answer:\n",
    "        return answer['numerical_answer'] / float(question_max_value(q_id))\n",
    "    elif 'boolean_answer' in answer:\n",
    "        return answer['boolean_answer'] / float(question_max_value(q_id))"
   ]
  },
  {
   "cell_type": "code",
   "execution_count": 94,
   "metadata": {
    "collapsed": true
   },
   "outputs": [],
   "source": [
    "def answer_with_score(answer_id):\n",
    "    answer = db.answer.find_one({'_id': answer_id})\n",
    "    return 'text_answer' not in answer"
   ]
  },
  {
   "cell_type": "code",
   "execution_count": 95,
   "metadata": {
    "collapsed": false
   },
   "outputs": [],
   "source": [
    "def score_handin_grader(handin_id,grader_id):\n",
    "    # find all answers to the hand in of the grader and average it out\n",
    "    report_grade = db.report_grade.find_one({'handin': handin_id, 'giver': grader_id})\n",
    "    answers = db.answer.find({'report_grade': report_grade['_id'] })\n",
    "    handin_acc = 0.0\n",
    "    for answer in answers:\n",
    "        if answer_with_score(answer['_id']):\n",
    "            handin_acc = handin_acc + answer_value(answer['_id'])\n",
    "    return handin_acc / float(answers.count())"
   ]
  },
  {
   "cell_type": "code",
   "execution_count": 163,
   "metadata": {
    "collapsed": false
   },
   "outputs": [
    {
     "name": "stdout",
     "output_type": "stream",
     "text": [
      "0.675213675214\n"
     ]
    }
   ],
   "source": [
    "print score_handin_grader(ObjectId(\"5609b22e1bd43a000fb12328\"),ObjectId(\"55d9cb9ea6fb8f00080da492\"))"
   ]
  },
  {
   "cell_type": "code",
   "execution_count": 164,
   "metadata": {
    "collapsed": true
   },
   "outputs": [],
   "source": [
    "def score_handin_list(handin_id):\n",
    "    scores = list()\n",
    "    report_grades = db.report_grade.find({'handin': handin_id, 'state': 'ANSWERED'})\n",
    "    for report_grade in report_grades:\n",
    "        scores.append((score_handin_grader(handin_id,report_grade['giver']),report_grade['giver']))\n",
    "    return scores"
   ]
  },
  {
   "cell_type": "markdown",
   "metadata": {},
   "source": [
    "We know have the capabilities to easily get the average score from all the graders of a handin"
   ]
  },
  {
   "cell_type": "code",
   "execution_count": 22,
   "metadata": {
    "collapsed": false,
    "scrolled": true
   },
   "outputs": [
    {
     "name": "stdout",
     "output_type": "stream",
     "text": [
      "[(0.5726495726495726, ObjectId('55e4330ded7a0c0009f0d9d9')), (0.6410256410256411, ObjectId('55f2d136d8786100099ff332')), (0.5128205128205128, ObjectId('55db3833edf3950009412132')), (0.46153846153846156, ObjectId('55e59e8336cc7d00092c414a')), (0.6410256410256411, ObjectId('55d9cb9ea6fb8f00080da473')), (0.6153846153846154, ObjectId('55db3833edf395000941213d')), (0.4871794871794871, ObjectId('56056a8689c698000f9c29bd')), (0.4957264957264957, ObjectId('55db3832edf395000941211a'))]\n"
     ]
    }
   ],
   "source": [
    "print score_handin_list(ObjectId(\"5609b2d71bd43a000fb1232a\"))"
   ]
  },
  {
   "cell_type": "markdown",
   "metadata": {},
   "source": [
    "##  Fitting"
   ]
  },
  {
   "cell_type": "code",
   "execution_count": null,
   "metadata": {
    "collapsed": true
   },
   "outputs": [],
   "source": [
    "data = np.array(score_handin_list(ObjectId(\"5609b2d71bd43a000fb1232a\")))"
   ]
  },
  {
   "cell_type": "code",
   "execution_count": 271,
   "metadata": {
    "collapsed": false
   },
   "outputs": [
    {
     "name": "stdout",
     "output_type": "stream",
     "text": [
      "[[0.5726495726495726 ObjectId('55e4330ded7a0c0009f0d9d9')]\n",
      " [0.6410256410256411 ObjectId('55f2d136d8786100099ff332')]\n",
      " [0.5128205128205128 ObjectId('55db3833edf3950009412132')]\n",
      " [0.46153846153846156 ObjectId('55e59e8336cc7d00092c414a')]\n",
      " [0.6410256410256411 ObjectId('55d9cb9ea6fb8f00080da473')]\n",
      " [0.6153846153846154 ObjectId('55db3833edf395000941213d')]\n",
      " [0.4871794871794871 ObjectId('56056a8689c698000f9c29bd')]\n",
      " [0.4957264957264957 ObjectId('55db3832edf395000941211a')]]\n"
     ]
    }
   ],
   "source": [
    "print data"
   ]
  },
  {
   "cell_type": "code",
   "execution_count": 279,
   "metadata": {
    "collapsed": false
   },
   "outputs": [],
   "source": [
    "data = [(0.2726495726495726, ObjectId('55e4330ded7a0c0009f0d9d9')),\n",
    " (0.6410256410256411, ObjectId('55f2d136d8786100099ff332')),\n",
    " (0.5128205128205128, ObjectId('55db3833edf3950009412132')),\n",
    " (0.46153846153846156, ObjectId('55e59e8336cc7d00092c414a')),\n",
    " (0.6410256410256411, ObjectId('55d9cb9ea6fb8f00080da473')),\n",
    " (0.6153846153846154, ObjectId('55db3833edf395000941213d')),\n",
    " (0.4871794871794871, ObjectId('56056a8689c698000f9c29bd')),\n",
    " (0.9957264957264957, ObjectId('55db3832edf395000941211a'))]"
   ]
  },
  {
   "cell_type": "code",
   "execution_count": 297,
   "metadata": {
    "collapsed": false
   },
   "outputs": [
    {
     "name": "stdout",
     "output_type": "stream",
     "text": [
      " [-----------------100%-----------------] 15000 of 15000 complete in 13.1 sec"
     ]
    }
   ],
   "source": [
    "data_ = map(lambda x: x[0],data)\n",
    "mcmc = simple_model(data_)"
   ]
  },
  {
   "cell_type": "code",
   "execution_count": 298,
   "metadata": {
    "collapsed": false
   },
   "outputs": [
    {
     "data": {
      "image/png": "[encoded data removed]",
      "text/plain": [
       "<matplotlib.figure.Figure at 0x116b6c050>"
      ]
     },
     "metadata": {},
     "output_type": "display_data"
    }
   ],
   "source": [
    "T = mcmc.trace(\"T\")[:]\n",
    "plt.hist(T, histtype=\"step\", normed=True, alpha=0.5, bins=30,\n",
    "         label=\"T\", color=\"#348ABD\")\n",
    "B0 = mcmc.trace(\"B_1\")[:]\n",
    "plt.hist(B0, histtype=\"step\", normed=True, alpha=0.5, bins=30,\n",
    "         label=\"B0\")\n",
    "plt.xlim(-0.5,1)\n",
    "plt.legend()\n",
    "plt.show()"
   ]
  },
  {
   "cell_type": "code",
   "execution_count": 299,
   "metadata": {
    "collapsed": false
   },
   "outputs": [
    {
     "name": "stdout",
     "output_type": "stream",
     "text": [
      "The mean value of the observed data:\n",
      "0.578418803419\n",
      "The expected value of the normal distribution of T, the true score:\n",
      "0.580823750669\n",
      "The expected value of the normal distribution of the bias of the first grader B0:\n",
      "0.641025641026\n",
      "0.0296234368984\n"
     ]
    }
   ],
   "source": [
    "print \"The mean value of the observed data:\"\n",
    "print np.mean(data_)\n",
    "print \"The expected value of the normal distribution of T, the true score:\"\n",
    "print np.mean(T)\n",
    "print \"The expected value of the normal distribution of the bias of the first grader B0:\"\n",
    "print data_[1]\n",
    "print np.mean(B0)"
   ]
  },
  {
   "cell_type": "markdown",
   "metadata": {},
   "source": [
    "the true_score and the mean of the observed data is not far from eachother and implies that the model works as we want"
   ]
  },
  {
   "cell_type": "markdown",
   "metadata": {},
   "source": [
    "Biases of all the grader"
   ]
  },
  {
   "cell_type": "code",
   "execution_count": 300,
   "metadata": {
    "collapsed": false
   },
   "outputs": [
    {
     "data": {
      "text/plain": [
       "<function matplotlib.pyplot.show>"
      ]
     },
     "execution_count": 300,
     "metadata": {},
     "output_type": "execute_result"
    },
    {
     "data": {
      "image/png": "[encoded data removed]",
      "text/plain": [
       "<matplotlib.figure.Figure at 0x116fb7490>"
      ]
     },
     "metadata": {},
     "output_type": "display_data"
    }
   ],
   "source": [
    "ax = plt.subplot(111)\n",
    "\n",
    "for i in range(0,8):\n",
    "    B = mcmc.trace(\"B_%i\" % i)[:]\n",
    "    ax.hist(B, histtype=\"step\", normed=True, alpha=0.5, bins=30,\n",
    "         label=\"B_%i\" % i)\n",
    "\n",
    "box = ax.get_position()\n",
    "ax.set_position([box.x0, box.y0,\n",
    "                 box.width * 2, box.height * 2])\n",
    "\n",
    "plt.xlim(-0.5,0.5)\n",
    "plt.legend()\n",
    "plt.show"
   ]
  },
  {
   "cell_type": "code",
   "execution_count": 301,
   "metadata": {
    "collapsed": false
   },
   "outputs": [
    {
     "name": "stdout",
     "output_type": "stream",
     "text": [
      "-0.153158052144\n",
      "0.0296234368984\n",
      "-0.0353653234874\n",
      "-0.0594052899258\n",
      "0.0299928063209\n",
      "0.0164452381059\n",
      "-0.0457151586111\n",
      "0.207108310523\n"
     ]
    }
   ],
   "source": [
    "for i in range(0,8):\n",
    "    print np.mean(mcmc.trace(\"B_%i\" % i)[:])"
   ]
  },
  {
   "cell_type": "markdown",
   "metadata": {},
   "source": [
    "What is interresting here is that the expected value of each bias is not far from each other and lies close to zero. The varance however is not the same and some observations such as B_6 and B_2 have the largest varaince so they may have more bias than others."
   ]
  },
  {
   "cell_type": "markdown",
   "metadata": {},
   "source": [
    "The precision of true_score increases as more data points are added"
   ]
  },
  {
   "cell_type": "code",
   "execution_count": null,
   "metadata": {
    "collapsed": false
   },
   "outputs": [],
   "source": [
    "ax = plt.subplot(111)\n",
    "\n",
    "for i in range(1,9):    \n",
    "    mcmc = simple_model(data[0:i])\n",
    "    trace_T = mcmc.trace(\"T\")[:]\n",
    "    ax.hist(trace_T, histtype=\"step\", normed=True, alpha=0.5, bins=30,\n",
    "         label=\"%i obs\" % i)\n",
    "    \n",
    "box = ax.get_position()\n",
    "ax.set_position([box.x0, box.y0,\n",
    "                 box.width * 2, box.height * 2])\n",
    "\n",
    "plt.xlim(-5,5)\n",
    "plt.legend()\n",
    "plt.show\n"
   ]
  },
  {
   "cell_type": "markdown",
   "metadata": {},
   "source": [
    "From the plot we can see that the first iteration with one observation as very high variance. at 3 observations the varaince have stabalised and more observations does not reduce the variance"
   ]
  },
  {
   "cell_type": "markdown",
   "metadata": {},
   "source": [
    "# Model with handins"
   ]
  },
  {
   "cell_type": "markdown",
   "metadata": {},
   "source": [
    "## Fetching Data"
   ]
  },
  {
   "cell_type": "code",
   "execution_count": 13,
   "metadata": {
    "collapsed": false
   },
   "outputs": [],
   "source": [
    "# finds the reported score for each handins in an assignment\n",
    "# returns a list containing the score of each handin\n",
    "def assignment_handins(assignment_id):\n",
    "    handins_reports = list()\n",
    "    handins = db.handin.find({'assignment': assignment_id})\n",
    "    for handin in handins:\n",
    "        handins_reports.append((score_handin_list(handin['_id']),handin['_id']))\n",
    "    return handins_reports"
   ]
  },
  {
   "cell_type": "code",
   "execution_count": 36,
   "metadata": {
    "collapsed": false
   },
   "outputs": [],
   "source": [
    "data_handin = assignment_handins(ObjectId(\"55f277cff3bd61000a2112d4\"))"
   ]
  },
  {
   "cell_type": "code",
   "execution_count": 342,
   "metadata": {
    "collapsed": false
   },
   "outputs": [],
   "source": [
    "def handin_model(data):\n",
    "    N_H = len(data)\n",
    "    \n",
    "    # Bias\n",
    "    T = dict()\n",
    "    B = dict()\n",
    "    O = list()\n",
    "\n",
    "    for h in range(0, N_H):\n",
    "        (scores,h_id) = data[h]\n",
    "        N_G = len(scores)\n",
    "        \n",
    "        T_mu = pm.Uniform('T_mu_%i' % h,0,1)\n",
    "        T[h_id] = pm.Normal('T_%i' % h, mu=T_mu, tau=100, value = np.mean(map(lambda x:x[0],scores)))\n",
    "        \n",
    "        for g in range(0, N_G):\n",
    "            (val,g_id) = data[h][g]\n",
    "            if g_id not in B:\n",
    "                B[g_id] = pm.Normal('B_%s' % str(g_id), mu=0, tau=100)                \n",
    "            O.append(pm.Normal('O_%(h)i_%(g)i' % {'h': h, 'g':g}, mu = T[h] + B[g_id], tau=100, observed=True, value=val))\n",
    "        \n",
    "            \n",
    "    collection = [pm.Container(T),\n",
    "                  pm.Container(O),\n",
    "                  pm.Container(B)]\n",
    "    \n",
    "    model = pm.Model(collection)\n",
    "    map_ = pm.MAP(model)\n",
    "    map_.fit()\n",
    "    mcmc = pm.MCMC(model)\n",
    "    mcmc.sample(15000, 7500)\n",
    "    return mcmc"
   ]
  },
  {
   "cell_type": "code",
   "execution_count": 343,
   "metadata": {
    "collapsed": true
   },
   "outputs": [],
   "source": [
    "N_test = 5"
   ]
  },
  {
   "cell_type": "code",
   "execution_count": 344,
   "metadata": {
    "collapsed": false
   },
   "outputs": [
    {
     "name": "stdout",
     "output_type": "stream",
     "text": [
      " [-----------------100%-----------------] 15000 of 15000 complete in 641.5 sec"
     ]
    }
   ],
   "source": [
    "mcmc_handin = handin_model(data_handin)"
   ]
  },
  {
   "cell_type": "code",
   "execution_count": 345,
   "metadata": {
    "collapsed": false
   },
   "outputs": [
    {
     "data": {
      "image/png": "[encoded data removed]",
      "text/plain": [
       "<matplotlib.figure.Figure at 0x118e96750>"
      ]
     },
     "metadata": {},
     "output_type": "display_data"
    }
   ],
   "source": [
    "ax = plt.subplot(111)\n",
    "\n",
    "for i in range(0,N_test):\n",
    "    T = mcmc_handin.trace(\"T_%i\" % i)[:]\n",
    "    plt.hist(T, histtype=\"step\", normed=True, alpha=0.5, bins=30,\n",
    "         label=\"T_%i\" % i)\n",
    "    \n",
    "box = ax.get_position()\n",
    "ax.set_position([box.x0, box.y0,\n",
    "                 box.width * 2, box.height * 2])\n",
    "\n",
    "plt.legend()\n",
    "plt.show()"
   ]
  },
  {
   "cell_type": "code",
   "execution_count": 348,
   "metadata": {
    "collapsed": false
   },
   "outputs": [],
   "source": [
    "def grader_ids(assignment_id):\n",
    "    graders = set()\n",
    "    report_grades = db.report_grade.find({'assignment':assignment_id})\n",
    "    for report_grade in report_grades:\n",
    "        graders.add(report_grade['giver'])\n",
    "    return list(graders)"
   ]
  },
  {
   "cell_type": "code",
   "execution_count": 500,
   "metadata": {
    "collapsed": true
   },
   "outputs": [],
   "source": [
    "def grader_name(grader_id):\n",
    "    grader = db.user.find_one({'_id': grader_id})\n",
    "    return grader['name']"
   ]
  },
  {
   "cell_type": "code",
   "execution_count": 501,
   "metadata": {
    "collapsed": false
   },
   "outputs": [
    {
     "name": "stdout",
     "output_type": "stream",
     "text": [
      "116\n"
     ]
    }
   ],
   "source": [
    "print len(grader_ids(ObjectId(\"55f277cff3bd61000a2112d4\")))"
   ]
  },
  {
   "cell_type": "code",
   "execution_count": 573,
   "metadata": {
    "collapsed": false
   },
   "outputs": [
    {
     "name": "stdout",
     "output_type": "stream",
     "text": [
      "error\n",
      "error\n",
      "error\n"
     ]
    }
   ],
   "source": [
    "bias_positive = list()\n",
    "bias_negative = list()\n",
    "bias_abs = list()\n",
    "for g in grader_ids(ObjectId(\"55f277cff3bd61000a2112d4\")):\n",
    "    try:     \n",
    "        bias_mean = np.var(mcmc_handin.trace('B_%s' % str(g))[:])\n",
    "        name = grader_name(g)\n",
    "        if bias_mean < 0:\n",
    "            bias_negative.append((bias_mean,name))\n",
    "        else:\n",
    "            bias_positive.append((bias_mean,name))\n",
    "        bias_abs.append((abs(bias_mean),name))\n",
    "    except:\n",
    "        print \"error\"\n",
    "        pass"
   ]
  },
  {
   "cell_type": "code",
   "execution_count": 574,
   "metadata": {
    "collapsed": false
   },
   "outputs": [
    {
     "data": {
      "text/plain": [
       "[(0.0012710943395380021, u'David Kofoed Wind'),\n",
       " (0.0018503937965054309, u'Peter Bay Bastian'),\n",
       " (0.0018523415537032948, u'Patrick Zecchin'),\n",
       " (0.0018826692120833162, u'I\\xf1igo Reiriz Irulegui'),\n",
       " (0.0018898793141012772, u'Nickolas Foskolos'),\n",
       " (0.0019035175778908174, u'Thomas Pedersen'),\n",
       " (0.0019058699546389501, u'Christian de Fries Danielsen'),\n",
       " (0.0019102413167119043, u'Themi Tsiotas von Pfaler'),\n",
       " (0.001912908017501332, u'Mathias Hecht Alexander'),\n",
       " (0.0019273378445568605, u'Peter M\\xf8lgaard Pallesen'),\n",
       " (0.0019423818328639588, u'Christian Andersen'),\n",
       " (0.0019460893868936972, u'Andr\\xe9 Castro Lundin'),\n",
       " (0.0019473158077523739, u'Kristian Nielsen'),\n",
       " (0.0019512635606985923, u'Maciej Jan Korzepa'),\n",
       " (0.0019569560177808785, u'Thea Martine Rasmussen'),\n",
       " (0.0019630490933412251, u'Stefanos Marios Chourdakis'),\n",
       " (0.0019637230895243473, u'Alex-Petrisor Giurca'),\n",
       " (0.0019656508746124556, u'Saga Ulfarsdottir'),\n",
       " (0.0019708218960567256, u'Cezar-Costin Pirvu'),\n",
       " (0.0019857112389655264, u'Line Gr\\xe6se Fleron'),\n",
       " (0.0019882689282377762, u'Adam Lindsay Baxter'),\n",
       " (0.0019941988261041495, u'Mircea Barba'),\n",
       " (0.0019958439118984315, u'Patrick Lehmann Hald'),\n",
       " (0.0020078073510485521, u'Agla Hardardottir'),\n",
       " (0.00201410911747477, u'Valentin Li\\xe9vin'),\n",
       " (0.0020263223112379934, u'Jesper Bitsch \\xd8stergaard'),\n",
       " (0.00203373451957667, u'S\\xf8ren Howe Gersager'),\n",
       " (0.002062958269762956, u'Vlad-Cosmin Ozunu'),\n",
       " (0.0020642792055199236, u'Benjamin Holm Glaas'),\n",
       " (0.0020646525299998874, u'Yannis Flet-Berliac'),\n",
       " (0.0021468893646275009, u'Asger Anker S\\xf8rensen'),\n",
       " (0.002147695225873731, u'Sigr\\xed\\xf0ur Svala J\\xf3nasd\\xf3ttir'),\n",
       " (0.0021617981748046611, u'Rasmus Haarslev'),\n",
       " (0.0021895074282050355, u'Max Peter Spooner'),\n",
       " (0.0021911247036060411, u'Jakub Adam Kowalczewski'),\n",
       " (0.0021925450148009115, u'Jacob Grud Mulvad'),\n",
       " (0.0021957950312690364, u'Simon M\\xf8rup Carlsson'),\n",
       " (0.0021990833459418269, u'Kasper Hoa Quoc Duong'),\n",
       " (0.0022178890885012643, u'Agnes Martine Nielsen'),\n",
       " (0.0022288541972045645, u'Rohit Goyal'),\n",
       " (0.0022349149401974409, u'Matias Fjeldmark'),\n",
       " (0.0022350494625004995, u'Vidar Fridriksson Alexandersson'),\n",
       " (0.0022353000719020051, u'Yu Bao'),\n",
       " (0.0022407282658275657, u'Mette Kyhn Larsen'),\n",
       " (0.0022422040955994171, u'Kasper Lindegaard Stilling'),\n",
       " (0.0022488977046883104, u'Asger Juul Brunsh\\xf8j'),\n",
       " (0.0022623027847211217, u'Antonios Spyropoulos'),\n",
       " (0.0022659510251057577, u'Anders Emil Nielsen'),\n",
       " (0.0022683130566952432, u'Gerard Sala'),\n",
       " (0.0022808844157289859, u'Lin Shen'),\n",
       " (0.0022827760288854724, u'Krzysztof Mateusz Malarski'),\n",
       " (0.0022837442268074785, u'Christopher Heje Gr\\xf8nbech'),\n",
       " (0.002284092563861145, u'Casper Andreas Schultz'),\n",
       " (0.0022844651305655144, u'Hamed Khademi Kord'),\n",
       " (0.0022858182120215611, u'Pernille Julie Hansen'),\n",
       " (0.0022881580789931729, u'Adalsteinn P\\xe1lsson'),\n",
       " (0.0022890597544748866, u'J\\xf8rgen Waars\\xf8e Falch'),\n",
       " (0.0023009283843224157, u'Leifur Bjarki Erlendsson'),\n",
       " (0.0023138508249749977, u'Damir Sasivarevic'),\n",
       " (0.0023142255203450427, u'Emilia Wodzka'),\n",
       " (0.0023147501259233611, u'Ran Wang'),\n",
       " (0.0023174890851984922, u'Sun Mengwei'),\n",
       " (0.0023194473059422404, u'Christian Stig Andersen'),\n",
       " (0.002319730278550489, u'Adrian Anton Guerra'),\n",
       " (0.0023214438913772687, u'Jonas Gabriel'),\n",
       " (0.0023260843864436752, u'Jonathan Aske Jensen Klubien'),\n",
       " (0.0023263777150229932, u'Mikkel Ole R\\xf8mer'),\n",
       " (0.0023273806192576434, u'Qian Junqing'),\n",
       " (0.0023285865254323258, u'Martin Patrick Petersson'),\n",
       " (0.0023301994585960008, u'Konstantinos Michail'),\n",
       " (0.0023436638547214032, u'Nicolai Dahl'),\n",
       " (0.0023455079760700036, u'Ana Carmona Angulo'),\n",
       " (0.0023465134530574437, u'Alin Marius Cruceat'),\n",
       " (0.0023495870496658584, u'Lorenzo Luis Albano'),\n",
       " (0.0023552783628779284, u'Andreas Piculell'),\n",
       " (0.0023596893054413978, u'Aleksander Pruski'),\n",
       " (0.0023650890702684789, u'Christian Kolding-S\\xf8rensen'),\n",
       " (0.0023657762105862511, u'Stephan Thordal Larsen'),\n",
       " (0.0023714613355900705, u'Thomas Aagaard Kristensen'),\n",
       " (0.0023731337587205217, u'Troels Thomsen'),\n",
       " (0.0023745245732698672, u'Kim Harder Fog'),\n",
       " (0.0023753562993097661, u'Jonas Meinertz Hansen'),\n",
       " (0.0023780951045620237, u'Dimitrios Danampasis'),\n",
       " (0.0023830834438429158, u'Maximillian Fornitz Vording'),\n",
       " (0.0023852038829960966, u'Marsela Fallah'),\n",
       " (0.0023867041856754649, u'Ulf Aslak Jensen'),\n",
       " (0.002389307425698962, u'Sebastian Lindhard Budsted'),\n",
       " (0.0023895052477773582, u'Finnur Kolbeinsson'),\n",
       " (0.0023953468811184452, u'Thomas Kj\\xe6rgaard Malowanczyk'),\n",
       " (0.0023965379502552059, u'Samuel Bloch'),\n",
       " (0.0023985985178252493, u'Jakob Oddershede Okkels'),\n",
       " (0.002400132798110442, u'Tomasz Grzegorz Nowak'),\n",
       " (0.0024009501453885434, u'Prashanth Shanmuganathan'),\n",
       " (0.0024059345166563962, u'Mads H\\xf8iden Grunnet'),\n",
       " (0.0024082207165704791, u'D\\xe9nes Oliv\\xe9r \\xd3v\\xe1ri'),\n",
       " (0.0024235573408660921, u'Stine S\\xf8ndergaard'),\n",
       " (0.0024272111485075412, u'Michael B\\xf8ndergaard'),\n",
       " (0.0024312808941118636, u'Gregory Wajda'),\n",
       " (0.0024361788815533917, u'Jonas Bertelsen'),\n",
       " (0.0024420843116950883, u'Ioanna Psylla'),\n",
       " (0.0024531064226738343, u'Pietro Davide Doldo'),\n",
       " (0.0024572499015047479, u'John Johannesen'),\n",
       " (0.0024577495187158224, u'Henrik Antonio Benjamin Heinle Piga'),\n",
       " (0.0024589525327860049, u'Maxwell Dribinsky'),\n",
       " (0.0024600533764315177, u'Jingxian Bao'),\n",
       " (0.0024712384039901531, u'Dennis S\\xf8ren Holm'),\n",
       " (0.0024855178804152585, u'Matthias Sebastian Alan Larsen'),\n",
       " (0.0024869816503160147, u'Kevin Kaiser'),\n",
       " (0.0024903230926916248, u'Anders L\\xf8nberg Rahbek'),\n",
       " (0.0025212437108268209, u'William James Maddocks'),\n",
       " (0.0029985716528900899, u'Anirban Roy'),\n",
       " (0.0053126257100919588, u'Gandalf Saxe'),\n",
       " (0.0053227888784695161, u'Giovanni Morlin')]"
      ]
     },
     "execution_count": 574,
     "metadata": {},
     "output_type": "execute_result"
    }
   ],
   "source": [
    "sorted(bias_abs)"
   ]
  },
  {
   "cell_type": "code",
   "execution_count": 568,
   "metadata": {
    "collapsed": false
   },
   "outputs": [],
   "source": [
    "bias_abs.sort()"
   ]
  },
  {
   "cell_type": "code",
   "execution_count": 569,
   "metadata": {
    "collapsed": false
   },
   "outputs": [],
   "source": [
    "weights = list()\n",
    "with open('Data/weight.txt') as f:\n",
    "    for line in f:\n",
    "        weights.append(line[:-1])"
   ]
  },
  {
   "cell_type": "code",
   "execution_count": 570,
   "metadata": {
    "collapsed": false
   },
   "outputs": [],
   "source": [
    "compared = list()\n",
    "for idx, (value, _id) in enumerate(bias_abs):\n",
    "    if _id in weights:\n",
    "        compared.append((_id ,idx, weights.index(_id)))"
   ]
  },
  {
   "cell_type": "code",
   "execution_count": 571,
   "metadata": {
    "collapsed": false
   },
   "outputs": [],
   "source": [
    "compared.sort(key=lambda x:abs(x[2]-x[1]))"
   ]
  },
  {
   "cell_type": "code",
   "execution_count": 575,
   "metadata": {
    "collapsed": false
   },
   "outputs": [
    {
     "data": {
      "image/png": "[encoded data removed]",
      "text/plain": [
       "<matplotlib.figure.Figure at 0x119a10b90>"
      ]
     },
     "metadata": {},
     "output_type": "display_data"
    }
   ],
   "source": [
    "ax = plt.subplot(111)\n",
    "\n",
    "for idx, (_id, bias,weight) in enumerate(compared):\n",
    "    if bias > weight:\n",
    "        plt.plot([idx,idx],[bias,weight], color='r')\n",
    "    else:\n",
    "        plt.plot([idx,idx],[bias,weight], color='g')\n",
    "\n",
    "box = ax.get_position()\n",
    "ax.set_position([box.x0, box.y0,\n",
    "                 box.width * 3, box.height])\n",
    "    \n",
    "plt.show()"
   ]
  },
  {
   "cell_type": "markdown",
   "metadata": {},
   "source": [
    "## Complex model "
   ]
  },
  {
   "cell_type": "markdown",
   "metadata": {},
   "source": [
    "### Fetching data"
   ]
  },
  {
   "cell_type": "code",
   "execution_count": null,
   "metadata": {
    "collapsed": true
   },
   "outputs": [],
   "source": [
    "def course_handins(course_id):\n",
    "    assignments = db.assignemtn.find({''})"
   ]
  },
  {
   "cell_type": "code",
   "execution_count": null,
   "metadata": {
    "collapsed": true
   },
   "outputs": [],
   "source": []
  },
  {
   "cell_type": "code",
   "execution_count": null,
   "metadata": {
    "collapsed": true
   },
   "outputs": [],
   "source": []
  },
  {
   "cell_type": "markdown",
   "metadata": {},
   "source": [
    "### Model"
   ]
  },
  {
   "cell_type": "code",
   "execution_count": null,
   "metadata": {
    "collapsed": true
   },
   "outputs": [],
   "source": [
    "def complex_model(data):\n",
    "    N_H = len(data)\n",
    "    \n",
    "    # Bias\n",
    "    T = list()\n",
    "    B = dict()\n",
    "    O = list()\n",
    "\n",
    "    for h in range(0, N_H):\n",
    "        N_G = len(data[h])\n",
    "        \n",
    "        T_mu = pm.Uniform('T_mu_%i' % h,0,1)\n",
    "        T.append(pm.Normal('T_%i' % h, mu=T_mu, tau=100, value = np.mean(map(lambda x:x[0],data[h]))))\n",
    "        \n",
    "        for g in range(0, N_G):\n",
    "            (val,g_id) = data[h][g]\n",
    "            if g_id not in B:\n",
    "                B[g_id] = pm.Normal('B_%s' % str(g_id), mu=0, tau=100)                \n",
    "            O.append(pm.Normal('O_%(h)i_%(g)i' % {'h': h, 'g':g}, mu = T[h] + B[g_id], tau=100, observed=True, value=val))\n",
    "        \n",
    "            \n",
    "    collection = [pm.Container(T),\n",
    "                  pm.Container(O),\n",
    "                  pm.Container(B)]\n",
    "    \n",
    "    model = pm.Model(collection)\n",
    "    map_ = pm.MAP(model)\n",
    "    map_.fit()\n",
    "    mcmc = pm.MCMC(model)\n",
    "    mcmc.sample(15000, 7500)\n",
    "    return mcmc"
   ]
  }
 ],
 "metadata": {
  "kernelspec": {
   "display_name": "Python 2",
   "language": "python",
   "name": "python2"
  },
  "language_info": {
   "codemirror_mode": {
    "name": "ipython",
    "version": 2
   },
   "file_extension": ".py",
   "mimetype": "text/x-python",
   "name": "python",
   "nbconvert_exporter": "python",
   "pygments_lexer": "ipython2",
   "version": "2.7.10"
  }
 },
 "nbformat": 4,
 "nbformat_minor": 0
}
