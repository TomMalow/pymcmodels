{
 "cells": [
  {
   "cell_type": "code",
   "execution_count": 328,
   "metadata": {
    "collapsed": false
   },
   "outputs": [],
   "source": [
    "# Add the application folder to the path\n",
    "import sys\n",
    "sys.path.insert(0,'../Peergrade/peergrade/')\n",
    "\n",
    "import application.model as data_model\n",
    "from collections import defaultdict\n",
    "import numpy as np\n",
    "from bson.objectid import ObjectId"
   ]
  },
  {
   "cell_type": "code",
   "execution_count": 301,
   "metadata": {
    "collapsed": false
   },
   "outputs": [],
   "source": [
    "class Grader(object):\n",
    "    def __init__(self, name):\n",
    "        self.name = name\n",
    "        self.handins = list()\n",
    "        \n",
    "    def add_handin(self, handin):\n",
    "        self.handins.append(handin)\n",
    "\n",
    "class Handin:\n",
    "    def __init__(self,title,owner):\n",
    "        self.title = title\n",
    "        self.owner = owner\n",
    "        self.gradeings = dict()\n",
    "        self.graders = list()\n",
    "    \n",
    "    def add_grader(self,grader):\n",
    "        self.graders.append(grader)\n",
    "        \n",
    "    def add_gradeing(self,grader,value):\n",
    "        self.gradeings[grader.name] = value\n",
    "\n",
    "        \n",
    "class Assignment(object):\n",
    "    \n",
    "    def __init__(self, handins_input, graders_input,n_gradings):\n",
    "        self.handins = dict()\n",
    "        self.graders = dict()\n",
    "        self.n_gradings = n_gradings\n",
    "        for handin in handins_input:\n",
    "            self.handins[handin.title] = handin\n",
    "        for grader in graders_input:\n",
    "            self.graders[grader.name] = grader\n",
    "    \n",
    "    def add_handin(self, handin):\n",
    "        self.handing[handin.title] = handin\n",
    "        \n",
    "    def add_grader(self, grader):\n",
    "        self.graders[grader.title] = grader\n",
    "            \n",
    "class Course(object):\n",
    "    \n",
    "    def __init__(self):\n",
    "        self.assignments = list()\n",
    "        self.handins = dict()\n",
    "        self.graders = dict()\n",
    "        self.n_gradings = 0\n",
    "    \n",
    "    def add_assignment(self,assignment):\n",
    "        self.assignments.append(assignment)\n",
    "        for a in self.assignments:\n",
    "            self.handins.update(a.handins)\n",
    "            self.graders.update(a.graders)\n",
    "        self.n_gradings = self.n_gradings + a.n_gradings"
   ]
  },
  {
   "cell_type": "code",
   "execution_count": 310,
   "metadata": {
    "collapsed": false
   },
   "outputs": [
    {
     "name": "stdout",
     "output_type": "stream",
     "text": [
      "\n"
     ]
    }
   ],
   "source": [
    "def question_max_value(question):\n",
    "    if question.question_type == \"boolean\":\n",
    "        return 1\n",
    "    elif question.question_type == \"numerical\":\n",
    "        if question.numericalAnswers:\n",
    "            max_value = max(map(int,question.numericalAnswers.keys()))\n",
    "            return max_value\n",
    "        else:\n",
    "            return 5\n",
    "\n",
    "def answer_value(answer):\n",
    "    if answer.numerical_answer != None:\n",
    "        return answer.numerical_answer / float(question_max_value(answer.question))\n",
    "    if answer.boolean_answer != None:\n",
    "        return answer.boolean_answer / float(question_max_value(answer.question))\n",
    "\n",
    "def score_handin(report_grade):\n",
    "    answers = data_model.Answer.objects(report_grade=report_grade)\n",
    "    handin_acc = 0.0\n",
    "    for answer in answers:\n",
    "        if answer.text_answer == None:\n",
    "            handin_acc = handin_acc + answer_value(answer)\n",
    "    return handin_acc / answers.count()\n"
   ]
  },
  {
   "cell_type": "code",
   "execution_count": 311,
   "metadata": {
    "collapsed": false
   },
   "outputs": [],
   "source": [
    "answer = data_model.Answer.objects.get(id=ObjectId(\"55d9cb9ea6fb8f00080da4e7\"))"
   ]
  },
  {
   "cell_type": "code",
   "execution_count": 316,
   "metadata": {
    "collapsed": false
   },
   "outputs": [],
   "source": [
    "def fetch_assignment_data(ass_obj):\n",
    "    '''\n",
    "    Takes an course and assignment data model object and transforms it into populated Assignment object\n",
    "    Only student or all?\n",
    "    '''\n",
    "\n",
    "    ## Find all graders\n",
    "    graders = dict()\n",
    "    for student_ in ass_obj.course.students:\n",
    "        graders[str(student_.id)] = Grader(str(student_.id))\n",
    "    \n",
    "    ## Find all handins\n",
    "    handins = dict()\n",
    "    for handin_ in data_model.Handin.objects(assignment=ass_obj):\n",
    "        handins[str(handin_.id)] = Handin(str(handin_.id),str(handin_.submitter.id))\n",
    "        \n",
    "    ## Find all handins graders have graded and vice versa\n",
    "    n_gradings = 0\n",
    "    for handin_ in data_model.Handin.objects(assignment=ass_obj):\n",
    "        for grade in data_model.ReportGrade.objects(handin=handin_,state='ANSWERED'):\n",
    "            n_gradings = n_gradings + 1\n",
    "            \n",
    "            # Needed if TA or Professor have graded reports as they are not initialy part of it\n",
    "            if str(grade.giver.id) not in graders:\n",
    "                graders[str(grade.giver.id)] = Grader(str(grade.giver.id))\n",
    "\n",
    "            handins[str(handin_.id)].add_grader(graders[str(grade.giver.id)])\n",
    "            handins[str(handin_.id)].add_gradeing(graders[str(grade.giver.id)],score_handin(grade))\n",
    "            \n",
    "    ## update reference in graders\n",
    "    for handin in handins.itervalues():\n",
    "        for grader in handin.graders:\n",
    "            grader.add_handin(handin)\n",
    "\n",
    "    return Assignment(handins.itervalues(),graders.itervalues(),n_gradings)"
   ]
  },
  {
   "cell_type": "code",
   "execution_count": 317,
   "metadata": {
    "collapsed": false
   },
   "outputs": [],
   "source": [
    "def fetch_data(obj):\n",
    "\n",
    "    res_c = Course()\n",
    "        \n",
    "    if type(obj).__name__ == \"Course\":\n",
    "        assignments_d = data_model.Assignment.objects(course=obj)\n",
    "        for assignment_d in assignments_d:\n",
    "            res_c.add_assignment(fetch_assignment_data(assignment_d))\n",
    "    elif type(obj).__name__ == \"Assignment\":\n",
    "        res_c.add_assignment(fetch_assignment_data(obj))\n",
    "        \n",
    "    return res_c"
   ]
  },
  {
   "cell_type": "code",
   "execution_count": 318,
   "metadata": {
    "collapsed": true
   },
   "outputs": [],
   "source": [
    "c = data_model.Course.objects.get(title=\"Computational Tools for Big Data\")"
   ]
  },
  {
   "cell_type": "code",
   "execution_count": 329,
   "metadata": {
    "collapsed": false
   },
   "outputs": [],
   "source": [
    "t = fetch_data(c)"
   ]
  },
  {
   "cell_type": "code",
   "execution_count": 330,
   "metadata": {
    "collapsed": false
   },
   "outputs": [],
   "source": [
    "def gibbs_model(data):\n",
    "    \n",
    "    # Counts\n",
    "    N_H = len(data.handins) # Number of handins\n",
    "    N_G = len(data.graders) # Number of graders\n",
    "    N_g = data.n_gradings   # Number of gradings\n",
    "    N_eval = N_g*N_G   # Number of evaluations in total\n",
    "    \n",
    "    # Hyperparameters\n",
    "    ga_h = 0.5\n",
    "    la_h = 1.0\n",
    "    al_h = 10.0\n",
    "    be_h = 0.1\n",
    "\n",
    "    ga_g = 0.0\n",
    "    la_g = 1.0\n",
    "    al_g = 50.0\n",
    "    be_g = 0.1\n",
    "    \n",
    "    al_e = 10.0\n",
    "    be_e = 1.0\n",
    "    t_h = 500.0\n",
    "    t_g = 100.0\n",
    "    \n",
    "    # Prior parameters\n",
    "    u_h = dict()\n",
    "    t_h = dict()\n",
    "    u_g = dict()\n",
    "    t_g = dict()\n",
    "    T = dict()\n",
    "    B = dict()\n",
    "\n",
    "    # Draw from priors\n",
    "    e = np.random.gamma(al_e,1.0/be_e)\n",
    "    for h in data.handins.iterkeys():\n",
    "        t_h[h] = np.random.gamma(al_h,1.0/be_h)\n",
    "        u_h[h] = np.random.normal(ga_h,np.sqrt(1.0/(la_g * t_h[h])))\n",
    "        T[h] = np.random.normal(u_h[h],np.sqrt(1.0/t_h[h]))\n",
    "    for g in data.graders.iterkeys():\n",
    "        t_g[g] = np.random.gamma(al_g,1.0/be_g)\n",
    "        u_g[g] = np.random.normal(ga_g,np.sqrt(1.0/(la_g * t_g[g])))\n",
    "        B[g] = np.random.normal(u_g[g],np.sqrt(1.0/t_g[g]))\n",
    "\n",
    "    # Gibbs sampling\n",
    "    \n",
    "    burn_in = 1000  # warm-up steps\n",
    "    samples = 5000 # Gibbs sampling steps\n",
    "    \n",
    "    # Tracers initialising\n",
    "    acc_e = 0\n",
    "    acc_u_h = defaultdict(lambda : 0)\n",
    "    acc_t_h = defaultdict(lambda : 0)\n",
    "    acc_u_g = defaultdict(lambda : 0)\n",
    "    acc_t_g = defaultdict(lambda : 0)\n",
    "    acc_T = defaultdict(lambda : 0)\n",
    "    acc_B = defaultdict(lambda : 0)\n",
    "\n",
    "    for r in range(burn_in + samples):\n",
    "        print \"\\r%i\" % (r+1) + \" out of %i\" % (burn_in + samples),\n",
    "        # Sample T\n",
    "        for h, handin in data.handins.iteritems():\n",
    "            n_gradings = len(handin.graders)\n",
    "            sum_ = 0.0\n",
    "            for g, val in handin.gradeings.iteritems():\n",
    "                sum_ = sum_ + val - B[g]\n",
    "            v = e*n_gradings+t_h[h]\n",
    "            T[h] = np.random.normal((u_h[h]*t_h[h]+e*sum_)/v,np.sqrt(1/v))\n",
    "            \n",
    "        # Sample B\n",
    "        for g, grader in data.graders.iteritems():\n",
    "            n_gradings = len(grader.handins)\n",
    "            sum_ = 0.0\n",
    "            for h in grader.handins:\n",
    "                sum_ = sum_ + h.gradeings[g] - T[h.title]\n",
    "            v = e*n_gradings+t_g[g]\n",
    "            B[g] = np.random.normal((u_g[g]*t_g[g]+e*sum_)/v,np.sqrt(1/v))\n",
    "        \n",
    "        # Sample e\n",
    "        sum_ = 0.0\n",
    "        for h, handin in data.handins.iteritems():\n",
    "            for g, grading in data.handins[h].gradeings.iteritems():\n",
    "                sum_ = sum_ + np.square(grading - (T[h]+B[g]))\n",
    "        e = np.random.gamma(al_e+0.5*N_eval,1.0/(be_e+0.5*sum_))\n",
    "\n",
    "        # Sample u_h and t_h\n",
    "        for h in data.handins.iterkeys():\n",
    "            la_ = (la_h+1.0)\n",
    "            al_ = al_h + 0.5 * la_h + 0.5 * np.square(T[h]-u_h[h])\n",
    "            be_ = be_h + 0.5 + 0.5 * 1.0\n",
    "#            al_ = al_h+0.5\n",
    "#            be_ = be_h+0.5*((la_h*np.square(T[h]-ga_h))/la_)\n",
    "            t_h[h] = np.random.gamma(al_,1.0/be_)\n",
    "            u_h[h] = np.random.normal((la_h*ga_h+T[h])/la_,np.sqrt(1.0/(la_*t_h[h])))\n",
    "\n",
    "        # Sample u_g and t_g\n",
    "        for g in data.graders.iterkeys():\n",
    "            la_ = (la_g+1)\n",
    "            al_ = al_g + 0.5 * la_g + 0.5 * np.square(B[g]-u_g[g])\n",
    "            be_ = be_g + 0.5 + 0.5 * 1\n",
    "#            al_ = al_g+0.5\n",
    "#            be_ = be_g+0.5*((la_g*np.square(B[g]-ga_g))/la_)\n",
    "            t_g[g] = np.random.gamma(al_,1.0/be_)\n",
    "            u_g[g] = np.random.normal((la_g*ga_g+B[g])/la_,np.sqrt(1.0/(t_g[g])))\n",
    "            \n",
    "        # Collect tracings\n",
    "        if r > burn_in:\n",
    "            acc_e =+ e\n",
    "            for h in data.handins.iterkeys():\n",
    "                acc_u_h[h] =+ u_h[h]\n",
    "                acc_t_h[h] =+ t_h[h]\n",
    "                acc_T[h] =+ T[h]\n",
    "            for g in data.graders.iterkeys():\n",
    "                acc_u_g[g] =+ u_g[g]\n",
    "                acc_t_g[g] =+ t_g[g]\n",
    "                acc_B[g] =+ B[g]    \n",
    "    \n",
    "    acc_e = acc_e / float(r)\n",
    "    for h in data.handins.iterkeys():\n",
    "        acc_u_h[h] = acc_u_h[h] / float(r)\n",
    "        acc_t_h[h] = acc_t_h[h] / float(r)\n",
    "        acc_T[h] = acc_T[h] / float(r)\n",
    "    for g in data.graders.iterkeys():\n",
    "        acc_u_g[g] = acc_u_g[g] / float(r)\n",
    "        acc_t_g[g] = acc_t_g[g] / float(r)\n",
    "        acc_B[g] = acc_B[g] / float(r)\n",
    "    \n",
    "    traces = {'e' : trace_e / r,\n",
    "              'u_h' : trace_u_h,\n",
    "              't_h' : trace_t_h,\n",
    "              'u_g' : trace_u_g,\n",
    "              't_g' : trace_t_g,\n",
    "              'T' : trace_T,\n",
    "              'B' : trace_B}\n",
    "\n",
    "    return traces"
   ]
  },
  {
   "cell_type": "code",
   "execution_count": 331,
   "metadata": {
    "collapsed": false
   },
   "outputs": [
    {
     "name": "stdout",
     "output_type": "stream",
     "text": [
      "2057 out of 6000"
     ]
    },
    {
     "ename": "KeyboardInterrupt",
     "evalue": "",
     "output_type": "error",
     "traceback": [
      "\u001b[0;31m---------------------------------------------------------------------------\u001b[0m",
      "\u001b[0;31mKeyboardInterrupt\u001b[0m                         Traceback (most recent call last)",
      "\u001b[0;32m<ipython-input-331-056fce52b48d>\u001b[0m in \u001b[0;36m<module>\u001b[0;34m()\u001b[0m\n\u001b[0;32m----> 1\u001b[0;31m \u001b[0mgibbs_model\u001b[0m\u001b[0;34m(\u001b[0m\u001b[0mt\u001b[0m\u001b[0;34m)\u001b[0m\u001b[0;34m\u001b[0m\u001b[0m\n\u001b[0m",
      "\u001b[0;32m<ipython-input-330-28043875722a>\u001b[0m in \u001b[0;36mgibbs_model\u001b[0;34m(data)\u001b[0m\n\u001b[1;32m     65\u001b[0m                 \u001b[0msum_\u001b[0m \u001b[0;34m=\u001b[0m \u001b[0msum_\u001b[0m \u001b[0;34m+\u001b[0m \u001b[0mval\u001b[0m \u001b[0;34m-\u001b[0m \u001b[0mB\u001b[0m\u001b[0;34m[\u001b[0m\u001b[0mg\u001b[0m\u001b[0;34m]\u001b[0m\u001b[0;34m\u001b[0m\u001b[0m\n\u001b[1;32m     66\u001b[0m             \u001b[0mv\u001b[0m \u001b[0;34m=\u001b[0m \u001b[0me\u001b[0m\u001b[0;34m*\u001b[0m\u001b[0mn_gradings\u001b[0m\u001b[0;34m+\u001b[0m\u001b[0mt_h\u001b[0m\u001b[0;34m[\u001b[0m\u001b[0mh\u001b[0m\u001b[0;34m]\u001b[0m\u001b[0;34m\u001b[0m\u001b[0m\n\u001b[0;32m---> 67\u001b[0;31m             \u001b[0mT\u001b[0m\u001b[0;34m[\u001b[0m\u001b[0mh\u001b[0m\u001b[0;34m]\u001b[0m \u001b[0;34m=\u001b[0m \u001b[0mnp\u001b[0m\u001b[0;34m.\u001b[0m\u001b[0mrandom\u001b[0m\u001b[0;34m.\u001b[0m\u001b[0mnormal\u001b[0m\u001b[0;34m(\u001b[0m\u001b[0;34m(\u001b[0m\u001b[0mu_h\u001b[0m\u001b[0;34m[\u001b[0m\u001b[0mh\u001b[0m\u001b[0;34m]\u001b[0m\u001b[0;34m*\u001b[0m\u001b[0mt_h\u001b[0m\u001b[0;34m[\u001b[0m\u001b[0mh\u001b[0m\u001b[0;34m]\u001b[0m\u001b[0;34m+\u001b[0m\u001b[0me\u001b[0m\u001b[0;34m*\u001b[0m\u001b[0msum_\u001b[0m\u001b[0;34m)\u001b[0m\u001b[0;34m/\u001b[0m\u001b[0mv\u001b[0m\u001b[0;34m,\u001b[0m\u001b[0mnp\u001b[0m\u001b[0;34m.\u001b[0m\u001b[0msqrt\u001b[0m\u001b[0;34m(\u001b[0m\u001b[0;36m1\u001b[0m\u001b[0;34m/\u001b[0m\u001b[0mv\u001b[0m\u001b[0;34m)\u001b[0m\u001b[0;34m)\u001b[0m\u001b[0;34m\u001b[0m\u001b[0m\n\u001b[0m\u001b[1;32m     68\u001b[0m \u001b[0;34m\u001b[0m\u001b[0m\n\u001b[1;32m     69\u001b[0m         \u001b[0;31m# Sample B\u001b[0m\u001b[0;34m\u001b[0m\u001b[0;34m\u001b[0m\u001b[0m\n",
      "\u001b[0;31mKeyboardInterrupt\u001b[0m: "
     ]
    }
   ],
   "source": [
    "gibbs_model(t)"
   ]
  },
  {
   "cell_type": "code",
   "execution_count": null,
   "metadata": {
    "collapsed": true
   },
   "outputs": [],
   "source": []
  }
 ],
 "metadata": {
  "kernelspec": {
   "display_name": "Python 2",
   "language": "python",
   "name": "python2"
  },
  "language_info": {
   "codemirror_mode": {
    "name": "ipython",
    "version": 2
   },
   "file_extension": ".py",
   "mimetype": "text/x-python",
   "name": "python",
   "nbconvert_exporter": "python",
   "pygments_lexer": "ipython2",
   "version": "2.7.10"
  }
 },
 "nbformat": 4,
 "nbformat_minor": 0
}
