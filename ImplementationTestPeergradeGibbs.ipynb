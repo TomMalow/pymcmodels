{
 "cells": [
  {
   "cell_type": "code",
   "execution_count": 1,
   "metadata": {
    "collapsed": false
   },
   "outputs": [
    {
     "name": "stdout",
     "output_type": "stream",
     "text": [
      "SETUP LINK TO REDIS CACHE redis://localhost:6379\n",
      "Initializing SAML...\n",
      "Loading local database\n"
     ]
    }
   ],
   "source": [
    "# Add the application folder to the path\n",
    "import sys\n",
    "sys.path.insert(0,'../Peergrade/peergrade/')\n",
    "\n",
    "import application.model as data_model\n"
   ]
  },
  {
   "cell_type": "code",
   "execution_count": 11,
   "metadata": {
    "collapsed": true
   },
   "outputs": [],
   "source": [
    "course = data_model.Assignment.objects(course=data_model.Course.objects.get(title='Social Graphs and Interactions'))"
   ]
  },
  {
   "cell_type": "code",
   "execution_count": 13,
   "metadata": {
    "collapsed": false
   },
   "outputs": [],
   "source": [
    "ass = course[0]"
   ]
  },
  {
   "cell_type": "code",
   "execution_count": null,
   "metadata": {
    "collapsed": true
   },
   "outputs": [],
   "source": [
    "ass."
   ]
  },
  {
   "cell_type": "code",
   "execution_count": 3,
   "metadata": {
    "collapsed": false
   },
   "outputs": [
    {
     "data": {
      "text/plain": [
       "<Course: Course object (id: 55ffbaf722913c000f1bf8fd)>"
      ]
     },
     "execution_count": 3,
     "metadata": {},
     "output_type": "execute_result"
    }
   ],
   "source": [
    "class grader(object):\n",
    "    def __init__(self, name,bias_mean,bias_tau):\n",
    "        self.name = name\n",
    "        self.handins = list()\n",
    "        self.bias_mean = bias_mean\n",
    "        self.bias_tau = bias_tau\n",
    "        \n",
    "    def add_handin(self, handin):\n",
    "        self.handins.append(handin)\n",
    "\n",
    "class handin:\n",
    "    def __init__(self,title,owner,true_value,precision):\n",
    "        self.title = title\n",
    "        self.owner = owner\n",
    "        self.gradeings = dict()\n",
    "        self.graders = list()\n",
    "        self.true_val = true_value\n",
    "        self.precision = precision\n",
    "    \n",
    "    def add_grader(self,grader):\n",
    "        self.graders.append(grader)\n",
    "    \n",
    "    def add_gradeing(self,grader,bias):\n",
    "        self.gradeings[grader.name] = random_limit(np.random.normal,self.true_val+bias,np.sqrt(1.0/self.precision))\n",
    "        \n",
    "        \n",
    "class assignment(object):\n",
    "    \n",
    "    def __init__(self, handins_input, graders_input):\n",
    "        self.handins = dict()\n",
    "        self.graders = dict()\n",
    "        for handin in handins_input:\n",
    "            self.handins[handin.title] = handin\n",
    "        for grader in graders_input:\n",
    "            self.graders[grader.name] = grader\n",
    "    \n",
    "    def add_handin(self, handin):\n",
    "        self.handing[handin.title] = handin\n",
    "        \n",
    "    def add_grader(self, grader):\n",
    "        self.graders[grader.title] = grader\n",
    "            \n",
    "class Course(object):\n",
    "    \n",
    "    def __init__(self):\n",
    "        self.assignments = list()\n",
    "        self.handins = dict()\n",
    "        self.graders = dict()\n",
    "        self.n_gradings = 0\n",
    "    \n",
    "    def add_assignment(self,assignment):\n",
    "        self.assignments.append(assignment)\n",
    "        for a in self.assignments:\n",
    "            self.handins.update(a.handins)\n",
    "            self.graders.update(a.graders)\n",
    "        self.n_gradings = self.n_gradings + a.n_gradings"
   ]
  },
  {
   "cell_type": "code",
   "execution_count": null,
   "metadata": {
    "collapsed": true
   },
   "outputs": [],
   "source": [
    "def fetch_data(obj)\n",
    "\n",
    "    def fetch_assignment_data(ass_obj):\n",
    "        ass_obj.\n",
    "\n",
    "    res_c = Course()\n",
    "        \n",
    "    if type(obj).__name__ == \"Course\":\n",
    "        assignments_d = data_model.Assignment.objects(course=cours_obj)\n",
    "        for assignment_d in assignments_d:\n",
    "            res_c.add_assignment(fetch_assignment_data(assignment_d))\n",
    "    else if type(obj).__name__ == \"Assignment\"\n",
    "        res_c.add_assignment(fetch_assignment_data(obj))\n",
    "        \n",
    "    return res_c"
   ]
  }
 ],
 "metadata": {
  "kernelspec": {
   "display_name": "Python 2",
   "language": "python",
   "name": "python2"
  },
  "language_info": {
   "codemirror_mode": {
    "name": "ipython",
    "version": 2
   },
   "file_extension": ".py",
   "mimetype": "text/x-python",
   "name": "python",
   "nbconvert_exporter": "python",
   "pygments_lexer": "ipython2",
   "version": "2.7.10"
  }
 },
 "nbformat": 4,
 "nbformat_minor": 0
}
