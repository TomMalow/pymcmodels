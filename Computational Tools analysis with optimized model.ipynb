{
 "cells": [
  {
   "cell_type": "code",
   "execution_count": 1,
   "metadata": {
    "collapsed": true
   },
   "outputs": [],
   "source": [
    "%matplotlib inline\n",
    "from collections import defaultdict\n",
    "import pymc as pm\n",
    "from pymc.Matplot import plot as mcplot\n",
    "import numpy as np\n",
    "from matplotlib import pyplot as plt\n",
    "import json\n",
    "from pymongo import MongoClient\n",
    "import pymongo\n",
    "from bson.objectid import ObjectId\n",
    "import copy"
   ]
  },
  {
   "cell_type": "code",
   "execution_count": 2,
   "metadata": {
    "collapsed": false
   },
   "outputs": [],
   "source": [
    "client = MongoClient()\n",
    "db = client.heroku_rnwkcq9r"
   ]
  },
  {
   "cell_type": "code",
   "execution_count": 3,
   "metadata": {
    "collapsed": true
   },
   "outputs": [],
   "source": [
    "def question_text(question_id):\n",
    "    question = db.question.find_one({'_id': question_id})\n",
    "    return question['text']"
   ]
  },
  {
   "cell_type": "code",
   "execution_count": 4,
   "metadata": {
    "collapsed": true
   },
   "outputs": [],
   "source": [
    "def question_max_value(question_id):\n",
    "    question = db.question.find_one({'_id': question_id})\n",
    "    if question['question_type'] == \"boolean\":\n",
    "        return 1\n",
    "    elif question[\"question_type\"] == \"numerical\":\n",
    "        if 'numericalAnswers' in question:\n",
    "            max_value = max(map(int,question['numericalAnswers'].keys()))\n",
    "            return max_value\n",
    "        else:\n",
    "            return 5"
   ]
  },
  {
   "cell_type": "code",
   "execution_count": 5,
   "metadata": {
    "collapsed": true
   },
   "outputs": [],
   "source": [
    "def answer_value(answer_id):\n",
    "    answer = db.answer.find_one({'_id': answer_id})\n",
    "    q_id = answer['question']\n",
    "    if 'numerical_answer' in answer:\n",
    "        return answer['numerical_answer'] / float(question_max_value(q_id))\n",
    "    elif 'boolean_answer' in answer:\n",
    "        return answer['boolean_answer'] / float(question_max_value(q_id))"
   ]
  },
  {
   "cell_type": "code",
   "execution_count": 6,
   "metadata": {
    "collapsed": true
   },
   "outputs": [],
   "source": [
    "def answer_with_score(answer_id):\n",
    "    answer = db.answer.find_one({'_id': answer_id})\n",
    "    return 'text_answer' not in answer"
   ]
  },
  {
   "cell_type": "code",
   "execution_count": 7,
   "metadata": {
    "collapsed": true
   },
   "outputs": [],
   "source": [
    "def score_handin_grader(handin_id,grader_id):\n",
    "    # find all answers to the hand in of the grader and average it out\n",
    "    report_grade = db.report_grade.find_one({'handin': handin_id, 'giver': grader_id})\n",
    "    answers = db.answer.find({'report_grade': report_grade['_id'] })\n",
    "    handin_acc = 0.0\n",
    "    for answer in answers:\n",
    "        if answer_with_score(answer['_id']):\n",
    "            handin_acc = handin_acc + answer_value(answer['_id'])\n",
    "    return handin_acc / float(answers.count())"
   ]
  },
  {
   "cell_type": "code",
   "execution_count": 8,
   "metadata": {
    "collapsed": true
   },
   "outputs": [],
   "source": [
    "def score_handin_list(handin_id):\n",
    "    scores = list()\n",
    "    report_grades = db.report_grade.find({'handin': handin_id, 'state': 'ANSWERED'})\n",
    "    for report_grade in report_grades:\n",
    "        scores.append((score_handin_grader(handin_id,report_grade['giver']),report_grade['giver']))\n",
    "    return scores"
   ]
  },
  {
   "cell_type": "code",
   "execution_count": 9,
   "metadata": {
    "collapsed": true
   },
   "outputs": [],
   "source": [
    "# finds the reported score for each handins in an assignment\n",
    "# returns a list containing the score of each handin\n",
    "def assignment_handins(assignment_id):\n",
    "    handins_reports = list()\n",
    "    handins = db.handin.find({'assignment': assignment_id})\n",
    "    for handin in handins:\n",
    "        handins_reports.append((score_handin_list(handin['_id']),handin['_id']))\n",
    "    return handins_reports"
   ]
  },
  {
   "cell_type": "code",
   "execution_count": 10,
   "metadata": {
    "collapsed": true
   },
   "outputs": [],
   "source": [
    "# finds the reported score for each handins in an assignment\n",
    "# returns a list containing the score of each handin\n",
    "def assignment_handins_id(assignment_id):\n",
    "    handins_reports = list()\n",
    "    handins = db.handin.find({'assignment': assignment_id})\n",
    "    for handin in handins:\n",
    "        handins_reports.append(handin['_id'])\n",
    "    return handins_reports"
   ]
  },
  {
   "cell_type": "code",
   "execution_count": 12,
   "metadata": {
    "collapsed": true
   },
   "outputs": [],
   "source": [
    "def handin_model(data):\n",
    "    N_H = len(data)\n",
    "    \n",
    "    # Bias\n",
    "    T = dict()\n",
    "    B = dict()\n",
    "    B_mu = dict()\n",
    "    B_tau = dict()\n",
    "    O = list()\n",
    "\n",
    "    for h in range(0, N_H):\n",
    "        (scores,h_id) = data[h]\n",
    "        N_G = len(scores)\n",
    "        \n",
    "        T_mu = pm.Normal('T_mu_%s' % str(h_id),0.5,25)\n",
    "        T_tau = pm.Gamma('T_tau_%s' % str(h_id),10,0.1)\n",
    "        T[h_id] = pm.Normal('T_%s' % str(h_id), mu=T_mu, tau=T_tau)\n",
    "        \n",
    "        for g in range(0, N_G):\n",
    "            (val,g_id) = scores[g]\n",
    "            if g_id not in B:\n",
    "                if g_id not in B_mu:\n",
    "                    B_mu[g_id] = pm.Normal('B_mu_%s' % str(g_id),0,100)\n",
    "                if g_id not in B_tau:\n",
    "                    B_tau[g_id] = pm.Gamma('B_tau_%s' % str(g_id), 50, 0.1)\n",
    "                B[g_id] = pm.Normal('B_%s' % str(g_id), mu=B_mu[g_id], tau=B_tau[g_id])\n",
    "            O.append(pm.Normal('O_%(h)s_%(g)s' % {'h': h, 'g':g}, mu = T[h_id] + B[g_id], tau=100, observed=True, value=val))\n",
    "        \n",
    "            \n",
    "    collection = [pm.Container(T),\n",
    "                  pm.Container(O),\n",
    "                  pm.Container(B)]\n",
    "    \n",
    "    model = pm.Model(collection)\n",
    "    map_ = pm.MAP(model)\n",
    "    map_.fit()\n",
    "    return model"
   ]
  },
  {
   "cell_type": "code",
   "execution_count": 13,
   "metadata": {
    "collapsed": true
   },
   "outputs": [],
   "source": [
    "def execute_model(model,samples):\n",
    "    mcmc = pm.MCMC(model)\n",
    "    mcmc.sample(samples)\n",
    "    return mcmc"
   ]
  },
  {
   "cell_type": "code",
   "execution_count": 14,
   "metadata": {
    "collapsed": true
   },
   "outputs": [],
   "source": [
    "def run_3_iteration(model_,values,samples):\n",
    "    model_back = model_(values)\n",
    "    mcmc_back_1 = execute_model(model_back,samples)\n",
    "    mcmc_back_2 = execute_model(model_back,samples)\n",
    "    mcmc_back_3 = execute_model(model_back,samples)\n",
    "    return [mcmc_back_1,mcmc_back_2,mcmc_back_3]"
   ]
  },
  {
   "cell_type": "code",
   "execution_count": null,
   "metadata": {
    "collapsed": true
   },
   "outputs": [],
   "source": [
    "data_assignment = assignment_handins(ObjectId(\"55f277cff3bd61000a2112d4\"))"
   ]
  },
  {
   "cell_type": "code",
   "execution_count": null,
   "metadata": {
    "collapsed": false
   },
   "outputs": [],
   "source": [
    "mcmc = run_3_iteration(handin_model,data_assignment,1500)"
   ]
  },
  {
   "cell_type": "code",
   "execution_count": null,
   "metadata": {
    "collapsed": true
   },
   "outputs": [],
   "source": [
    "def grader_ids(assignment_id):\n",
    "    graders = set()\n",
    "    report_grades = db.report_grade.find({'assignment':assignment_id})\n",
    "    for report_grade in report_grades:\n",
    "        graders.add(report_grade['giver'])\n",
    "    return list(graders)"
   ]
  },
  {
   "cell_type": "code",
   "execution_count": null,
   "metadata": {
    "collapsed": true
   },
   "outputs": [],
   "source": [
    "def grader_ids_course(course_id):\n",
    "    graders = set()\n",
    "    course = db.course.find_one({'_id':course_id})\n",
    "    return course['students']"
   ]
  },
  {
   "cell_type": "code",
   "execution_count": null,
   "metadata": {
    "collapsed": true
   },
   "outputs": [],
   "source": [
    "def grader_id(grader_name):\n",
    "    grader = db.user.find_one({'name': grader_name})\n",
    "    return grader['_id']"
   ]
  },
  {
   "cell_type": "code",
   "execution_count": null,
   "metadata": {
    "collapsed": true
   },
   "outputs": [],
   "source": [
    "def grader_name(grader_id):\n",
    "    grader = db.user.find_one({'_id': grader_id})\n",
    "    return grader['name']"
   ]
  },
  {
   "cell_type": "code",
   "execution_count": null,
   "metadata": {
    "collapsed": true
   },
   "outputs": [],
   "source": [
    "def find_bias(assignment_id,mcmc,f):\n",
    "    bias_abs = list()\n",
    "    for g in grader_ids(assignment_id):\n",
    "        try:     \n",
    "            bias_mean = f(mcmc.trace('B_%s' % str(g))[:])\n",
    "            name = str(g)\n",
    "            bias_abs.append(bias_mean,name)\n",
    "        except:\n",
    "            #print \"error for grader: %s\" % grader_name(g)\n",
    "            pass\n",
    "    return bias_abs"
   ]
  },
  {
   "cell_type": "code",
   "execution_count": null,
   "metadata": {
    "collapsed": true
   },
   "outputs": [],
   "source": [
    "def find_T(assignment_id,mcmc,f):\n",
    "    bias = list()\n",
    "    for h in assignment_handins_id(assignment_id):\n",
    "        try:     \n",
    "            bias_mean = f(mcmc.trace('T_%s' % str(h))[:])\n",
    "            name = str(h)\n",
    "            bias.append((bias_mean,name))\n",
    "        except:\n",
    "            #print \"error for grader: %s\" % grader_name(g)\n",
    "            pass\n",
    "    return bias"
   ]
  },
  {
   "cell_type": "code",
   "execution_count": null,
   "metadata": {
    "collapsed": true
   },
   "outputs": [],
   "source": [
    "def number_of_reports(user_name, assignment_id):\n",
    "    user = db.user.find_one({'name': user_name })\n",
    "    reports = db.report_grade.find({'assignment': assignment_id, 'giver': user['_id'], 'state': 'ANSWERED'})\n",
    "    return reports.count()"
   ]
  },
  {
   "cell_type": "code",
   "execution_count": null,
   "metadata": {
    "collapsed": false
   },
   "outputs": [],
   "source": [
    "def plot_result(_id,data,mcmc,find,func=np.mean):\n",
    "    data_1 = find(_id, mcmc[0], func)\n",
    "    data_2 = find(_id, mcmc[1], func)\n",
    "    data_3 = find(_id, mcmc[2], func)\n",
    "\n",
    "    # Generate dict of the found values in each run for each grader\n",
    "    compared = defaultdict(list)\n",
    "    collected = list()\n",
    "    collected = data_1[:]\n",
    "    collected.extend(data_2[:])\n",
    "    collected.extend(data_3[:])\n",
    "    for (value, _id) in collected:\n",
    "        compared[_id].append(value)\n",
    "        \n",
    "    # Produce a box plot where the graders are sorted after mean value of the found values\n",
    "    ax = plt.subplot(111)\n",
    "\n",
    "    sorted_list = compared.items()\n",
    "    sorted_list.sort(key=lambda x: np.mean(x[1][:]))\n",
    "\n",
    "    labels = list()\n",
    "    for (_id, value) in sorted_list:\n",
    "        name = grader_name(ObjectId(_id))\n",
    "        reported = number_of_reports(name, _id)\n",
    "        labels.append(name + \": \" + str(reported))\n",
    "\n",
    "    values = map(lambda x: x[1], sorted_list)\n",
    "    plt.boxplot(values,0, vert=False, labels=labels)\n",
    "\n",
    "    box = ax.get_position()\n",
    "    ax.set_position([box.x0, box.y0,\n",
    "                     box.width*1.5, box.height*5])\n",
    "    plt.vlines(0, 0, 120, color=\"k\", linestyles=\"--\", lw=1)\n",
    "    plt.xlabel(\"Absolute mean value of the bias distributions of a grader\")\n",
    "    plt.show()"
   ]
  },
  {
   "cell_type": "code",
   "execution_count": null,
   "metadata": {
    "collapsed": false
   },
   "outputs": [],
   "source": [
    "plot_result(ObjectId(\"55f277cff3bd61000a2112d4\"),data_assignment,mcmc,find_bias)"
   ]
  },
  {
   "cell_type": "code",
   "execution_count": null,
   "metadata": {
    "collapsed": true
   },
   "outputs": [],
   "source": [
    "plot_result(ObjectId(\"55f277cff3bd61000a2112d4\"),data_assignment,find_T)"
   ]
  },
  {
   "cell_type": "markdown",
   "metadata": {},
   "source": [
    "### Full Data"
   ]
  },
  {
   "cell_type": "code",
   "execution_count": null,
   "metadata": {
    "collapsed": true
   },
   "outputs": [],
   "source": [
    "def course_handins(course_id):\n",
    "    handins = list()\n",
    "    assignments = db.assignment.find({'course':course_id})\n",
    "    for assignment in assignments:\n",
    "        handins.extend(assignment_handins(assignment['_id']))\n",
    "    return handins"
   ]
  },
  {
   "cell_type": "code",
   "execution_count": null,
   "metadata": {
    "collapsed": true
   },
   "outputs": [],
   "source": [
    "# finds the reported score for each handins in an assignment\n",
    "# returns a list containing the score of each handin\n",
    "def course_handins_id(course_id):\n",
    "    handins_reports = list()\n",
    "    assignments = db.assignment.find({'course': course_id})\n",
    "    for assignment in assignments:\n",
    "        \n",
    "        handins = db.handin.find({'assignment': assignment['_id']})\n",
    "        for handin in handins:\n",
    "            handins_reports.append(handin['_id'])\n",
    "    return handins_reports"
   ]
  },
  {
   "cell_type": "code",
   "execution_count": null,
   "metadata": {
    "collapsed": true
   },
   "outputs": [],
   "source": [
    "data_course = course_handins(ObjectId(\"55d9cb9ea6fb8f00080da4a1\"))"
   ]
  },
  {
   "cell_type": "code",
   "execution_count": null,
   "metadata": {
    "collapsed": true
   },
   "outputs": [],
   "source": [
    "mcmc = run_3_iteration(handin_model,data_assignment,1500)"
   ]
  },
  {
   "cell_type": "code",
   "execution_count": null,
   "metadata": {
    "collapsed": true
   },
   "outputs": [],
   "source": [
    "def find_bias_course(course_id,mcmc,f):\n",
    "    bias_abs = list()\n",
    "    for g in grader_ids_course(assignment_id):\n",
    "        try:     \n",
    "            bias_mean = f(mcmc.trace('B_%s' % str(g))[:])\n",
    "            name = str(g)\n",
    "            bias_abs.append(bias_mean,name)\n",
    "        except:\n",
    "            #print \"error for grader: %s\" % grader_name(g)\n",
    "            pass\n",
    "    return bias_abs"
   ]
  },
  {
   "cell_type": "code",
   "execution_count": null,
   "metadata": {
    "collapsed": true
   },
   "outputs": [],
   "source": [
    "def find_T_course(course_id,mcmc,f):\n",
    "    bias = list()\n",
    "    for h in course_handins_id(assignment_id):\n",
    "        try:     \n",
    "            bias_mean = f(mcmc.trace('T_%s' % str(h))[:])\n",
    "            name = str(h)\n",
    "            bias.append((bias_mean,name))\n",
    "        except:\n",
    "            #print \"error for grader: %s\" % grader_name(g)\n",
    "            pass\n",
    "    return bias"
   ]
  },
  {
   "cell_type": "code",
   "execution_count": null,
   "metadata": {
    "collapsed": true
   },
   "outputs": [],
   "source": [
    "plot_result(ObjectId(\"55d9cb9ea6fb8f00080da4a1\"),data_course,find_bias_course)"
   ]
  },
  {
   "cell_type": "code",
   "execution_count": null,
   "metadata": {
    "collapsed": true
   },
   "outputs": [],
   "source": [
    "plot_result(ObjectId(\"55d9cb9ea6fb8f00080da4a1\"),data_course,find_T_course)"
   ]
  }
 ],
 "metadata": {
  "kernelspec": {
   "display_name": "Python 2",
   "language": "python",
   "name": "python2"
  },
  "language_info": {
   "codemirror_mode": {
    "name": "ipython",
    "version": 2
   },
   "file_extension": ".py",
   "mimetype": "text/x-python",
   "name": "python",
   "nbconvert_exporter": "python",
   "pygments_lexer": "ipython2",
   "version": "2.7.10"
  }
 },
 "nbformat": 4,
 "nbformat_minor": 0
}
