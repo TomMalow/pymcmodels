{
 "cells": [
  {
   "cell_type": "code",
   "execution_count": 72,
   "metadata": {
    "collapsed": false
   },
   "outputs": [],
   "source": [
    "%matplotlib inline\n",
    "from collections import defaultdict\n",
    "import pymc3 as pm\n",
    "from pymc3 import traceplot\n",
    "import numpy as np\n",
    "from matplotlib import pyplot as plt\n",
    "import json\n",
    "from pymongo import MongoClient\n",
    "import pymongo\n",
    "from bson.objectid import ObjectId"
   ]
  },
  {
   "cell_type": "code",
   "execution_count": null,
   "metadata": {
    "collapsed": true
   },
   "outputs": [],
   "source": []
  },
  {
   "cell_type": "markdown",
   "metadata": {},
   "source": [
    "## Data"
   ]
  },
  {
   "cell_type": "code",
   "execution_count": null,
   "metadata": {
    "collapsed": true
   },
   "outputs": [],
   "source": []
  },
  {
   "cell_type": "markdown",
   "metadata": {},
   "source": [
    "### Fetching the data"
   ]
  },
  {
   "cell_type": "code",
   "execution_count": 2,
   "metadata": {
    "collapsed": true
   },
   "outputs": [],
   "source": [
    "client = MongoClient()\n",
    "db = client.heroku_rnwkcq9r"
   ]
  },
  {
   "cell_type": "code",
   "execution_count": 3,
   "metadata": {
    "collapsed": true
   },
   "outputs": [],
   "source": [
    "def question_text(question_id):\n",
    "    question = db.question.find_one({'_id': question_id})\n",
    "    return question['text']"
   ]
  },
  {
   "cell_type": "code",
   "execution_count": 4,
   "metadata": {
    "collapsed": true
   },
   "outputs": [],
   "source": [
    "def question_max_value(question_id):\n",
    "    question = db.question.find_one({'_id': question_id})\n",
    "    if question['question_type'] == \"boolean\":\n",
    "        return 1\n",
    "    elif question[\"question_type\"] == \"numerical\":\n",
    "        if 'numericalAnswers' in question:\n",
    "            max_value = max(map(int,question['numericalAnswers'].keys()))\n",
    "            return max_value\n",
    "        else:\n",
    "            return 5"
   ]
  },
  {
   "cell_type": "code",
   "execution_count": 5,
   "metadata": {
    "collapsed": true
   },
   "outputs": [],
   "source": [
    "def answer_value(answer_id):\n",
    "    answer = db.answer.find_one({'_id': answer_id})\n",
    "    q_id = answer['question']\n",
    "    if 'numerical_answer' in answer:\n",
    "        return answer['numerical_answer'] / float(question_max_value(q_id))\n",
    "    elif 'boolean_answer' in answer:\n",
    "        return answer['boolean_answer'] / float(question_max_value(q_id))"
   ]
  },
  {
   "cell_type": "code",
   "execution_count": 6,
   "metadata": {
    "collapsed": true
   },
   "outputs": [],
   "source": [
    "def answer_with_score(answer_id):\n",
    "    answer = db.answer.find_one({'_id': answer_id})\n",
    "    return 'text_answer' not in answer"
   ]
  },
  {
   "cell_type": "code",
   "execution_count": 7,
   "metadata": {
    "collapsed": true
   },
   "outputs": [],
   "source": [
    "def score_handin_grader(handin_id,grader_id):\n",
    "    # find all answers to the hand in of the grader and average it out\n",
    "    report_grade = db.report_grade.find_one({'handin': handin_id, 'giver': grader_id})\n",
    "    answers = db.answer.find({'report_grade': report_grade['_id'] })\n",
    "    handin_acc = 0.0\n",
    "    for answer in answers:\n",
    "        if answer_with_score(answer['_id']):\n",
    "            handin_acc = handin_acc + answer_value(answer['_id'])\n",
    "    return handin_acc / float(answers.count())"
   ]
  },
  {
   "cell_type": "code",
   "execution_count": 8,
   "metadata": {
    "collapsed": true
   },
   "outputs": [],
   "source": [
    "def score_handin_list(handin_id):\n",
    "    scores = list()\n",
    "    report_grades = db.report_grade.find({'handin': handin_id, 'state': 'ANSWERED'})\n",
    "    for report_grade in report_grades:\n",
    "        scores.append((score_handin_grader(handin_id,report_grade['giver']),report_grade['giver']))\n",
    "    return scores"
   ]
  },
  {
   "cell_type": "code",
   "execution_count": 9,
   "metadata": {
    "collapsed": true
   },
   "outputs": [],
   "source": [
    "# finds the reported score for each handins in an assignment\n",
    "# returns a list containing the score of each handin\n",
    "def assignment_handins(assignment_id):\n",
    "    handins_reports = list()\n",
    "    handins = db.handin.find({'assignment': assignment_id})\n",
    "    for handin in handins:\n",
    "        handins_reports.append((score_handin_list(handin['_id']),handin['_id']))\n",
    "    return handins_reports"
   ]
  },
  {
   "cell_type": "code",
   "execution_count": 10,
   "metadata": {
    "collapsed": true
   },
   "outputs": [],
   "source": [
    "def grader_ids(assignment_id):\n",
    "    graders = set()\n",
    "    report_grades = db.report_grade.find({'assignment':assignment_id})\n",
    "    for report_grade in report_grades:\n",
    "        graders.add(report_grade['giver'])\n",
    "    return list(graders)"
   ]
  },
  {
   "cell_type": "code",
   "execution_count": 11,
   "metadata": {
    "collapsed": true
   },
   "outputs": [],
   "source": [
    "def grader_name(grader_id):\n",
    "    grader = db.user.find_one({'_id': grader_id})\n",
    "    return grader['name']"
   ]
  },
  {
   "cell_type": "code",
   "execution_count": 12,
   "metadata": {
    "collapsed": true
   },
   "outputs": [],
   "source": [
    "def course_handins(course_id):\n",
    "    handins = list()\n",
    "    assignments = db.assignment.find({'course':course_id})\n",
    "    for assignment in assignments:\n",
    "        handins.extend(assignment_handins(assignment['_id']))\n",
    "    return handins"
   ]
  },
  {
   "cell_type": "markdown",
   "metadata": {},
   "source": [
    "## Models"
   ]
  },
  {
   "cell_type": "code",
   "execution_count": 105,
   "metadata": {
    "collapsed": true
   },
   "outputs": [],
   "source": [
    "data = [(0.2726495726495726, ObjectId('55e4330ded7a0c0009f0d9d9')),\n",
    " (0.6410256410256411, ObjectId('55f2d136d8786100099ff332')),\n",
    " (0.5128205128205128, ObjectId('55db3833edf3950009412132')),\n",
    " (0.46153846153846156, ObjectId('55e59e8336cc7d00092c414a')),\n",
    " (0.6410256410256411, ObjectId('55d9cb9ea6fb8f00080da473')),\n",
    " (0.6153846153846154, ObjectId('55db3833edf395000941213d')),\n",
    " (0.4871794871794871, ObjectId('56056a8689c698000f9c29bd')),\n",
    " (0.9957264957264957, ObjectId('55db3832edf395000941211a'))]"
   ]
  },
  {
   "cell_type": "code",
   "execution_count": 106,
   "metadata": {
    "collapsed": true
   },
   "outputs": [],
   "source": [
    "data = map(lambda x: x[0],data)"
   ]
  },
  {
   "cell_type": "code",
   "execution_count": 107,
   "metadata": {
    "collapsed": false
   },
   "outputs": [
    {
     "name": "stdout",
     "output_type": "stream",
     "text": [
      "Applied interval-transform to T_mu and added transformed T_mu_interval to model.\n"
     ]
    }
   ],
   "source": [
    "with pm.Model() as s_model:\n",
    "    N = len(data)\n",
    "\n",
    "    # True score\n",
    "    T_mu = pm.Uniform('T_mu',0,1)\n",
    "    T = pm.Normal('T', mu=T_mu, tau=100, testval = np.mean(data))\n",
    "\n",
    "    # Bias\n",
    "    B = list()\n",
    "    O = list()\n",
    "\n",
    "    for i in range(0, N):\n",
    "        B.append(pm.Normal('B_%i' % i, mu=0, tau=100, testval=0))\n",
    "        O.append(pm.Normal('O_%i' % i, mu = T + B[i], tau=100, observed=data[i]))\n",
    "\n",
    "    distr = [T_mu, T]\n",
    "    distr.extend(B)\n",
    "    distr.extend(O)\n",
    "    step = pm.NUTS(distr)"
   ]
  },
  {
   "cell_type": "code",
   "execution_count": 129,
   "metadata": {
    "collapsed": false
   },
   "outputs": [
    {
     "name": "stdout",
     "output_type": "stream",
     "text": [
      " [-----------------100%-----------------] 2000 of 2000 complete in 4.6 sec"
     ]
    }
   ],
   "source": [
    "with s_model:\n",
    "    start = pm.find_MAP()\n",
    "    mcmc = pm.sample(2000, step, start=start)"
   ]
  },
  {
   "cell_type": "code",
   "execution_count": 130,
   "metadata": {
    "collapsed": false
   },
   "outputs": [
    {
     "data": {
      "image/png": "[encoded data removed]",
      "text/plain": [
       "<matplotlib.figure.Figure at 0x148f4e250>"
      ]
     },
     "metadata": {},
     "output_type": "display_data"
    }
   ],
   "source": [
    "T = mcmc[\"T\"][:]\n",
    "plt.hist(T, histtype=\"step\", normed=True, alpha=0.5, bins=30,\n",
    "         label=\"T\", color=\"#348ABD\")\n",
    "B0 = mcmc[\"B_1\"][:]\n",
    "plt.hist(B0, histtype=\"step\", normed=True, alpha=0.5, bins=30,\n",
    "         label=\"B0\")\n",
    "plt.xlim(-0.5,1)\n",
    "plt.legend()\n",
    "plt.show()"
   ]
  },
  {
   "cell_type": "code",
   "execution_count": 131,
   "metadata": {
    "collapsed": false
   },
   "outputs": [
    {
     "name": "stdout",
     "output_type": "stream",
     "text": [
      "The mean value of the observed data:\n",
      "0.578418803419\n",
      "The expected value of the normal distribution of T, the true score:\n",
      "0.576961830239\n",
      "The expected value of the normal distribution of the bias of the first grader B0:\n",
      "0.641025641026\n",
      "0.031423559304\n"
     ]
    }
   ],
   "source": [
    "print \"The mean value of the observed data:\"\n",
    "print np.mean(data_)\n",
    "print \"The expected value of the normal distribution of T, the true score:\"\n",
    "print np.mean(T)\n",
    "print \"The expected value of the normal distribution of the bias of the first grader B0:\"\n",
    "print data_[1]\n",
    "print np.mean(B0)"
   ]
  },
  {
   "cell_type": "code",
   "execution_count": 132,
   "metadata": {
    "collapsed": true
   },
   "outputs": [],
   "source": [
    "data = course_handins(ObjectId(\"55d9cb9ea6fb8f00080da4a1\"))"
   ]
  },
  {
   "cell_type": "code",
   "execution_count": null,
   "metadata": {
    "collapsed": false
   },
   "outputs": [
    {
     "name": "stdout",
     "output_type": "stream",
     "text": [
      "Applied interval-transform to T_mu_5608e19c898536000fe40a19 and added transformed T_mu_5608e19c898536000fe40a19_interval to model.\n",
      "Applied interval-transform to T_mu_560902a2898536000fe40a1c and added transformed T_mu_560902a2898536000fe40a1c_interval to model.\n",
      "Applied interval-transform to T_mu_560931317d3cd2000f66db2c and added transformed T_mu_560931317d3cd2000f66db2c_interval to model.\n",
      "Applied interval-transform to T_mu_560933f47d3cd2000f66db2d and added transformed T_mu_560933f47d3cd2000f66db2d_interval to model.\n",
      "Applied interval-transform to T_mu_560947ea1bd43a000fb1228c and added transformed T_mu_560947ea1bd43a000fb1228c_interval to model.\n",
      "Applied interval-transform to T_mu_560948691bd43a000fb1228d and added transformed T_mu_560948691bd43a000fb1228d_interval to model.\n",
      "Applied interval-transform to T_mu_560953571bd43a000fb12305 and added transformed T_mu_560953571bd43a000fb12305_interval to model.\n",
      "Applied interval-transform to T_mu_56096f641bd43a000fb12306 and added transformed T_mu_56096f641bd43a000fb12306_interval to model.\n",
      "Applied interval-transform to T_mu_5609708d1bd43a000fb12307 and added transformed T_mu_5609708d1bd43a000fb12307_interval to model.\n",
      "Applied interval-transform to T_mu_5609713a1bd43a000fb12308 and added transformed T_mu_5609713a1bd43a000fb12308_interval to model.\n",
      "Applied interval-transform to T_mu_560977c61bd43a000fb12309 and added transformed T_mu_560977c61bd43a000fb12309_interval to model.\n",
      "Applied interval-transform to T_mu_56097df41bd43a000fb1230a and added transformed T_mu_56097df41bd43a000fb1230a_interval to model.\n",
      "Applied interval-transform to T_mu_560989a21bd43a000fb1230c and added transformed T_mu_560989a21bd43a000fb1230c_interval to model.\n",
      "Applied interval-transform to T_mu_56098e2d1bd43a000fb1230d and added transformed T_mu_56098e2d1bd43a000fb1230d_interval to model.\n",
      "Applied interval-transform to T_mu_560990f41bd43a000fb1230e and added transformed T_mu_560990f41bd43a000fb1230e_interval to model.\n",
      "Applied interval-transform to T_mu_560994d11bd43a000fb1230f and added transformed T_mu_560994d11bd43a000fb1230f_interval to model.\n",
      "Applied interval-transform to T_mu_560997d11bd43a000fb12310 and added transformed T_mu_560997d11bd43a000fb12310_interval to model.\n",
      "Applied interval-transform to T_mu_560997d81bd43a000fb12311 and added transformed T_mu_560997d81bd43a000fb12311_interval to model.\n",
      "Applied interval-transform to T_mu_56099df11bd43a000fb12313 and added transformed T_mu_56099df11bd43a000fb12313_interval to model.\n",
      "Applied interval-transform to T_mu_56099e391bd43a000fb12314 and added transformed T_mu_56099e391bd43a000fb12314_interval to model.\n",
      "Applied interval-transform to T_mu_56099fc51bd43a000fb12316 and added transformed T_mu_56099fc51bd43a000fb12316_interval to model.\n",
      "Applied interval-transform to T_mu_56099ffa1bd43a000fb12317 and added transformed T_mu_56099ffa1bd43a000fb12317_interval to model."
     ]
    }
   ],
   "source": [
    "with pm.Model() as c_model:\n",
    "    N_H = len(data)\n",
    "\n",
    "    # Bias\n",
    "    T_mu = list()\n",
    "    T = dict()\n",
    "    B = dict()\n",
    "    O = list()\n",
    "\n",
    "    for h in range(0, N_H):\n",
    "        (scores,h_id) = data[h]\n",
    "        N_G = len(scores)\n",
    "\n",
    "        T_temp = pm.Uniform('T_mu_%s' % str(h_id),lower=0,upper=1,testval = np.mean(map(lambda x:x[0],scores)))\n",
    "        T_mu.append(T_temp)\n",
    "        T[h_id] = pm.Normal('T_%s' % str(h_id), mu=T_mu, tau=100, testval = np.mean(map(lambda x:x[0],scores)))\n",
    "\n",
    "        for g in range(0, N_G):\n",
    "            (val,g_id) = scores[g]\n",
    "            if g_id not in B:\n",
    "                B[g_id] = pm.Normal('B_%s' % str(g_id), mu=0, tau=100)\n",
    "            O.append(pm.Normal('O_%(h)i_%(g)i' % {'h': h, 'g':g}, mu = T[h_id] + B[g_id], tau=100, observed=val))\n",
    "\n",
    "    distr = T_mu[:]\n",
    "    distr.extend(T.values())\n",
    "    distr.extend(B.values())\n",
    "    distr.extend(O.values)\n",
    "    step = pm.NUTS(distr)        "
   ]
  },
  {
   "cell_type": "code",
   "execution_count": 77,
   "metadata": {
    "collapsed": true
   },
   "outputs": [],
   "source": [
    "with c_model:\n",
    "    start = pm.find_MAP()\n",
    "    mcmc = pm.sample(2000, step, start=start)"
   ]
  },
  {
   "cell_type": "code",
   "execution_count": null,
   "metadata": {
    "collapsed": true
   },
   "outputs": [],
   "source": []
  }
 ],
 "metadata": {
  "kernelspec": {
   "display_name": "Python 2",
   "language": "python",
   "name": "python2"
  },
  "language_info": {
   "codemirror_mode": {
    "name": "ipython",
    "version": 2
   },
   "file_extension": ".py",
   "mimetype": "text/x-python",
   "name": "python",
   "nbconvert_exporter": "python",
   "pygments_lexer": "ipython2",
   "version": "2.7.10"
  }
 },
 "nbformat": 4,
 "nbformat_minor": 0
}
