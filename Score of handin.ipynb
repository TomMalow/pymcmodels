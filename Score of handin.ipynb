{
 "cells": [
  {
   "cell_type": "markdown",
   "metadata": {},
   "source": [
    "#  Score of handin average questions"
   ]
  },
  {
   "cell_type": "markdown",
   "metadata": {},
   "source": [
    "I will in this notebook attempt to find the true score of a handin based on handins and graders. The score of each question will be reduced to a single score taken from the average of questions"
   ]
  },
  {
   "cell_type": "markdown",
   "metadata": {},
   "source": [
    "##  Model"
   ]
  },
  {
   "cell_type": "markdown",
   "metadata": {},
   "source": [
    "$$ O_{hg} = T_h + B_g $$\n",
    "\n",
    "$$T_h \\sim N(\\mu_h, \\sigma_h)$$\n",
    "\n",
    "$$B_g \\sim N(\\mu_g, \\sigma_g)$$\n"
   ]
  },
  {
   "cell_type": "markdown",
   "metadata": {},
   "source": [
    "###  Simple model"
   ]
  },
  {
   "cell_type": "markdown",
   "metadata": {},
   "source": [
    "I will first implement the model for a single handin and see if the model works in a simple version before scalling it up to consider a second dimension."
   ]
  },
  {
   "cell_type": "markdown",
   "metadata": {},
   "source": [
    "$$ O_{hg} = T + B_g $$\n",
    "\n",
    "$$T \\sim N(\\mu, \\sigma)$$\n",
    "\n",
    "$$B_g \\sim N(\\mu_g, \\sigma_g)$$\n"
   ]
  },
  {
   "cell_type": "code",
   "execution_count": 1,
   "metadata": {
    "collapsed": true
   },
   "outputs": [],
   "source": [
    "%matplotlib inline\n",
    "from collections import defaultdict\n",
    "import pymc as pm\n",
    "from pymc.Matplot import plot as mcplot\n",
    "import numpy as np\n",
    "from matplotlib import pyplot as plt\n",
    "import json\n",
    "from pymongo import MongoClient\n",
    "import pymongo\n",
    "from bson.objectid import ObjectId\n",
    "import copy"
   ]
  },
  {
   "cell_type": "code",
   "execution_count": 2,
   "metadata": {
    "collapsed": false
   },
   "outputs": [],
   "source": [
    "def simple_model(data):\n",
    "    N = len(data)\n",
    "\n",
    "    # True score\n",
    "    T_mu = pm.Uniform('T_mu',0,1)\n",
    "    T = pm.Normal('T', mu=T_mu, tau=100, value = np.mean(data))\n",
    "\n",
    "    # Bias\n",
    "    B = list()\n",
    "    O = list()\n",
    "\n",
    "    for i in range(0, N):\n",
    "        B.append(pm.Normal('B_%i' % i, mu=0, tau=100))\n",
    "        O.append(pm.Normal('O_%i' % i, mu = T + B[i], tau=100, observed=True, value=data[i]))\n",
    "            \n",
    "    collection = [T,\n",
    "                  pm.Container(O),\n",
    "                  pm.Container(B)]\n",
    "    \n",
    "    model = pm.Model(collection)\n",
    "    map_ = pm.MAP(model)\n",
    "    map_.fit()\n",
    "    mcmc = pm.MCMC(model)\n",
    "    mcmc.sample(4000)\n",
    "    return mcmc"
   ]
  },
  {
   "cell_type": "markdown",
   "metadata": {},
   "source": [
    "##  Data"
   ]
  },
  {
   "cell_type": "markdown",
   "metadata": {},
   "source": [
    "This section is about getting hold of the relevant data needed for fitting our model"
   ]
  },
  {
   "cell_type": "code",
   "execution_count": 3,
   "metadata": {
    "collapsed": false
   },
   "outputs": [],
   "source": [
    "client = MongoClient()\n",
    "db = client.heroku_rnwkcq9r"
   ]
  },
  {
   "cell_type": "code",
   "execution_count": 4,
   "metadata": {
    "collapsed": true
   },
   "outputs": [],
   "source": [
    "def question_text(question_id):\n",
    "    question = db.question.find_one({'_id': question_id})\n",
    "    return question['text']"
   ]
  },
  {
   "cell_type": "code",
   "execution_count": 5,
   "metadata": {
    "collapsed": true
   },
   "outputs": [],
   "source": [
    "def question_max_value(question_id):\n",
    "    question = db.question.find_one({'_id': question_id})\n",
    "    if question['question_type'] == \"boolean\":\n",
    "        return 1\n",
    "    elif question[\"question_type\"] == \"numerical\":\n",
    "        if 'numericalAnswers' in question:\n",
    "            max_value = max(map(int,question['numericalAnswers'].keys()))\n",
    "            return max_value\n",
    "        else:\n",
    "            return 5"
   ]
  },
  {
   "cell_type": "code",
   "execution_count": 6,
   "metadata": {
    "collapsed": true
   },
   "outputs": [],
   "source": [
    "def answer_value(answer_id):\n",
    "    answer = db.answer.find_one({'_id': answer_id})\n",
    "    q_id = answer['question']\n",
    "    if 'numerical_answer' in answer:\n",
    "        return answer['numerical_answer'] / float(question_max_value(q_id))\n",
    "    elif 'boolean_answer' in answer:\n",
    "        return answer['boolean_answer'] / float(question_max_value(q_id))"
   ]
  },
  {
   "cell_type": "code",
   "execution_count": 7,
   "metadata": {
    "collapsed": true
   },
   "outputs": [],
   "source": [
    "def answer_with_score(answer_id):\n",
    "    answer = db.answer.find_one({'_id': answer_id})\n",
    "    return 'text_answer' not in answer"
   ]
  },
  {
   "cell_type": "code",
   "execution_count": 8,
   "metadata": {
    "collapsed": false
   },
   "outputs": [],
   "source": [
    "def score_handin_grader(handin_id,grader_id):\n",
    "    # find all answers to the hand in of the grader and average it out\n",
    "    report_grade = db.report_grade.find_one({'handin': handin_id, 'giver': grader_id})\n",
    "    answers = db.answer.find({'report_grade': report_grade['_id'] })\n",
    "    handin_acc = 0.0\n",
    "    for answer in answers:\n",
    "        if answer_with_score(answer['_id']):\n",
    "            handin_acc = handin_acc + answer_value(answer['_id'])\n",
    "    return handin_acc / float(answers.count())"
   ]
  },
  {
   "cell_type": "code",
   "execution_count": 9,
   "metadata": {
    "collapsed": false
   },
   "outputs": [
    {
     "name": "stdout",
     "output_type": "stream",
     "text": [
      "0.675213675214\n"
     ]
    }
   ],
   "source": [
    "print score_handin_grader(ObjectId(\"5609b22e1bd43a000fb12328\"),ObjectId(\"55d9cb9ea6fb8f00080da492\"))"
   ]
  },
  {
   "cell_type": "code",
   "execution_count": 10,
   "metadata": {
    "collapsed": true
   },
   "outputs": [],
   "source": [
    "def score_handin_list(handin_id):\n",
    "    scores = list()\n",
    "    report_grades = db.report_grade.find({'handin': handin_id, 'state': 'ANSWERED'})\n",
    "    for report_grade in report_grades:\n",
    "        scores.append((score_handin_grader(handin_id,report_grade['giver']),report_grade['giver']))\n",
    "    return scores"
   ]
  },
  {
   "cell_type": "markdown",
   "metadata": {},
   "source": [
    "We know have the capabilities to easily get the average score from all the graders of a handin"
   ]
  },
  {
   "cell_type": "code",
   "execution_count": 11,
   "metadata": {
    "collapsed": false,
    "scrolled": true
   },
   "outputs": [
    {
     "name": "stdout",
     "output_type": "stream",
     "text": [
      "[(0.5726495726495726, ObjectId('55e4330ded7a0c0009f0d9d9')), (0.6410256410256411, ObjectId('55f2d136d8786100099ff332')), (0.5128205128205128, ObjectId('55db3833edf3950009412132')), (0.46153846153846156, ObjectId('55e59e8336cc7d00092c414a')), (0.6410256410256411, ObjectId('55d9cb9ea6fb8f00080da473')), (0.6153846153846154, ObjectId('55db3833edf395000941213d')), (0.4871794871794871, ObjectId('56056a8689c698000f9c29bd')), (0.4957264957264957, ObjectId('55db3832edf395000941211a'))]\n"
     ]
    }
   ],
   "source": [
    "print score_handin_list(ObjectId(\"5609b2d71bd43a000fb1232a\"))"
   ]
  },
  {
   "cell_type": "markdown",
   "metadata": {},
   "source": [
    "##  Fitting"
   ]
  },
  {
   "cell_type": "code",
   "execution_count": 12,
   "metadata": {
    "collapsed": true
   },
   "outputs": [],
   "source": [
    "data = np.array(score_handin_list(ObjectId(\"5609b2d71bd43a000fb1232a\")))"
   ]
  },
  {
   "cell_type": "code",
   "execution_count": 13,
   "metadata": {
    "collapsed": false
   },
   "outputs": [
    {
     "name": "stdout",
     "output_type": "stream",
     "text": [
      "[[0.5726495726495726 ObjectId('55e4330ded7a0c0009f0d9d9')]\n",
      " [0.6410256410256411 ObjectId('55f2d136d8786100099ff332')]\n",
      " [0.5128205128205128 ObjectId('55db3833edf3950009412132')]\n",
      " [0.46153846153846156 ObjectId('55e59e8336cc7d00092c414a')]\n",
      " [0.6410256410256411 ObjectId('55d9cb9ea6fb8f00080da473')]\n",
      " [0.6153846153846154 ObjectId('55db3833edf395000941213d')]\n",
      " [0.4871794871794871 ObjectId('56056a8689c698000f9c29bd')]\n",
      " [0.4957264957264957 ObjectId('55db3832edf395000941211a')]]\n"
     ]
    }
   ],
   "source": [
    "print data"
   ]
  },
  {
   "cell_type": "code",
   "execution_count": 14,
   "metadata": {
    "collapsed": false
   },
   "outputs": [],
   "source": [
    "data = [(0.2726495726495726, ObjectId('55e4330ded7a0c0009f0d9d9')),\n",
    " (0.6410256410256411, ObjectId('55f2d136d8786100099ff332')),\n",
    " (0.5128205128205128, ObjectId('55db3833edf3950009412132')),\n",
    " (0.46153846153846156, ObjectId('55e59e8336cc7d00092c414a')),\n",
    " (0.6410256410256411, ObjectId('55d9cb9ea6fb8f00080da473')),\n",
    " (0.6153846153846154, ObjectId('55db3833edf395000941213d')),\n",
    " (0.4871794871794871, ObjectId('56056a8689c698000f9c29bd')),\n",
    " (0.9957264957264957, ObjectId('55db3832edf395000941211a'))]"
   ]
  },
  {
   "cell_type": "code",
   "execution_count": 15,
   "metadata": {
    "collapsed": false
   },
   "outputs": [
    {
     "name": "stdout",
     "output_type": "stream",
     "text": [
      " [-----------------100%-----------------] 4000 of 4000 complete in 5.1 sec"
     ]
    }
   ],
   "source": [
    "data_ = map(lambda x: x[0],data)\n",
    "mcmc = simple_model(data_)"
   ]
  },
  {
   "cell_type": "code",
   "execution_count": 16,
   "metadata": {
    "collapsed": false
   },
   "outputs": [
    {
     "name": "stdout",
     "output_type": "stream",
     "text": [
      "Plotting T\n"
     ]
    },
    {
     "data": {
      "image/png": "[encoded data removed]",
      "text/plain": [
       "<matplotlib.figure.Figure at 0x107290a90>"
      ]
     },
     "metadata": {},
     "output_type": "display_data"
    }
   ],
   "source": [
    "mcplot(mcmc.trace('T'))"
   ]
  },
  {
   "cell_type": "code",
   "execution_count": 17,
   "metadata": {
    "collapsed": false
   },
   "outputs": [
    {
     "data": {
      "image/png": "[encoded data removed]",
      "text/plain": [
       "<matplotlib.figure.Figure at 0x107d67d10>"
      ]
     },
     "metadata": {},
     "output_type": "display_data"
    }
   ],
   "source": [
    "T = mcmc.trace(\"T\")[:]\n",
    "plt.hist(T, histtype=\"step\", normed=True, alpha=0.5, bins=30,\n",
    "         label=\"T\", color=\"#348ABD\")\n",
    "B0 = mcmc.trace(\"B_1\")[:]\n",
    "plt.hist(B0, histtype=\"step\", normed=True, alpha=0.5, bins=30,\n",
    "         label=\"B0\")\n",
    "plt.xlim(-0.5,1)\n",
    "plt.legend()\n",
    "plt.show()"
   ]
  },
  {
   "cell_type": "code",
   "execution_count": 18,
   "metadata": {
    "collapsed": false
   },
   "outputs": [
    {
     "name": "stdout",
     "output_type": "stream",
     "text": [
      "The mean value of the observed data:\n",
      "0.578418803419\n",
      "The expected value of the normal distribution of T, the true score:\n",
      "0.585300115345\n",
      "The expected value of the normal distribution of the bias of the first grader B0:\n",
      "0.641025641026\n",
      "0.0288390871675\n"
     ]
    }
   ],
   "source": [
    "print \"The mean value of the observed data:\"\n",
    "print np.mean(data_)\n",
    "print \"The expected value of the normal distribution of T, the true score:\"\n",
    "print np.mean(T)\n",
    "print \"The expected value of the normal distribution of the bias of the first grader B0:\"\n",
    "print data_[1]\n",
    "print np.mean(B0)"
   ]
  },
  {
   "cell_type": "markdown",
   "metadata": {},
   "source": [
    "the true_score and the mean of the observed data is not far from eachother and implies that the model works as we want"
   ]
  },
  {
   "cell_type": "markdown",
   "metadata": {},
   "source": [
    "Biases of all the grader"
   ]
  },
  {
   "cell_type": "code",
   "execution_count": 19,
   "metadata": {
    "collapsed": false
   },
   "outputs": [
    {
     "data": {
      "text/plain": [
       "<function matplotlib.pyplot.show>"
      ]
     },
     "execution_count": 19,
     "metadata": {},
     "output_type": "execute_result"
    },
    {
     "data": {
      "image/png": "[encoded data removed]",
      "text/plain": [
       "<matplotlib.figure.Figure at 0x107d67190>"
      ]
     },
     "metadata": {},
     "output_type": "display_data"
    }
   ],
   "source": [
    "ax = plt.subplot(111)\n",
    "\n",
    "for i in range(0,8):\n",
    "    B = mcmc.trace(\"B_%i\" % i)[:]\n",
    "    ax.hist(B, histtype=\"step\", normed=True, alpha=0.5, bins=30,\n",
    "         label=\"B_%i\" % i)\n",
    "\n",
    "box = ax.get_position()\n",
    "ax.set_position([box.x0, box.y0,\n",
    "                 box.width * 2, box.height * 2])\n",
    "\n",
    "plt.xlim(-0.5,0.5)\n",
    "plt.legend()\n",
    "plt.show"
   ]
  },
  {
   "cell_type": "code",
   "execution_count": 20,
   "metadata": {
    "collapsed": false
   },
   "outputs": [
    {
     "name": "stdout",
     "output_type": "stream",
     "text": [
      "-0.158277512826\n",
      "0.0288390871675\n",
      "-0.0286700464799\n",
      "-0.0587080126796\n",
      "0.0301177246465\n",
      "0.00910170972679\n",
      "-0.0468185403114\n",
      "0.201389634489\n"
     ]
    }
   ],
   "source": [
    "for i in range(0,8):\n",
    "    print np.mean(mcmc.trace(\"B_%i\" % i)[:])"
   ]
  },
  {
   "cell_type": "markdown",
   "metadata": {},
   "source": [
    "What is interresting here is that the expected value of each bias is not far from each other and lies close to zero. The varance however is not the same and some observations such as B_6 and B_2 have the largest varaince so they may have more bias than others."
   ]
  },
  {
   "cell_type": "markdown",
   "metadata": {},
   "source": [
    "The precision of true_score increases as more data points are added"
   ]
  },
  {
   "cell_type": "code",
   "execution_count": 21,
   "metadata": {
    "collapsed": false
   },
   "outputs": [
    {
     "ename": "TypeError",
     "evalue": "unsupported operand type(s) for +: 'float' and 'ObjectId'",
     "output_type": "error",
     "traceback": [
      "\u001b[0;31m---------------------------------------------------------------------------\u001b[0m",
      "\u001b[0;31mTypeError\u001b[0m                                 Traceback (most recent call last)",
      "\u001b[0;32m<ipython-input-21-e106515ae4e3>\u001b[0m in \u001b[0;36m<module>\u001b[0;34m()\u001b[0m\n\u001b[1;32m      2\u001b[0m \u001b[0;34m\u001b[0m\u001b[0m\n\u001b[1;32m      3\u001b[0m \u001b[0;32mfor\u001b[0m \u001b[0mi\u001b[0m \u001b[0;32min\u001b[0m \u001b[0mrange\u001b[0m\u001b[0;34m(\u001b[0m\u001b[0;36m1\u001b[0m\u001b[0;34m,\u001b[0m\u001b[0;36m9\u001b[0m\u001b[0;34m)\u001b[0m\u001b[0;34m:\u001b[0m\u001b[0;34m\u001b[0m\u001b[0m\n\u001b[0;32m----> 4\u001b[0;31m     \u001b[0mmcmc\u001b[0m \u001b[0;34m=\u001b[0m \u001b[0msimple_model\u001b[0m\u001b[0;34m(\u001b[0m\u001b[0mdata\u001b[0m\u001b[0;34m[\u001b[0m\u001b[0;36m0\u001b[0m\u001b[0;34m:\u001b[0m\u001b[0mi\u001b[0m\u001b[0;34m]\u001b[0m\u001b[0;34m)\u001b[0m\u001b[0;34m\u001b[0m\u001b[0m\n\u001b[0m\u001b[1;32m      5\u001b[0m     \u001b[0mtrace_T\u001b[0m \u001b[0;34m=\u001b[0m \u001b[0mmcmc\u001b[0m\u001b[0;34m.\u001b[0m\u001b[0mtrace\u001b[0m\u001b[0;34m(\u001b[0m\u001b[0;34m\"T\"\u001b[0m\u001b[0;34m)\u001b[0m\u001b[0;34m[\u001b[0m\u001b[0;34m:\u001b[0m\u001b[0;34m]\u001b[0m\u001b[0;34m\u001b[0m\u001b[0m\n\u001b[1;32m      6\u001b[0m     ax.hist(trace_T, histtype=\"step\", normed=True, alpha=0.5, bins=30,\n",
      "\u001b[0;32m<ipython-input-2-09a1e3379e82>\u001b[0m in \u001b[0;36msimple_model\u001b[0;34m(data)\u001b[0m\n\u001b[1;32m      4\u001b[0m     \u001b[0;31m# True score\u001b[0m\u001b[0;34m\u001b[0m\u001b[0;34m\u001b[0m\u001b[0m\n\u001b[1;32m      5\u001b[0m     \u001b[0mT_mu\u001b[0m \u001b[0;34m=\u001b[0m \u001b[0mpm\u001b[0m\u001b[0;34m.\u001b[0m\u001b[0mUniform\u001b[0m\u001b[0;34m(\u001b[0m\u001b[0;34m'T_mu'\u001b[0m\u001b[0;34m,\u001b[0m\u001b[0;36m0\u001b[0m\u001b[0;34m,\u001b[0m\u001b[0;36m1\u001b[0m\u001b[0;34m)\u001b[0m\u001b[0;34m\u001b[0m\u001b[0m\n\u001b[0;32m----> 6\u001b[0;31m     \u001b[0mT\u001b[0m \u001b[0;34m=\u001b[0m \u001b[0mpm\u001b[0m\u001b[0;34m.\u001b[0m\u001b[0mNormal\u001b[0m\u001b[0;34m(\u001b[0m\u001b[0;34m'T'\u001b[0m\u001b[0;34m,\u001b[0m \u001b[0mmu\u001b[0m\u001b[0;34m=\u001b[0m\u001b[0mT_mu\u001b[0m\u001b[0;34m,\u001b[0m \u001b[0mtau\u001b[0m\u001b[0;34m=\u001b[0m\u001b[0;36m100\u001b[0m\u001b[0;34m,\u001b[0m \u001b[0mvalue\u001b[0m \u001b[0;34m=\u001b[0m \u001b[0mnp\u001b[0m\u001b[0;34m.\u001b[0m\u001b[0mmean\u001b[0m\u001b[0;34m(\u001b[0m\u001b[0mdata\u001b[0m\u001b[0;34m)\u001b[0m\u001b[0;34m)\u001b[0m\u001b[0;34m\u001b[0m\u001b[0m\n\u001b[0m\u001b[1;32m      7\u001b[0m \u001b[0;34m\u001b[0m\u001b[0m\n\u001b[1;32m      8\u001b[0m     \u001b[0;31m# Bias\u001b[0m\u001b[0;34m\u001b[0m\u001b[0;34m\u001b[0m\u001b[0m\n",
      "\u001b[0;32m/Library/Python/2.7/site-packages/numpy/core/fromnumeric.pyc\u001b[0m in \u001b[0;36mmean\u001b[0;34m(a, axis, dtype, out, keepdims)\u001b[0m\n\u001b[1;32m   2876\u001b[0m \u001b[0;34m\u001b[0m\u001b[0m\n\u001b[1;32m   2877\u001b[0m     return _methods._mean(a, axis=axis, dtype=dtype,\n\u001b[0;32m-> 2878\u001b[0;31m                           out=out, keepdims=keepdims)\n\u001b[0m\u001b[1;32m   2879\u001b[0m \u001b[0;34m\u001b[0m\u001b[0m\n\u001b[1;32m   2880\u001b[0m \u001b[0;34m\u001b[0m\u001b[0m\n",
      "\u001b[0;32m/Library/Python/2.7/site-packages/numpy/core/_methods.pyc\u001b[0m in \u001b[0;36m_mean\u001b[0;34m(a, axis, dtype, out, keepdims)\u001b[0m\n\u001b[1;32m     63\u001b[0m         \u001b[0mdtype\u001b[0m \u001b[0;34m=\u001b[0m \u001b[0mmu\u001b[0m\u001b[0;34m.\u001b[0m\u001b[0mdtype\u001b[0m\u001b[0;34m(\u001b[0m\u001b[0;34m'f8'\u001b[0m\u001b[0;34m)\u001b[0m\u001b[0;34m\u001b[0m\u001b[0m\n\u001b[1;32m     64\u001b[0m \u001b[0;34m\u001b[0m\u001b[0m\n\u001b[0;32m---> 65\u001b[0;31m     \u001b[0mret\u001b[0m \u001b[0;34m=\u001b[0m \u001b[0mumr_sum\u001b[0m\u001b[0;34m(\u001b[0m\u001b[0marr\u001b[0m\u001b[0;34m,\u001b[0m \u001b[0maxis\u001b[0m\u001b[0;34m,\u001b[0m \u001b[0mdtype\u001b[0m\u001b[0;34m,\u001b[0m \u001b[0mout\u001b[0m\u001b[0;34m,\u001b[0m \u001b[0mkeepdims\u001b[0m\u001b[0;34m)\u001b[0m\u001b[0;34m\u001b[0m\u001b[0m\n\u001b[0m\u001b[1;32m     66\u001b[0m     \u001b[0;32mif\u001b[0m \u001b[0misinstance\u001b[0m\u001b[0;34m(\u001b[0m\u001b[0mret\u001b[0m\u001b[0;34m,\u001b[0m \u001b[0mmu\u001b[0m\u001b[0;34m.\u001b[0m\u001b[0mndarray\u001b[0m\u001b[0;34m)\u001b[0m\u001b[0;34m:\u001b[0m\u001b[0;34m\u001b[0m\u001b[0m\n\u001b[1;32m     67\u001b[0m         ret = um.true_divide(\n",
      "\u001b[0;31mTypeError\u001b[0m: unsupported operand type(s) for +: 'float' and 'ObjectId'"
     ]
    },
    {
     "data": {
      "image/png": "[encoded data removed]",
      "text/plain": [
       "<matplotlib.figure.Figure at 0x1081a4c90>"
      ]
     },
     "metadata": {},
     "output_type": "display_data"
    }
   ],
   "source": [
    "ax = plt.subplot(111)\n",
    "\n",
    "for i in range(1,9):    \n",
    "    mcmc = simple_model(data[0:i])\n",
    "    trace_T = mcmc.trace(\"T\")[:]\n",
    "    ax.hist(trace_T, histtype=\"step\", normed=True, alpha=0.5, bins=30,\n",
    "         label=\"%i obs\" % i)\n",
    "    \n",
    "box = ax.get_position()\n",
    "ax.set_position([box.x0, box.y0,\n",
    "                 box.width * 2, box.height * 2])\n",
    "\n",
    "plt.xlim(-5,5)\n",
    "plt.legend()\n",
    "plt.show\n"
   ]
  },
  {
   "cell_type": "markdown",
   "metadata": {},
   "source": [
    "From the plot we can see that the first iteration with one observation as very high variance. at 3 observations the varaince have stabalised and more observations does not reduce the variance"
   ]
  },
  {
   "cell_type": "markdown",
   "metadata": {},
   "source": [
    "# Model with handins"
   ]
  },
  {
   "cell_type": "markdown",
   "metadata": {},
   "source": [
    "## Fetching Data"
   ]
  },
  {
   "cell_type": "code",
   "execution_count": 22,
   "metadata": {
    "collapsed": false
   },
   "outputs": [],
   "source": [
    "# finds the reported score for each handins in an assignment\n",
    "# returns a list containing the score of each handin\n",
    "def assignment_handins(assignment_id):\n",
    "    handins_reports = list()\n",
    "    handins = db.handin.find({'assignment': assignment_id})\n",
    "    for handin in handins:\n",
    "        handins_reports.append((score_handin_list(handin['_id']),handin['_id']))\n",
    "    return handins_reports"
   ]
  },
  {
   "cell_type": "code",
   "execution_count": 23,
   "metadata": {
    "collapsed": true
   },
   "outputs": [],
   "source": [
    "# finds the reported score for each handins in an assignment\n",
    "# returns a list containing the score of each handin\n",
    "def assignment_handins_id(assignment_id):\n",
    "    handins_reports = list()\n",
    "    handins = db.handin.find({'assignment': assignment_id})\n",
    "    for handin in handins:\n",
    "        handins_reports.append(handin['_id'])\n",
    "    return handins_reports"
   ]
  },
  {
   "cell_type": "code",
   "execution_count": 24,
   "metadata": {
    "collapsed": false
   },
   "outputs": [],
   "source": [
    "data_handin = assignment_handins(ObjectId(\"55f277cff3bd61000a2112d4\"))"
   ]
  },
  {
   "cell_type": "code",
   "execution_count": 25,
   "metadata": {
    "collapsed": false
   },
   "outputs": [],
   "source": [
    "def handin_model(data):\n",
    "    N_H = len(data)\n",
    "    \n",
    "    # Bias\n",
    "    T = dict()\n",
    "    B = dict()\n",
    "    O = list()\n",
    "\n",
    "    for h in range(0, N_H):\n",
    "        (scores,h_id) = data[h]\n",
    "        N_G = len(scores)\n",
    "        \n",
    "        T[h_id] = pm.Normal('T_%s' % str(h_id), mu=np.mean(map(lambda x:x[0],scores)), tau=100)\n",
    "        \n",
    "        for g in range(0, N_G):\n",
    "            (val,g_id) = scores[g]\n",
    "            if g_id not in B:\n",
    "                B[g_id] = pm.Normal('B_%s' % str(g_id), mu=0, tau=100) \n",
    "            O.append(pm.Normal('O_%(h)i_%(g)i' % {'h': h, 'g':g}, mu = T[h_id] + B[g_id], tau=100, observed=True, value=val))\n",
    "        \n",
    "            \n",
    "    collection = [pm.Container(T),\n",
    "                  pm.Container(O),\n",
    "                  pm.Container(B)]\n",
    "    \n",
    "    model = pm.Model(collection)\n",
    "    map_ = pm.MAP(model)\n",
    "    map_.fit()\n",
    "    return model"
   ]
  },
  {
   "cell_type": "code",
   "execution_count": 26,
   "metadata": {
    "collapsed": true
   },
   "outputs": [],
   "source": [
    "def execute_model(model):\n",
    "    mcmc = pm.MCMC(model)\n",
    "    mcmc.sample(5000,500)\n",
    "    return mcmc"
   ]
  },
  {
   "cell_type": "markdown",
   "metadata": {},
   "source": [
    "###  Validation"
   ]
  },
  {
   "cell_type": "markdown",
   "metadata": {},
   "source": [
    "The main problem with probabilitis programming is the solution is not always the same so we can validte how precise the model is at finding a correct solution after running the data a two times and compare the found solutions against eachother"
   ]
  },
  {
   "cell_type": "code",
   "execution_count": 27,
   "metadata": {
    "collapsed": false
   },
   "outputs": [],
   "source": [
    "model_ = handin_model(data_handin)"
   ]
  },
  {
   "cell_type": "code",
   "execution_count": 28,
   "metadata": {
    "collapsed": false
   },
   "outputs": [
    {
     "name": "stdout",
     "output_type": "stream",
     "text": [
      " [-----------------100%-----------------] 5000 of 5000 complete in 180.5 sec"
     ]
    }
   ],
   "source": [
    "mcmc_handin = execute_model(model_)"
   ]
  },
  {
   "cell_type": "code",
   "execution_count": 29,
   "metadata": {
    "collapsed": false
   },
   "outputs": [
    {
     "name": "stdout",
     "output_type": "stream",
     "text": [
      " [-----------------100%-----------------] 5000 of 5000 complete in 160.3 sec"
     ]
    }
   ],
   "source": [
    "mcmc_handin2 = execute_model(model_)"
   ]
  },
  {
   "cell_type": "code",
   "execution_count": 30,
   "metadata": {
    "collapsed": false
   },
   "outputs": [
    {
     "name": "stdout",
     "output_type": "stream",
     "text": [
      " [-----------------100%-----------------] 5000 of 5000 complete in 161.0 sec"
     ]
    }
   ],
   "source": [
    "mcmc_handin3 = execute_model(model_)"
   ]
  },
  {
   "cell_type": "code",
   "execution_count": 31,
   "metadata": {
    "collapsed": true
   },
   "outputs": [],
   "source": [
    "def grader_ids(assignment_id):\n",
    "    graders = set()\n",
    "    report_grades = db.report_grade.find({'assignment':assignment_id})\n",
    "    for report_grade in report_grades:\n",
    "        graders.add(report_grade['giver'])\n",
    "    return list(graders)"
   ]
  },
  {
   "cell_type": "code",
   "execution_count": 32,
   "metadata": {
    "collapsed": true
   },
   "outputs": [],
   "source": [
    "def grader_id(grader_name):\n",
    "    grader = db.user.find_one({'name': grader_name})\n",
    "    return grader['_id']"
   ]
  },
  {
   "cell_type": "code",
   "execution_count": 35,
   "metadata": {
    "collapsed": true
   },
   "outputs": [],
   "source": [
    "def grader_name(grader_id):\n",
    "    grader = db.user.find_one({'_id': grader_id})\n",
    "    return grader['name']"
   ]
  },
  {
   "cell_type": "code",
   "execution_count": 36,
   "metadata": {
    "collapsed": false
   },
   "outputs": [],
   "source": [
    "def find_bias(assignment_id,mcmc,f):\n",
    "    bias_abs = list()\n",
    "    for g in grader_ids(assignment_id):\n",
    "        try:     \n",
    "            bias_mean = f(mcmc.trace('B_%s' % str(g))[:])\n",
    "            name = str(g)\n",
    "            bias_abs.append(bias_mean,name)\n",
    "        except:\n",
    "            #print \"error for grader: %s\" % grader_name(g)\n",
    "            pass\n",
    "    return bias_abs"
   ]
  },
  {
   "cell_type": "code",
   "execution_count": 37,
   "metadata": {
    "collapsed": true
   },
   "outputs": [],
   "source": [
    "def find_T(assignment_id,mcmc,f):\n",
    "    bias = list()\n",
    "    for h in assignment_handins_id(assignment_id):\n",
    "        try:     \n",
    "            bias_mean = f(mcmc.trace('T_%s' % str(h))[:])\n",
    "            name = str(h)\n",
    "            bias.append((bias_mean,name))\n",
    "        except:\n",
    "            #print \"error for grader: %s\" % grader_name(g)\n",
    "            pass\n",
    "    return bias"
   ]
  },
  {
   "cell_type": "code",
   "execution_count": 38,
   "metadata": {
    "collapsed": true
   },
   "outputs": [],
   "source": [
    "def number_of_reports(user_name, assignment_id):\n",
    "    user = db.user.find_one({'name': user_name })\n",
    "    reports = db.report_grade.find({'assignment': assignment_id, 'giver': user['_id'], 'state': 'ANSWERED'})\n",
    "    return reports.count()"
   ]
  },
  {
   "cell_type": "markdown",
   "metadata": {},
   "source": [
    "The first option is to compare the mean of the bias by ranking all graders by from the least bias to the most by the mean value of their bias distribution from 0 between two sample runs"
   ]
  },
  {
   "cell_type": "code",
   "execution_count": 39,
   "metadata": {
    "collapsed": false
   },
   "outputs": [
    {
     "ename": "IndexError",
     "evalue": "list index out of range",
     "output_type": "error",
     "traceback": [
      "\u001b[0;31m---------------------------------------------------------------------------\u001b[0m",
      "\u001b[0;31mIndexError\u001b[0m                                Traceback (most recent call last)",
      "\u001b[0;32m<ipython-input-39-11e52cf817c7>\u001b[0m in \u001b[0;36m<module>\u001b[0;34m()\u001b[0m\n\u001b[1;32m     26\u001b[0m \u001b[0;34m\u001b[0m\u001b[0m\n\u001b[1;32m     27\u001b[0m \u001b[0mvalues\u001b[0m \u001b[0;34m=\u001b[0m \u001b[0mmap\u001b[0m\u001b[0;34m(\u001b[0m\u001b[0;32mlambda\u001b[0m \u001b[0mx\u001b[0m\u001b[0;34m:\u001b[0m \u001b[0mx\u001b[0m\u001b[0;34m[\u001b[0m\u001b[0;36m1\u001b[0m\u001b[0;34m]\u001b[0m\u001b[0;34m,\u001b[0m \u001b[0msorted_list\u001b[0m\u001b[0;34m)\u001b[0m\u001b[0;34m\u001b[0m\u001b[0m\n\u001b[0;32m---> 28\u001b[0;31m \u001b[0mplt\u001b[0m\u001b[0;34m.\u001b[0m\u001b[0mboxplot\u001b[0m\u001b[0;34m(\u001b[0m\u001b[0mvalues\u001b[0m\u001b[0;34m,\u001b[0m\u001b[0;36m0\u001b[0m\u001b[0;34m,\u001b[0m \u001b[0mvert\u001b[0m\u001b[0;34m=\u001b[0m\u001b[0mFalse\u001b[0m\u001b[0;34m,\u001b[0m \u001b[0mlabels\u001b[0m\u001b[0;34m=\u001b[0m\u001b[0mlabels\u001b[0m\u001b[0;34m)\u001b[0m\u001b[0;34m\u001b[0m\u001b[0m\n\u001b[0m\u001b[1;32m     29\u001b[0m \u001b[0;34m\u001b[0m\u001b[0m\n\u001b[1;32m     30\u001b[0m \u001b[0mbox\u001b[0m \u001b[0;34m=\u001b[0m \u001b[0max\u001b[0m\u001b[0;34m.\u001b[0m\u001b[0mget_position\u001b[0m\u001b[0;34m(\u001b[0m\u001b[0;34m)\u001b[0m\u001b[0;34m\u001b[0m\u001b[0m\n",
      "\u001b[0;32m/Library/Python/2.7/site-packages/matplotlib/pyplot.pyc\u001b[0m in \u001b[0;36mboxplot\u001b[0;34m(x, notch, sym, vert, whis, positions, widths, patch_artist, bootstrap, usermedians, conf_intervals, meanline, showmeans, showcaps, showbox, showfliers, boxprops, labels, flierprops, medianprops, meanprops, capprops, whiskerprops, manage_xticks, hold, data)\u001b[0m\n\u001b[1;32m   2708\u001b[0m                          \u001b[0mmeanprops\u001b[0m\u001b[0;34m=\u001b[0m\u001b[0mmeanprops\u001b[0m\u001b[0;34m,\u001b[0m \u001b[0mcapprops\u001b[0m\u001b[0;34m=\u001b[0m\u001b[0mcapprops\u001b[0m\u001b[0;34m,\u001b[0m\u001b[0;34m\u001b[0m\u001b[0m\n\u001b[1;32m   2709\u001b[0m                          \u001b[0mwhiskerprops\u001b[0m\u001b[0;34m=\u001b[0m\u001b[0mwhiskerprops\u001b[0m\u001b[0;34m,\u001b[0m\u001b[0;34m\u001b[0m\u001b[0m\n\u001b[0;32m-> 2710\u001b[0;31m                          manage_xticks=manage_xticks, data=data)\n\u001b[0m\u001b[1;32m   2711\u001b[0m     \u001b[0;32mfinally\u001b[0m\u001b[0;34m:\u001b[0m\u001b[0;34m\u001b[0m\u001b[0m\n\u001b[1;32m   2712\u001b[0m         \u001b[0max\u001b[0m\u001b[0;34m.\u001b[0m\u001b[0mhold\u001b[0m\u001b[0;34m(\u001b[0m\u001b[0mwashold\u001b[0m\u001b[0;34m)\u001b[0m\u001b[0;34m\u001b[0m\u001b[0m\n",
      "\u001b[0;32m/Library/Python/2.7/site-packages/matplotlib/__init__.pyc\u001b[0m in \u001b[0;36minner\u001b[0;34m(ax, *args, **kwargs)\u001b[0m\n\u001b[1;32m   1810\u001b[0m                     warnings.warn(msg % (label_namer, func.__name__),\n\u001b[1;32m   1811\u001b[0m                                   RuntimeWarning, stacklevel=2)\n\u001b[0;32m-> 1812\u001b[0;31m             \u001b[0;32mreturn\u001b[0m \u001b[0mfunc\u001b[0m\u001b[0;34m(\u001b[0m\u001b[0max\u001b[0m\u001b[0;34m,\u001b[0m \u001b[0;34m*\u001b[0m\u001b[0margs\u001b[0m\u001b[0;34m,\u001b[0m \u001b[0;34m**\u001b[0m\u001b[0mkwargs\u001b[0m\u001b[0;34m)\u001b[0m\u001b[0;34m\u001b[0m\u001b[0m\n\u001b[0m\u001b[1;32m   1813\u001b[0m         \u001b[0mpre_doc\u001b[0m \u001b[0;34m=\u001b[0m \u001b[0minner\u001b[0m\u001b[0;34m.\u001b[0m\u001b[0m__doc__\u001b[0m\u001b[0;34m\u001b[0m\u001b[0m\n\u001b[1;32m   1814\u001b[0m         \u001b[0;32mif\u001b[0m \u001b[0mpre_doc\u001b[0m \u001b[0;32mis\u001b[0m \u001b[0mNone\u001b[0m\u001b[0;34m:\u001b[0m\u001b[0;34m\u001b[0m\u001b[0m\n",
      "\u001b[0;32m/Library/Python/2.7/site-packages/matplotlib/axes/_axes.pyc\u001b[0m in \u001b[0;36mboxplot\u001b[0;34m(self, x, notch, sym, vert, whis, positions, widths, patch_artist, bootstrap, usermedians, conf_intervals, meanline, showmeans, showcaps, showbox, showfliers, boxprops, labels, flierprops, medianprops, meanprops, capprops, whiskerprops, manage_xticks)\u001b[0m\n\u001b[1;32m   3210\u001b[0m             \u001b[0mbootstrap\u001b[0m \u001b[0;34m=\u001b[0m \u001b[0mrcParams\u001b[0m\u001b[0;34m[\u001b[0m\u001b[0;34m'boxplot.bootstrap'\u001b[0m\u001b[0;34m]\u001b[0m\u001b[0;34m\u001b[0m\u001b[0m\n\u001b[1;32m   3211\u001b[0m         bxpstats = cbook.boxplot_stats(x, whis=whis, bootstrap=bootstrap,\n\u001b[0;32m-> 3212\u001b[0;31m                                        labels=labels)\n\u001b[0m\u001b[1;32m   3213\u001b[0m         \u001b[0;32mif\u001b[0m \u001b[0mnotch\u001b[0m \u001b[0;32mis\u001b[0m \u001b[0mNone\u001b[0m\u001b[0;34m:\u001b[0m\u001b[0;34m\u001b[0m\u001b[0m\n\u001b[1;32m   3214\u001b[0m             \u001b[0mnotch\u001b[0m \u001b[0;34m=\u001b[0m \u001b[0mrcParams\u001b[0m\u001b[0;34m[\u001b[0m\u001b[0;34m'boxplot.notch'\u001b[0m\u001b[0;34m]\u001b[0m\u001b[0;34m\u001b[0m\u001b[0m\n",
      "\u001b[0;32m/Library/Python/2.7/site-packages/matplotlib/cbook.pyc\u001b[0m in \u001b[0;36mboxplot_stats\u001b[0;34m(X, whis, bootstrap, labels)\u001b[0m\n\u001b[1;32m   1978\u001b[0m \u001b[0;34m\u001b[0m\u001b[0m\n\u001b[1;32m   1979\u001b[0m     \u001b[0;31m# convert X to a list of lists\u001b[0m\u001b[0;34m\u001b[0m\u001b[0;34m\u001b[0m\u001b[0m\n\u001b[0;32m-> 1980\u001b[0;31m     \u001b[0mX\u001b[0m \u001b[0;34m=\u001b[0m \u001b[0m_reshape_2D\u001b[0m\u001b[0;34m(\u001b[0m\u001b[0mX\u001b[0m\u001b[0;34m)\u001b[0m\u001b[0;34m\u001b[0m\u001b[0m\n\u001b[0m\u001b[1;32m   1981\u001b[0m \u001b[0;34m\u001b[0m\u001b[0m\n\u001b[1;32m   1982\u001b[0m     \u001b[0mncols\u001b[0m \u001b[0;34m=\u001b[0m \u001b[0mlen\u001b[0m\u001b[0;34m(\u001b[0m\u001b[0mX\u001b[0m\u001b[0;34m)\u001b[0m\u001b[0;34m\u001b[0m\u001b[0m\n",
      "\u001b[0;32m/Library/Python/2.7/site-packages/matplotlib/cbook.pyc\u001b[0m in \u001b[0;36m_reshape_2D\u001b[0;34m(X)\u001b[0m\n\u001b[1;32m   2243\u001b[0m             \u001b[0;32mraise\u001b[0m \u001b[0mValueError\u001b[0m\u001b[0;34m(\u001b[0m\u001b[0;34m\"input `X` must have 2 or fewer dimensions\"\u001b[0m\u001b[0;34m)\u001b[0m\u001b[0;34m\u001b[0m\u001b[0m\n\u001b[1;32m   2244\u001b[0m \u001b[0;34m\u001b[0m\u001b[0m\n\u001b[0;32m-> 2245\u001b[0;31m     \u001b[0;32mif\u001b[0m \u001b[0;32mnot\u001b[0m \u001b[0mhasattr\u001b[0m\u001b[0;34m(\u001b[0m\u001b[0mX\u001b[0m\u001b[0;34m[\u001b[0m\u001b[0;36m0\u001b[0m\u001b[0;34m]\u001b[0m\u001b[0;34m,\u001b[0m \u001b[0;34m'__len__'\u001b[0m\u001b[0;34m)\u001b[0m\u001b[0;34m:\u001b[0m\u001b[0;34m\u001b[0m\u001b[0m\n\u001b[0m\u001b[1;32m   2246\u001b[0m         \u001b[0mX\u001b[0m \u001b[0;34m=\u001b[0m \u001b[0;34m[\u001b[0m\u001b[0mX\u001b[0m\u001b[0;34m]\u001b[0m\u001b[0;34m\u001b[0m\u001b[0m\n\u001b[1;32m   2247\u001b[0m     \u001b[0;32melse\u001b[0m\u001b[0;34m:\u001b[0m\u001b[0;34m\u001b[0m\u001b[0m\n",
      "\u001b[0;31mIndexError\u001b[0m: list index out of range"
     ]
    },
    {
     "data": {
      "image/png": "[encoded data removed]",
      "text/plain": [
       "<matplotlib.figure.Figure at 0x107c71350>"
      ]
     },
     "metadata": {},
     "output_type": "display_data"
    }
   ],
   "source": [
    "# find the mean bias of the two runs\n",
    "bias_abs_1 = find_bias(ObjectId(\"55f277cff3bd61000a2112d4\"), mcmc_handin, np.mean)\n",
    "bias_abs_2 = find_bias(ObjectId(\"55f277cff3bd61000a2112d4\"), mcmc_handin2, np.mean)\n",
    "bias_abs_3 = find_bias(ObjectId(\"55f277cff3bd61000a2112d4\"), mcmc_handin3, np.mean)\n",
    "\n",
    "# Generate dict of the found values in each run for each grader\n",
    "compared = defaultdict(list)\n",
    "collected = list()\n",
    "collected = bias_abs_1[:]\n",
    "collected.extend(bias_abs_2[:])\n",
    "collected.extend(bias_abs_3[:])\n",
    "for (value, _id) in collected:\n",
    "    compared[_id].append(value)\n",
    "\n",
    "# Produce a box plot where the graders are sorted after mean value of the found values\n",
    "ax = plt.subplot(111)\n",
    "\n",
    "sorted_list = compared.items()\n",
    "sorted_list.sort(key=lambda x: np.mean(x[1][:]))\n",
    "\n",
    "labels = list()\n",
    "for (_id, value) in sorted_list:\n",
    "    name = grader_name(ObjectId(_id))\n",
    "    reported = number_of_reports(name, ObjectId(\"55f277cff3bd61000a2112d4\"))\n",
    "    labels.append(name + \": \" + str(reported))\n",
    "    \n",
    "values = map(lambda x: x[1], sorted_list)\n",
    "plt.boxplot(values,0, vert=False, labels=labels)\n",
    "\n",
    "box = ax.get_position()\n",
    "ax.set_position([box.x0, box.y0,\n",
    "                 box.width*1.5, box.height*5])\n",
    "plt.vlines(0, 0, 120, color=\"k\", linestyles=\"--\", lw=1)\n",
    "plt.xlabel(\"Absolute mean value of the bias distributions of a grader\")\n",
    "plt.show()"
   ]
  },
  {
   "cell_type": "markdown",
   "metadata": {},
   "source": [
    "We can see that the moel does not find the same solution. Some graders does have a mean bias very similair to the previous run and others have a very large change in their bias. "
   ]
  },
  {
   "cell_type": "markdown",
   "metadata": {},
   "source": [
    "Next we can do the same with the variance of the bias instead of t"
   ]
  },
  {
   "cell_type": "code",
   "execution_count": null,
   "metadata": {
    "collapsed": false
   },
   "outputs": [],
   "source": [
    "# find the mean bias of the two runs\n",
    "bias_abs_1 = find_bias(ObjectId(\"55f277cff3bd61000a2112d4\"), mcmc_handin, np.var)\n",
    "bias_abs_2 = find_bias(ObjectId(\"55f277cff3bd61000a2112d4\"), mcmc_handin2, np.var)\n",
    "bias_abs_3 = find_bias(ObjectId(\"55f277cff3bd61000a2112d4\"), mcmc_handin3, np.var)\n",
    "\n",
    "# Generate dict of the found values in each run for each grader\n",
    "compared = defaultdict(list)\n",
    "collected = list()\n",
    "collected = bias_abs_1[:]\n",
    "collected.extend(bias_abs_2[:])\n",
    "for (value, _id) in collected:\n",
    "    compared[_id].append(value)\n",
    "\n",
    "# Produce a box plot where the graders are sorted after mean value of the found values\n",
    "ax = plt.subplot(111)\n",
    "\n",
    "sorted_list = compared.items()\n",
    "sorted_list.sort(key=lambda x: np.mean(x[1][:]))\n",
    "\n",
    "labels = list()\n",
    "for (_id, value) in sorted_list:\n",
    "    name = grader_name(ObjectId(_id))\n",
    "    reported = number_of_reports(name, ObjectId(\"55f277cff3bd61000a2112d4\"))\n",
    "    labels.append(name + \": \" + str(reported))\n",
    "\n",
    "values = map(lambda x: x[1], sorted_list)\n",
    "plt.boxplot(values,0, vert=False, labels=labels)\n",
    "\n",
    "box = ax.get_position()\n",
    "ax.set_position([box.x0, box.y0,\n",
    "                 box.width*1.5, box.height*5])\n",
    "plt.xlabel(r'$\\sigma^2$ of the bias distributions for a grader')\n",
    "plt.show()"
   ]
  },
  {
   "cell_type": "markdown",
   "metadata": {},
   "source": [
    "We can see here that the variance of the distribtuions are very close to each other which makes the value vary greatly between each run of the model. But there are "
   ]
  },
  {
   "cell_type": "code",
   "execution_count": null,
   "metadata": {
    "collapsed": false
   },
   "outputs": [],
   "source": [
    "grader_id('Qian Junqing')"
   ]
  },
  {
   "cell_type": "code",
   "execution_count": null,
   "metadata": {
    "collapsed": false
   },
   "outputs": [],
   "source": [
    "scores1 = score_handin_list(ObjectId(\"560994d11bd43a000fb1230f\"))\n",
    "map(lambda x: (x[0],grader_name(x[1])), scores1)"
   ]
  },
  {
   "cell_type": "code",
   "execution_count": null,
   "metadata": {
    "collapsed": false
   },
   "outputs": [],
   "source": [
    "mean = np.mean(map(lambda x: x[0],scores1))\n",
    "scores_diff1 = map(lambda y: y[0]-mean,scores1)"
   ]
  },
  {
   "cell_type": "code",
   "execution_count": null,
   "metadata": {
    "collapsed": false
   },
   "outputs": [],
   "source": [
    "scores2 = score_handin_list(ObjectId(\"560997d81bd43a000fb12311\"))\n",
    "map(lambda x: (x[0],grader_name(x[1])), scores2)"
   ]
  },
  {
   "cell_type": "code",
   "execution_count": null,
   "metadata": {
    "collapsed": false
   },
   "outputs": [],
   "source": [
    "mean = np.mean(map(lambda x: x[0],scores2))\n",
    "scores_diff2 = map(lambda y: y[0]-mean,scores2)"
   ]
  },
  {
   "cell_type": "code",
   "execution_count": null,
   "metadata": {
    "collapsed": false
   },
   "outputs": [],
   "source": [
    "scores3 = score_handin_list(ObjectId(\"5609b63e1bd43a000fb12333\"))\n",
    "map(lambda x: (x[0],grader_name(x[1])), scores3)"
   ]
  },
  {
   "cell_type": "code",
   "execution_count": null,
   "metadata": {
    "collapsed": true
   },
   "outputs": [],
   "source": [
    "mean = np.mean(map(lambda x: x[0],scores3))\n",
    "scores_diff3 = map(lambda y: y[0]-mean,scores3)"
   ]
  },
  {
   "cell_type": "code",
   "execution_count": null,
   "metadata": {
    "collapsed": false
   },
   "outputs": [],
   "source": [
    "handins = ['560948691bd43a000fb1228d','560997d81bd43a000fb12311','560994d11bd43a000fb1230f','5609b63e1bd43a000fb12333']\n",
    "for i, h in enumerate(handins):\n",
    "    scores = score_handin_list(ObjectId(h))\n",
    "    mean = np.mean(map(lambda x: x[0],scores))\n",
    "    scores_diff = map(lambda y: y[0]-mean,scores)\n",
    "    plt.plot(scores_diff,[i]*len(scores_diff),'ob',alpha=0.5)\n",
    "plt.yticks(xrange(len(handins)),handins)\n",
    "plt.show()"
   ]
  },
  {
   "cell_type": "code",
   "execution_count": null,
   "metadata": {
    "collapsed": false
   },
   "outputs": [],
   "source": [
    "# find the mean bias of the two runs\n",
    "bias_abs_1 = find_T(ObjectId(\"55f277cff3bd61000a2112d4\"), mcmc_handin, np.mean)\n",
    "bias_abs_2 = find_T(ObjectId(\"55f277cff3bd61000a2112d4\"), mcmc_handin2, np.mean)\n",
    "bias_abs_3 = find_T(ObjectId(\"55f277cff3bd61000a2112d4\"), mcmc_handin3, np.mean)\n",
    "\n",
    "# Generate dict of the found values in each run for each grader\n",
    "compared = defaultdict(list)\n",
    "collected = list()\n",
    "collected = bias_abs_1[:]\n",
    "collected.extend(bias_abs_2[:])\n",
    "collected.extend(bias_abs_3[:])\n",
    "for (value, _id) in collected:\n",
    "    compared[_id].append(value)\n",
    "\n",
    "# Produce a box plot where the graders are sorted after mean value of the found values\n",
    "ax = plt.subplot(111)\n",
    "\n",
    "sorted_list = compared.items()\n",
    "sorted_list.sort(key=lambda x: np.mean(x[1][:]))\n",
    "\n",
    "labels = list()\n",
    "values = list()\n",
    "for (_id, value) in sorted_list:\n",
    "    labels.append(str(_id))\n",
    "    values.append(value)\n",
    "\n",
    "print labels[3]\n",
    "print values[3]\n",
    "\n",
    "#values = map(lambda x: x[1], sorted_list)\n",
    "plt.boxplot(values,0, vert=False, labels=labels)\n",
    "\n",
    "box = ax.get_position()\n",
    "ax.set_position([box.x0, box.y0,\n",
    "                 box.width*1.5, box.height*5])\n",
    "plt.vlines(0, 0, 120, color=\"k\", linestyles=\"--\", lw=1)\n",
    "plt.xlabel(\"Mean value of the true vale distributions of a grader\")\n",
    "plt.show()"
   ]
  },
  {
   "cell_type": "code",
   "execution_count": null,
   "metadata": {
    "collapsed": false
   },
   "outputs": [],
   "source": [
    "# find the mean bias of the two runs\n",
    "bias_abs_1 = find_T(ObjectId(\"55f277cff3bd61000a2112d4\"), mcmc_handin, np.var)\n",
    "bias_abs_2 = find_T(ObjectId(\"55f277cff3bd61000a2112d4\"), mcmc_handin2, np.var)\n",
    "bias_abs_3 = find_T(ObjectId(\"55f277cff3bd61000a2112d4\"), mcmc_handin3, np.var)\n",
    "\n",
    "# Generate dict of the found values in each run for each grader\n",
    "compared = defaultdict(list)\n",
    "collected = list()\n",
    "collected = bias_abs_1[:]\n",
    "collected.extend(bias_abs_2[:])\n",
    "collected.extend(bias_abs_3[:])\n",
    "for (value, _id) in collected:\n",
    "    compared[_id].append(value)\n",
    "\n",
    "# Produce a box plot where the graders are sorted after mean value of the found values\n",
    "ax = plt.subplot(111)\n",
    "\n",
    "sorted_list = compared.items()\n",
    "sorted_list.sort(key=lambda x: np.mean(x[1][:]))\n",
    "\n",
    "labels = list()\n",
    "values = list()\n",
    "for (_id, value) in sorted_list:\n",
    "    labels.append(str(_id))\n",
    "    values.append(value)\n",
    "\n",
    "print labels[0]\n",
    "\n",
    "#values = map(lambda x: x[1], sorted_list)\n",
    "plt.boxplot(values,0, vert=False, labels=labels)\n",
    "\n",
    "box = ax.get_position()\n",
    "ax.set_position([box.x0, box.y0,\n",
    "                 box.width*1.5, box.height*5])\n",
    "plt.vlines(0, 0, 120, color=\"k\", linestyles=\"--\", lw=1)\n",
    "plt.xlabel(\"Absolute mean value of the true value distributions of a grader\")\n",
    "plt.show()"
   ]
  },
  {
   "cell_type": "markdown",
   "metadata": {},
   "source": [
    "We can next compare it with the found ranking of the mean of the graders with the ranking that Thomas Pedersen have found."
   ]
  },
  {
   "cell_type": "code",
   "execution_count": null,
   "metadata": {
    "collapsed": true
   },
   "outputs": [],
   "source": [
    "weights = list()\n",
    "with open('Data/weight.txt') as f:\n",
    "    for line in f:\n",
    "        weights.append(line[:-1])"
   ]
  },
  {
   "cell_type": "code",
   "execution_count": null,
   "metadata": {
    "collapsed": false
   },
   "outputs": [],
   "source": [
    "compared = list()\n",
    "for idx, (value, _id) in enumerate(bias_abs):\n",
    "    if _id in weights:\n",
    "        compared.append((_id ,idx, weights.index(_id)))"
   ]
  },
  {
   "cell_type": "code",
   "execution_count": null,
   "metadata": {
    "collapsed": false
   },
   "outputs": [],
   "source": [
    "compared.sort(key=lambda x:abs(x[2]-x[1]))"
   ]
  },
  {
   "cell_type": "code",
   "execution_count": null,
   "metadata": {
    "collapsed": false
   },
   "outputs": [],
   "source": [
    "ax = plt.subplot(111)\n",
    "\n",
    "dis_ten = 0\n",
    "dis_fifty = 0\n",
    "\n",
    "for idx, (_id, bias,weight) in enumerate(compared):\n",
    "    if bias > weight:\n",
    "        plt.plot([idx,idx],[bias,weight], color='r')\n",
    "    else:\n",
    "        plt.plot([idx,idx],[bias,weight], color='g')\n",
    "    if dis_ten == 0 and abs(bias-weight) >= 10:\n",
    "        dis_ten = idx\n",
    "        plt.vlines(idx, 0, 120, color=\"k\", linestyles=\"--\", lw=1)\n",
    "    if dis_fifty == 0 and abs(bias-weight) >= 50:\n",
    "        dis_fifty = idx\n",
    "        plt.vlines(idx, 0, 120, color=\"k\", linestyles=\"--\", lw=1)\n",
    "\n",
    "    \n",
    "box = ax.get_position()\n",
    "ax.set_position([box.x0, box.y0,\n",
    "                 box.width * 3, box.height])\n",
    "    \n",
    "plt.show()"
   ]
  },
  {
   "cell_type": "markdown",
   "metadata": {},
   "source": [
    "Here I have plotted the difference between the ranking I have found and the ranking Thomas Pedersen have found. The difference is defined by a line where the y axis defines the ranking where 0 is best and 121 is the worst ranked.\n",
    "A green line indicates that Thomas have granted the grader a larger ranking than I and red is the opposite\n",
    "The x axis defines the graders, and is sorted after the graders with the least difference in ranking.\n",
    "\n",
    "It is clear that there are no corroloation, but this is somewhat to be expected as Thomas Pedersen find his through completely other means. Additionally his is based on the entire course \"Computational tools for big data\" where mine is only on one assignment"
   ]
  },
  {
   "cell_type": "markdown",
   "metadata": {},
   "source": [
    "## Full scale data"
   ]
  },
  {
   "cell_type": "markdown",
   "metadata": {},
   "source": [
    "Next i use the same model, but this time on the handins of an entire course instead of a single assignment."
   ]
  },
  {
   "cell_type": "markdown",
   "metadata": {},
   "source": [
    "### Fetching data"
   ]
  },
  {
   "cell_type": "code",
   "execution_count": null,
   "metadata": {
    "collapsed": true
   },
   "outputs": [],
   "source": [
    "def course_handins(course_id):\n",
    "    handins = list()\n",
    "    assignments = db.assignment.find({'course':course_id})\n",
    "    for assignment in assignments:\n",
    "        handins.extend(assignment_handins(assignment['_id']))\n",
    "    return handins"
   ]
  },
  {
   "cell_type": "markdown",
   "metadata": {},
   "source": [
    "### Model"
   ]
  },
  {
   "cell_type": "markdown",
   "metadata": {},
   "source": [
    "We can use the same model as before"
   ]
  },
  {
   "cell_type": "code",
   "execution_count": null,
   "metadata": {
    "collapsed": false
   },
   "outputs": [],
   "source": [
    "data_course = course_handins(ObjectId(\"55d9cb9ea6fb8f00080da4a1\"))"
   ]
  },
  {
   "cell_type": "code",
   "execution_count": null,
   "metadata": {
    "collapsed": false
   },
   "outputs": [],
   "source": [
    "mcmc_course = handin_model(data_course)"
   ]
  },
  {
   "cell_type": "markdown",
   "metadata": {},
   "source": [
    "We can comapre the found bias as before with the found value of Thomas's findings"
   ]
  },
  {
   "cell_type": "code",
   "execution_count": null,
   "metadata": {
    "collapsed": false
   },
   "outputs": [],
   "source": [
    "bias_abs_c = find_bias(ObjectId(\"55f277cff3bd61000a2112d4\"), mcmc_course, np.mean)\n",
    "bias_abs_c.sort()"
   ]
  },
  {
   "cell_type": "code",
   "execution_count": null,
   "metadata": {
    "collapsed": false
   },
   "outputs": [],
   "source": [
    "len(bias_abs_c)"
   ]
  },
  {
   "cell_type": "code",
   "execution_count": null,
   "metadata": {
    "collapsed": true
   },
   "outputs": [],
   "source": [
    "weights = list()\n",
    "with open('Data/weight.txt') as f:\n",
    "    for line in f:\n",
    "        weights.append(line[:-1])"
   ]
  },
  {
   "cell_type": "code",
   "execution_count": null,
   "metadata": {
    "collapsed": true
   },
   "outputs": [],
   "source": [
    "compared_c = list()\n",
    "for idx, (value, _id) in enumerate(bias_abs_c):\n",
    "    if _id in weights:\n",
    "        compared_c.append((_id ,idx, weights.index(_id)))"
   ]
  },
  {
   "cell_type": "code",
   "execution_count": null,
   "metadata": {
    "collapsed": true
   },
   "outputs": [],
   "source": [
    "compared_c.sort(key=lambda x:abs(x[2]-x[1]))"
   ]
  },
  {
   "cell_type": "code",
   "execution_count": null,
   "metadata": {
    "collapsed": false
   },
   "outputs": [],
   "source": [
    "len(compared_c)"
   ]
  },
  {
   "cell_type": "code",
   "execution_count": null,
   "metadata": {
    "collapsed": false,
    "scrolled": true
   },
   "outputs": [],
   "source": [
    "ax = plt.subplot(111)\n",
    "\n",
    "dis_ten = 0\n",
    "dis_fifty = 0\n",
    "\n",
    "for idx, (_id, bias,weight) in enumerate(compared_c):\n",
    "    if bias > weight:\n",
    "        plt.plot([idx,idx],[bias,weight], color='r')\n",
    "    else:\n",
    "        plt.plot([idx,idx],[bias,weight], color='g')\n",
    "    if dis_ten == 0 and abs(bias-weight) >= 10:\n",
    "        dis_ten = idx\n",
    "        plt.vlines(idx, 0, 120, color=\"k\", linestyles=\"--\", lw=1)\n",
    "    if dis_fifty == 0 and abs(bias-weight) >= 50:\n",
    "        dis_fifty = idx\n",
    "        plt.vlines(idx, 0, 120, color=\"k\", linestyles=\"--\", lw=1)\n",
    "\n",
    "box = ax.get_position()\n",
    "ax.set_position([box.x0, box.y0,\n",
    "                 box.width * 3, box.height])\n",
    "    \n",
    "plt.show()"
   ]
  },
  {
   "cell_type": "markdown",
   "metadata": {},
   "source": [
    "We can also compare the found bias with the ones found in the model for only a single assignment and see if more assignments have changed the ranking of the students"
   ]
  },
  {
   "cell_type": "code",
   "execution_count": null,
   "metadata": {
    "collapsed": false
   },
   "outputs": [],
   "source": [
    "compared_cn = list()\n",
    "for idx, (value, _id) in enumerate(bias_abs_1):\n",
    "    for item in enumerate(bias_abs_c):\n",
    "        if item[1][1] == _id:\n",
    "            compared_cn.append((_id ,idx, item[0]))"
   ]
  },
  {
   "cell_type": "code",
   "execution_count": null,
   "metadata": {
    "collapsed": false
   },
   "outputs": [],
   "source": [
    "ax = plt.subplot(111)\n",
    "\n",
    "dis_ten = 0\n",
    "dis_fifty = 0\n",
    "\n",
    "for idx, (_id, bias,weight) in enumerate(compared_cn):\n",
    "    if bias > weight:\n",
    "        plt.plot([idx,idx],[bias,weight], color='g')\n",
    "    else:\n",
    "        plt.plot([idx,idx],[bias,weight], color='r')\n",
    "\n",
    "box = ax.get_position()\n",
    "ax.set_position([box.x0, box.y0,\n",
    "                 box.width * 3, box.height])\n",
    "    \n",
    "plt.show()"
   ]
  },
  {
   "cell_type": "markdown",
   "metadata": {},
   "source": [
    "Form the plot we can see that there are large changes to the mean as soon as more assignments were added to the model."
   ]
  },
  {
   "cell_type": "code",
   "execution_count": null,
   "metadata": {
    "collapsed": true
   },
   "outputs": [],
   "source": []
  }
 ],
 "metadata": {
  "kernelspec": {
   "display_name": "Python 2",
   "language": "python",
   "name": "python2"
  },
  "language_info": {
   "codemirror_mode": {
    "name": "ipython",
    "version": 2
   },
   "file_extension": ".py",
   "mimetype": "text/x-python",
   "name": "python",
   "nbconvert_exporter": "python",
   "pygments_lexer": "ipython2",
   "version": "2.7.10"
  }
 },
 "nbformat": 4,
 "nbformat_minor": 0
}
