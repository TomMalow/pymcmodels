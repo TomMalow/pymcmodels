{
 "cells": [
  {
   "cell_type": "markdown",
   "metadata": {},
   "source": [
    "#  Score of handin average questions"
   ]
  },
  {
   "cell_type": "markdown",
   "metadata": {},
   "source": [
    "I will in this notebook attempt to find the true score of a handin based on handins and graders. The score of each question will be reduced to a single score taken from the average of questions"
   ]
  },
  {
   "cell_type": "markdown",
   "metadata": {},
   "source": [
    "##  Model"
   ]
  },
  {
   "cell_type": "markdown",
   "metadata": {},
   "source": [
    "$$ O_{hg} = T_h + B_g $$\n",
    "\n",
    "$$T_h \\sim N(\\mu_h, \\sigma_h)$$\n",
    "\n",
    "$$B_g \\sim N(\\mu_g, \\sigma_g)$$\n"
   ]
  },
  {
   "cell_type": "markdown",
   "metadata": {},
   "source": [
    "###  Simple model"
   ]
  },
  {
   "cell_type": "markdown",
   "metadata": {},
   "source": [
    "I will first implement the model for a single handin and see if the model works in a simple version before scalling it up to consider a second dimension."
   ]
  },
  {
   "cell_type": "markdown",
   "metadata": {},
   "source": [
    "$$ O_{hg} = T + B_g $$\n",
    "\n",
    "$$T \\sim N(\\mu, \\sigma)$$\n",
    "\n",
    "$$B_g \\sim N(\\mu_g, \\sigma_g)$$\n"
   ]
  },
  {
   "cell_type": "code",
   "execution_count": 881,
   "metadata": {
    "collapsed": true
   },
   "outputs": [],
   "source": [
    "%matplotlib inline\n",
    "from collections import defaultdict\n",
    "import pymc as pm\n",
    "from pymc.Matplot import plot as mcplot\n",
    "import numpy as np\n",
    "from matplotlib import pyplot as plt\n",
    "import json\n",
    "from pymongo import MongoClient\n",
    "import pymongo\n",
    "from bson.objectid import ObjectId\n",
    "import copy"
   ]
  },
  {
   "cell_type": "code",
   "execution_count": 767,
   "metadata": {
    "collapsed": false
   },
   "outputs": [],
   "source": [
    "def simple_model(data):\n",
    "    N = len(data)\n",
    "\n",
    "    # True score\n",
    "    T_mu = pm.Uniform('T_mu',0,1)\n",
    "    T = pm.Normal('T', mu=T_mu, tau=100, value = np.mean(data))\n",
    "\n",
    "    # Bias\n",
    "    B = list()\n",
    "    O = list()\n",
    "\n",
    "    for i in range(0, N):\n",
    "        B.append(pm.Normal('B_%i' % i, mu=0, tau=100))\n",
    "        O.append(pm.Normal('O_%i' % i, mu = T + B[i], tau=100, observed=True, value=data[i]))\n",
    "            \n",
    "    collection = [T,\n",
    "                  pm.Container(O),\n",
    "                  pm.Container(B)]\n",
    "    \n",
    "    model = pm.Model(collection)\n",
    "    map_ = pm.MAP(model)\n",
    "    map_.fit()\n",
    "    mcmc = pm.MCMC(model)\n",
    "    mcmc.sample(4000)\n",
    "    return mcmc"
   ]
  },
  {
   "cell_type": "markdown",
   "metadata": {},
   "source": [
    "##  Data"
   ]
  },
  {
   "cell_type": "markdown",
   "metadata": {},
   "source": [
    "This section is about getting hold of the relevant data needed for fitting our model"
   ]
  },
  {
   "cell_type": "code",
   "execution_count": 90,
   "metadata": {
    "collapsed": false
   },
   "outputs": [],
   "source": [
    "client = MongoClient()\n",
    "db = client.heroku_rnwkcq9r"
   ]
  },
  {
   "cell_type": "code",
   "execution_count": 91,
   "metadata": {
    "collapsed": true
   },
   "outputs": [],
   "source": [
    "def question_text(question_id):\n",
    "    question = db.question.find_one({'_id': question_id})\n",
    "    return question['text']"
   ]
  },
  {
   "cell_type": "code",
   "execution_count": 92,
   "metadata": {
    "collapsed": true
   },
   "outputs": [],
   "source": [
    "def question_max_value(question_id):\n",
    "    question = db.question.find_one({'_id': question_id})\n",
    "    if question['question_type'] == \"boolean\":\n",
    "        return 1\n",
    "    elif question[\"question_type\"] == \"numerical\":\n",
    "        if 'numericalAnswers' in question:\n",
    "            max_value = max(map(int,question['numericalAnswers'].keys()))\n",
    "            return max_value\n",
    "        else:\n",
    "            return 5"
   ]
  },
  {
   "cell_type": "code",
   "execution_count": 93,
   "metadata": {
    "collapsed": true
   },
   "outputs": [],
   "source": [
    "def answer_value(answer_id):\n",
    "    answer = db.answer.find_one({'_id': answer_id})\n",
    "    q_id = answer['question']\n",
    "    if 'numerical_answer' in answer:\n",
    "        return answer['numerical_answer'] / float(question_max_value(q_id))\n",
    "    elif 'boolean_answer' in answer:\n",
    "        return answer['boolean_answer'] / float(question_max_value(q_id))"
   ]
  },
  {
   "cell_type": "code",
   "execution_count": 94,
   "metadata": {
    "collapsed": true
   },
   "outputs": [],
   "source": [
    "def answer_with_score(answer_id):\n",
    "    answer = db.answer.find_one({'_id': answer_id})\n",
    "    return 'text_answer' not in answer"
   ]
  },
  {
   "cell_type": "code",
   "execution_count": 95,
   "metadata": {
    "collapsed": false
   },
   "outputs": [],
   "source": [
    "def score_handin_grader(handin_id,grader_id):\n",
    "    # find all answers to the hand in of the grader and average it out\n",
    "    report_grade = db.report_grade.find_one({'handin': handin_id, 'giver': grader_id})\n",
    "    answers = db.answer.find({'report_grade': report_grade['_id'] })\n",
    "    handin_acc = 0.0\n",
    "    for answer in answers:\n",
    "        if answer_with_score(answer['_id']):\n",
    "            handin_acc = handin_acc + answer_value(answer['_id'])\n",
    "    return handin_acc / float(answers.count())"
   ]
  },
  {
   "cell_type": "code",
   "execution_count": 163,
   "metadata": {
    "collapsed": false
   },
   "outputs": [
    {
     "name": "stdout",
     "output_type": "stream",
     "text": [
      "0.675213675214\n"
     ]
    }
   ],
   "source": [
    "print score_handin_grader(ObjectId(\"5609b22e1bd43a000fb12328\"),ObjectId(\"55d9cb9ea6fb8f00080da492\"))"
   ]
  },
  {
   "cell_type": "code",
   "execution_count": 164,
   "metadata": {
    "collapsed": true
   },
   "outputs": [],
   "source": [
    "def score_handin_list(handin_id):\n",
    "    scores = list()\n",
    "    report_grades = db.report_grade.find({'handin': handin_id, 'state': 'ANSWERED'})\n",
    "    for report_grade in report_grades:\n",
    "        scores.append((score_handin_grader(handin_id,report_grade['giver']),report_grade['giver']))\n",
    "    return scores"
   ]
  },
  {
   "cell_type": "markdown",
   "metadata": {},
   "source": [
    "We know have the capabilities to easily get the average score from all the graders of a handin"
   ]
  },
  {
   "cell_type": "code",
   "execution_count": 22,
   "metadata": {
    "collapsed": false,
    "scrolled": true
   },
   "outputs": [
    {
     "name": "stdout",
     "output_type": "stream",
     "text": [
      "[(0.5726495726495726, ObjectId('55e4330ded7a0c0009f0d9d9')), (0.6410256410256411, ObjectId('55f2d136d8786100099ff332')), (0.5128205128205128, ObjectId('55db3833edf3950009412132')), (0.46153846153846156, ObjectId('55e59e8336cc7d00092c414a')), (0.6410256410256411, ObjectId('55d9cb9ea6fb8f00080da473')), (0.6153846153846154, ObjectId('55db3833edf395000941213d')), (0.4871794871794871, ObjectId('56056a8689c698000f9c29bd')), (0.4957264957264957, ObjectId('55db3832edf395000941211a'))]\n"
     ]
    }
   ],
   "source": [
    "print score_handin_list(ObjectId(\"5609b2d71bd43a000fb1232a\"))"
   ]
  },
  {
   "cell_type": "markdown",
   "metadata": {},
   "source": [
    "##  Fitting"
   ]
  },
  {
   "cell_type": "code",
   "execution_count": null,
   "metadata": {
    "collapsed": true
   },
   "outputs": [],
   "source": [
    "data = np.array(score_handin_list(ObjectId(\"5609b2d71bd43a000fb1232a\")))"
   ]
  },
  {
   "cell_type": "code",
   "execution_count": 768,
   "metadata": {
    "collapsed": false
   },
   "outputs": [
    {
     "name": "stdout",
     "output_type": "stream",
     "text": [
      "[(0.2726495726495726, ObjectId('55e4330ded7a0c0009f0d9d9')), (0.6410256410256411, ObjectId('55f2d136d8786100099ff332')), (0.5128205128205128, ObjectId('55db3833edf3950009412132')), (0.46153846153846156, ObjectId('55e59e8336cc7d00092c414a')), (0.6410256410256411, ObjectId('55d9cb9ea6fb8f00080da473')), (0.6153846153846154, ObjectId('55db3833edf395000941213d')), (0.4871794871794871, ObjectId('56056a8689c698000f9c29bd')), (0.9957264957264957, ObjectId('55db3832edf395000941211a'))]\n"
     ]
    }
   ],
   "source": [
    "print data"
   ]
  },
  {
   "cell_type": "code",
   "execution_count": 769,
   "metadata": {
    "collapsed": false
   },
   "outputs": [],
   "source": [
    "data = [(0.2726495726495726, ObjectId('55e4330ded7a0c0009f0d9d9')),\n",
    " (0.6410256410256411, ObjectId('55f2d136d8786100099ff332')),\n",
    " (0.5128205128205128, ObjectId('55db3833edf3950009412132')),\n",
    " (0.46153846153846156, ObjectId('55e59e8336cc7d00092c414a')),\n",
    " (0.6410256410256411, ObjectId('55d9cb9ea6fb8f00080da473')),\n",
    " (0.6153846153846154, ObjectId('55db3833edf395000941213d')),\n",
    " (0.4871794871794871, ObjectId('56056a8689c698000f9c29bd')),\n",
    " (0.9957264957264957, ObjectId('55db3832edf395000941211a'))]"
   ]
  },
  {
   "cell_type": "code",
   "execution_count": 770,
   "metadata": {
    "collapsed": false
   },
   "outputs": [
    {
     "name": "stdout",
     "output_type": "stream",
     "text": [
      " [-----------------100%-----------------] 4000 of 4000 complete in 4.6 sec"
     ]
    }
   ],
   "source": [
    "data_ = map(lambda x: x[0],data)\n",
    "mcmc = simple_model(data_)"
   ]
  },
  {
   "cell_type": "code",
   "execution_count": 771,
   "metadata": {
    "collapsed": false
   },
   "outputs": [
    {
     "name": "stdout",
     "output_type": "stream",
     "text": [
      "Plotting T\n"
     ]
    },
    {
     "data": {
      "image/png": "[encoded data removed]",
      "text/plain": [
       "<matplotlib.figure.Figure at 0x120edc350>"
      ]
     },
     "metadata": {},
     "output_type": "display_data"
    }
   ],
   "source": [
    "mcplot(mcmc.trace('T'))"
   ]
  },
  {
   "cell_type": "code",
   "execution_count": 772,
   "metadata": {
    "collapsed": false
   },
   "outputs": [
    {
     "data": {
      "image/png": "[encoded data removed]",
      "text/plain": [
       "<matplotlib.figure.Figure at 0x120edc790>"
      ]
     },
     "metadata": {},
     "output_type": "display_data"
    }
   ],
   "source": [
    "T = mcmc.trace(\"T\")[:]\n",
    "plt.hist(T, histtype=\"step\", normed=True, alpha=0.5, bins=30,\n",
    "         label=\"T\", color=\"#348ABD\")\n",
    "B0 = mcmc.trace(\"B_1\")[:]\n",
    "plt.hist(B0, histtype=\"step\", normed=True, alpha=0.5, bins=30,\n",
    "         label=\"B0\")\n",
    "plt.xlim(-0.5,1)\n",
    "plt.legend()\n",
    "plt.show()"
   ]
  },
  {
   "cell_type": "code",
   "execution_count": 773,
   "metadata": {
    "collapsed": false
   },
   "outputs": [
    {
     "name": "stdout",
     "output_type": "stream",
     "text": [
      "The mean value of the observed data:\n",
      "0.578418803419\n",
      "The expected value of the normal distribution of T, the true score:\n",
      "0.580013338583\n",
      "The expected value of the normal distribution of the bias of the first grader B0:\n",
      "0.641025641026\n",
      "0.0309245647129\n"
     ]
    }
   ],
   "source": [
    "print \"The mean value of the observed data:\"\n",
    "print np.mean(data_)\n",
    "print \"The expected value of the normal distribution of T, the true score:\"\n",
    "print np.mean(T)\n",
    "print \"The expected value of the normal distribution of the bias of the first grader B0:\"\n",
    "print data_[1]\n",
    "print np.mean(B0)"
   ]
  },
  {
   "cell_type": "markdown",
   "metadata": {},
   "source": [
    "the true_score and the mean of the observed data is not far from eachother and implies that the model works as we want"
   ]
  },
  {
   "cell_type": "markdown",
   "metadata": {},
   "source": [
    "Biases of all the grader"
   ]
  },
  {
   "cell_type": "code",
   "execution_count": 300,
   "metadata": {
    "collapsed": false
   },
   "outputs": [
    {
     "data": {
      "text/plain": [
       "<function matplotlib.pyplot.show>"
      ]
     },
     "execution_count": 300,
     "metadata": {},
     "output_type": "execute_result"
    },
    {
     "data": {
      "image/png": "[encoded data removed]",
      "text/plain": [
       "<matplotlib.figure.Figure at 0x116fb7490>"
      ]
     },
     "metadata": {},
     "output_type": "display_data"
    }
   ],
   "source": [
    "ax = plt.subplot(111)\n",
    "\n",
    "for i in range(0,8):\n",
    "    B = mcmc.trace(\"B_%i\" % i)[:]\n",
    "    ax.hist(B, histtype=\"step\", normed=True, alpha=0.5, bins=30,\n",
    "         label=\"B_%i\" % i)\n",
    "\n",
    "box = ax.get_position()\n",
    "ax.set_position([box.x0, box.y0,\n",
    "                 box.width * 2, box.height * 2])\n",
    "\n",
    "plt.xlim(-0.5,0.5)\n",
    "plt.legend()\n",
    "plt.show"
   ]
  },
  {
   "cell_type": "code",
   "execution_count": 301,
   "metadata": {
    "collapsed": false
   },
   "outputs": [
    {
     "name": "stdout",
     "output_type": "stream",
     "text": [
      "-0.153158052144\n",
      "0.0296234368984\n",
      "-0.0353653234874\n",
      "-0.0594052899258\n",
      "0.0299928063209\n",
      "0.0164452381059\n",
      "-0.0457151586111\n",
      "0.207108310523\n"
     ]
    }
   ],
   "source": [
    "for i in range(0,8):\n",
    "    print np.mean(mcmc.trace(\"B_%i\" % i)[:])"
   ]
  },
  {
   "cell_type": "markdown",
   "metadata": {},
   "source": [
    "What is interresting here is that the expected value of each bias is not far from each other and lies close to zero. The varance however is not the same and some observations such as B_6 and B_2 have the largest varaince so they may have more bias than others."
   ]
  },
  {
   "cell_type": "markdown",
   "metadata": {},
   "source": [
    "The precision of true_score increases as more data points are added"
   ]
  },
  {
   "cell_type": "code",
   "execution_count": null,
   "metadata": {
    "collapsed": false
   },
   "outputs": [],
   "source": [
    "ax = plt.subplot(111)\n",
    "\n",
    "for i in range(1,9):    \n",
    "    mcmc = simple_model(data[0:i])\n",
    "    trace_T = mcmc.trace(\"T\")[:]\n",
    "    ax.hist(trace_T, histtype=\"step\", normed=True, alpha=0.5, bins=30,\n",
    "         label=\"%i obs\" % i)\n",
    "    \n",
    "box = ax.get_position()\n",
    "ax.set_position([box.x0, box.y0,\n",
    "                 box.width * 2, box.height * 2])\n",
    "\n",
    "plt.xlim(-5,5)\n",
    "plt.legend()\n",
    "plt.show\n"
   ]
  },
  {
   "cell_type": "markdown",
   "metadata": {},
   "source": [
    "From the plot we can see that the first iteration with one observation as very high variance. at 3 observations the varaince have stabalised and more observations does not reduce the variance"
   ]
  },
  {
   "cell_type": "markdown",
   "metadata": {},
   "source": [
    "# Model with handins"
   ]
  },
  {
   "cell_type": "markdown",
   "metadata": {},
   "source": [
    "## Fetching Data"
   ]
  },
  {
   "cell_type": "code",
   "execution_count": 581,
   "metadata": {
    "collapsed": false
   },
   "outputs": [],
   "source": [
    "# finds the reported score for each handins in an assignment\n",
    "# returns a list containing the score of each handin\n",
    "def assignment_handins(assignment_id):\n",
    "    handins_reports = list()\n",
    "    handins = db.handin.find({'assignment': assignment_id})\n",
    "    for handin in handins:\n",
    "        handins_reports.append((score_handin_list(handin['_id']),handin['_id']))\n",
    "    return handins_reports"
   ]
  },
  {
   "cell_type": "code",
   "execution_count": 582,
   "metadata": {
    "collapsed": false
   },
   "outputs": [],
   "source": [
    "data_handin = assignment_handins(ObjectId(\"55f277cff3bd61000a2112d4\"))"
   ]
  },
  {
   "cell_type": "code",
   "execution_count": 891,
   "metadata": {
    "collapsed": false
   },
   "outputs": [],
   "source": [
    "def handin_model(data):\n",
    "    N_H = len(data)\n",
    "    \n",
    "    # Bias\n",
    "    T = dict()\n",
    "    B = dict()\n",
    "    O = list()\n",
    "\n",
    "    for h in range(0, N_H):\n",
    "        (scores,h_id) = data[h]\n",
    "        N_G = len(scores)\n",
    "        \n",
    "        T_mu = pm.Uniform('T_mu_%s' % str(h_id),0,1)\n",
    "        T[h_id] = pm.Normal('T_%s' % str(h_id), mu=T_mu, tau=100, value = np.mean(map(lambda x:x[0],scores)))\n",
    "        \n",
    "        for g in range(0, N_G):\n",
    "            (val,g_id) = scores[g]\n",
    "            if g_id not in B:\n",
    "                B[g_id] = pm.Normal('B_%s' % str(g_id), mu=0, tau=80) \n",
    "            O.append(pm.Normal('O_%(h)i_%(g)i' % {'h': h, 'g':g}, mu = T[h_id] + B[g_id], tau=100, observed=True, value=val))\n",
    "        \n",
    "            \n",
    "    collection = [pm.Container(T),\n",
    "                  pm.Container(O),\n",
    "                  pm.Container(B)]\n",
    "    \n",
    "    model = pm.Model(collection)\n",
    "    map_ = pm.MAP(model)\n",
    "    map_.fit()\n",
    "    return model"
   ]
  },
  {
   "cell_type": "code",
   "execution_count": 892,
   "metadata": {
    "collapsed": true
   },
   "outputs": [],
   "source": [
    "def execute_model(model):\n",
    "    mcmc = pm.MCMC(model)\n",
    "    mcmc.sample(5000,500)\n",
    "    return mcmc"
   ]
  },
  {
   "cell_type": "markdown",
   "metadata": {},
   "source": [
    "###  Validation"
   ]
  },
  {
   "cell_type": "markdown",
   "metadata": {},
   "source": [
    "The main problem with probabilitis programming is the solution is not always the same so we can validte how precise the model is at finding a correct solution after running the data a two times and compare the found solutions against eachother"
   ]
  },
  {
   "cell_type": "code",
   "execution_count": 893,
   "metadata": {
    "collapsed": true
   },
   "outputs": [],
   "source": [
    "model_ = handin_model(data_handin)"
   ]
  },
  {
   "cell_type": "code",
   "execution_count": 894,
   "metadata": {
    "collapsed": false
   },
   "outputs": [
    {
     "name": "stdout",
     "output_type": "stream",
     "text": [
      " [-----------------100%-----------------] 5000 of 5000 complete in 243.3 sec"
     ]
    }
   ],
   "source": [
    "mcmc_handin = execute_model(model_)"
   ]
  },
  {
   "cell_type": "code",
   "execution_count": 883,
   "metadata": {
    "collapsed": false
   },
   "outputs": [
    {
     "name": "stdout",
     "output_type": "stream",
     "text": [
      " [-----------------100%-----------------] 5000 of 5000 complete in 240.9 sec"
     ]
    }
   ],
   "source": [
    "mcmc.sample(5000, burn=1000)\n",
    "mcmc_handin2 = execute_model(model_)"
   ]
  },
  {
   "cell_type": "code",
   "execution_count": 885,
   "metadata": {
    "collapsed": true
   },
   "outputs": [],
   "source": [
    "def grader_ids(assignment_id):\n",
    "    graders = set()\n",
    "    report_grades = db.report_grade.find({'assignment':assignment_id})\n",
    "    for report_grade in report_grades:\n",
    "        graders.add(report_grade['giver'])\n",
    "    return list(graders)"
   ]
  },
  {
   "cell_type": "code",
   "execution_count": 886,
   "metadata": {
    "collapsed": true
   },
   "outputs": [],
   "source": [
    "def grader_name(grader_id):\n",
    "    grader = db.user.find_one({'_id': grader_id})\n",
    "    return grader['name']"
   ]
  },
  {
   "cell_type": "code",
   "execution_count": 887,
   "metadata": {
    "collapsed": false
   },
   "outputs": [],
   "source": [
    "def find_bias(assignment_id,mcmc,f):\n",
    "    bias_abs = list()\n",
    "    for g in grader_ids(assignment_id):\n",
    "        try:     \n",
    "            bias_mean = f(mcmc.trace('B_%s' % str(g))[:])\n",
    "            name = str(g)\n",
    "            bias_abs.append((abs(bias_mean),name))\n",
    "        except:\n",
    "            print \"error\"\n",
    "            pass\n",
    "    return bias_abs"
   ]
  },
  {
   "cell_type": "markdown",
   "metadata": {},
   "source": [
    "The first option is to compare the mean of the bias by ranking all graders by from the least bias to the most by the mean value of their bias distribution from 0 between two sample runs"
   ]
  },
  {
   "cell_type": "code",
   "execution_count": 888,
   "metadata": {
    "collapsed": false
   },
   "outputs": [
    {
     "name": "stdout",
     "output_type": "stream",
     "text": [
      "error\n",
      "error\n",
      "error\n",
      "error\n",
      "error\n",
      "error\n"
     ]
    }
   ],
   "source": [
    "bias_abs_1 = find_bias(ObjectId(\"55f277cff3bd61000a2112d4\"), mcmc_handin, np.mean)\n",
    "bias_abs_2 = find_bias(ObjectId(\"55f277cff3bd61000a2112d4\"), mcmc_handin2, np.mean)\n",
    "bias_abs_1.sort()\n",
    "bias_abs_2.sort()"
   ]
  },
  {
   "cell_type": "code",
   "execution_count": 889,
   "metadata": {
    "collapsed": true
   },
   "outputs": [],
   "source": [
    "compared_12 = list()\n",
    "for idx, (value, _id) in enumerate(bias_abs_1):\n",
    "    for item in enumerate(bias_abs_2):\n",
    "        if item[1][1] == _id:\n",
    "            compared_12.append((_id ,idx, item[0]))"
   ]
  },
  {
   "cell_type": "code",
   "execution_count": 890,
   "metadata": {
    "collapsed": false
   },
   "outputs": [
    {
     "data": {
      "image/png": "[encoded data removed]",
      "text/plain": [
       "<matplotlib.figure.Figure at 0x130192990>"
      ]
     },
     "metadata": {},
     "output_type": "display_data"
    }
   ],
   "source": [
    "ax = plt.subplot(111)\n",
    "\n",
    "largest_diff = 0\n",
    "largest_diff_id = \"\"\n",
    "\n",
    "for idx, (_id, bias1,bias2) in enumerate(compared_12):\n",
    "    if bias1 > bias2:\n",
    "        plt.plot([idx,idx],[bias1,bias2], color='g')\n",
    "    else:\n",
    "        plt.plot([idx,idx],[bias1,bias2], color='r')\n",
    "    if abs(bias1-bias2) > largest_diff:\n",
    "        largest_diff = abs(bias1-bias2)\n",
    "        largest_diff_id = _id\n",
    "\n",
    "box = ax.get_position()\n",
    "ax.set_position([box.x0, box.y0,\n",
    "                 box.width * 3, box.height])\n",
    "    \n",
    "plt.show()"
   ]
  },
  {
   "cell_type": "markdown",
   "metadata": {},
   "source": [
    "We can see that the moel does not find the same solution. Some graders does have a mean bias very similair to the previous run and others have a very large change in their bias. "
   ]
  },
  {
   "cell_type": "markdown",
   "metadata": {},
   "source": [
    "The one with the most bias is:"
   ]
  },
  {
   "cell_type": "code",
   "execution_count": 853,
   "metadata": {
    "collapsed": false
   },
   "outputs": [
    {
     "data": {
      "text/plain": [
       "u'Christian Kolding-S\\xf8rensen'"
      ]
     },
     "execution_count": 853,
     "metadata": {},
     "output_type": "execute_result"
    }
   ],
   "source": [
    "grader_name(ObjectId(largest_diff_id))"
   ]
  },
  {
   "cell_type": "markdown",
   "metadata": {},
   "source": [
    "With a change in positions of:"
   ]
  },
  {
   "cell_type": "code",
   "execution_count": 854,
   "metadata": {
    "collapsed": false
   },
   "outputs": [
    {
     "data": {
      "text/plain": [
       "66"
      ]
     },
     "execution_count": 854,
     "metadata": {},
     "output_type": "execute_result"
    }
   ],
   "source": [
    "largest_diff"
   ]
  },
  {
   "cell_type": "markdown",
   "metadata": {},
   "source": [
    "Next we can do the same with the variance of the bias instead of t"
   ]
  },
  {
   "cell_type": "code",
   "execution_count": 855,
   "metadata": {
    "collapsed": false
   },
   "outputs": [
    {
     "name": "stdout",
     "output_type": "stream",
     "text": [
      "error\n",
      "error\n",
      "error\n",
      "error\n",
      "error\n",
      "error\n"
     ]
    }
   ],
   "source": [
    "bias_abs_1 = find_bias(ObjectId(\"55f277cff3bd61000a2112d4\"), mcmc_handin, np.var)\n",
    "bias_abs_2 = find_bias(ObjectId(\"55f277cff3bd61000a2112d4\"), mcmc_handin2, np.var)\n",
    "bias_abs_1.sort()\n",
    "bias_abs_2.sort()"
   ]
  },
  {
   "cell_type": "code",
   "execution_count": 856,
   "metadata": {
    "collapsed": true
   },
   "outputs": [],
   "source": [
    "compared_12 = list()\n",
    "for idx, (value, _id) in enumerate(bias_abs_1):\n",
    "    for item in enumerate(bias_abs_2):\n",
    "        if item[1][1] == _id:\n",
    "            compared_12.append((_id ,idx, item[0]))"
   ]
  },
  {
   "cell_type": "code",
   "execution_count": 857,
   "metadata": {
    "collapsed": false
   },
   "outputs": [
    {
     "data": {
      "image/png": "[encoded data removed]",
      "text/plain": [
       "<matplotlib.figure.Figure at 0x11a0bc690>"
      ]
     },
     "metadata": {},
     "output_type": "display_data"
    }
   ],
   "source": [
    "ax = plt.subplot(111)\n",
    "\n",
    "largest_diff = 0\n",
    "largest_diff_id = \"\"\n",
    "\n",
    "for idx, (_id, bias1,bias2) in enumerate(compared_12):\n",
    "    if bias1 > bias2:\n",
    "        plt.plot([idx,idx],[bias1,bias2], color='g')\n",
    "    else:\n",
    "        plt.plot([idx,idx],[bias1,bias2], color='r')\n",
    "    if abs(bias1-bias2) > largest_diff:\n",
    "        largest_diff = abs(bias1-bias2)\n",
    "        largest_diff_id = _id\n",
    "\n",
    "box = ax.get_position()\n",
    "ax.set_position([box.x0, box.y0,\n",
    "                 box.width * 3, box.height])\n",
    "    \n",
    "plt.show()"
   ]
  },
  {
   "cell_type": "markdown",
   "metadata": {},
   "source": [
    "The variance is much more fluxiating and can not be sure to be the same from different sample runs.\n",
    "Here the largest change from the sample is:"
   ]
  },
  {
   "cell_type": "code",
   "execution_count": 803,
   "metadata": {
    "collapsed": false
   },
   "outputs": [
    {
     "data": {
      "text/plain": [
       "u'Thomas Aagaard Kristensen'"
      ]
     },
     "execution_count": 803,
     "metadata": {},
     "output_type": "execute_result"
    }
   ],
   "source": [
    "grader_name(ObjectId(largest_diff_id))"
   ]
  },
  {
   "cell_type": "markdown",
   "metadata": {},
   "source": [
    "With a difference of:"
   ]
  },
  {
   "cell_type": "code",
   "execution_count": 804,
   "metadata": {
    "collapsed": false
   },
   "outputs": [
    {
     "data": {
      "text/plain": [
       "68"
      ]
     },
     "execution_count": 804,
     "metadata": {},
     "output_type": "execute_result"
    }
   ],
   "source": [
    "largest_diff"
   ]
  },
  {
   "cell_type": "markdown",
   "metadata": {},
   "source": [
    "We can next compare it with the found ranking of the mean of the graders with the ranking that Thomas Pedersen have found."
   ]
  },
  {
   "cell_type": "code",
   "execution_count": 805,
   "metadata": {
    "collapsed": true
   },
   "outputs": [],
   "source": [
    "weights = list()\n",
    "with open('Data/weight.txt') as f:\n",
    "    for line in f:\n",
    "        weights.append(line[:-1])"
   ]
  },
  {
   "cell_type": "code",
   "execution_count": 806,
   "metadata": {
    "collapsed": false
   },
   "outputs": [],
   "source": [
    "compared = list()\n",
    "for idx, (value, _id) in enumerate(bias_abs):\n",
    "    if _id in weights:\n",
    "        compared.append((_id ,idx, weights.index(_id)))"
   ]
  },
  {
   "cell_type": "code",
   "execution_count": 807,
   "metadata": {
    "collapsed": false
   },
   "outputs": [],
   "source": [
    "compared.sort(key=lambda x:abs(x[2]-x[1]))"
   ]
  },
  {
   "cell_type": "code",
   "execution_count": 808,
   "metadata": {
    "collapsed": false
   },
   "outputs": [
    {
     "data": {
      "image/png": "[encoded data removed]",
      "text/plain": [
       "<matplotlib.figure.Figure at 0x12a011d90>"
      ]
     },
     "metadata": {},
     "output_type": "display_data"
    }
   ],
   "source": [
    "ax = plt.subplot(111)\n",
    "\n",
    "dis_ten = 0\n",
    "dis_fifty = 0\n",
    "\n",
    "for idx, (_id, bias,weight) in enumerate(compared):\n",
    "    if bias > weight:\n",
    "        plt.plot([idx,idx],[bias,weight], color='r')\n",
    "    else:\n",
    "        plt.plot([idx,idx],[bias,weight], color='g')\n",
    "    if dis_ten == 0 and abs(bias-weight) >= 10:\n",
    "        dis_ten = idx\n",
    "        plt.vlines(idx, 0, 120, color=\"k\", linestyles=\"--\", lw=1)\n",
    "    if dis_fifty == 0 and abs(bias-weight) >= 50:\n",
    "        dis_fifty = idx\n",
    "        plt.vlines(idx, 0, 120, color=\"k\", linestyles=\"--\", lw=1)\n",
    "\n",
    "    \n",
    "box = ax.get_position()\n",
    "ax.set_position([box.x0, box.y0,\n",
    "                 box.width * 3, box.height])\n",
    "    \n",
    "plt.show()"
   ]
  },
  {
   "cell_type": "markdown",
   "metadata": {},
   "source": [
    "Here I have plotted the difference between the ranking I have found and the ranking Thomas Pedersen have found. The difference is defined by a line where the y axis defines the ranking where 0 is best and 121 is the worst ranked.\n",
    "A green line indicates that Thomas have granted the grader a larger ranking than I and red is the opposite\n",
    "The x axis defines the graders, and is sorted after the graders with the least difference in ranking.\n",
    "\n",
    "It is clear that there are no corroloation, but this is somewhat to be expected as Thomas Pedersen find his through completely other means. Additionally his is based on the entire course \"Computational tools for big data\" where mine is only on one assignment"
   ]
  },
  {
   "cell_type": "markdown",
   "metadata": {},
   "source": [
    "## Full scale data"
   ]
  },
  {
   "cell_type": "markdown",
   "metadata": {},
   "source": [
    "Next i use the same model, but this time on the handins of an entire course instead of a single assignment."
   ]
  },
  {
   "cell_type": "markdown",
   "metadata": {},
   "source": [
    "### Fetching data"
   ]
  },
  {
   "cell_type": "code",
   "execution_count": 594,
   "metadata": {
    "collapsed": true
   },
   "outputs": [],
   "source": [
    "def course_handins(course_id):\n",
    "    handins = list()\n",
    "    assignments = db.assignment.find({'course':course_id})\n",
    "    for assignment in assignments:\n",
    "        handins.extend(assignment_handins(assignment['_id']))\n",
    "    return handins"
   ]
  },
  {
   "cell_type": "markdown",
   "metadata": {},
   "source": [
    "### Model"
   ]
  },
  {
   "cell_type": "markdown",
   "metadata": {},
   "source": [
    "We can use the same model as before"
   ]
  },
  {
   "cell_type": "code",
   "execution_count": 595,
   "metadata": {
    "collapsed": false
   },
   "outputs": [],
   "source": [
    "data_course = course_handins(ObjectId(\"55d9cb9ea6fb8f00080da4a1\"))"
   ]
  },
  {
   "cell_type": "code",
   "execution_count": 625,
   "metadata": {
    "collapsed": false
   },
   "outputs": [
    {
     "name": "stdout",
     "output_type": "stream",
     "text": [
      " [-----------------100%-----------------] 15000 of 15000 complete in 2126.1 sec"
     ]
    }
   ],
   "source": [
    "mcmc_course = handin_model(data_course)"
   ]
  },
  {
   "cell_type": "markdown",
   "metadata": {},
   "source": [
    "We can comapre the found bias as before with the found value of Thomas's findings"
   ]
  },
  {
   "cell_type": "code",
   "execution_count": 818,
   "metadata": {
    "collapsed": false
   },
   "outputs": [
    {
     "name": "stdout",
     "output_type": "stream",
     "text": [
      "error\n",
      "error\n"
     ]
    }
   ],
   "source": [
    "bias_abs_c = find_bias(ObjectId(\"55f277cff3bd61000a2112d4\"), mcmc_course, np.mean)\n",
    "bias_abs_c.sort()"
   ]
  },
  {
   "cell_type": "code",
   "execution_count": 819,
   "metadata": {
    "collapsed": false
   },
   "outputs": [
    {
     "data": {
      "text/plain": [
       "114"
      ]
     },
     "execution_count": 819,
     "metadata": {},
     "output_type": "execute_result"
    }
   ],
   "source": [
    "len(bias_abs_c)"
   ]
  },
  {
   "cell_type": "code",
   "execution_count": 820,
   "metadata": {
    "collapsed": true
   },
   "outputs": [],
   "source": [
    "weights = list()\n",
    "with open('Data/weight.txt') as f:\n",
    "    for line in f:\n",
    "        weights.append(line[:-1])"
   ]
  },
  {
   "cell_type": "code",
   "execution_count": 821,
   "metadata": {
    "collapsed": true
   },
   "outputs": [],
   "source": [
    "compared_c = list()\n",
    "for idx, (value, _id) in enumerate(bias_abs_c):\n",
    "    if _id in weights:\n",
    "        compared_c.append((_id ,idx, weights.index(_id)))"
   ]
  },
  {
   "cell_type": "code",
   "execution_count": 822,
   "metadata": {
    "collapsed": true
   },
   "outputs": [],
   "source": [
    "compared_c.sort(key=lambda x:abs(x[2]-x[1]))"
   ]
  },
  {
   "cell_type": "code",
   "execution_count": 823,
   "metadata": {
    "collapsed": false
   },
   "outputs": [
    {
     "data": {
      "text/plain": [
       "113"
      ]
     },
     "execution_count": 823,
     "metadata": {},
     "output_type": "execute_result"
    }
   ],
   "source": [
    "len(compared_c)"
   ]
  },
  {
   "cell_type": "code",
   "execution_count": 824,
   "metadata": {
    "collapsed": false
   },
   "outputs": [
    {
     "data": {
      "image/png": "[encoded data removed]",
      "text/plain": [
       "<matplotlib.figure.Figure at 0x12973a390>"
      ]
     },
     "metadata": {},
     "output_type": "display_data"
    }
   ],
   "source": [
    "ax = plt.subplot(111)\n",
    "\n",
    "dis_ten = 0\n",
    "dis_fifty = 0\n",
    "\n",
    "for idx, (_id, bias,weight) in enumerate(compared_c):\n",
    "    if bias > weight:\n",
    "        plt.plot([idx,idx],[bias,weight], color='r')\n",
    "    else:\n",
    "        plt.plot([idx,idx],[bias,weight], color='g')\n",
    "    if dis_ten == 0 and abs(bias-weight) >= 10:\n",
    "        dis_ten = idx\n",
    "        plt.vlines(idx, 0, 120, color=\"k\", linestyles=\"--\", lw=1)\n",
    "    if dis_fifty == 0 and abs(bias-weight) >= 50:\n",
    "        dis_fifty = idx\n",
    "        plt.vlines(idx, 0, 120, color=\"k\", linestyles=\"--\", lw=1)\n",
    "\n",
    "box = ax.get_position()\n",
    "ax.set_position([box.x0, box.y0,\n",
    "                 box.width * 3, box.height])\n",
    "    \n",
    "plt.show()"
   ]
  },
  {
   "cell_type": "markdown",
   "metadata": {},
   "source": [
    "We can also compare the found bias with the ones found in the model for only a single assignment and see if more assignments have changed the ranking of the students"
   ]
  },
  {
   "cell_type": "code",
   "execution_count": 825,
   "metadata": {
    "collapsed": false
   },
   "outputs": [],
   "source": [
    "compared_cn = list()\n",
    "for idx, (value, _id) in enumerate(bias_abs_1):\n",
    "    for item in enumerate(bias_abs_c):\n",
    "        if item[1][1] == _id:\n",
    "            compared_cn.append((_id ,idx, item[0]))"
   ]
  },
  {
   "cell_type": "code",
   "execution_count": 827,
   "metadata": {
    "collapsed": false
   },
   "outputs": [
    {
     "data": {
      "image/png": "[encoded data removed]",
      "text/plain": [
       "<matplotlib.figure.Figure at 0x12af0ae10>"
      ]
     },
     "metadata": {},
     "output_type": "display_data"
    }
   ],
   "source": [
    "ax = plt.subplot(111)\n",
    "\n",
    "dis_ten = 0\n",
    "dis_fifty = 0\n",
    "\n",
    "for idx, (_id, bias,weight) in enumerate(compared_cn):\n",
    "    if bias > weight:\n",
    "        plt.plot([idx,idx],[bias,weight], color='g')\n",
    "    else:\n",
    "        plt.plot([idx,idx],[bias,weight], color='r')\n",
    "\n",
    "box = ax.get_position()\n",
    "ax.set_position([box.x0, box.y0,\n",
    "                 box.width * 3, box.height])\n",
    "    \n",
    "plt.show()"
   ]
  },
  {
   "cell_type": "markdown",
   "metadata": {},
   "source": [
    "Form the plot we can see that there are large changes to the mean as soon as more assignments were added to the model."
   ]
  },
  {
   "cell_type": "code",
   "execution_count": null,
   "metadata": {
    "collapsed": true
   },
   "outputs": [],
   "source": []
  }
 ],
 "metadata": {
  "kernelspec": {
   "display_name": "Python 2",
   "language": "python",
   "name": "python2"
  },
  "language_info": {
   "codemirror_mode": {
    "name": "ipython",
    "version": 2
   },
   "file_extension": ".py",
   "mimetype": "text/x-python",
   "name": "python",
   "nbconvert_exporter": "python",
   "pygments_lexer": "ipython2",
   "version": "2.7.10"
  }
 },
 "nbformat": 4,
 "nbformat_minor": 0
}
