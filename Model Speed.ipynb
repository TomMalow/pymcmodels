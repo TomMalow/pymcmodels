{
 "cells": [
  {
   "cell_type": "code",
   "execution_count": 1,
   "metadata": {
    "collapsed": false
   },
   "outputs": [
    {
     "name": "stdout",
     "output_type": "stream",
     "text": [
      "SERVER_NAME: localhost:5000\n"
     ]
    }
   ],
   "source": [
    "%matplotlib inline\n",
    "from IPython.core.pylabtools import figsize\n",
    "figsize(7,5)\n",
    "# Add the application folder to the path\n",
    "import sys\n",
    "sys.path.insert(0,'../Peergrade/peergrade/')\n",
    "import time\n",
    "import math\n",
    "from application.model import data_model\n",
    "from matplotlib.backends.backend_pdf import PdfPages\n",
    "from collections import defaultdict\n",
    "import numpy as np\n",
    "from bson.objectid import ObjectId\n",
    "from matplotlib import pyplot as plt\n",
    "from scipy.stats.stats import pearsonr\n",
    "from scipy.stats import norm"
   ]
  },
  {
   "cell_type": "code",
   "execution_count": 271,
   "metadata": {
    "collapsed": true
   },
   "outputs": [],
   "source": [
    "fig_store = \"../MasterThesis/Thesis/figures/ModelsOfPeer/\""
   ]
  },
  {
   "cell_type": "code",
   "execution_count": 272,
   "metadata": {
    "collapsed": true
   },
   "outputs": [],
   "source": [
    "def tau_std(value):\n",
    "    return np.sqrt(1.0 / value)"
   ]
  },
  {
   "cell_type": "code",
   "execution_count": 850,
   "metadata": {
    "collapsed": false
   },
   "outputs": [
    {
     "data": {
      "text/plain": [
       "29.17804081243677"
      ]
     },
     "execution_count": 850,
     "metadata": {},
     "output_type": "execute_result"
    }
   ],
   "source": [
    "np.random.gamma(25,1.0/ 0.1)"
   ]
  },
  {
   "cell_type": "code",
   "execution_count": 921,
   "metadata": {
    "collapsed": false
   },
   "outputs": [
    {
     "data": {
      "text/plain": [
       "0.4775236902967053"
      ]
     },
     "execution_count": 921,
     "metadata": {},
     "output_type": "execute_result"
    }
   ],
   "source": [
    "np.random.normal(0.5,tau_std(np.random.gamma(25,1.0/ 0.1)))"
   ]
  },
  {
   "cell_type": "code",
   "execution_count": null,
   "metadata": {
    "collapsed": true
   },
   "outputs": [],
   "source": []
  },
  {
   "cell_type": "code",
   "execution_count": 965,
   "metadata": {
    "collapsed": false
   },
   "outputs": [],
   "source": [
    "class Grader_(object):\n",
    "    def __init__(self, id):\n",
    "        self.id = id\n",
    "        self.handins = list()\n",
    "    def set_bias(self, mean, precision):\n",
    "        self.mean = mean\n",
    "        self.precision = precision\n",
    "    \n",
    "    def get_bias(self):\n",
    "        return np.random.normal(self.mean,tau_std(self.precision))\n",
    "        \n",
    "    def add_handin(self, handin):\n",
    "        self.handins.append(handin)\n",
    "\n",
    "    def grade_handins(self,questions,n_v):\n",
    "        for handin in self.handins:\n",
    "            for question in questions.itervalues():\n",
    "                handin.add_mock_gradeing(question,self,n_v)\n",
    "                \n",
    "class Question_(object):\n",
    "    def __init__(self,id):\n",
    "        self.id = id\n",
    "                \n",
    "class Answers_(object):\n",
    "    def __init__(self,handin,question):\n",
    "        self.handin = handin\n",
    "        self.question = question\n",
    "        self.answers = dict()\n",
    "    \n",
    "    def set_mock_value(self,mean,precision):\n",
    "        self.mean = mean\n",
    "        self.precision = precision\n",
    "        \n",
    "    def set_mock_score(self,grader,score):\n",
    "        self.answer[str(question)] = score\n",
    "\n",
    "    def get_score(self):\n",
    "        return self.mean\n",
    "\n",
    "class Handin_(object):\n",
    "    def __init__(self,id,owner):\n",
    "        self.id = id\n",
    "        self.owner = owner\n",
    "        self.gradeings = dict()\n",
    "        self.graders = list()\n",
    "        self.catched_score = dict()\n",
    "        self.precision = np.random.gamma(10,1.0/ 0.1)\n",
    "        while 1:\n",
    "            h_mu = np.random.normal(0.5,tau_std(np.random.gamma(2,1.0/ 0.1)))\n",
    "            if h_mu < 1.0 and h_mu > 0.0:\n",
    "                break\n",
    "        self.mean = h_mu\n",
    "            \n",
    "    def set_answers_scores(self):\n",
    "        for gradeings in self.gradeings.itervalues():\n",
    "            while 1:\n",
    "                h_mu = np.random.normal(self.mean,tau_std(20.0))\n",
    "                if h_mu < 1.0 and h_mu > 0.0:\n",
    "                    break\n",
    "            answer.set_mock_score(h_mu,np.random.gamma(1,1.0/ 0.1))\n",
    "            \n",
    "    def add_grader(self,grader):\n",
    "        self.graders.append(grader)\n",
    "        \n",
    "    def add_answer(self,grader,question,value):\n",
    "        if str(question.id) not in self.gradeings:\n",
    "            self.gradeings[str(question.id)] = Answers_(self,grader)\n",
    "        self.gradeings[str(question.id)].answers[str(grader.id)] = value\n",
    "        \n",
    "    def get_graders_answers(self):\n",
    "        graders_answers = defaultdict(list)\n",
    "        for q, answer in self.gradeings.iteritems():\n",
    "            for g, value in answer.answers.iteritems():\n",
    "                graders_answers[str(g)].append((str(q),value))\n",
    "            \n",
    "        return graders_answers\n",
    "        \n",
    "    def get_grader_answers(self,grader):\n",
    "        grader_answers = list()\n",
    "        for key, answer in self.gradeings.iteritems():\n",
    "            grader_answers.append((key,answer.answers[grader]))\n",
    "        return grader_answers\n",
    "    \n",
    "    def get_handin_score(self,g):\n",
    "        if g not in self.catched_score:\n",
    "            grader_g = list()\n",
    "            for answers in self.gradeings.itervalues():\n",
    "                if g not in  answers.answers:\n",
    "                    return None\n",
    "                grader_g.append(answers.answers[g])\n",
    "            self.catched_score[g] = np.mean(grader_g)\n",
    "        \n",
    "        return self.catched_score[g]\n",
    "    \n",
    "    def add_mock_gradeing(self,question,grader,n_v):\n",
    "        if question.id not in self.gradeings:\n",
    "            a = Answers_(self,question)\n",
    "            while 1:\n",
    "                a_mu = np.random.normal(self.mean,tau_std(self.precision))\n",
    "                if a_mu < 1.0 and a_mu > 0.0:\n",
    "                    break\n",
    "            a.set_mock_value(a_mu,np.random.gamma(100,1.0/ 0.1))\n",
    "            self.gradeings[str(question.id)] = a\n",
    "        a = self.gradeings[str(question.id)]\n",
    "        while 1:\n",
    "            mock_value = np.random.normal(a.get_score()+grader.get_bias(),tau_std(n_v))\n",
    "#            if mock_value < 1.0 and mock_value > 0.0:\n",
    "            break\n",
    "        a.answers[str(grader.id)] = mock_value\n",
    "\n",
    "class Assignment_(object):\n",
    "    \n",
    "    def __init__(self, handins_input, graders_input, questions_input, n_gradings):\n",
    "        self.graders = dict()\n",
    "        self.handins = dict()\n",
    "        self.questions = dict()\n",
    "        self.n_gradings = n_gradings\n",
    "        for handin in handins_input:\n",
    "            self.handins[str(handin.id)] = handin\n",
    "        for grader in graders_input:\n",
    "            self.graders[str(grader.id)] = grader\n",
    "        for question in questions_input:\n",
    "            self.questions[str(question.id)] = question\n",
    "\n",
    "    def add_handin(self, handin):\n",
    "        self.handing[str(handin.id)] = handin\n",
    "        \n",
    "    def add_grader(self, grader):\n",
    "        self.graders[str(grader.id)] = grader\n",
    "    \n",
    "    def set_questions(self, questions):\n",
    "        self.questions = list(questions)\n",
    "        \n",
    "    def grade_mock_handins(self,n_gradings,n_v):\n",
    "        self.n_gradings = n_gradings\n",
    "        # Distribute handins\n",
    "        for i in xrange(0,n_gradings):\n",
    "            for grader in self.graders.itervalues():\n",
    "                h = self.find_ungraded_handin(grader)\n",
    "                h.add_grader(grader)\n",
    "                grader.add_handin(h)\n",
    "        \n",
    "        # grade handins\n",
    "        for grader in self.graders.itervalues():\n",
    "            grader.grade_handins(self.questions,n_v)\n",
    "            \n",
    "    def find_ungraded_handin(self, grader):\n",
    "        \n",
    "        # sort the handins by the one with the least\n",
    "        sorted_l = sorted(self.handins.values(),key=lambda x: len(x.graders))\n",
    "        #i = int(random.uniform(0,len(sorted_l)))\n",
    "        i = 0\n",
    "        handin = sorted_l[i]\n",
    "        while handin in grader.handins or (handin.owner.id == grader.id):\n",
    "        #while(handin.owner.name == grader.name):\n",
    "            i += 1\n",
    "            #i = int(random.uniform(0,len(sorted_l)))\n",
    "            handin = sorted_l[i]\n",
    "        return handin\n"
   ]
  },
  {
   "cell_type": "code",
   "execution_count": 966,
   "metadata": {
    "collapsed": true
   },
   "outputs": [],
   "source": [
    "def user_name(user_id):\n",
    "    user = data_model.User.objects.get(id=user_id)\n",
    "    return user.name\n",
    "\n",
    "def user_id(user_name):\n",
    "    for user in data_model.User.objects(name=user_name):\n",
    "        return user.id\n",
    "\n",
    "def question_text(q_id):\n",
    "    user = data_model.Question.objects.get(id=ObjectId(q_id))\n",
    "    return user.text\n",
    "\n",
    "def question_max_value(question):\n",
    "    if question.question_type == \"boolean\":\n",
    "        return 1\n",
    "    elif question.question_type == \"numerical\":\n",
    "        if question.numericalAnswers:\n",
    "            return max(map(int,question.numericalAnswers.keys()))\n",
    "        else:\n",
    "            return 1\n",
    "\n",
    "def answer_value(answer):\n",
    "    if answer.numerical_answer != None:\n",
    "        return answer.numerical_answer / float(question_max_value(answer.question))\n",
    "    if answer.boolean_answer != None:\n",
    "        return answer.boolean_answer / float(question_max_value(answer.question))\n",
    "\n",
    "def answeres_handin(report_grade):\n",
    "    '''Returns a list of tuples containing the answer and the value of the question'''\n",
    "    answers = data_model.Answer.objects(report_grade=report_grade)\n",
    "    result = list()\n",
    "    for answer in answers:\n",
    "        if answer.numerical_answer != None or answer.boolean_answer != None:\n",
    "            result.append((answer,answer_value(answer)))\n",
    "    return result"
   ]
  },
  {
   "cell_type": "code",
   "execution_count": 967,
   "metadata": {
    "collapsed": false
   },
   "outputs": [],
   "source": [
    "handins_data = list()\n",
    "graders_data = list()\n",
    "questions_data = list()\n",
    "answers_data = list()\n",
    "\n",
    "graders = 100\n",
    "questions = 20\n",
    "gradings = 5\n",
    "\n",
    "for i in xrange(questions):\n",
    "    q = Question_('question_%i' % i)\n",
    "    questions_data.append(q)\n",
    "\n",
    "for i in xrange(graders):\n",
    "    g = Grader_('grader_%i' % i)\n",
    "    g.set_bias(np.random.normal(0,tau_std(100)),np.random.gamma(50,1.0 / 0.1))\n",
    "    h = Handin_('handin_%i' % i, g)\n",
    "    h.set_answers_scores()\n",
    "    graders_data.append(g)\n",
    "    handins_data.append(h)\n",
    "    \n",
    "mock_data = Assignment_(handins_data,graders_data,questions_data,graders*gradings)\n",
    "mock_data.grade_mock_handins(gradings,np.random.gamma(50,1.0 / 0.1))"
   ]
  },
  {
   "cell_type": "code",
   "execution_count": 968,
   "metadata": {
    "collapsed": false
   },
   "outputs": [
    {
     "data": {
      "image/png": "[encoded data removed]",
      "text/plain": [
       "<matplotlib.figure.Figure at 0x111de0450>"
      ]
     },
     "metadata": {},
     "output_type": "display_data"
    }
   ],
   "source": [
    "figsize(7,2)\n",
    "plt.hist([x.mean for x in mock_data.graders.values()],bins=25)\n",
    "plt.show()"
   ]
  },
  {
   "cell_type": "code",
   "execution_count": 969,
   "metadata": {
    "collapsed": false
   },
   "outputs": [
    {
     "data": {
      "image/png": "[encoded data removed]",
      "text/plain": [
       "<matplotlib.figure.Figure at 0x121231550>"
      ]
     },
     "metadata": {},
     "output_type": "display_data"
    }
   ],
   "source": [
    "figsize(7,2)\n",
    "plt.hist([x.mean for x in mock_data.handins.values()],bins=30)\n",
    "plt.show()"
   ]
  },
  {
   "cell_type": "code",
   "execution_count": 970,
   "metadata": {
    "collapsed": false
   },
   "outputs": [
    {
     "data": {
      "image/png": "[encoded data removed]",
      "text/plain": [
       "<matplotlib.figure.Figure at 0x115eb2a10>"
      ]
     },
     "metadata": {},
     "output_type": "display_data"
    }
   ],
   "source": [
    "figsize(7,2)\n",
    "q_scores = list()\n",
    "for handin in mock_data.handins.itervalues():\n",
    "    for answer in handin.gradeings.itervalues():\n",
    "        q_scores.append(answer.mean)\n",
    "plt.hist(q_scores,bins=50)\n",
    "plt.show()"
   ]
  },
  {
   "cell_type": "code",
   "execution_count": 971,
   "metadata": {
    "collapsed": false
   },
   "outputs": [
    {
     "data": {
      "image/png": "[encoded data removed]",
      "text/plain": [
       "<matplotlib.figure.Figure at 0x12180f890>"
      ]
     },
     "metadata": {},
     "output_type": "display_data"
    }
   ],
   "source": [
    "figsize(7,2)\n",
    "q_scores = list()\n",
    "for handin in mock_data.handins.itervalues():\n",
    "    for answer in handin.gradeings.itervalues():\n",
    "        q_scores.extend(answer.answers.values())\n",
    "plt.hist(q_scores,bins=50)\n",
    "plt.show()"
   ]
  },
  {
   "cell_type": "code",
   "execution_count": 779,
   "metadata": {
    "collapsed": true
   },
   "outputs": [],
   "source": [
    "def norm_log_pdf(x,u,t):\n",
    "    return -0.5*t*(x-u)**2+np.log(t)-np.log(np.sqrt(2.0*math.pi))\n",
    "\n",
    "def gamma_log_pdf(x,a,b):\n",
    "    return a*np.log(b)-np.log(math.gamma(a))+(a-1.0)*np.log(x)-b*x\n",
    "\n",
    "def norm_gamma_log_pdf(u,t,ga,la,a,b):\n",
    "    return a*np.log(b)+np.log(np.sqrt(la))-np.log(math.gamma(a))-np.log(np.sqrt(2.0*math.pi))+(a-1)*np.log(t)-np.log(b*t)-0.5*t*la*(u-ga)**2"
   ]
  },
  {
   "cell_type": "code",
   "execution_count": 780,
   "metadata": {
    "collapsed": false
   },
   "outputs": [],
   "source": [
    "def MH_model(data,samples,burn_in=0):\n",
    "\n",
    "    # Counts\n",
    "    N_H = len(data.handins) # Number of handins\n",
    "    N_G = len(data.graders) # Number of graders\n",
    "    N_g = data.n_gradings   # Number of gradings\n",
    "    N_eval = N_g*N_G   # Number of evaluations in total\n",
    "    \n",
    "    # Hyperparameters\n",
    "    ga_h = 0.5\n",
    "    la_h = 1.0\n",
    "    al_h = 10.0\n",
    "    be_h = 0.1\n",
    "\n",
    "    ga_g = 0.0\n",
    "    la_g = 1.0\n",
    "    al_g = 50.0\n",
    "    be_g = 0.1\n",
    "    \n",
    "    al_e = 10.0\n",
    "    be_e = 1.0\n",
    "    t_h = 500.0\n",
    "    t_g = 100.0\n",
    "    \n",
    "    # Prior parameters\n",
    "    u_h = dict()\n",
    "    t_h = dict()\n",
    "    u_g = dict()\n",
    "    t_g = dict()\n",
    "    \n",
    "    log_h = dict()\n",
    "    log_g = dict()\n",
    "\n",
    "    def prop_u_t_h(handin,u_h,t_h):\n",
    "        sum_ = 0.0\n",
    "        for g in handin.graders:\n",
    "            val = handin.get_handin_score(g.id)\n",
    "            if val <> None:\n",
    "                sum_ = sum_ + norm_log_pdf(val,u_g[g.id]+u_h,t_g[g.id]+t_h)\n",
    "        return sum_ + norm_gamma_log_pdf(u_h,t_h,ga_h,la_h,al_h,be_h)\n",
    "    \n",
    "    def prop_u_t_g(grader,g,u_g,t_g):\n",
    "        sum_ = 0.0\n",
    "        for h in grader.handins:\n",
    "            val = h.get_handin_score(g)\n",
    "            if val <> None:\n",
    "                sum_ = sum_ + norm_log_pdf(val,u_g+u_h[h.id],t_g+t_h[h.id])\n",
    "        return sum_ + norm_gamma_log_pdf(u_g,t_g,ga_g,la_g,al_g,be_g)\n",
    "\n",
    "    \n",
    "    # Draw from priors\n",
    "    for h in data.handins.iterkeys():\n",
    "        t_h[h] = np.random.gamma(al_h,1/be_h)\n",
    "        u_h[h] = np.random.normal(ga_h,np.sqrt(1/(la_g * t_h[h])))\n",
    "    for g in data.graders.iterkeys():\n",
    "        t_g[g] = np.random.gamma(al_g,1/be_g)\n",
    "        u_g[g] = np.random.normal(ga_g,np.sqrt(1/(la_g * t_g[g]))) \n",
    "    # pre calcuate the liklyhood\n",
    "    for h, handin in data.handins.iteritems():\n",
    "        log_h[h] = prop_u_t_h(handin,u_h[h],t_h[h])\n",
    "    for g, grader in data.graders.iteritems():\n",
    "        log_g[g] = prop_u_t_g(grader,g,u_g[g],t_g[g])\n",
    "            \n",
    "    # Tracers initialising\n",
    "    trace_u_h = defaultdict(list)\n",
    "    trace_t_h = defaultdict(list)\n",
    "    trace_u_g = defaultdict(list)\n",
    "    trace_t_g = defaultdict(list)\n",
    "    \n",
    "    tw = time.time()\n",
    "    for r in range(burn_in + samples):\n",
    "        print \"\\r%i\" % (r+1) + \" out of %i\" % (burn_in + samples),\n",
    "        \n",
    "        # Sample u_h and t_h\n",
    "        for h, handin in data.handins.iteritems():\n",
    "            # Propose new candidates\n",
    "            u_h_c = np.random.normal(u_h[h],0.1)\n",
    "            t_h_c = np.random.normal(t_h[h],0.1)\n",
    "            #draw from gamma\n",
    "            p_ = prop_u_t_h(handin,u_h_c,t_h_c)\n",
    "            alpha = min(1,p_-log_h[h])\n",
    "            if np.log(np.random.random()) <= alpha:\n",
    "                u_h[h] = u_h_c\n",
    "                t_h[h] = t_h_c\n",
    "                log_h[h] = p_\n",
    "                    \n",
    "        # Sample u_g and t_g\n",
    "        for g, grader in data.graders.iteritems():\n",
    "            # Propose new candidates\n",
    "            u_g_c = np.random.normal(u_g[g],0.1)\n",
    "            t_g_c = np.random.normal(t_g[g],0.1)\n",
    "            #draw from gamma\n",
    "            p_ = prop_u_t_g(grader,g,u_g_c,t_g_c)\n",
    "            alpha = min(1,p_-log_g[g])\n",
    "            if np.log(np.random.random()) <= alpha:\n",
    "                u_g[g] = u_g_c\n",
    "                t_g[g] = t_g_c    \n",
    "                log_g[g] = p_\n",
    "\n",
    "        # Collect tracings\n",
    "        if r > burn_in:\n",
    "            for h in data.handins.iterkeys():\n",
    "                trace_u_h[h].append(u_h[h])\n",
    "                trace_t_h[h].append(t_h[h])\n",
    "            for g in data.graders.iterkeys():\n",
    "                trace_u_g[g].append(u_g[g])\n",
    "                trace_t_g[g].append(t_g[g])\n",
    "                \n",
    "    print\n",
    "    print \"Wall time: %f\" % (time.time() - tw)\n",
    "    \n",
    "    \n",
    "    traces = {'u_h' : trace_u_h,\n",
    "              't_h' : trace_t_h,\n",
    "              'u_g' : trace_u_g,\n",
    "              't_g' : trace_t_g}\n",
    "\n",
    "    return traces"
   ]
  },
  {
   "cell_type": "code",
   "execution_count": 781,
   "metadata": {
    "collapsed": false
   },
   "outputs": [],
   "source": [
    "def gibbs_model(data, samples, burn_in=0):\n",
    "    \n",
    "    # Counts\n",
    "    N_H = len(data.handins) # Number of handins\n",
    "    N_G = len(data.graders) # Number of graders\n",
    "    N_Q = len(data.questions) # Number of graders\n",
    "    N_g = data.n_gradings   # Number of gradings\n",
    "    N_eval = N_g*N_G   # Number of evaluations in total\n",
    "    \n",
    "    # Hyperparameters\n",
    "    ga_h = 0.5\n",
    "    la_h = 1.0\n",
    "    al_h = 10.0\n",
    "    be_h = 0.1\n",
    "\n",
    "    ga_g = 0.0\n",
    "    la_g = 1.0\n",
    "    al_g = 50.0\n",
    "    be_g = 0.1\n",
    "    \n",
    "    al_n = 10.0\n",
    "    be_n = 1.0\n",
    "    \n",
    "\n",
    "    # Gibbs sampling #    \n",
    "    # Tracers initialising\n",
    "    acc_e = list()\n",
    "    acc_u_h = defaultdict(list)\n",
    "    acc_t_h = defaultdict(list)\n",
    "    acc_u_g = defaultdict(list)\n",
    "    acc_t_g = defaultdict(list)\n",
    "    acc_T = defaultdict(list)\n",
    "    acc_B = defaultdict(list)\n",
    "\n",
    "    \n",
    "    # Prior parameters\n",
    "    u_h = dict()\n",
    "    t_h = dict()\n",
    "    u_g = dict()\n",
    "    t_g = dict()\n",
    "    T = dict()\n",
    "    B = dict()\n",
    "\n",
    "    # Draw from priors\n",
    "    n_v = np.random.gamma(al_n,1.0/be_n)\n",
    "    for h in data.handins.iterkeys():\n",
    "        t_h[h] = np.random.gamma(al_h,1.0/be_h)\n",
    "        u_h[h] = np.random.normal(ga_h,np.sqrt(1.0/(la_h * t_h[h])))\n",
    "        T[h] = np.random.normal(u_h[h],np.sqrt(1.0/t_h[h]))\n",
    "    for g in data.graders.iterkeys():\n",
    "        t_g[g] = np.random.gamma(al_g,1.0/be_g)\n",
    "        u_g[g] = np.random.normal(ga_g,np.sqrt(1.0/(la_g * t_g[g])))\n",
    "        B[g] = np.random.normal(u_g[g],np.sqrt(1.0/t_g[g]))\n",
    "            \n",
    "    # Gibbs sampling #\n",
    "    \n",
    "    # Tracers initialising\n",
    "    acc_n_v = list()\n",
    "    acc_u_h = defaultdict(list)\n",
    "    acc_t_h = defaultdict(list)\n",
    "    acc_u_g = defaultdict(list)\n",
    "    acc_t_g = defaultdict(list)\n",
    "    acc_T = defaultdict(list)\n",
    "    acc_B = defaultdict(list)\n",
    "\n",
    "    tw = time.time()\n",
    "    for r in range(burn_in + samples):\n",
    "        print \"\\r%i\" % (r+1) + \" out of %i\" % (burn_in + samples),\n",
    "        \n",
    "        # Sample T\n",
    "        for h, handin in data.handins.iteritems():\n",
    "            n_gradings = len(handin.graders)\n",
    "            sum_ = 0.0\n",
    "            for g in handin.graders:\n",
    "                sum_ = sum_ + handin.get_handin_score(g.id) - B[g.id]\n",
    "            v = n_v*n_gradings+t_h[h]\n",
    "            T[h] = np.random.normal((u_h[h]*t_h[h]+n_v*sum_)/v,np.sqrt(1.0/v))\n",
    "\n",
    "        # Sample B\n",
    "        for g, grader in data.graders.iteritems():\n",
    "            n_gradings = len(grader.handins)\n",
    "            sum_ = 0.0\n",
    "            for h in grader.handins:\n",
    "                sum_ = sum_ + h.get_handin_score(g) - T[h.id]\n",
    "            v = n_v*n_gradings+t_g[g]\n",
    "            B[g] = np.random.normal((u_g[g]*t_g[g]+n_v*sum_)/v,np.sqrt(1.0/v))\n",
    "\n",
    "        # Sample e\n",
    "        sum_ = 0.0\n",
    "        n_eval = 0\n",
    "        for h, handin in data.handins.iteritems():\n",
    "            for grader in handin.graders:\n",
    "                n_eval = n_eval + 1\n",
    "                sum_ = sum_ + np.square(handin.get_handin_score(grader.id) - (T[h]+B[grader.id]))\n",
    "        n_v = np.random.gamma(al_n+0.5*n_eval,1.0 / (be_n+0.5*sum_))\n",
    "\n",
    "        # Sample u_h and t_h\n",
    "        for h in data.handins.iterkeys():\n",
    "            la_ = (la_h+1.0)\n",
    "            al_ = al_h+0.5\n",
    "            be_ = be_h+0.5*((la_h*np.square(T[h]-ga_h))/la_)\n",
    "            t_h[h] = np.random.gamma(al_,1.0/be_)\n",
    "            u_h[h] = np.random.normal((la_h*ga_h+T[h])/la_,np.sqrt(1.0 / (la_*t_h[h])))\n",
    "\n",
    "        \n",
    "        # Sample u_g and t_g\n",
    "        for g in data.graders.iterkeys():\n",
    "            la_ = (la_g+1.0)\n",
    "            al_ = al_g+0.5\n",
    "            be_ = be_g+0.5*((la_g*np.square(B[g]-ga_g))/la_)\n",
    "            t_g[g] = np.random.gamma(al_,1.0/be_)\n",
    "            u_g[g] = np.random.normal((la_g*ga_g+B[g])/la_,np.sqrt(1.0 / (la_*t_g[g])))\n",
    "                        \n",
    "        # Collect tracings\n",
    "        if r > burn_in:\n",
    "            acc_n_v.append(n_v)\n",
    "            for h in data.handins.iterkeys():\n",
    "                acc_u_h[h].append(u_h[h])\n",
    "                acc_t_h[h].append(t_h[h])\n",
    "                acc_T[h].append(T[h])\n",
    "            for g in data.graders.iterkeys():\n",
    "                acc_u_g[g].append(u_g[g])\n",
    "                acc_t_g[g].append(t_g[g]) \n",
    "                acc_B[g].append(B[g])\n",
    "                    \n",
    "    print\n",
    "    print \"Wall time: %f\" % (time.time() - tw)\n",
    "    \n",
    "    traces = {'n_v' : acc_n_v,\n",
    "              'u_h' : acc_u_h,\n",
    "              't_h' : acc_t_h,\n",
    "              'u_g' : acc_u_g,\n",
    "              't_g' : acc_t_g,\n",
    "              'T' : acc_T,\n",
    "              'B' : acc_B}\n",
    "\n",
    "    return traces"
   ]
  },
  {
   "cell_type": "code",
   "execution_count": 887,
   "metadata": {
    "collapsed": false
   },
   "outputs": [
    {
     "name": "stdout",
     "output_type": "stream",
     "text": [
      "\n"
     ]
    }
   ],
   "source": [
    "def gibbs_ext_model(data, samples, burn_in=0):\n",
    "    \n",
    "    # Counts\n",
    "    N_H = len(data.handins) # Number of handins\n",
    "    N_G = len(data.graders) # Number of graders\n",
    "    N_Q = len(data.questions) # Number of graders\n",
    "    N_g = data.n_gradings   # Number of gradings\n",
    "    N_eval = N_g*N_G   # Number of evaluations in total\n",
    "    \n",
    "    # Hyperparameters\n",
    "    ga_h = 0.5\n",
    "    la_h = 1.0\n",
    "    al_h = 10.0\n",
    "    be_h = 0.1\n",
    "\n",
    "    ga_g = 0.0\n",
    "    la_g = 1.0\n",
    "    al_g = 50.0\n",
    "    be_g = 0.1\n",
    "    \n",
    "    al_n = 10.0\n",
    "    be_n = 1.0\n",
    "    \n",
    "    # Prior parameters\n",
    "    u_h = dict()\n",
    "    t_h = dict()\n",
    "    T = defaultdict(dict)\n",
    "    B = defaultdict(dict)\n",
    "    u_g = dict()\n",
    "    t_g = dict()\n",
    "\n",
    "    # Draw from priors\n",
    "    n_v = np.random.gamma(al_n,1.0/be_n)\n",
    "    for h in data.handins.iterkeys():\n",
    "        t_h[h] = np.random.gamma(al_h,1.0/be_h)\n",
    "        u_h[h] = np.random.normal(ga_h,np.sqrt(1.0/(la_h * t_h[h])))\n",
    "        for q in data.questions.iterkeys():        \n",
    "            T[h][q] = np.random.normal(u_h[h],np.sqrt(1.0/t_h[h]))\n",
    "    for g in data.graders.iterkeys():\n",
    "        t_g[g] = np.random.gamma(al_g,1.0/be_g)\n",
    "        u_g[g] = np.random.normal(ga_g,np.sqrt(1.0/(la_g * t_g[g])))\n",
    "        for q in data.questions.iterkeys():\n",
    "            B[str(g)][str(q)] = np.random.normal(u_g[g],np.sqrt(1.0/t_g[g]))\n",
    "            \n",
    "    # Gibbs sampling #\n",
    "    \n",
    "    # Tracers initialising\n",
    "    acc_n_v = list()\n",
    "    acc_u_h = defaultdict(list)\n",
    "    acc_t_h = defaultdict(list)\n",
    "    acc_u_g = defaultdict(list)\n",
    "    acc_t_g = defaultdict(list)\n",
    "    acc_T = defaultdict(lambda: defaultdict(list))\n",
    "    acc_B = defaultdict(lambda: defaultdict(list))\n",
    "\n",
    "    tw = time.time()\n",
    "    for r in range(burn_in + samples):\n",
    "        print \"\\r%i\" % (r+1) + \" out of %i\" % (burn_in + samples),\n",
    "        # Sample T\n",
    "        for h, handin in data.handins.iteritems():\n",
    "            for q, answers in handin.gradeings.iteritems():\n",
    "                n_gradings = len(answers.answers)\n",
    "                sum_ = 0.0\n",
    "                for g, val in answers.answers.iteritems():\n",
    "                    sum_ = sum_ + val - B[str(g)][str(q)]\n",
    "                v = n_v*n_gradings+t_h[h]\n",
    "                T[h][q] = np.random.normal((u_h[h]*t_h[h]+n_v*sum_)/v,np.sqrt(1.0/v))\n",
    "            \n",
    "        # Sample B\n",
    "        for g, grader in data.graders.iteritems():\n",
    "            for q in data.questions.iterkeys():\n",
    "                n_gradings = len(grader.handins)\n",
    "                sum_ = 0.0\n",
    "                for h in grader.handins:\n",
    "                    if g in h.gradeings[q].answers:\n",
    "                        sum_ = sum_ + h.gradeings[q].answers[g] - T[h.id][q]\n",
    "                v = n_v * n_gradings + t_g[g]\n",
    "                B[g][q] = np.random.normal((u_g[g]*t_g[g]+n_v*sum_)/v,np.sqrt(1.0/v))\n",
    "        \n",
    "        # Sample e\n",
    "        sum_ = 0.0\n",
    "        n_eval = 0\n",
    "        for h, handin in data.handins.iteritems():\n",
    "            for q, answers in handin.gradeings.iteritems():\n",
    "                for g, answer_val in answers.answers.iteritems():\n",
    "                    n_eval = n_eval + 1\n",
    "                    sum_ = sum_ + np.square(answer_val - (T[h][q]+B[g][q]))\n",
    "        n_v = np.random.gamma(al_n+0.5*n_eval,1.0 / (be_n+0.5*sum_))\n",
    "\n",
    "        # Sample u_q and t_q\n",
    "        for h in data.handins.iterkeys():\n",
    "            la_ = (la_h+N_Q)\n",
    "            sum_q = np.sum(T[h].values())\n",
    "            mean_q = sum_q / N_Q\n",
    "            sum_minus = 0.0\n",
    "            for q in data.questions.iterkeys():\n",
    "                sum_minus = sum_minus + np.square(T[h][q]-mean_q)\n",
    "            al_ = al_h+0.5*N_Q\n",
    "            be_ = be_h+0.5*(N_Q*sum_minus+(N_Q*la_h*np.square(mean_q-ga_h))/la_)\n",
    "            t_h[h] = np.random.gamma(al_,1.0 / be_)\n",
    "            u_h[h] = np.random.normal((la_h*ga_h+sum_q)/la_,np.sqrt(1.0/(la_*t_h[h])))\n",
    "\n",
    "        # Sample u_g and t_g\n",
    "        for g in data.graders.iterkeys():\n",
    "            la_ = (la_g+N_Q)\n",
    "            sum_q = np.sum(B[g].values())\n",
    "            mean_q = sum_q / N_Q\n",
    "            sum_minus = 0.0\n",
    "            for q in data.questions.iterkeys():\n",
    "                sum_minus = sum_minus + np.square(B[g][q]-mean_q)\n",
    "            al_ = al_g+0.5*N_Q\n",
    "            be_ = be_g+0.5*(N_Q*sum_minus+(N_Q*la_g*np.square(mean_q-ga_g))/la_)\n",
    "            t_g[g] = np.random.gamma(al_,1.0 / be_)\n",
    "            u_g[g] = np.random.normal((la_g*ga_g+sum_q)/la_,np.sqrt(1.0/(la_*t_g[g])))\n",
    "                        \n",
    "        # Collect tracings\n",
    "        if r > burn_in:\n",
    "            acc_n_v.append(n_v)\n",
    "            for h in data.handins.iterkeys():\n",
    "                acc_u_h[h].append(u_h[h])\n",
    "                acc_t_h[h].append(t_h[h])\n",
    "                for q in data.questions.iterkeys():\n",
    "                    acc_T[h][q].append(T[h][q])\n",
    "            for g in data.graders.iterkeys():\n",
    "                acc_u_g[g].append(u_g[g])\n",
    "                acc_t_g[g].append(t_g[g])\n",
    "                for q in data.questions.iterkeys():\n",
    "                    acc_B[g][q].append(B[g][q])\n",
    "                    \n",
    "    print\n",
    "    print \"Wall time: %f\" % (time.time() - tw)\n",
    "    \n",
    "    traces = {'n_v' : acc_n_v,\n",
    "              'u_h' : acc_u_h,\n",
    "              't_h' : acc_t_h,\n",
    "              'u_g' : acc_u_g,\n",
    "              't_g' : acc_t_g,\n",
    "              'T' : acc_T,\n",
    "              'B' : acc_B}\n",
    "\n",
    "    return traces"
   ]
  },
  {
   "cell_type": "code",
   "execution_count": 972,
   "metadata": {
    "collapsed": false
   },
   "outputs": [
    {
     "name": "stdout",
     "output_type": "stream",
     "text": [
      "6000 out of 6000\n",
      "Wall time: 40.520540\n"
     ]
    }
   ],
   "source": [
    "mock_gibbs_result = gibbs_model(mock_data,5000,1000)"
   ]
  },
  {
   "cell_type": "code",
   "execution_count": 978,
   "metadata": {
    "collapsed": false
   },
   "outputs": [
    {
     "name": "stdout",
     "output_type": "stream",
     "text": [
      "6000 out of 6000\n",
      "Wall time: 588.926999\n"
     ]
    }
   ],
   "source": [
    "mock_gibbs_ext_result = gibbs_ext_model(mock_data,5000,1000)"
   ]
  },
  {
   "cell_type": "code",
   "execution_count": 973,
   "metadata": {
    "collapsed": false
   },
   "outputs": [
    {
     "name": "stdout",
     "output_type": "stream",
     "text": [
      "11000 out of 11000\n",
      "Wall time: 166.264620\n"
     ]
    }
   ],
   "source": [
    "mock_MH_result = MH_model(mock_data,10000,1000)"
   ]
  },
  {
   "cell_type": "code",
   "execution_count": 280,
   "metadata": {
    "collapsed": true
   },
   "outputs": [],
   "source": [
    "def truncate(string,length):\n",
    "    return (string[:length] + '..') if len(string) > length else string"
   ]
  },
  {
   "cell_type": "code",
   "execution_count": 281,
   "metadata": {
    "collapsed": true
   },
   "outputs": [],
   "source": [
    "def handin_students(h_id):\n",
    "    model_handin = data_model.Handin.objects.get(id=ObjectId(h_id))\n",
    "    students_ = list()\n",
    "    for student in model_handin.students:\n",
    "        students_.append(student.name)\n",
    "    return \", \".join(students_)"
   ]
  },
  {
   "cell_type": "code",
   "execution_count": 740,
   "metadata": {
    "collapsed": false
   },
   "outputs": [],
   "source": [
    "def MAE(true,estimated):\n",
    "    return np.mean(map(lambda x : abs((x[1] - x[0])),zip(true,estimated)))"
   ]
  },
  {
   "cell_type": "code",
   "execution_count": 741,
   "metadata": {
    "collapsed": false
   },
   "outputs": [],
   "source": [
    "def plot_handins(t,results,nth=1):\n",
    "\n",
    "    colors = [\"#A60628\",\"#348ABD\",\"#7A68A6\",\"#467821\",\"m\",\"c\"]\n",
    "    labels = list()\n",
    "    for (name,data) in results:\n",
    "        labels.append(name)\n",
    "        \n",
    "    scores = list()\n",
    "    for id, g in t.handins.iteritems():\n",
    "        text = id\n",
    "        val = list()\n",
    "        for (name,data) in results:\n",
    "            val.append(np.mean(data['u_h'][id]))\n",
    "        obs_scores = list()\n",
    "        for grader in t.handins[id].graders:\n",
    "            obs_scores.extend(map(lambda x : x[1],t.handins[id].get_grader_answers(grader.id)))\n",
    "        scores.append((text,val,np.mean(data['u_h'][id]),t.handins[id].mean,obs_scores))\n",
    "    scores.sort(key=lambda x:x[3]) \n",
    "    scores_ = scores[::nth]\n",
    "\n",
    "    y = xrange(0,len(scores_))\n",
    "    true_score_ = map(lambda x : x[3],scores_)    \n",
    "    true_score = map(lambda x : x[3],scores)    \n",
    "    for i in xrange(len(results)):\n",
    "        x = map(lambda x : x[1][i],scores)\n",
    "        x_ = map(lambda x : x[1][i],scores_)\n",
    "        print \"MAE %s: %f\" % (labels[i], MAE(true_score,x))\n",
    "        plt.plot(x_,y,'o',color=colors[i],label=labels[i],alpha=0.65)\n",
    "\n",
    "    plt.plot(true_score_,y,'x',color='black',label=\"True score\")\n",
    "    obs_score_ = map(lambda x : x[4],scores_)\n",
    "    for i, ob in enumerate(obs_score_):\n",
    "        if i == 0:\n",
    "            plt.plot(ob,[y[i]]*len(ob),'.',color='gray',alpha=0.1,label=\"Obs scores\")\n",
    "            plt.plot(np.mean(ob),y[i],'.',color='black',label=\"Average obs score\")\n",
    "        else:\n",
    "            plt.plot(ob,[y[i]]*len(ob),'.',color='gray',alpha=0.1)\n",
    "            plt.plot(np.mean(ob),y[i],'.',color='black')\n",
    "    obs_score = map(lambda x : x[4],scores)\n",
    "    print \"MAE %s: %f\" % (\"Observed average score\", MAE(true_score,map(lambda x : np.mean(x),obs_score)))\n",
    "                      \n",
    "    ylabel = map(lambda x : x[0],scores_)    \n",
    "    plt.yticks(xrange(0,len(scores)),ylabel)\n",
    "    leg = plt.legend(numpoints=1,loc=4)\n",
    "    leg.get_frame().set_alpha(0.4)\n",
    "    plt.title(\"Score of the handins\")\n",
    "#    plt.vlines(0, 0, len(scores), color=\"k\", linestyles=\"--\", lw=1)\n",
    "    plt.ylabel(\"Handin\")\n",
    "    plt.xlabel(\"Score\")\n",
    "    plt.margins(0.02)\n",
    "    plt.show()"
   ]
  },
  {
   "cell_type": "code",
   "execution_count": 979,
   "metadata": {
    "collapsed": true
   },
   "outputs": [],
   "source": [
    "def plot_bias(t,results,nth=1):\n",
    "\n",
    "    colors = [\"#A60628\",\"#348ABD\",\"#7A68A6\",\"#467821\",\"m\",\"c\"]\n",
    "    labels = list()\n",
    "    for (name,data) in results:\n",
    "        labels.append(name)\n",
    "        \n",
    "    scores = list()\n",
    "    for id, g in t.graders.iteritems():\n",
    "        text = id\n",
    "        text = text + \": %i\" % len(t.graders[id].handins)\n",
    "        val = list()\n",
    "        for (name,data) in results:\n",
    "            val.append(np.mean(data['u_g'][id]))\n",
    "        scores.append((text,val,np.mean(data['u_g'][id]),t.graders[id].mean))\n",
    "    scores.sort(key=lambda x:x[3])        \n",
    "    scores_ = scores[::nth]\n",
    "    \n",
    "    y = xrange(0,len(scores_))\n",
    "    true_bias = map(lambda x : x[3],scores)\n",
    "    true_bias_ = map(lambda x : x[3],scores_)\n",
    "    for i in xrange(len(results)):\n",
    "        x = map(lambda x : x[1][i],scores)\n",
    "        x_ = map(lambda x : x[1][i],scores_)\n",
    "        print \"MAE %s: %f\" % (labels[i], MAE(true_bias,x))\n",
    "        plt.plot(x_,y,'o',color=colors[i],label=labels[i],alpha=0.65)\n",
    "    plt.plot(true_bias_,y,'x',color='black',label=\"True bias\")\n",
    "    \n",
    "    ylabel = map(lambda x : x[0],scores_)\n",
    "    plt.yticks(xrange(0,len(scores)),ylabel)\n",
    "    leg = plt.legend(numpoints=1,loc=4)\n",
    "    leg.get_frame().set_alpha(0.4)\n",
    "    plt.title(\"Bias of the graders\")\n",
    "    plt.vlines(0, 0, len(scores_)-1, color=\"k\", linestyles=\"--\", lw=1)\n",
    "    plt.ylabel(\"Grader : [Graded handins]\")\n",
    "    plt.xlabel(\"Bias\")\n",
    "    plt.margins(0.02)\n",
    "    plt.show()"
   ]
  },
  {
   "cell_type": "code",
   "execution_count": 996,
   "metadata": {
    "collapsed": false
   },
   "outputs": [
    {
     "name": "stdout",
     "output_type": "stream",
     "text": [
      "MAE Gibbs: 0.061374\n",
      "MAE Ext. Gibbs: 0.036307\n",
      "MAE MH: 0.037059\n"
     ]
    },
    {
     "data": {
      "image/png": "[encoded data removed]",
      "text/plain": [
       "<matplotlib.figure.Figure at 0x11584aa10>"
      ]
     },
     "metadata": {},
     "output_type": "display_data"
    }
   ],
   "source": [
    "with PdfPages(fig_store + \"ModelCompareGraderBias.pdf\") as pdf:\n",
    "    fig = plt.figure(figsize(8,6))\n",
    "    plot_bias(mock_data,[(\"Gibbs\",mock_gibbs_result),(\"Ext. Gibbs\",mock_gibbs_ext_result),(\"MH\",mock_MH_result)],nth=4)\n",
    "    pdf.savefig(fig)"
   ]
  },
  {
   "cell_type": "code",
   "execution_count": 982,
   "metadata": {
    "collapsed": false
   },
   "outputs": [
    {
     "name": "stdout",
     "output_type": "stream",
     "text": [
      "MAE Gibbs: 0.091591\n",
      "MAE Ext. Gibbs: 0.038534\n",
      "MAE MH: 0.038182\n",
      "MAE Observed average score: 0.048164\n"
     ]
    },
    {
     "data": {
      "image/png": "[encoded data removed]",
      "text/plain": [
       "<matplotlib.figure.Figure at 0x1212d5750>"
      ]
     },
     "metadata": {},
     "output_type": "display_data"
    }
   ],
   "source": [
    "with PdfPages(fig_store + \"ModelCompareHandinScore.pdf\") as pdf:\n",
    "    fig = plt.figure(figsize(8,6))\n",
    "    plot_handins(mock_data,[(\"Gibbs\",mock_gibbs_result),(\"Ext. Gibbs\",mock_gibbs_ext_result),(\"MH\",mock_MH_result)],nth=4)\n",
    "    pdf.savefig(fig)"
   ]
  },
  {
   "cell_type": "code",
   "execution_count": 980,
   "metadata": {
    "collapsed": true
   },
   "outputs": [],
   "source": [
    "def plot_bias_precision(t,results,nth=1):\n",
    "\n",
    "    colors = [\"#A60628\",\"#348ABD\",\"#7A68A6\",\"#467821\",\"m\",\"c\"]\n",
    "    labels = list()\n",
    "    for (name,data) in results:\n",
    "        labels.append(name)\n",
    "        \n",
    "    scores = list()\n",
    "    for id, g in t.graders.iteritems():\n",
    "        text = id\n",
    "        text = text + \": %i\" % len(t.graders[id].handins)\n",
    "        val = list()\n",
    "        for (name,data) in results:\n",
    "            val.append(np.mean(data['t_g'][id]))\n",
    "        scores.append((text,val,np.mean(data['t_g'][id]),t.graders[id].precision))\n",
    "    scores.sort(key=lambda x:x[3])        \n",
    "    scores_ = scores[::nth]\n",
    "    \n",
    "    y = xrange(0,len(scores_))\n",
    "    true_bias = map(lambda x : x[3],scores)\n",
    "    true_bias_ = map(lambda x : x[3],scores_)\n",
    "    for i in xrange(len(results)):\n",
    "        x = map(lambda x : x[1][i],scores)\n",
    "        x_ = map(lambda x : x[1][i],scores_)\n",
    "        print \"MAE %s: %f\" % (labels[i], MAE(true_bias,x))\n",
    "        plt.plot(x_,y,'o',color=colors[i],label=labels[i],alpha=0.65)\n",
    "    plt.plot(true_bias_,y,'x',color='black',label=\"True bias\")\n",
    "    \n",
    "    ylabel = map(lambda x : x[0],scores_)\n",
    "    plt.yticks(xrange(0,len(scores)),ylabel)\n",
    "    leg = plt.legend(numpoints=1,loc=4)\n",
    "    leg.get_frame().set_alpha(0.4)\n",
    "    plt.title(\"Precision of graders bias\")\n",
    "#    plt.vlines(0, 0, len(scores_)-1, color=\"k\", linestyles=\"--\", lw=1)\n",
    "    plt.ylabel(\"Grader : [Graded handins]\")\n",
    "    plt.xlabel(\"precision\")\n",
    "    plt.margins(0.02)\n",
    "    plt.show()"
   ]
  },
  {
   "cell_type": "code",
   "execution_count": 992,
   "metadata": {
    "collapsed": false
   },
   "outputs": [],
   "source": [
    "def plot_handins_precision(t,results,nth=1):\n",
    "\n",
    "    colors = [\"#A60628\",\"#348ABD\",\"#7A68A6\",\"#467821\",\"m\",\"c\"]\n",
    "    labels = list()\n",
    "    for (name,data) in results:\n",
    "        labels.append(name)\n",
    "        \n",
    "    scores = list()\n",
    "    for id, g in t.handins.iteritems():\n",
    "        text = id\n",
    "        val = list()\n",
    "        for (name,data) in results:\n",
    "            val.append(np.mean(data['t_h'][id]))\n",
    "        scores.append((text,val,np.mean(data['t_h'][id]),t.handins[id].precision))\n",
    "    scores.sort(key=lambda x:x[3])\n",
    "    scores_ = scores[::nth]\n",
    "    print len(scores_)\n",
    "\n",
    "    y = xrange(0,len(scores_))\n",
    "    true_score_ = map(lambda x : x[3],scores_)    \n",
    "    true_score = map(lambda x : x[3],scores)\n",
    "    for i in xrange(len(results)):\n",
    "        x = map(lambda x : x[1][i],scores)\n",
    "        x_ = map(lambda x : x[1][i],scores_)\n",
    "        print \"MAE %s: %f\" % (labels[i], MAE(true_score,x))\n",
    "        plt.plot(x_,y,'o',color=colors[i],label=labels[i],alpha=0.65)\n",
    "\n",
    "    plt.plot(true_score_,y,'x',color='black',label=\"True score\")\n",
    "                      \n",
    "    ylabel = map(lambda x : x[0],scores_)    \n",
    "    plt.yticks(xrange(0,len(scores)),ylabel)\n",
    "    leg = plt.legend(numpoints=1,loc=4)\n",
    "    leg.get_frame().set_alpha(0.4)\n",
    "    plt.title(\"Precision of the handin scores\")\n",
    "#    plt.vlines(0, 0, len(scores), color=\"k\", linestyles=\"--\", lw=1)\n",
    "    plt.ylabel(\"Handin\")\n",
    "    plt.xlabel(\"Precision\")\n",
    "    plt.margins(0.02)\n",
    "    plt.show()"
   ]
  },
  {
   "cell_type": "code",
   "execution_count": 987,
   "metadata": {
    "collapsed": false
   },
   "outputs": [
    {
     "name": "stdout",
     "output_type": "stream",
     "text": [
      "MAE Gibbs: 57.841574\n",
      "MAE Ext. Gibbs: 402.218377\n",
      "MAE MH: 77.794521\n"
     ]
    },
    {
     "data": {
      "image/png": "[encoded data removed]",
      "text/plain": [
       "<matplotlib.figure.Figure at 0x115775d50>"
      ]
     },
     "metadata": {},
     "output_type": "display_data"
    }
   ],
   "source": [
    "with PdfPages(fig_store + \"ModelCompareGraderBiasPrecision.pdf\") as pdf:\n",
    "    fig = plt.figure(figsize(8,6))\n",
    "    plot_bias_precision(mock_data,[(\"Gibbs\",mock_gibbs_result),(\"Ext. Gibbs\",mock_gibbs_ext_result),(\"MH\",mock_MH_result)],nth=4)\n",
    "    pdf.savefig(fig)"
   ]
  },
  {
   "cell_type": "code",
   "execution_count": 994,
   "metadata": {
    "collapsed": false
   },
   "outputs": [
    {
     "name": "stdout",
     "output_type": "stream",
     "text": [
      "25\n",
      "MAE Gibbs: 26.159680\n",
      "MAE Ext. Gibbs: 91.157743\n",
      "MAE MH: 37.053142\n"
     ]
    },
    {
     "data": {
      "image/png": "[encoded data removed]",
      "text/plain": [
       "<matplotlib.figure.Figure at 0x12184a3d0>"
      ]
     },
     "metadata": {},
     "output_type": "display_data"
    }
   ],
   "source": [
    "with PdfPages(fig_store + \"ModelCompareHandinScorePrecision.pdf\") as pdf:\n",
    "    fig = plt.figure(figsize(8,6))\n",
    "    plot_handins_precision(mock_data,[(\"Gibbs\",mock_gibbs_result),(\"Ext. Gibbs\",mock_gibbs_ext_result),(\"MH\",mock_MH_result)],\n",
    "                           nth=4)\n",
    "    pdf.savefig(fig)"
   ]
  },
  {
   "cell_type": "code",
   "execution_count": null,
   "metadata": {
    "collapsed": true
   },
   "outputs": [],
   "source": []
  }
 ],
 "metadata": {
  "kernelspec": {
   "display_name": "Python 2",
   "language": "python",
   "name": "python2"
  },
  "language_info": {
   "codemirror_mode": {
    "name": "ipython",
    "version": 2
   },
   "file_extension": ".py",
   "mimetype": "text/x-python",
   "name": "python",
   "nbconvert_exporter": "python",
   "pygments_lexer": "ipython2",
   "version": "2.7.10"
  }
 },
 "nbformat": 4,
 "nbformat_minor": 0
}
