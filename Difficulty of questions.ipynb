{
 "cells": [
  {
   "cell_type": "markdown",
   "metadata": {},
   "source": [
    "# Difficulty of question"
   ]
  },
  {
   "cell_type": "markdown",
   "metadata": {},
   "source": [
    "I will in this notebook look into finding the difficutly of a question in an assignment defined by the graded that each grader gave to that question.\n",
    "\n",
    "Each question have a latent difficuilty called $d_q$. It can also be assumed that the evaluated value $X$ of question $q$ from all graders $q$ is taken from a normal distribution with the expected value being $d_q$ and the variance $\\sigma$.\n",
    "\n",
    "$$X \\sim N(d_q, \\sigma)$$\n",
    "\n",
    "with pymc it should be possbile to inferre $d_q$ from the provided evaluation data."
   ]
  },
  {
   "cell_type": "code",
   "execution_count": 153,
   "metadata": {
    "collapsed": false
   },
   "outputs": [],
   "source": [
    "%matplotlib inline\n",
    "from collections import defaultdict\n",
    "import pymc as pm\n",
    "from pymc.Matplot import plot\n",
    "import numpy as np\n",
    "from matplotlib import pyplot as plt\n",
    "import json\n",
    "from pymongo import MongoClient\n",
    "import pymongo\n",
    "from bson.objectid import ObjectId"
   ]
  },
  {
   "cell_type": "markdown",
   "metadata": {},
   "source": [
    "Mock data to test the model"
   ]
  },
  {
   "cell_type": "code",
   "execution_count": 3,
   "metadata": {
    "collapsed": false
   },
   "outputs": [
    {
     "name": "stdout",
     "output_type": "stream",
     "text": [
      "0.509090909091\n"
     ]
    }
   ],
   "source": [
    "peergrade_value = np.array([0.2, 0.4, 0.4, 0.2, 0.6, 0.4, 0.4, 0, 1, 1, 1])\n",
    "print peergrade_value.mean()"
   ]
  },
  {
   "cell_type": "markdown",
   "metadata": {},
   "source": [
    "We know that the evaluated value of a question to a handin from a grader is an descret value ${val_{min},val_{max}}$. The difficulty of the question $d_q$ must then be a continues value $[val_min,val_max]$.\n",
    "\n",
    "$$d_q \\sim Uniform(val_{min},val_{max})$$"
   ]
  },
  {
   "cell_type": "markdown",
   "metadata": {},
   "source": [
    "We don't know the value of the variance $\\sigma$ yet but it is a real positive value so we can use the exponential distribution to define this. This distribution is defined by the value $alpha$ which is also a real positive number we don't know but we can quess that it is between [0,5]. this can also be defined by the uniform distribution"
   ]
  },
  {
   "cell_type": "markdown",
   "metadata": {},
   "source": [
    "$$\\alpha \\sim Uniform(val_{min},val_{max})$$\n",
    "\n",
    "$$\\sigma \\sim Exp(\\alpha)$$"
   ]
  },
  {
   "cell_type": "markdown",
   "metadata": {},
   "source": [
    "With the model completed it should be possible to inferre the difficulty of a question in pymc"
   ]
  },
  {
   "cell_type": "code",
   "execution_count": 184,
   "metadata": {
    "collapsed": true
   },
   "outputs": [],
   "source": [
    "def difficulty_model(data):\n",
    "    d_q = pm.Uniform(\"d_q\", 0, 1)\n",
    "    alpha = pm.Uniform(\"alpha\", 0.1, 5)\n",
    "    tau = pm.Exponential(\"tau\", alpha)\n",
    "\n",
    "    graded = pm.Normal(\"graded\", mu=d_q, tau=tau, observed=True,\n",
    "                       value=data)\n",
    "    model = pm.Model([graded, tau, alpha, d_q])\n",
    "    map_ = pm.MAP(model)\n",
    "    map_.fit()\n",
    "    mcmc = pm.MCMC(model)\n",
    "    mcmc.sample(20000, 5000)\n",
    "    return mcmc"
   ]
  },
  {
   "cell_type": "code",
   "execution_count": 154,
   "metadata": {
    "collapsed": false
   },
   "outputs": [
    {
     "name": "stdout",
     "output_type": "stream",
     "text": [
      " [-----------------100%-----------------] 20000 of 20000 complete in 4.3 sec\n",
      "tau:\n",
      " \n",
      "\tMean             SD               MC Error        95% HPD interval\n",
      "\t------------------------------------------------------------------\n",
      "\t6.171            2.964            0.093          [  1.285  12.049]\n",
      "\t\n",
      "\t\n",
      "\tPosterior quantiles:\n",
      "\t\n",
      "\t2.5             25              50              75             97.5\n",
      "\t |---------------|===============|===============|---------------|\n",
      "\t1.774            3.971           5.734          7.846         13.153\n",
      "\t\n",
      "\n",
      "d_q:\n",
      " \n",
      "\tMean             SD               MC Error        95% HPD interval\n",
      "\t------------------------------------------------------------------\n",
      "\t0.507            0.136            0.003            [ 0.217  0.769]\n",
      "\t\n",
      "\t\n",
      "\tPosterior quantiles:\n",
      "\t\n",
      "\t2.5             25              50              75             97.5\n",
      "\t |---------------|===============|===============|---------------|\n",
      "\t0.233            0.419           0.509          0.593         0.789\n",
      "\t\n",
      "\n",
      "alpha:\n",
      " \n",
      "\tMean             SD               MC Error        95% HPD interval\n",
      "\t------------------------------------------------------------------\n",
      "\t0.448            0.385            0.017            [ 0.1    1.184]\n",
      "\t\n",
      "\t\n",
      "\tPosterior quantiles:\n",
      "\t\n",
      "\t2.5             25              50              75             97.5\n",
      "\t |---------------|===============|===============|---------------|\n",
      "\t0.11             0.198           0.328          0.558         1.508\n",
      "\t\n"
     ]
    },
    {
     "data": {
      "image/png": "[encoded data removed]",
      "text/plain": [
       "<matplotlib.figure.Figure at 0x111f27290>"
      ]
     },
     "metadata": {},
     "output_type": "display_data"
    }
   ],
   "source": [
    "mcmc = difficulty_model(peergrade_value)\n",
    "mcmc.summary()\n",
    "p_trace = mcmc.trace(\"d_q\")[:]\n",
    "plt.hist(p_trace, histtype=\"stepfilled\", normed=True, alpha=0.5, bins=30,\n",
    "         label=\"d_q\", color=\"#348ABD\")\n",
    "plt.show()"
   ]
  },
  {
   "cell_type": "markdown",
   "metadata": {},
   "source": [
    "We can find the mean value of the $d_q$ and see if it matches the mean value we hvae"
   ]
  },
  {
   "cell_type": "code",
   "execution_count": 125,
   "metadata": {
    "collapsed": false
   },
   "outputs": [
    {
     "data": {
      "text/plain": [
       "0.51130461321862775"
      ]
     },
     "execution_count": 125,
     "metadata": {},
     "output_type": "execute_result"
    }
   ],
   "source": [
    "np.mean(p_trace)"
   ]
  },
  {
   "cell_type": "code",
   "execution_count": 7,
   "metadata": {
    "collapsed": false
   },
   "outputs": [
    {
     "data": {
      "text/plain": [
       "0.50909090909090904"
      ]
     },
     "execution_count": 7,
     "metadata": {},
     "output_type": "execute_result"
    }
   ],
   "source": [
    "peergrade_value.mean() "
   ]
  },
  {
   "cell_type": "markdown",
   "metadata": {},
   "source": [
    "They are farily close so we can assume that the model is correct"
   ]
  },
  {
   "cell_type": "markdown",
   "metadata": {},
   "source": [
    "Next we can try out the model on some more real data from a course with multiple data and see if we can find the most and least difficult question.\n",
    "The data we are looking at contains multiple of different question which have different numerical values of grading.\n",
    "Some might be simple yes/no answeres if the author did complete a certain task. Other might be discrete numerical answer between [0,3], [0,10]. \n",
    "This means that we can't directly compare these without transforming them to be in the same range."
   ]
  },
  {
   "cell_type": "markdown",
   "metadata": {},
   "source": [
    "First connect to the mongodb heroku_rnwkcq9r"
   ]
  },
  {
   "cell_type": "code",
   "execution_count": 40,
   "metadata": {
    "collapsed": true
   },
   "outputs": [],
   "source": [
    "client = MongoClient()\n",
    "db = client.heroku_rnwkcq9r"
   ]
  },
  {
   "cell_type": "markdown",
   "metadata": {},
   "source": [
    "Then find the id for the course computational tools for big data"
   ]
  },
  {
   "cell_type": "code",
   "execution_count": 61,
   "metadata": {
    "collapsed": false
   },
   "outputs": [
    {
     "name": "stdout",
     "output_type": "stream",
     "text": [
      "55d9cb9ea6fb8f00080da4a1\n"
     ]
    }
   ],
   "source": [
    "cursor = db.course.find_one({\"short_title\": \"computational_tools_for_big_data\"})\n",
    "print cursor['_id']"
   ]
  },
  {
   "cell_type": "markdown",
   "metadata": {},
   "source": [
    "Next we want to find the assignment called \"UNIX, Python, and Fast Data\" "
   ]
  },
  {
   "cell_type": "code",
   "execution_count": 76,
   "metadata": {
    "collapsed": false
   },
   "outputs": [],
   "source": [
    "cursor = db.assignment.find_one({'course': ObjectId(\"55d9cb9ea6fb8f00080da4a1\"), 'title': \"UNIX, Python and Fast Data\"})\n",
    "assignment_id = cursor['_id']"
   ]
  },
  {
   "cell_type": "code",
   "execution_count": 130,
   "metadata": {
    "collapsed": false
   },
   "outputs": [
    {
     "name": "stdout",
     "output_type": "stream",
     "text": [
      "55f277cff3bd61000a2112d4\n"
     ]
    }
   ],
   "source": [
    "print assignment_id"
   ]
  },
  {
   "cell_type": "markdown",
   "metadata": {},
   "source": [
    "Go through all handin and all the question and find the relevant \n",
    "I first define some helper functions to assist in getting relevant information and normalize the values of the scores"
   ]
  },
  {
   "cell_type": "code",
   "execution_count": 108,
   "metadata": {
    "collapsed": true
   },
   "outputs": [],
   "source": [
    "def question_text(question_id):\n",
    "    question = db.question.find_one({'_id': question_id})\n",
    "    return question['text']"
   ]
  },
  {
   "cell_type": "code",
   "execution_count": 109,
   "metadata": {
    "collapsed": true
   },
   "outputs": [],
   "source": [
    "def question_max_value(question_id):\n",
    "    question = db.question.find_one({'_id': question_id})\n",
    "    if question['question_type'] == \"boolean\":\n",
    "        return 1\n",
    "    elif question[\"question_type\"] == \"numerical\":\n",
    "        if 'numericalAnswers' in question:\n",
    "            max_value = max(map(int,question['numericalAnswers'].keys()))\n",
    "            return max_value\n",
    "        else:\n",
    "            return 5"
   ]
  },
  {
   "cell_type": "markdown",
   "metadata": {},
   "source": [
    "Quick test to see if the functions works"
   ]
  },
  {
   "cell_type": "code",
   "execution_count": 121,
   "metadata": {
    "collapsed": false
   },
   "outputs": [
    {
     "name": "stdout",
     "output_type": "stream",
     "text": [
      "True\n",
      "True\n"
     ]
    }
   ],
   "source": [
    "print question_text(ObjectId(\"55d9cb9ea6fb8f00080da4a2\")) == \"How well documented is the code?\"\n",
    "print question_max_value(ObjectId(\"55d9cb9ea6fb8f00080da4a2\")) == 5"
   ]
  },
  {
   "cell_type": "code",
   "execution_count": 104,
   "metadata": {
    "collapsed": false
   },
   "outputs": [],
   "source": [
    "def answer_value(answer_id):\n",
    "    answer = db.answer.find_one({'_id': answer_id})\n",
    "    q_id = answer['question']\n",
    "    if 'numerical_answer' in answer:\n",
    "        return answer['numerical_answer'] / float(question_max_value(q_id))\n",
    "    elif 'boolean_answer' in answer:\n",
    "        return answer['boolean_answer'] / float(question_max_value(q_id))"
   ]
  },
  {
   "cell_type": "code",
   "execution_count": 112,
   "metadata": {
    "collapsed": true
   },
   "outputs": [],
   "source": [
    "def answer_question_text(answer_id):\n",
    "    question = db.answer.find_one({'_id': answer_id})\n",
    "    return question_text(question['question'])"
   ]
  },
  {
   "cell_type": "code",
   "execution_count": 119,
   "metadata": {
    "collapsed": false
   },
   "outputs": [
    {
     "name": "stdout",
     "output_type": "stream",
     "text": [
      "True\n",
      "True\n"
     ]
    }
   ],
   "source": [
    "print answer_question_text(ObjectId(\"55d9cb9ea6fb8f00080da4e8\")) == \"How well does the solution answer the problem?\"\n",
    "print answer_value(ObjectId(\"55d9cb9ea6fb8f00080da4e8\")) == 0.8"
   ]
  },
  {
   "cell_type": "code",
   "execution_count": 135,
   "metadata": {
    "collapsed": true
   },
   "outputs": [],
   "source": [
    "answer_q = defaultdict(list)"
   ]
  },
  {
   "cell_type": "code",
   "execution_count": 136,
   "metadata": {
    "collapsed": false
   },
   "outputs": [],
   "source": [
    "cursor_1 = db.report_grade.find({'assignment': ObjectId('55f277cff3bd61000a2112d4')})\n",
    "for report_grade in cursor_1:\n",
    "    cursor_2 = db.answer.find({'report_grade': report_grade['_id']})\n",
    "    for answer in cursor_2:\n",
    "        if 'numerical_answer' in answer or 'boolean_answer' in answer:\n",
    "            answer_q[answer['question']].append(answer_value(answer['_id']))"
   ]
  },
  {
   "cell_type": "code",
   "execution_count": 198,
   "metadata": {
    "collapsed": false
   },
   "outputs": [],
   "source": [
    "difficulty_q = dict()\n",
    "traces = list()"
   ]
  },
  {
   "cell_type": "code",
   "execution_count": 229,
   "metadata": {
    "collapsed": false
   },
   "outputs": [
    {
     "name": "stdout",
     "output_type": "stream",
     "text": [
      " [-----------------100%-----------------] 20000 of 20000 complete in 4.4 sec"
     ]
    }
   ],
   "source": [
    "for idx, (question, grading) in enumerate(answer_q.iteritems()):\n",
    "        mcmc = difficulty_model(grading)\n",
    "        d_q = mcmc.trace(\"d_q\")[:]\n",
    "        difficulty_q[idx] = (np.mean(d_q),question,question_text(question))\n",
    "        traces.append((idx,np.mean(d_q),d_q))"
   ]
  },
  {
   "cell_type": "code",
   "execution_count": 223,
   "metadata": {
    "collapsed": false
   },
   "outputs": [],
   "source": [
    "traces.sort(key=lambda x : x[1], reverse=False)"
   ]
  },
  {
   "cell_type": "markdown",
   "metadata": {},
   "source": [
    "## Plots"
   ]
  },
  {
   "cell_type": "markdown",
   "metadata": {},
   "source": [
    "We can now plot the prior of the mean value in the Normal distribution of the answer scores.\n",
    "\n",
    "A high value means that the scores given were high and thereby being an easy question.\n",
    "A low value means the the scores given where low and thereby the question was hard."
   ]
  },
  {
   "cell_type": "code",
   "execution_count": 225,
   "metadata": {
    "collapsed": true
   },
   "outputs": [],
   "source": [
    "print_name = lambda x : x[2]"
   ]
  },
  {
   "cell_type": "code",
   "execution_count": 227,
   "metadata": {
    "collapsed": false
   },
   "outputs": [
    {
     "name": "stdout",
     "output_type": "stream",
     "text": [
      "24 Were the authors able to cluster the 100,000x100,000 data file? Number of points in largest cluster should be 28470.\n",
      "15 How good is the solution to Exercise 3.5?\n",
      "17 How good is the solution to Exercise 1.5?\n",
      "3 How good is the solution to Exercise 2.2? Remember that using bin() is not allowed.\n",
      "2 How good is the solution to Exercise 1.1?\n",
      "14 In Exercise 3.5, did the authors remember to use cdef on the variables to achieve a bigger speedup?\n",
      "16 Are the authors anynomous?\n"
     ]
    },
    {
     "data": {
      "image/png": "[encoded data removed]",
      "text/plain": [
       "<matplotlib.figure.Figure at 0x112c1c390>"
      ]
     },
     "metadata": {},
     "output_type": "display_data"
    }
   ],
   "source": [
    "ax = plt.subplot(111)\n",
    "\n",
    "for (idx,mean,trace) in traces[0::4]:\n",
    "    print idx, print_name(difficulty_q[idx])\n",
    "    ax.hist(trace, histtype=\"step\", normed=True, alpha=0.5, bins=30, label=str(idx))\n",
    "\n",
    "box = ax.get_position()\n",
    "ax.set_position([box.x0, box.y0 + box.height * 0.1 * 2,\n",
    "                 box.width * 2, box.height * 0.9 * 2])\n",
    "\n",
    "# Put a legend below current axis\n",
    "ax.legend(loc='upper center', bbox_to_anchor=(0.5, -0.05),\n",
    "          fancybox=True, shadow=True, ncol=5)\n",
    "plt.show()"
   ]
  },
  {
   "cell_type": "code",
   "execution_count": null,
   "metadata": {
    "collapsed": true
   },
   "outputs": [],
   "source": []
  },
  {
   "cell_type": "code",
   "execution_count": null,
   "metadata": {
    "collapsed": true
   },
   "outputs": [],
   "source": []
  }
 ],
 "metadata": {
  "kernelspec": {
   "display_name": "Python 2",
   "language": "python",
   "name": "python2"
  },
  "language_info": {
   "codemirror_mode": {
    "name": "ipython",
    "version": 2
   },
   "file_extension": ".py",
   "mimetype": "text/x-python",
   "name": "python",
   "nbconvert_exporter": "python",
   "pygments_lexer": "ipython2",
   "version": "2.7.10"
  }
 },
 "nbformat": 4,
 "nbformat_minor": 0
}
