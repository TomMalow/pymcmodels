{
 "cells": [
  {
   "cell_type": "code",
   "execution_count": 1,
   "metadata": {
    "collapsed": true
   },
   "outputs": [],
   "source": [
    "%matplotlib inline\n",
    "from collections import defaultdict\n",
    "import pymc as pm\n",
    "from pymc.Matplot import plot\n",
    "import numpy as np\n",
    "from matplotlib import pyplot as plt\n",
    "import json\n",
    "from pymongo import MongoClient\n",
    "import pymongo\n",
    "from bson.objectid import ObjectId"
   ]
  },
  {
   "cell_type": "code",
   "execution_count": 84,
   "metadata": {
    "collapsed": false
   },
   "outputs": [],
   "source": [
    "data = list()\n",
    "for i in range(0,1000):\n",
    "    data.append(pm.rexponential(0.01))"
   ]
  },
  {
   "cell_type": "code",
   "execution_count": 85,
   "metadata": {
    "collapsed": false
   },
   "outputs": [
    {
     "data": {
      "text/plain": [
       "(array([  8.65035240e-03,   6.69121335e-03,   4.15940289e-03,\n",
       "          2.83321646e-03,   2.01942025e-03,   1.71801424e-03,\n",
       "          1.11520223e-03,   8.74077420e-04,   5.72671413e-04,\n",
       "          4.21968410e-04,   3.31546608e-04,   2.41124805e-04,\n",
       "          1.50703003e-04,   9.04218021e-05,   3.01406007e-05,\n",
       "          1.20562403e-04,   3.01406007e-05,   3.01406007e-05,\n",
       "          0.00000000e+00,   0.00000000e+00,   3.01406007e-05,\n",
       "          0.00000000e+00,   0.00000000e+00,   0.00000000e+00,\n",
       "          3.01406007e-05]),\n",
       " array([  2.77573121e-02,   3.32055964e+01,   6.63834355e+01,\n",
       "          9.95612746e+01,   1.32739114e+02,   1.65916953e+02,\n",
       "          1.99094792e+02,   2.32272631e+02,   2.65450470e+02,\n",
       "          2.98628309e+02,   3.31806148e+02,   3.64983987e+02,\n",
       "          3.98161827e+02,   4.31339666e+02,   4.64517505e+02,\n",
       "          4.97695344e+02,   5.30873183e+02,   5.64051022e+02,\n",
       "          5.97228861e+02,   6.30406700e+02,   6.63584539e+02,\n",
       "          6.96762378e+02,   7.29940218e+02,   7.63118057e+02,\n",
       "          7.96295896e+02,   8.29473735e+02]),\n",
       " <a list of 1 Patch objects>)"
      ]
     },
     "execution_count": 85,
     "metadata": {},
     "output_type": "execute_result"
    },
    {
     "data": {
      "image/png": "[encoded data removed]",
      "text/plain": [
       "<matplotlib.figure.Figure at 0x11625a150>"
      ]
     },
     "metadata": {},
     "output_type": "display_data"
    }
   ],
   "source": [
    "plt.hist(data, bins=25, histtype=\"stepfilled\", normed=True)"
   ]
  },
  {
   "cell_type": "code",
   "execution_count": null,
   "metadata": {
    "collapsed": true
   },
   "outputs": [],
   "source": []
  }
 ],
 "metadata": {
  "kernelspec": {
   "display_name": "Python 2",
   "language": "python",
   "name": "python2"
  },
  "language_info": {
   "codemirror_mode": {
    "name": "ipython",
    "version": 2
   },
   "file_extension": ".py",
   "mimetype": "text/x-python",
   "name": "python",
   "nbconvert_exporter": "python",
   "pygments_lexer": "ipython2",
   "version": "2.7.10"
  }
 },
 "nbformat": 4,
 "nbformat_minor": 0
}
