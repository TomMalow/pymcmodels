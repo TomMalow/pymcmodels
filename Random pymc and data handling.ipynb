{
 "cells": [
  {
   "cell_type": "code",
   "execution_count": 9,
   "metadata": {
    "collapsed": false
   },
   "outputs": [],
   "source": [
    "%matplotlib inline\n",
    "from collections import defaultdict\n",
    "import pymc as pm\n",
    "from pymc.Matplot import plot\n",
    "import numpy as np\n",
    "from matplotlib import pyplot as plt\n",
    "import json\n",
    "from pymongo import MongoClient\n",
    "import pymongo\n",
    "from bson.objectid import ObjectId\n",
    "import jsonpickle"
   ]
  },
  {
   "cell_type": "code",
   "execution_count": null,
   "metadata": {
    "collapsed": false
   },
   "outputs": [],
   "source": [
    "B_mu = pm.Normal('B_mu_generator',0,500)\n",
    "data = list()\n",
    "for i in range(0,1000):\n",
    "    data.append(B_mu.random())\n",
    "plt.hist(data, bins=25, histtype=\"stepfilled\", normed=True)"
   ]
  },
  {
   "cell_type": "code",
   "execution_count": null,
   "metadata": {
    "collapsed": false
   },
   "outputs": [],
   "source": [
    "B_tau = pm.Gamma('B_tau_generator',10,0.1)\n",
    "data = list()\n",
    "for i in range(0,1000):\n",
    "    data.append(B_tau.random())\n",
    "plt.hist(data, bins=25, histtype=\"stepfilled\", normed=True)"
   ]
  },
  {
   "cell_type": "code",
   "execution_count": null,
   "metadata": {
    "collapsed": false
   },
   "outputs": [],
   "source": [
    "B_tau = pm.Gamma('B_tau_generator',50,0.1)\n",
    "data = list()\n",
    "for i in range(0,1000):\n",
    "    B_val = B_tau.random()\n",
    "    B = pm.Normal('B_generator',0,B_val)\n",
    "    data.append(B.random())\n",
    "plt.hist(data, bins=25, histtype=\"stepfilled\", normed=True)"
   ]
  },
  {
   "cell_type": "code",
   "execution_count": null,
   "metadata": {
    "collapsed": false
   },
   "outputs": [],
   "source": [
    "B_tau = pm.Gamma('B_tau_generator',50,0.1)\n",
    "B = pm.Normal('B_generator',0,B_tau)\n",
    "data = list()\n",
    "for i in range(0,1000):\n",
    "    data.append(B.random())\n",
    "plt.hist(data, bins=25, histtype=\"stepfilled\", normed=True)"
   ]
  },
  {
   "cell_type": "code",
   "execution_count": null,
   "metadata": {
    "collapsed": false
   },
   "outputs": [],
   "source": [
    "B = pm.Normal('B_generator',0,500)\n",
    "data = list()\n",
    "for i in range(0,1000):\n",
    "    B_val = B_tau.random()\n",
    "    B = pm.Normal('B_generator',0,B_val)\n",
    "    data.append(B.random())\n",
    "plt.hist(data, bins=25, histtype=\"stepfilled\", normed=True)"
   ]
  },
  {
   "cell_type": "markdown",
   "metadata": {},
   "source": [
    "# Reformating data and seralizing"
   ]
  },
  {
   "cell_type": "code",
   "execution_count": 1,
   "metadata": {
    "collapsed": true
   },
   "outputs": [],
   "source": [
    "class Question(object):\n",
    "    def __init__(self,_id,_type, assignment, text, max_grade_value):\n",
    "        self._id = _id\n",
    "        self._type = _type\n",
    "        self.assignment = assignment\n",
    "        self.text = text\n",
    "        self.max_grade_value = max_grade_value"
   ]
  },
  {
   "cell_type": "code",
   "execution_count": 2,
   "metadata": {
    "collapsed": true
   },
   "outputs": [],
   "source": [
    "class Answer(object):\n",
    "    def __init__(self, _id, grading, question, flagged):\n",
    "        self._id = _id\n",
    "        self.grading = grading\n",
    "        self.question = question\n",
    "        self.flagged = flagged\n",
    "        \n",
    "    def add_text_answere(self, text):\n",
    "        self.text = text\n",
    "    def add_value_answere(self, graded_value, normalized):\n",
    "        self.grade_value = graded_value\n",
    "        self.normalized = normalized"
   ]
  },
  {
   "cell_type": "code",
   "execution_count": 3,
   "metadata": {
    "collapsed": false
   },
   "outputs": [],
   "source": [
    "class Grading(object):\n",
    "    def __init__(self, _id, grader, handin, answeres, assignment, feedback_grade):\n",
    "        self._id = _id\n",
    "        self.grader = grader\n",
    "        self.answeres = answeres # list of asnwer ids\n",
    "        self.handin = handin\n",
    "        self.assignment = assignment\n",
    "        self.feedback_grade = feedback_grade"
   ]
  },
  {
   "cell_type": "code",
   "execution_count": 4,
   "metadata": {
    "collapsed": true
   },
   "outputs": [],
   "source": [
    "class User(object):\n",
    "    def __init__(self, _id, name, graded_handins):\n",
    "        self._id = _id\n",
    "        self.name = name\n",
    "        self.graded_handins = graded_handins # list of handins ids"
   ]
  },
  {
   "cell_type": "code",
   "execution_count": 5,
   "metadata": {
    "collapsed": true
   },
   "outputs": [],
   "source": [
    "class Handin(object):\n",
    "    def __init__(self,_id, assignment, owners, gradings):\n",
    "        self._id = _id\n",
    "        self.assignment = assignment\n",
    "        self.owners = owners # list of grader ids\n",
    "        self.gradings = gradings #list of grading ids"
   ]
  },
  {
   "cell_type": "code",
   "execution_count": 6,
   "metadata": {
    "collapsed": true
   },
   "outputs": [],
   "source": [
    "class Assignment(object):\n",
    "    def __init__(self, _id, title, questions, handins):\n",
    "        self._id = _id\n",
    "        self.title = title\n",
    "        self.questions = questions # list of question ids\n",
    "        self.handins = handins # list of handins ids"
   ]
  },
  {
   "cell_type": "code",
   "execution_count": 24,
   "metadata": {
    "collapsed": true
   },
   "outputs": [],
   "source": [
    "class Course(object):\n",
    "    def __init__(self, _id, title, assignments, participants):\n",
    "        self._id = _id\n",
    "        self.title = title\n",
    "        self.assignments = assignments # list of assignments ids\n",
    "        self.participants = participants # list of graders ids"
   ]
  },
  {
   "cell_type": "markdown",
   "metadata": {},
   "source": [
    "## Fetching data"
   ]
  },
  {
   "cell_type": "code",
   "execution_count": 10,
   "metadata": {
    "collapsed": false
   },
   "outputs": [],
   "source": [
    "client = MongoClient()\n",
    "db = client.heroku_rnwkcq9r"
   ]
  },
  {
   "cell_type": "markdown",
   "metadata": {},
   "source": [
    "Find all the ids of the relevant objects"
   ]
  },
  {
   "cell_type": "code",
   "execution_count": 11,
   "metadata": {
    "collapsed": false
   },
   "outputs": [],
   "source": [
    "assignments_i = list()\n",
    "graders_i = list()\n",
    "questions_i = list() # assignment id as key\n",
    "assignment_question_i = defaultdict(list)\n",
    "questions_assignment_i = dict() # assignment id as key\n",
    "handins_i = defaultdict(list) # assignment id as key\n",
    "gradings_i = defaultdict(list) # handin id as key \n",
    "grading_handin_i = dict() # grading id as key\n",
    "answeres_i = defaultdict(list) # gradings id as key\n",
    "\n",
    "course = db.course.find_one({'_id': ObjectId(\"55d9cb9ea6fb8f00080da4a1\")})\n",
    "\n",
    "for gradr_i in course['students']:\n",
    "    for g_d in db.user.find({'_id': gradr_i}):\n",
    "        graders_i.append(g_d)\n",
    "\n",
    "for ass_d in db.assignment.find({'course': course['_id']}):\n",
    "    ass_i = str(ass_d['_id'])\n",
    "    assignments_i.append(ass_d)\n",
    "    # questions \n",
    "    for sec_i in ass_d['sections']:\n",
    "        sec_d = db.question_section.find_one({'_id': sec_i})\n",
    "        for q_i in sec_d['questions']:\n",
    "            for q_d in db.question.find({'_id': q_i}):\n",
    "                questions_i.append(q_d)\n",
    "                questions_assignment_i[str(q_i)] = ass_i\n",
    "                assignment_question_i[str(ass_i)].append(str(q_i))\n",
    "                \n",
    "    # handins\n",
    "    for han_d in db.handin.find({'assignment': ObjectId(ass_i)}):\n",
    "        han_i = str(han_d['_id'])\n",
    "        handins_i[ass_i].append(han_d)\n",
    "        #gradings\n",
    "        for grad_d in db.report_grade.find({'handin': ObjectId(han_i), 'state': 'ANSWERED'}):\n",
    "            grad_i = str(grad_d['_id'])\n",
    "            gradings_i[han_i].append(grad_d)\n",
    "            grading_handin_i[grad_i] = han_i\n",
    "            #answeres\n",
    "            for answer_d in db.answer.find({'report_grade': ObjectId(grad_i)}):\n",
    "                answeres_i[grad_i].append(answer_d)"
   ]
  },
  {
   "cell_type": "markdown",
   "metadata": {},
   "source": [
    "Use the found ids to populate the previous defined objects"
   ]
  },
  {
   "cell_type": "code",
   "execution_count": 12,
   "metadata": {
    "collapsed": true
   },
   "outputs": [],
   "source": [
    "def attr(entries,key):\n",
    "    return map(lambda x: x[key],entries)"
   ]
  },
  {
   "cell_type": "code",
   "execution_count": 13,
   "metadata": {
    "collapsed": true
   },
   "outputs": [],
   "source": [
    "def question_max_value(question_id):\n",
    "    question = db.question.find_one({'_id': ObjectId(question_id)})\n",
    "    if question['question_type'] == \"boolean\":\n",
    "        return 1\n",
    "    elif question[\"question_type\"] == \"numerical\":\n",
    "        if 'numericalAnswers' in question:\n",
    "            max_value = max(map(int,question['numericalAnswers'].keys()))\n",
    "            return max_value\n",
    "        else:\n",
    "            return 5"
   ]
  },
  {
   "cell_type": "code",
   "execution_count": 14,
   "metadata": {
    "collapsed": true
   },
   "outputs": [],
   "source": [
    "def answer_value_normalized(answer_id):\n",
    "    answer = db.answer.find_one({'_id': answer_id})\n",
    "    q_id = answer['question']\n",
    "    if 'numerical_answer' in answer:\n",
    "        return answer['numerical_answer'] / float(question_max_value(q_id))\n",
    "    elif 'boolean_answer' in answer:\n",
    "        return answer['boolean_answer'] / float(question_max_value(q_id))"
   ]
  },
  {
   "cell_type": "code",
   "execution_count": 15,
   "metadata": {
    "collapsed": true
   },
   "outputs": [],
   "source": [
    "def answer_value(answer_id):\n",
    "    '''returns the normalized value of an answere'''\n",
    "    answer = db.answer.find_one({'_id': answer_id})\n",
    "    q_id = answer['question']\n",
    "    if 'numerical_answer' in answer:\n",
    "        return answer['numerical_answer']\n",
    "    elif 'boolean_answer' in answer:\n",
    "        return answer['boolean_answer']"
   ]
  },
  {
   "cell_type": "code",
   "execution_count": 16,
   "metadata": {
    "collapsed": true
   },
   "outputs": [],
   "source": [
    "def graders_gradings(grader_id):\n",
    "    gradings = list()\n",
    "    for g in db.report_grade.find({'giver': grader_id}):\n",
    "        gradings.append(g)\n",
    "    return gradings"
   ]
  },
  {
   "cell_type": "markdown",
   "metadata": {},
   "source": [
    "Question objects: dependent on assignment"
   ]
  },
  {
   "cell_type": "code",
   "execution_count": 17,
   "metadata": {
    "collapsed": false
   },
   "outputs": [],
   "source": [
    "with open(r\"BigDataFormattedData/questions.txt\", \"w\") as o_file:\n",
    "    for q in questions_i:\n",
    "        _id = str(q['_id'])\n",
    "        q_obj = Question(_id,q['question_type'],questions_assignment_i[_id],q['text'],question_max_value(_id))\n",
    "        q_enc = jsonpickle.encode(q_obj,unpicklable=False)\n",
    "        o_file.write(q_enc + \"\\n\")"
   ]
  },
  {
   "cell_type": "markdown",
   "metadata": {},
   "source": [
    "Answer objects: dependent on question"
   ]
  },
  {
   "cell_type": "code",
   "execution_count": 18,
   "metadata": {
    "collapsed": false
   },
   "outputs": [],
   "source": [
    "with open(r\"BigDataFormattedData/answers.txt\", \"w\") as o_file:\n",
    "    for g, ans in answeres_i.iteritems():\n",
    "        for a in ans:\n",
    "            _id = a['_id']\n",
    "            flagged = False\n",
    "            if 'flagged' in a:\n",
    "                flagged = a['flagged'] \n",
    "            a_obj = Answer(str(_id), g, str(a['question']),flagged)\n",
    "            if 'text_answer'in a:\n",
    "                a_obj.add_text_answere(a['text_answer'])\n",
    "            else:\n",
    "                a_obj.add_value_answere(answer_value(_id),answer_value_normalized(_id))\n",
    "            a_enc = jsonpickle.encode(a_obj,unpicklable=False)\n",
    "            o_file.write(a_enc + \"\\n\")"
   ]
  },
  {
   "cell_type": "markdown",
   "metadata": {},
   "source": [
    "Grading objects: dependant on grader, answeres and handin"
   ]
  },
  {
   "cell_type": "code",
   "execution_count": 19,
   "metadata": {
    "collapsed": false
   },
   "outputs": [],
   "source": [
    "with open(r\"BigDataFormattedData/gradings.txt\", \"w\") as o_file:\n",
    "    for h, gradings in gradings_i.iteritems():\n",
    "        for g in gradings:\n",
    "            _id = str(g['_id'])\n",
    "            answeres = map(lambda x:str(x),attr(answeres_i[_id],'_id'))\n",
    "            feedback = None\n",
    "            if 'feedback_grade' in g:\n",
    "                feedback = g['feedback_grade']\n",
    "            g_obj = Grading(_id, str(g['giver']), str(g['handin']), answeres, str(g['assignment']),feedback)\n",
    "            g_enc = jsonpickle.encode(g_obj,unpicklable=False)\n",
    "            o_file.write(g_enc + \"\\n\")"
   ]
  },
  {
   "cell_type": "markdown",
   "metadata": {},
   "source": [
    "Grader object: dependent on handins"
   ]
  },
  {
   "cell_type": "code",
   "execution_count": 20,
   "metadata": {
    "collapsed": false
   },
   "outputs": [],
   "source": [
    "with open(r\"BigDataFormattedData/users.txt\", \"w\") as o_file:\n",
    "        for g in graders_i:\n",
    "            _id = str(g['_id'])\n",
    "            g_obj = User(_id, g['name'],map(str,(attr(graders_gradings(g['_id']),'_id'))))\n",
    "            g_enc = jsonpickle.encode(g_obj,unpicklable=False)\n",
    "            o_file.write(g_enc + \"\\n\")"
   ]
  },
  {
   "cell_type": "markdown",
   "metadata": {},
   "source": [
    "Handin objects: dependent on graders and gradings"
   ]
  },
  {
   "cell_type": "code",
   "execution_count": 21,
   "metadata": {
    "collapsed": false
   },
   "outputs": [],
   "source": [
    "with open(r\"BigDataFormattedData/handins.txt\", \"w\") as o_file:\n",
    "    for a, handins in handins_i.iteritems():\n",
    "        for h in handins:\n",
    "            _id = str(h['_id'])\n",
    "            owners = map(lambda x:str(x),h['students'])\n",
    "            gradings = map(lambda x:str(x),attr(gradings_i[_id],'_id'))\n",
    "            h_obj = Handin(_id, a, owners, gradings)\n",
    "            h_enc = jsonpickle.encode(h_obj,unpicklable=False)\n",
    "            o_file.write(h_enc + \"\\n\")"
   ]
  },
  {
   "cell_type": "markdown",
   "metadata": {},
   "source": [
    "Assignment objects: depndent on questions and handins"
   ]
  },
  {
   "cell_type": "code",
   "execution_count": 22,
   "metadata": {
    "collapsed": false
   },
   "outputs": [],
   "source": [
    "with open(r\"BigDataFormattedData/assignments.txt\", \"w\") as o_file:\n",
    "    for a in assignments_i:\n",
    "        _id = str(a['_id'])\n",
    "        a_obj = Assignment(_id, a['title'], assignment_question_i[_id], map(str,attr(handins_i[_id],'_id')))\n",
    "        a_enc = jsonpickle.encode(a_obj,unpicklable=False)\n",
    "        o_file.write(a_enc + \"\\n\")"
   ]
  },
  {
   "cell_type": "markdown",
   "metadata": {},
   "source": [
    "Course object: dependent on graders and assignemnt"
   ]
  },
  {
   "cell_type": "code",
   "execution_count": 25,
   "metadata": {
    "collapsed": false
   },
   "outputs": [],
   "source": [
    "with open(r\"BigDataFormattedData/courses.txt\", \"w\") as o_file:\n",
    "    _id = str(course['_id'])\n",
    "    assignments = map(str,attr(assignments_i,'_id'))\n",
    "    c_obj = Course(_id, course['title'], assignments, map(str,course['students']))\n",
    "    c_enc = jsonpickle.encode(c_obj,unpicklable=False)\n",
    "    o_file.write(c_enc + \"\\n\")"
   ]
  },
  {
   "cell_type": "raw",
   "metadata": {},
   "source": []
  },
  {
   "cell_type": "code",
   "execution_count": null,
   "metadata": {
    "collapsed": true
   },
   "outputs": [],
   "source": []
  },
  {
   "cell_type": "markdown",
   "metadata": {},
   "source": [
    "## Storing data"
   ]
  },
  {
   "cell_type": "code",
   "execution_count": null,
   "metadata": {
    "collapsed": true
   },
   "outputs": [],
   "source": []
  }
 ],
 "metadata": {
  "kernelspec": {
   "display_name": "Python 2",
   "language": "python",
   "name": "python2"
  },
  "language_info": {
   "codemirror_mode": {
    "name": "ipython",
    "version": 2
   },
   "file_extension": ".py",
   "mimetype": "text/x-python",
   "name": "python",
   "nbconvert_exporter": "python",
   "pygments_lexer": "ipython2",
   "version": "2.7.10"
  }
 },
 "nbformat": 4,
 "nbformat_minor": 0
}
