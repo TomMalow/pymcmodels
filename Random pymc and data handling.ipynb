{
 "cells": [
  {
   "cell_type": "code",
   "execution_count": 5,
   "metadata": {
    "collapsed": false
   },
   "outputs": [],
   "source": [
    "%matplotlib inline\n",
    "from collections import defaultdict\n",
    "import pymc as pm\n",
    "from pymc.Matplot import plot\n",
    "import numpy as np\n",
    "from matplotlib import pyplot as plt\n",
    "import json\n",
    "from pymongo import MongoClient\n",
    "import pymongo\n",
    "from bson.objectid import ObjectId\n",
    "import jsonpickle\n",
    "from scipy.stats import loggamma"
   ]
  },
  {
   "cell_type": "code",
   "execution_count": 6,
   "metadata": {
    "collapsed": false
   },
   "outputs": [],
   "source": [
    "import sys\n",
    "sys.path.insert(0,'../Peergrade/peergrade/')\n",
    "from application.model import data_model\n"
   ]
  },
  {
   "cell_type": "markdown",
   "metadata": {},
   "source": [
    "### Normal"
   ]
  },
  {
   "cell_type": "code",
   "execution_count": null,
   "metadata": {
    "collapsed": false
   },
   "outputs": [],
   "source": [
    "data = list()\n",
    "for i in range(0,1000):\n",
    "    data.append(np.random.lognormal(mean=0,sigma=1/1000.0))\n",
    "plt.hist(data, bins=25, histtype=\"stepfilled\", normed=True)"
   ]
  },
  {
   "cell_type": "code",
   "execution_count": null,
   "metadata": {
    "collapsed": false
   },
   "outputs": [],
   "source": [
    "B_mu = pm.Normal('B_mu_generator',0,1000)\n",
    "data = list()\n",
    "for i in range(0,1000):\n",
    "    data.append(B_mu.random())\n",
    "plt.hist(data, bins=25, histtype=\"stepfilled\", normed=True)"
   ]
  },
  {
   "cell_type": "code",
   "execution_count": null,
   "metadata": {
    "collapsed": false
   },
   "outputs": [],
   "source": [
    "pm.skew_normal_like([0.2,0.6,0.5],0.5,100,1)"
   ]
  },
  {
   "cell_type": "code",
   "execution_count": null,
   "metadata": {
    "collapsed": false,
    "scrolled": true
   },
   "outputs": [],
   "source": [
    "B_mu = pm.Normal('B_mu_generator',0,500)\n",
    "data = list()\n",
    "for i in range(0,1000):\n",
    "    data.append(B_mu.random())\n",
    "plt.hist(data, bins=25, histtype=\"stepfilled\", normed=True)"
   ]
  },
  {
   "cell_type": "markdown",
   "metadata": {},
   "source": [
    "### Beta"
   ]
  },
  {
   "cell_type": "code",
   "execution_count": null,
   "metadata": {
    "collapsed": false
   },
   "outputs": [],
   "source": [
    "B_tau = pm.Beta('B_tau_generator',2,1.5)\n",
    "data = list()\n",
    "for i in range(0,1000):\n",
    "    data.append(B_tau.random())\n",
    "plt.hist(data, bins=25, histtype=\"stepfilled\", normed=True)"
   ]
  },
  {
   "cell_type": "markdown",
   "metadata": {},
   "source": [
    "### Gamma"
   ]
  },
  {
   "cell_type": "code",
   "execution_count": null,
   "metadata": {
    "collapsed": false
   },
   "outputs": [],
   "source": [
    "loggamma.rvs(50,scale=1/0.1)"
   ]
  },
  {
   "cell_type": "code",
   "execution_count": null,
   "metadata": {
    "collapsed": false
   },
   "outputs": [],
   "source": [
    "data = list()\n",
    "for i in range(0,1000):\n",
    "    data.append(loggamma.rvs(50,scale=1/0.1))\n",
    "plt.hist(data, bins=25, histtype=\"stepfilled\", normed=True)"
   ]
  },
  {
   "cell_type": "code",
   "execution_count": null,
   "metadata": {
    "collapsed": false
   },
   "outputs": [],
   "source": [
    "B_tau = pm.Gamma('B_tau_generator',50,0.1)\n",
    "data = list()\n",
    "for i in range(0,1000):\n",
    "    data.append(B_tau.random())\n",
    "plt.hist(data, bins=25, histtype=\"stepfilled\", normed=True)"
   ]
  },
  {
   "cell_type": "code",
   "execution_count": null,
   "metadata": {
    "collapsed": true
   },
   "outputs": [],
   "source": []
  },
  {
   "cell_type": "code",
   "execution_count": null,
   "metadata": {
    "collapsed": false
   },
   "outputs": [],
   "source": [
    "B_tau = pm.Gamma('B_tau_generator',50,0.1)\n",
    "data = list()\n",
    "for i in range(0,1000):\n",
    "    B_val = B_tau.random()\n",
    "    B = pm.Normal('B_generator',0,B_val)\n",
    "    data.append(B.random())\n",
    "plt.hist(data, bins=25, histtype=\"stepfilled\", normed=True)"
   ]
  },
  {
   "cell_type": "code",
   "execution_count": null,
   "metadata": {
    "collapsed": false
   },
   "outputs": [],
   "source": [
    "B_tau = pm.Gamma('B_tau_generator',50,0.1)\n",
    "B = pm.Normal('B_generator',0,B_tau)\n",
    "data = list()\n",
    "for i in range(0,1000):\n",
    "    data.append(B.random())\n",
    "plt.hist(data, bins=25, histtype=\"stepfilled\", normed=True)"
   ]
  },
  {
   "cell_type": "code",
   "execution_count": null,
   "metadata": {
    "collapsed": false
   },
   "outputs": [],
   "source": [
    "B = pm.Normal('B_generator',0,500)\n",
    "data = list()\n",
    "for i in range(0,1000):\n",
    "    B_val = B_tau.random()\n",
    "    B = pm.Normal('B_generator',0,B_val)\n",
    "    data.append(B.random())\n",
    "plt.hist(data, bins=25, histtype=\"stepfilled\", normed=True)"
   ]
  },
  {
   "cell_type": "markdown",
   "metadata": {},
   "source": [
    "### NormalGamma"
   ]
  },
  {
   "cell_type": "code",
   "execution_count": null,
   "metadata": {
    "collapsed": false
   },
   "outputs": [],
   "source": [
    "B_tau = pm.Gamma('B_tau_generator',50,0.1)\n",
    "data_mu = list()\n",
    "data_tau = list()\n",
    "for i in range(0,1000):\n",
    "    b_tau = B_tau.random()\n",
    "    \n",
    "    data_tau.append(b_tau)\n",
    "    B_mu = pm.Normal('B_mu_generator',0, 1*b_tau)\n",
    "    data_mu.append(B_mu.random())\n",
    "plt.subplot(211)\n",
    "plt.title('Mu')\n",
    "plt.hist(data_mu, bins=25, histtype=\"stepfilled\", normed=True)\n",
    "plt.subplot(212)\n",
    "plt.title('Tau')\n",
    "plt.hist(data_tau, bins=25, histtype=\"stepfilled\", normed=True)\n",
    "print 1/np.var(data_mu)"
   ]
  },
  {
   "cell_type": "markdown",
   "metadata": {},
   "source": [
    "# Reformating data and seralizing"
   ]
  },
  {
   "cell_type": "code",
   "execution_count": null,
   "metadata": {
    "collapsed": true
   },
   "outputs": [],
   "source": [
    "class Question(object):\n",
    "    def __init__(self,_id,_type, assignment, text, max_grade_value):\n",
    "        self._id = _id\n",
    "        self._type = _type\n",
    "        self.assignment = assignment\n",
    "        self.text = text\n",
    "        self.max_grade_value = max_grade_value"
   ]
  },
  {
   "cell_type": "code",
   "execution_count": null,
   "metadata": {
    "collapsed": true
   },
   "outputs": [],
   "source": [
    "class Answer(object):\n",
    "    def __init__(self, _id, grading, question, flagged):\n",
    "        self._id = _id\n",
    "        self.grading = grading\n",
    "        self.question = question\n",
    "        self.flagged = flagged\n",
    "        \n",
    "    def add_text_answere(self, text):\n",
    "        self.text = text\n",
    "    def add_value_answere(self, graded_value, normalized):\n",
    "        self.grade_value = graded_value\n",
    "        self.normalized = normalized"
   ]
  },
  {
   "cell_type": "code",
   "execution_count": null,
   "metadata": {
    "collapsed": false
   },
   "outputs": [],
   "source": [
    "class Grading(object):\n",
    "    def __init__(self, _id, grader, handin, answeres, assignment, feedback_grade):\n",
    "        self._id = _id\n",
    "        self.grader = grader\n",
    "        self.answeres = answeres # list of asnwer ids\n",
    "        self.handin = handin\n",
    "        self.assignment = assignment\n",
    "        self.feedback_grade = feedback_grade"
   ]
  },
  {
   "cell_type": "code",
   "execution_count": null,
   "metadata": {
    "collapsed": true
   },
   "outputs": [],
   "source": [
    "class User(object):\n",
    "    def __init__(self, _id, name, graded_handins):\n",
    "        self._id = _id\n",
    "        self.name = name\n",
    "        self.graded_handins = graded_handins # list of handins ids"
   ]
  },
  {
   "cell_type": "code",
   "execution_count": null,
   "metadata": {
    "collapsed": true
   },
   "outputs": [],
   "source": [
    "class Handin(object):\n",
    "    def __init__(self,_id, assignment, owners, gradings):\n",
    "        self._id = _id\n",
    "        self.assignment = assignment\n",
    "        self.owners = owners # list of grader ids\n",
    "        self.gradings = gradings #list of grading ids"
   ]
  },
  {
   "cell_type": "code",
   "execution_count": null,
   "metadata": {
    "collapsed": true
   },
   "outputs": [],
   "source": [
    "class Assignment(object):\n",
    "    def __init__(self, _id, title, questions, handins):\n",
    "        self._id = _id\n",
    "        self.title = title\n",
    "        self.questions = questions # list of question ids\n",
    "        self.handins = handins # list of handins ids"
   ]
  },
  {
   "cell_type": "code",
   "execution_count": null,
   "metadata": {
    "collapsed": true
   },
   "outputs": [],
   "source": [
    "class Course(object):\n",
    "    def __init__(self, _id, title, assignments, participants):\n",
    "        self._id = _id\n",
    "        self.title = title\n",
    "        self.assignments = assignments # list of assignments ids\n",
    "        self.participants = participants # list of graders ids"
   ]
  },
  {
   "cell_type": "markdown",
   "metadata": {},
   "source": [
    "## Fetching data"
   ]
  },
  {
   "cell_type": "code",
   "execution_count": null,
   "metadata": {
    "collapsed": false
   },
   "outputs": [],
   "source": [
    "client = MongoClient()\n",
    "db = client.heroku_rnwkcq9r"
   ]
  },
  {
   "cell_type": "markdown",
   "metadata": {},
   "source": [
    "Find all the ids of the relevant objects"
   ]
  },
  {
   "cell_type": "code",
   "execution_count": null,
   "metadata": {
    "collapsed": false
   },
   "outputs": [],
   "source": [
    "assignments_i = list()\n",
    "graders_i = list()\n",
    "questions_i = list() # assignment id as key\n",
    "assignment_question_i = defaultdict(list)\n",
    "questions_assignment_i = dict() # assignment id as key\n",
    "handins_i = defaultdict(list) # assignment id as key\n",
    "gradings_i = defaultdict(list) # handin id as key \n",
    "grading_handin_i = dict() # grading id as key\n",
    "answeres_i = defaultdict(list) # gradings id as key\n",
    "\n",
    "course = db.course.find_one({'_id': ObjectId(\"55d9cb9ea6fb8f00080da4a1\")})\n",
    "\n",
    "for gradr_i in course['students']:\n",
    "    for g_d in db.user.find({'_id': gradr_i}):\n",
    "        graders_i.append(g_d)\n",
    "\n",
    "for ass_d in db.assignment.find({'course': course['_id']}):\n",
    "    ass_i = str(ass_d['_id'])\n",
    "    assignments_i.append(ass_d)\n",
    "    # questions \n",
    "    for sec_i in ass_d['sections']:\n",
    "        sec_d = db.question_section.find_one({'_id': sec_i})\n",
    "        for q_i in sec_d['questions']:\n",
    "            for q_d in db.question.find({'_id': q_i}):\n",
    "                questions_i.append(q_d)\n",
    "                questions_assignment_i[str(q_i)] = ass_i\n",
    "                assignment_question_i[str(ass_i)].append(str(q_i))\n",
    "                \n",
    "    # handins\n",
    "    for han_d in db.handin.find({'assignment': ObjectId(ass_i)}):\n",
    "        han_i = str(han_d['_id'])\n",
    "        handins_i[ass_i].append(han_d)\n",
    "        #gradings\n",
    "        for grad_d in db.report_grade.find({'handin': ObjectId(han_i), 'state': 'ANSWERED'}):\n",
    "            grad_i = str(grad_d['_id'])\n",
    "            gradings_i[han_i].append(grad_d)\n",
    "            grading_handin_i[grad_i] = han_i\n",
    "            #answeres\n",
    "            for answer_d in db.answer.find({'report_grade': ObjectId(grad_i)}):\n",
    "                answeres_i[grad_i].append(answer_d)"
   ]
  },
  {
   "cell_type": "markdown",
   "metadata": {},
   "source": [
    "Use the found ids to populate the previous defined objects"
   ]
  },
  {
   "cell_type": "code",
   "execution_count": null,
   "metadata": {
    "collapsed": true
   },
   "outputs": [],
   "source": [
    "def attr(entries,key):\n",
    "    return map(lambda x: x[key],entries)"
   ]
  },
  {
   "cell_type": "code",
   "execution_count": null,
   "metadata": {
    "collapsed": true
   },
   "outputs": [],
   "source": [
    "def question_max_value(question_id):\n",
    "    question = db.question.find_one({'_id': ObjectId(question_id)})\n",
    "    if question['question_type'] == \"boolean\":\n",
    "        return 1\n",
    "    elif question[\"question_type\"] == \"numerical\":\n",
    "        if 'numericalAnswers' in question:\n",
    "            max_value = max(map(int,question['numericalAnswers'].keys()))\n",
    "            return max_value\n",
    "        else:\n",
    "            return 5"
   ]
  },
  {
   "cell_type": "code",
   "execution_count": null,
   "metadata": {
    "collapsed": true
   },
   "outputs": [],
   "source": [
    "def answer_value_normalized(answer_id):\n",
    "    answer = db.answer.find_one({'_id': answer_id})\n",
    "    q_id = answer['question']\n",
    "    if 'numerical_answer' in answer:\n",
    "        return answer['numerical_answer'] / float(question_max_value(q_id))\n",
    "    elif 'boolean_answer' in answer:\n",
    "        return answer['boolean_answer'] / float(question_max_value(q_id))"
   ]
  },
  {
   "cell_type": "code",
   "execution_count": null,
   "metadata": {
    "collapsed": true
   },
   "outputs": [],
   "source": [
    "def answer_value(answer_id):\n",
    "    '''returns the normalized value of an answere'''\n",
    "    answer = db.answer.find_one({'_id': answer_id})\n",
    "    q_id = answer['question']\n",
    "    if 'numerical_answer' in answer:\n",
    "        return answer['numerical_answer']\n",
    "    elif 'boolean_answer' in answer:\n",
    "        return answer['boolean_answer']"
   ]
  },
  {
   "cell_type": "code",
   "execution_count": null,
   "metadata": {
    "collapsed": true
   },
   "outputs": [],
   "source": [
    "def graders_gradings(grader_id):\n",
    "    gradings = list()\n",
    "    for g in db.report_grade.find({'giver': grader_id}):\n",
    "        gradings.append(g)\n",
    "    return gradings"
   ]
  },
  {
   "cell_type": "markdown",
   "metadata": {},
   "source": [
    "Question objects: dependent on assignment"
   ]
  },
  {
   "cell_type": "code",
   "execution_count": null,
   "metadata": {
    "collapsed": false
   },
   "outputs": [],
   "source": [
    "with open(r\"BigDataFormattedData/questions.txt\", \"w\") as o_file:\n",
    "    for q in questions_i:\n",
    "        _id = str(q['_id'])\n",
    "        q_obj = Question(_id,q['question_type'],questions_assignment_i[_id],q['text'],question_max_value(_id))\n",
    "        q_enc = jsonpickle.encode(q_obj,unpicklable=False)\n",
    "        o_file.write(q_enc + \"\\n\")"
   ]
  },
  {
   "cell_type": "markdown",
   "metadata": {},
   "source": [
    "Answer objects: dependent on question"
   ]
  },
  {
   "cell_type": "code",
   "execution_count": null,
   "metadata": {
    "collapsed": false
   },
   "outputs": [],
   "source": [
    "with open(r\"BigDataFormattedData/answers.txt\", \"w\") as o_file:\n",
    "    for g, ans in answeres_i.iteritems():\n",
    "        for a in ans:\n",
    "            _id = a['_id']\n",
    "            flagged = False\n",
    "            if 'flagged' in a:\n",
    "                flagged = a['flagged'] \n",
    "            a_obj = Answer(str(_id), g, str(a['question']),flagged)\n",
    "            if 'text_answer'in a:\n",
    "                a_obj.add_text_answere(a['text_answer'])\n",
    "            else:\n",
    "                a_obj.add_value_answere(answer_value(_id),answer_value_normalized(_id))\n",
    "            a_enc = jsonpickle.encode(a_obj,unpicklable=False)\n",
    "            o_file.write(a_enc + \"\\n\")"
   ]
  },
  {
   "cell_type": "markdown",
   "metadata": {},
   "source": [
    "Grading objects: dependant on grader, answeres and handin"
   ]
  },
  {
   "cell_type": "code",
   "execution_count": null,
   "metadata": {
    "collapsed": false
   },
   "outputs": [],
   "source": [
    "with open(r\"BigDataFormattedData/gradings.txt\", \"w\") as o_file:\n",
    "    for h, gradings in gradings_i.iteritems():\n",
    "        for g in gradings:\n",
    "            _id = str(g['_id'])\n",
    "            answeres = map(lambda x:str(x),attr(answeres_i[_id],'_id'))\n",
    "            feedback = None\n",
    "            if 'feedback_grade' in g:\n",
    "                feedback = g['feedback_grade']\n",
    "            g_obj = Grading(_id, str(g['giver']), str(g['handin']), answeres, str(g['assignment']),feedback)\n",
    "            g_enc = jsonpickle.encode(g_obj,unpicklable=False)\n",
    "            o_file.write(g_enc + \"\\n\")"
   ]
  },
  {
   "cell_type": "markdown",
   "metadata": {},
   "source": [
    "Grader object: dependent on handins"
   ]
  },
  {
   "cell_type": "code",
   "execution_count": null,
   "metadata": {
    "collapsed": false
   },
   "outputs": [],
   "source": [
    "with open(r\"BigDataFormattedData/users.txt\", \"w\") as o_file:\n",
    "        for g in graders_i:\n",
    "            _id = str(g['_id'])\n",
    "            g_obj = User(_id, g['name'],map(str,(attr(graders_gradings(g['_id']),'_id'))))\n",
    "            g_enc = jsonpickle.encode(g_obj,unpicklable=False)\n",
    "            o_file.write(g_enc + \"\\n\")"
   ]
  },
  {
   "cell_type": "markdown",
   "metadata": {},
   "source": [
    "Handin objects: dependent on graders and gradings"
   ]
  },
  {
   "cell_type": "code",
   "execution_count": null,
   "metadata": {
    "collapsed": false
   },
   "outputs": [],
   "source": [
    "with open(r\"BigDataFormattedData/handins.txt\", \"w\") as o_file:\n",
    "    for a, handins in handins_i.iteritems():\n",
    "        for h in handins:\n",
    "            _id = str(h['_id'])\n",
    "            owners = map(lambda x:str(x),h['students'])\n",
    "            gradings = map(lambda x:str(x),attr(gradings_i[_id],'_id'))\n",
    "            h_obj = Handin(_id, a, owners, gradings)\n",
    "            h_enc = jsonpickle.encode(h_obj,unpicklable=False)\n",
    "            o_file.write(h_enc + \"\\n\")"
   ]
  },
  {
   "cell_type": "markdown",
   "metadata": {},
   "source": [
    "Assignment objects: depndent on questions and handins"
   ]
  },
  {
   "cell_type": "code",
   "execution_count": null,
   "metadata": {
    "collapsed": false
   },
   "outputs": [],
   "source": [
    "with open(r\"BigDataFormattedData/assignments.txt\", \"w\") as o_file:\n",
    "    for a in assignments_i:\n",
    "        _id = str(a['_id'])\n",
    "        a_obj = Assignment(_id, a['title'], assignment_question_i[_id], map(str,attr(handins_i[_id],'_id')))\n",
    "        a_enc = jsonpickle.encode(a_obj,unpicklable=False)\n",
    "        o_file.write(a_enc + \"\\n\")"
   ]
  },
  {
   "cell_type": "markdown",
   "metadata": {},
   "source": [
    "Course object: dependent on graders and assignemnt"
   ]
  },
  {
   "cell_type": "code",
   "execution_count": null,
   "metadata": {
    "collapsed": false
   },
   "outputs": [],
   "source": [
    "with open(r\"BigDataFormattedData/courses.txt\", \"w\") as o_file:\n",
    "    _id = str(course['_id'])\n",
    "    assignments = map(str,attr(assignments_i,'_id'))\n",
    "    c_obj = Course(_id, course['title'], assignments, map(str,course['students']))\n",
    "    c_enc = jsonpickle.encode(c_obj,unpicklable=False)\n",
    "    o_file.write(c_enc + \"\\n\")"
   ]
  },
  {
   "cell_type": "raw",
   "metadata": {},
   "source": []
  },
  {
   "cell_type": "code",
   "execution_count": null,
   "metadata": {
    "collapsed": true
   },
   "outputs": [],
   "source": []
  },
  {
   "cell_type": "markdown",
   "metadata": {},
   "source": [
    "## Storing data"
   ]
  },
  {
   "cell_type": "code",
   "execution_count": null,
   "metadata": {
    "collapsed": true
   },
   "outputs": [],
   "source": [
    "client = MongoClient()\n",
    "db = client.heroku_rnwkcq9r"
   ]
  },
  {
   "cell_type": "code",
   "execution_count": null,
   "metadata": {
    "collapsed": true
   },
   "outputs": [],
   "source": [
    "# finds the reported score for each handins in an assignment\n",
    "# returns a list containing the score of each handin\n",
    "def course_handins_id(course_id):\n",
    "    handins_reports = list()\n",
    "    assignments = db.assignment.find({'course': course_id})\n",
    "    for assignment in assignments:\n",
    "        \n",
    "        handins = db.handin.find({'assignment': assignment['_id']})\n",
    "        for handin in handins:\n",
    "            handins_reports.append(handin['_id'])\n",
    "    return handins_reports"
   ]
  },
  {
   "cell_type": "code",
   "execution_count": null,
   "metadata": {
    "collapsed": false
   },
   "outputs": [],
   "source": [
    "len(course_handins_id(ObjectId(\"55d9cb9ea6fb8f00080da4a1\")))"
   ]
  },
  {
   "cell_type": "code",
   "execution_count": null,
   "metadata": {
    "collapsed": false
   },
   "outputs": [],
   "source": [
    "from math import *\n",
    "from matplotlib.pylab import * \n",
    "\n",
    "\n",
    "n=10000\n",
    "rho=.99 #correlation\n",
    "#Means\n",
    "m1 = 10\n",
    "m2 = 20\n",
    "#Standard deviations\n",
    "s1 = 1\n",
    "s2 = 1\n",
    "#Initialize vectors\n",
    "x=zeros(n, float)\n",
    "y=zeros(n, float)\n",
    "sd=sqrt(1-rho**2)\n",
    "# the core of the method: sample recursively from two normal distributions\n",
    "# The mean for the current sample, is updated at each step.\n",
    "for i in range(1,n):\n",
    "  x[i] = normal(m1+rho*(y[i-1]-m2)/s2,s1*sd)\n",
    "  y[i] = normal(m2+rho*(x[i-1]-m1)/s1,s2*sd)\n",
    "\n",
    "scatter(x,y,marker='d',c='r')\n",
    "xlabel('x')\n",
    "ylabel('y')\n",
    "grid()\n",
    "\n",
    "show()"
   ]
  },
  {
   "cell_type": "code",
   "execution_count": 2,
   "metadata": {
    "collapsed": true
   },
   "outputs": [],
   "source": [
    "def norm_log_pdf(x,u,t):\n",
    "    return -0.5*t*(x-u)**2+np.log(t)-np.log(np.sqrt(2.0*math.pi))\n",
    "\n",
    "def gamma_log_pdf(x,a,b):\n",
    "    return a*np.log(b)-np.log(math.gamma(a))+(a-1.0)*np.log(x)-b*x\n",
    "\n",
    "def norm_gamma_log_pdf(u,t,ga,la,a,b):\n",
    "    return a*np.log(b)+np.log(np.sqrt(la))-np.log(math.gamma(a))-np.log(np.sqrt(2.0*math.pi))+(a-1)*np.log(t)-np.log(b*t)-0.5*t*la*(u-ga)**2"
   ]
  },
  {
   "cell_type": "code",
   "execution_count": 19,
   "metadata": {
    "collapsed": false
   },
   "outputs": [
    {
     "data": {
      "image/png": "[encoded data removed]",
      "text/plain": [
       "<matplotlib.figure.Figure at 0x10a928fd0>"
      ]
     },
     "metadata": {},
     "output_type": "display_data"
    }
   ],
   "source": [
    "from math import *\n",
    "from matplotlib.pylab import * \n",
    "\n",
    "\n",
    "n=10000\n",
    "\n",
    "#Means\n",
    "m1 = 10.0\n",
    "#Standard deviations\n",
    "s1 = 0.5\n",
    "#Initialize vectors\n",
    "x=zeros(n, float)\n",
    "y=zeros(n, float)\n",
    "x[0] = 0.0\n",
    "log_x = norm_log_pdf(0,m1,s1)\n",
    "# the core of the method: sample recursively from two normal distributions\n",
    "# The mean for the current sample, is updated at each step.\n",
    "i = 1\n",
    "while i < n:\n",
    "    # Sample u_h and t_h\n",
    "  \n",
    "    # Propose new candidates\n",
    "    x_c = np.random.normal(x[i-1],0.1)\n",
    "    #draw from gamma\n",
    "    p_ = norm_log_pdf(x_c,m1,s1)\n",
    "    alpha = min(1.0,p_-log_x)\n",
    "    if np.log(np.random.random()) <= alpha:\n",
    "        x[i] = x_c\n",
    "        log_x = p_\n",
    "        i = i + 1\n",
    "\n",
    "plt.hist(x,bins=30)\n",
    "scatter(x,y,marker='d',c='r')\n",
    "xlabel('x')\n",
    "ylabel('y')\n",
    "grid()\n",
    "\n",
    "show()"
   ]
  },
  {
   "cell_type": "code",
   "execution_count": 61,
   "metadata": {
    "collapsed": false
   },
   "outputs": [
    {
     "data": {
      "text/plain": [
       "(array([1, 0]), matrix([[ 0.9,  0.1],\n",
       "         [ 0.5,  0.5]]))"
      ]
     },
     "execution_count": 61,
     "metadata": {},
     "output_type": "execute_result"
    }
   ],
   "source": [
    "s_0 = np.array([1,0])\n",
    "T = np.matrix('0.9,0.1;0.5,0.5')\n",
    "s_0, T"
   ]
  },
  {
   "cell_type": "code",
   "execution_count": 62,
   "metadata": {
    "collapsed": false
   },
   "outputs": [
    {
     "data": {
      "text/plain": [
       "matrix([[ 0.9,  0.1]])"
      ]
     },
     "execution_count": 62,
     "metadata": {},
     "output_type": "execute_result"
    }
   ],
   "source": [
    "s_1 = np.dot(s_0,T)\n",
    "s_1"
   ]
  },
  {
   "cell_type": "code",
   "execution_count": 63,
   "metadata": {
    "collapsed": false
   },
   "outputs": [
    {
     "data": {
      "text/plain": [
       "matrix([[ 0.86,  0.14]])"
      ]
     },
     "execution_count": 63,
     "metadata": {},
     "output_type": "execute_result"
    }
   ],
   "source": [
    "s_2 = np.dot(s_1,T)\n",
    "s_2"
   ]
  },
  {
   "cell_type": "code",
   "execution_count": 64,
   "metadata": {
    "collapsed": false
   },
   "outputs": [
    {
     "data": {
      "text/plain": [
       "matrix([[ 0.86,  0.14]])"
      ]
     },
     "execution_count": 64,
     "metadata": {},
     "output_type": "execute_result"
    }
   ],
   "source": [
    "s_2 = np.dot(s_0,T**2)\n",
    "s_2"
   ]
  },
  {
   "cell_type": "code",
   "execution_count": null,
   "metadata": {
    "collapsed": false
   },
   "outputs": [],
   "source": [
    "from numpy import *\n",
    "import matplotlib.pylab as pl\n",
    "\n",
    "def gibbs_sampler(alpha,delta,gamma,y,t):\n",
    "    #initialize beta\n",
    "    beta=1\n",
    "\n",
    "    num_iter=1000\n",
    "\n",
    "    beta_draws=[]\n",
    "    lambda_draws=[]\n",
    "\n",
    "    for i in range(num_iter):\n",
    "        #sample lambda given other lambdas and beta\n",
    "        lambdas=lambda_update(alpha,beta,y,t)\n",
    "\n",
    "        #record sample\n",
    "        lambda_draws.append(lambdas)\n",
    "\n",
    "        #sample beta given lambda samples\n",
    "        beta=beta_update(alpha,gamma,delta,lambdas,y)\n",
    "\n",
    "        #record sample\n",
    "        beta_draws.append(beta)\n",
    "\n",
    "    pl.plot(beta_draws)\n",
    "    pl.show()\n",
    "\n",
    "def lambda_update(alpha,beta,y,t):\n",
    "\n",
    "    new_alpha=[(x+alpha) for x in y]\n",
    "    new_beta=[1.0/(a+beta) for a in t]#Changed here\n",
    "\n",
    "    #sample from this distribution 10 times\n",
    "    samples=random.gamma(new_alpha,new_beta)\n",
    "    return samples\n",
    "\n",
    "\n",
    "def beta_update(alpha,gamma,delta,lambdas,y):\n",
    "    #get sample\n",
    "    sample=random.gi(len(y)*alpha+gamma, \n",
    "                        1.0 / (delta+sum(lambdas)))#Changed here\n",
    "    return sample\n",
    "\n",
    "y=[5,1,5,14,3,19,1,1,4,22]\n",
    "t=[94,16,63,126,5,31,1,1,2,10]\n",
    "\n",
    "alpha=1.8\n",
    "gamma=0.01\n",
    "delta=1\n",
    "\n",
    "gibbs_sampler(alpha,delta,gamma,y,t)"
   ]
  },
  {
   "cell_type": "code",
   "execution_count": null,
   "metadata": {
    "collapsed": true
   },
   "outputs": [],
   "source": []
  },
  {
   "cell_type": "code",
   "execution_count": 7,
   "metadata": {
    "collapsed": false
   },
   "outputs": [],
   "source": [
    "count = 0\n",
    "questions = list()\n",
    "grade_p_s = list()\n",
    "grade_p_h = list()\n",
    "students = list()\n",
    "handins = list()\n",
    "\n",
    "assignments_d = data_model.Assignment.objects()\n",
    "for assignment in assignments_d:\n",
    "    v = len(data_model.Handin.objects(assignment=assignment))\n",
    "    if v != 0:\n",
    "        handins.append(v)\n",
    "    v = len(assignment.course.students)\n",
    "    if v != 0:\n",
    "        students.append(len(assignment.course.students))\n",
    "    if assignment.grades_per_student != 0:\n",
    "        grade_p_s.append(assignment.grades_per_student)\n",
    "    if assignment.grades_per_handin != 23:\n",
    "        grade_p_h.append(assignment.grades_per_handin)\n",
    "    n_questions = 0\n",
    "    for section in assignment.sections:\n",
    "        for question in section.questions:\n",
    "            if question.question_type == \"text\":\n",
    "                n_questions = n_questions + 1\n",
    "    questions.append(n_questions)\n",
    "    count = count + 1"
   ]
  },
  {
   "cell_type": "code",
   "execution_count": 8,
   "metadata": {
    "collapsed": false
   },
   "outputs": [
    {
     "name": "stdout",
     "output_type": "stream",
     "text": [
      "Questions\n",
      "Mean: 2.505348 Median: 2.000000 Max: 22 Min: 0\n",
      "Students\n",
      "Mean: 54.801802 Median: 22.000000 Max: 322 Min: 1\n",
      "Hand-ins\n",
      "Mean: 18.335505 Median: 9.000000 Max: 253 Min: 1\n",
      "Grades per student\n",
      "Mean: 2.716714 Median: 3.000000 Max: 6 Min: 1\n",
      "Grades per handin\n",
      "Mean: 4.005362 Median: 4.000000 Max: 11 Min: 1\n"
     ]
    }
   ],
   "source": [
    "print \"Questions\"\n",
    "print \"Mean: %f Median: %f Max: %i Min: %i\" % (np.mean(questions), np.median(questions), max(questions), min(questions))\n",
    "print \"Students\"\n",
    "print \"Mean: %f Median: %f Max: %i Min: %i\" % (np.mean(students), np.median(students), max(students), min(students))\n",
    "print \"Hand-ins\"\n",
    "print \"Mean: %f Median: %f Max: %i Min: %i\" % (np.mean(handins), np.median(handins), max(handins), min(handins))\n",
    "print \"Grades per student\"\n",
    "print \"Mean: %f Median: %f Max: %i Min: %i\" % (np.mean(grade_p_s), np.median(grade_p_s), max(grade_p_s), min(grade_p_s))\n",
    "print \"Grades per handin\"\n",
    "print \"Mean: %f Median: %f Max: %i Min: %i\" % (np.mean(grade_p_h), np.median(grade_p_h), max(grade_p_h), min(grade_p_h))"
   ]
  },
  {
   "cell_type": "code",
   "execution_count": 9,
   "metadata": {
    "collapsed": false
   },
   "outputs": [
    {
     "data": {
      "text/plain": [
       "[3,\n",
       " 8,\n",
       " 3,\n",
       " 2,\n",
       " 3,\n",
       " 3,\n",
       " 4,\n",
       " 3,\n",
       " 4,\n",
       " 4,\n",
       " 3,\n",
       " 11,\n",
       " 6,\n",
       " 1,\n",
       " 4,\n",
       " 4,\n",
       " 4,\n",
       " 4,\n",
       " 4,\n",
       " 4,\n",
       " 4,\n",
       " 4,\n",
       " 4,\n",
       " 4,\n",
       " 4,\n",
       " 4,\n",
       " 4,\n",
       " 4,\n",
       " 4,\n",
       " 4,\n",
       " 4,\n",
       " 4,\n",
       " 4,\n",
       " 4,\n",
       " 4,\n",
       " 4,\n",
       " 4,\n",
       " 4,\n",
       " 4,\n",
       " 4,\n",
       " 4,\n",
       " 4,\n",
       " 4,\n",
       " 4,\n",
       " 4,\n",
       " 4,\n",
       " 4,\n",
       " 4,\n",
       " 4,\n",
       " 4,\n",
       " 4,\n",
       " 4,\n",
       " 4,\n",
       " 4,\n",
       " 4,\n",
       " 4,\n",
       " 4,\n",
       " 4,\n",
       " 4,\n",
       " 4,\n",
       " 4,\n",
       " 4,\n",
       " 4,\n",
       " 4,\n",
       " 4,\n",
       " 4,\n",
       " 4,\n",
       " 4,\n",
       " 4,\n",
       " 4,\n",
       " 4,\n",
       " 4,\n",
       " 4,\n",
       " 4,\n",
       " 4,\n",
       " 4,\n",
       " 4,\n",
       " 4,\n",
       " 4,\n",
       " 4,\n",
       " 4,\n",
       " 4,\n",
       " 4,\n",
       " 4,\n",
       " 4,\n",
       " 4,\n",
       " 4,\n",
       " 4,\n",
       " 4,\n",
       " 4,\n",
       " 4,\n",
       " 4,\n",
       " 4,\n",
       " 4,\n",
       " 4,\n",
       " 4,\n",
       " 4,\n",
       " 4,\n",
       " 4,\n",
       " 4,\n",
       " 4,\n",
       " 4,\n",
       " 4,\n",
       " 4,\n",
       " 4,\n",
       " 4,\n",
       " 4,\n",
       " 4,\n",
       " 4,\n",
       " 4,\n",
       " 4,\n",
       " 4,\n",
       " 4,\n",
       " 4,\n",
       " 4,\n",
       " 4,\n",
       " 4,\n",
       " 4,\n",
       " 4,\n",
       " 4,\n",
       " 4,\n",
       " 4,\n",
       " 4,\n",
       " 4,\n",
       " 4,\n",
       " 4,\n",
       " 4,\n",
       " 4,\n",
       " 4,\n",
       " 4,\n",
       " 4,\n",
       " 4,\n",
       " 4,\n",
       " 4,\n",
       " 4,\n",
       " 4,\n",
       " 4,\n",
       " 4,\n",
       " 4,\n",
       " 4,\n",
       " 4,\n",
       " 4,\n",
       " 4,\n",
       " 4,\n",
       " 4,\n",
       " 4,\n",
       " 4,\n",
       " 4,\n",
       " 4,\n",
       " 4,\n",
       " 4,\n",
       " 4,\n",
       " 4,\n",
       " 4,\n",
       " 4,\n",
       " 4,\n",
       " 4,\n",
       " 4,\n",
       " 4,\n",
       " 4,\n",
       " 4,\n",
       " 4,\n",
       " 4,\n",
       " 4,\n",
       " 4,\n",
       " 4,\n",
       " 4,\n",
       " 4,\n",
       " 4,\n",
       " 4,\n",
       " 4,\n",
       " 4,\n",
       " 4,\n",
       " 4,\n",
       " 4,\n",
       " 4,\n",
       " 4,\n",
       " 4,\n",
       " 4,\n",
       " 4,\n",
       " 4,\n",
       " 4,\n",
       " 4,\n",
       " 4,\n",
       " 4,\n",
       " 4,\n",
       " 4,\n",
       " 4,\n",
       " 4,\n",
       " 4,\n",
       " 4,\n",
       " 4,\n",
       " 4,\n",
       " 4,\n",
       " 4,\n",
       " 4,\n",
       " 4,\n",
       " 4,\n",
       " 4,\n",
       " 4,\n",
       " 4,\n",
       " 4,\n",
       " 4,\n",
       " 4,\n",
       " 4,\n",
       " 4,\n",
       " 4,\n",
       " 4,\n",
       " 4,\n",
       " 4,\n",
       " 4,\n",
       " 4,\n",
       " 4,\n",
       " 4,\n",
       " 4,\n",
       " 4,\n",
       " 4,\n",
       " 4,\n",
       " 4,\n",
       " 4,\n",
       " 4,\n",
       " 4,\n",
       " 4,\n",
       " 4,\n",
       " 4,\n",
       " 4,\n",
       " 4,\n",
       " 4,\n",
       " 4,\n",
       " 4,\n",
       " 4,\n",
       " 4,\n",
       " 4,\n",
       " 4,\n",
       " 4,\n",
       " 4,\n",
       " 4,\n",
       " 4,\n",
       " 4,\n",
       " 4,\n",
       " 4,\n",
       " 4,\n",
       " 4,\n",
       " 4,\n",
       " 4,\n",
       " 4,\n",
       " 4,\n",
       " 4,\n",
       " 4,\n",
       " 4,\n",
       " 4,\n",
       " 4,\n",
       " 4,\n",
       " 4,\n",
       " 4,\n",
       " 4,\n",
       " 4,\n",
       " 4,\n",
       " 4,\n",
       " 4,\n",
       " 4,\n",
       " 4,\n",
       " 4,\n",
       " 4,\n",
       " 4,\n",
       " 4,\n",
       " 4,\n",
       " 4,\n",
       " 4,\n",
       " 4,\n",
       " 4,\n",
       " 4,\n",
       " 4,\n",
       " 4,\n",
       " 4,\n",
       " 4,\n",
       " 4,\n",
       " 4,\n",
       " 4,\n",
       " 4,\n",
       " 4,\n",
       " 4,\n",
       " 4,\n",
       " 4,\n",
       " 4,\n",
       " 4,\n",
       " 4,\n",
       " 4,\n",
       " 4,\n",
       " 4,\n",
       " 4,\n",
       " 4,\n",
       " 4,\n",
       " 4,\n",
       " 4,\n",
       " 4,\n",
       " 4,\n",
       " 4,\n",
       " 4,\n",
       " 4,\n",
       " 4,\n",
       " 4,\n",
       " 4,\n",
       " 4,\n",
       " 4,\n",
       " 4,\n",
       " 4,\n",
       " 4,\n",
       " 4,\n",
       " 4,\n",
       " 4,\n",
       " 4,\n",
       " 4,\n",
       " 4,\n",
       " 4,\n",
       " 4,\n",
       " 4,\n",
       " 4,\n",
       " 4,\n",
       " 4,\n",
       " 4,\n",
       " 4,\n",
       " 4,\n",
       " 4,\n",
       " 4,\n",
       " 4,\n",
       " 4,\n",
       " 4,\n",
       " 4,\n",
       " 4,\n",
       " 4,\n",
       " 4,\n",
       " 4,\n",
       " 4,\n",
       " 4,\n",
       " 4,\n",
       " 4,\n",
       " 4,\n",
       " 4,\n",
       " 4,\n",
       " 4,\n",
       " 4,\n",
       " 4,\n",
       " 4,\n",
       " 4,\n",
       " 4,\n",
       " 4,\n",
       " 4,\n",
       " 4,\n",
       " 4,\n",
       " 4,\n",
       " 4,\n",
       " 4,\n",
       " 4,\n",
       " 4,\n",
       " 4,\n",
       " 4,\n",
       " 4,\n",
       " 4,\n",
       " 4,\n",
       " 4,\n",
       " 4,\n",
       " 4,\n",
       " 4,\n",
       " 4,\n",
       " 4,\n",
       " 4,\n",
       " 4,\n",
       " 4,\n",
       " 4,\n",
       " 4,\n",
       " 4,\n",
       " 4]"
      ]
     },
     "execution_count": 9,
     "metadata": {},
     "output_type": "execute_result"
    }
   ],
   "source": [
    "grade_p_h"
   ]
  },
  {
   "cell_type": "code",
   "execution_count": 19,
   "metadata": {
    "collapsed": false
   },
   "outputs": [
    {
     "data": {
      "text/plain": [
       "(array([ 236.,   57.,   22.,   21.,    8.,    0.,    6.,   14.,    1.,    9.]),\n",
       " array([   0. ,   32.2,   64.4,   96.6,  128.8,  161. ,  193.2,  225.4,\n",
       "         257.6,  289.8,  322. ]),\n",
       " <a list of 10 Patch objects>)"
      ]
     },
     "execution_count": 19,
     "metadata": {},
     "output_type": "execute_result"
    },
    {
     "data": {
      "image/png": "[encoded data removed]",
      "text/plain": [
       "<matplotlib.figure.Figure at 0x114817190>"
      ]
     },
     "metadata": {},
     "output_type": "display_data"
    }
   ],
   "source": [
    "plt.hist(students)"
   ]
  },
  {
   "cell_type": "code",
   "execution_count": null,
   "metadata": {
    "collapsed": true
   },
   "outputs": [],
   "source": []
  }
 ],
 "metadata": {
  "kernelspec": {
   "display_name": "Python 2",
   "language": "python",
   "name": "python2"
  },
  "language_info": {
   "codemirror_mode": {
    "name": "ipython",
    "version": 2
   },
   "file_extension": ".py",
   "mimetype": "text/x-python",
   "name": "python",
   "nbconvert_exporter": "python",
   "pygments_lexer": "ipython2",
   "version": "2.7.10"
  }
 },
 "nbformat": 4,
 "nbformat_minor": 0
}
