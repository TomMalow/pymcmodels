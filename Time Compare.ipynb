{
 "cells": [
  {
   "cell_type": "code",
   "execution_count": 2,
   "metadata": {
    "collapsed": true
   },
   "outputs": [],
   "source": [
    "%matplotlib inline\n",
    "from IPython.core.pylabtools import figsize\n",
    "import numpy as np\n",
    "from matplotlib import pyplot as plt\n",
    "from matplotlib.backends.backend_pdf import PdfPages"
   ]
  },
  {
   "cell_type": "code",
   "execution_count": 59,
   "metadata": {
    "collapsed": true
   },
   "outputs": [],
   "source": [
    "fig_store = \"../MasterThesis/Thesis/figures/ModelsOfPeer/\""
   ]
  },
  {
   "cell_type": "markdown",
   "metadata": {},
   "source": [
    "# Compare"
   ]
  },
  {
   "cell_type": "markdown",
   "metadata": {},
   "source": [
    "PyMC"
   ]
  },
  {
   "cell_type": "markdown",
   "metadata": {},
   "source": [
    "graders:time\n",
    "20:14.8\n",
    "40:31.1\n",
    "100:80.7"
   ]
  },
  {
   "cell_type": "markdown",
   "metadata": {},
   "source": [
    "MH"
   ]
  },
  {
   "cell_type": "markdown",
   "metadata": {},
   "source": [
    "graders:time\n",
    "100:8.941389"
   ]
  },
  {
   "cell_type": "markdown",
   "metadata": {},
   "source": [
    "Gibbs"
   ]
  },
  {
   "cell_type": "markdown",
   "metadata": {},
   "source": [
    "graders:time\n",
    "100:3.834045"
   ]
  },
  {
   "cell_type": "markdown",
   "metadata": {},
   "source": [
    "Extended Gibbs"
   ]
  },
  {
   "cell_type": "markdown",
   "metadata": {},
   "source": [
    "graders:time\n",
    "100:56.172505"
   ]
  },
  {
   "cell_type": "code",
   "execution_count": null,
   "metadata": {
    "collapsed": false
   },
   "outputs": [],
   "source": [
    "63.589409/489.620924"
   ]
  },
  {
   "cell_type": "code",
   "execution_count": null,
   "metadata": {
    "collapsed": false
   },
   "outputs": [],
   "source": [
    "489.620924/3"
   ]
  },
  {
   "cell_type": "markdown",
   "metadata": {},
   "source": [
    "Cython"
   ]
  },
  {
   "cell_type": "markdown",
   "metadata": {},
   "source": [
    "graders:time\n",
    "20:1.441123\n",
    "100:6.071004"
   ]
  },
  {
   "cell_type": "markdown",
   "metadata": {},
   "source": [
    "Numpy"
   ]
  },
  {
   "cell_type": "markdown",
   "metadata": {},
   "source": [
    "graders:time\n",
    "10:34.483265\n",
    "20:63.801284\n",
    "25:78.431979\n",
    "50:151.981305\n",
    "100:299.384263"
   ]
  },
  {
   "cell_type": "markdown",
   "metadata": {},
   "source": [
    "PyPy MH"
   ]
  },
  {
   "cell_type": "markdown",
   "metadata": {},
   "source": [
    "graders:time\n",
    "100:0.823724"
   ]
  },
  {
   "cell_type": "markdown",
   "metadata": {},
   "source": [
    "PyPy Gibbs"
   ]
  },
  {
   "cell_type": "markdown",
   "metadata": {},
   "source": [
    "graders:time\n",
    "100:0.671064"
   ]
  },
  {
   "cell_type": "markdown",
   "metadata": {},
   "source": [
    "PyPy Extended Gibbs"
   ]
  },
  {
   "cell_type": "markdown",
   "metadata": {},
   "source": [
    "graders:time\n",
    "100:2.654069"
   ]
  },
  {
   "cell_type": "code",
   "execution_count": 6,
   "metadata": {
    "collapsed": false
   },
   "outputs": [
    {
     "data": {
      "text/plain": [
       "4.2415849752576307"
      ]
     },
     "execution_count": 6,
     "metadata": {},
     "output_type": "execute_result"
    }
   ],
   "source": [
    "67.7/np.mean([15.913485,15.941484,16.028075])"
   ]
  },
  {
   "cell_type": "code",
   "execution_count": 82,
   "metadata": {
    "collapsed": false
   },
   "outputs": [],
   "source": [
    "data = [('PG (PyMC)',[81.348777,105.167174,90.906841]),('PG',[12.587521,12.546737,14.825873]),('PG2',[4.982053,5.002404,5.779199]),('PG3',[16.067495,15.366610,16.392940])]"
   ]
  },
  {
   "cell_type": "code",
   "execution_count": 83,
   "metadata": {
    "collapsed": false
   },
   "outputs": [
    {
     "data": {
      "image/png": "[encoded data removed]",
      "text/plain": [
       "<matplotlib.figure.Figure at 0x10a84d210>"
      ]
     },
     "metadata": {},
     "output_type": "display_data"
    }
   ],
   "source": [
    "with PdfPages(fig_store + \"ModelsSpeedCompare.pdf\") as pdf:\n",
    "    fig = plt.figure(figsize(7,4))\n",
    "    labels = list()\n",
    "    values = list()\n",
    "    width = 0.5\n",
    "    data.reverse()\n",
    "    #data.sort(key=lambda x : x[1], reverse=True)\n",
    "    for (l, v) in data:\n",
    "        labels.append(l)\n",
    "        values.append(np.mean(v))\n",
    "    ind = np.arange(len(data)) \n",
    "    plt.barh(ind + width,values,height = width,alpha = 0.65, color = \"#348ABD\",linewidth=0)\n",
    "    plt.yticks(ind + width*1.5, labels)\n",
    "    plt.xlabel('seconds')\n",
    "    plt.ylabel('Models')\n",
    "    #plt.yscale('log', nonposy='clip')\n",
    "    plt.margins(0.04)\n",
    "    plt.show()\n",
    "    pdf.savefig(fig,bbox_inches='tight')"
   ]
  },
  {
   "cell_type": "code",
   "execution_count": 99,
   "metadata": {
    "collapsed": false
   },
   "outputs": [
    {
     "data": {
      "text/plain": [
       "15.942348333333333"
      ]
     },
     "execution_count": 99,
     "metadata": {},
     "output_type": "execute_result"
    }
   ],
   "source": [
    "np.mean([16.067495,15.366610,16.392940])"
   ]
  },
  {
   "cell_type": "code",
   "execution_count": 106,
   "metadata": {
    "collapsed": false
   },
   "outputs": [
    {
     "data": {
      "text/plain": [
       "10.443884819695914"
      ]
     },
     "execution_count": 106,
     "metadata": {},
     "output_type": "execute_result"
    }
   ],
   "source": [
    "np.mean([12.587521,12.546737,14.825873])/np.mean([1.518236,1.068192,1.239747])"
   ]
  },
  {
   "cell_type": "code",
   "execution_count": 103,
   "metadata": {
    "collapsed": false
   },
   "outputs": [
    {
     "data": {
      "text/plain": [
       "5.333333333333333"
      ]
     },
     "execution_count": 103,
     "metadata": {},
     "output_type": "execute_result"
    }
   ],
   "source": [
    "16.0/3.0"
   ]
  },
  {
   "cell_type": "code",
   "execution_count": 84,
   "metadata": {
    "collapsed": false
   },
   "outputs": [],
   "source": [
    "data = [('PG',[12.587521,12.546737,14.825873]),('PyPy PG',[1.518236,1.068192,1.239747]),\n",
    "        ('PG2',[4.982053,5.002404,5.779199]),('PyPy PG2',[0.990086,1.029071,0.932515]),\n",
    "        ('PG3',[16.067495,15.366610,16.392940]),('PyPy PG3',[2.800010,3.037414,2.698933])]\n",
    "data.reverse()"
   ]
  },
  {
   "cell_type": "code",
   "execution_count": 85,
   "metadata": {
    "collapsed": false
   },
   "outputs": [
    {
     "data": {
      "image/png": "[encoded data removed]",
      "text/plain": [
       "<matplotlib.figure.Figure at 0x108af8290>"
      ]
     },
     "metadata": {},
     "output_type": "display_data"
    }
   ],
   "source": [
    "with PdfPages(fig_store + \"PyPyCompareSpeed.pdf\") as pdf:\n",
    "    fig = plt.figure(figsize(7,4))\n",
    "    ax = plt.subplot(111)\n",
    "    labels = ['PG','PG2','PG3']\n",
    "    labels.reverse()\n",
    "    values_1 = list()\n",
    "    values_2 = list()\n",
    "    width = 0.4\n",
    "    for i, (l, v) in enumerate(data):\n",
    "        if i % 2 == 0:\n",
    "            values_1.append(np.mean(v))\n",
    "        else:\n",
    "            values_2.append(np.mean(v))\n",
    "    ind = np.arange(len(data)/ 2)\n",
    "    plt.barh(ind + width*1.5,values_2,height = width,alpha = 0.65, color = \"#348ABD\",label=\"Normal\",linewidth=0)\n",
    "    plt.barh(ind + width*0.5,values_1,height = width,alpha = 0.65, color = \"#A60628\",label=\"PyPy\",linewidth=0)\n",
    "    ind = np.arange(len(data))  \n",
    "    plt.yticks(ind + width*1.5, labels)\n",
    "    plt.xlabel('seconds')\n",
    "    plt.ylabel('Models')\n",
    "    leg = ax.legend(loc='center left', bbox_to_anchor=(1, 0.5))\n",
    "    leg.get_frame().set_alpha(0.4)\n",
    "    plt.margins(0.04)\n",
    "    plt.show()\n",
    "    pdf.savefig(fig,bbox_inches='tight')"
   ]
  },
  {
   "cell_type": "code",
   "execution_count": 87,
   "metadata": {
    "collapsed": true
   },
   "outputs": [],
   "source": [
    "data = {\n",
    "        \"PG3\":\n",
    "            {'Q':[np.mean([16.067495,15.366610,16.392940]),np.mean([31.303986,28.953611,29.376719]),np.mean([58.753020,58.227501,58.802274])],\n",
    "             'G':[np.mean([16.067495,15.366610,16.392940]),np.mean([32.034446,33.339596,32.496692]),np.mean([70.163531,69.185442,75.887381])],\n",
    "             'Gpg':[np.mean([16.067495,15.366610,16.392940]),np.mean([24.656760,24.175149,22.813231]),np.mean([39.112722,42.962989,37.401617])]\n",
    "            },\n",
    "        \"PG2\": \n",
    "            {'Q':[np.mean([4.982053,5.002404,5.779199]),np.mean([5.299793,5.200183,5.112771]),np.mean([5.224621,5.239218,5.501246])],\n",
    "             'G':[np.mean([4.982053,5.002404,5.779199]),np.mean([10.746278,11.836767,11.513854]),np.mean([24.933894,24.002280,25.334897])],\n",
    "             'Gpg':[np.mean([4.982053,5.002404,5.779199]),np.mean([8.178859,8.445457,7.694985]),np.mean([15.112323,14.321125,14.330069])]\n",
    "            },\n",
    "\n",
    "        \"PG\":\n",
    "            {'Q':[np.mean([12.587521,12.546737,14.825873]),np.mean([13.040025,12.631606,12.643459]),np.mean([12.746460,12.960794,13.950898])],\n",
    "             'G':[np.mean([12.587521,12.546737,14.825873]),np.mean([25.297337,29.791005,26.645623]),np.mean([59.032714,63.351558,57.799013])],\n",
    "             'Gpg':[np.mean([12.587521,12.546737,14.825873]),np.mean([23.635634,20.938292,21.420687]),np.mean([37.347379,36.839569,36.694903])]\n",
    "            }\n",
    "       }"
   ]
  },
  {
   "cell_type": "code",
   "execution_count": 111,
   "metadata": {
    "collapsed": false
   },
   "outputs": [
    {
     "data": {
      "image/png": "[encoded data removed]",
      "text/plain": [
       "<matplotlib.figure.Figure at 0x10a8cc9d0>"
      ]
     },
     "metadata": {},
     "output_type": "display_data"
    }
   ],
   "source": [
    "with PdfPages(fig_store + \"CompareSpeedScaling.pdf\") as pdf:\n",
    "    fig = plt.figure(figsize(7,4))\n",
    "\n",
    "    ax = plt.subplot(111)\n",
    "    color_map = {\"PG\":\"#348ABD\", \"PG2\":\"#A60628\",\"PG3\":\"#7A68A6\"}\n",
    "    line_type_map = {\"Q\":\"--\", \"G\":\"-\",\"Gpg\":\":\"}\n",
    "    label_map = {\"Q\":\"question\", \"G\":\"handins\",\"Gpg\":\"grades per hand-in\"}\n",
    "    xindex = [1,2,4]\n",
    "    for model, data_timings in data.iteritems():\n",
    "        for parameter, data_ in data_timings.iteritems():\n",
    "            text = model + \" \" + label_map[parameter]\n",
    "            plt.plot(xindex,data_,color=color_map[model],linestyle=line_type_map[parameter],\n",
    "                    label=text)\n",
    "    plt.xlabel('Size mutliplier')\n",
    "    plt.ylabel('Seconds')\n",
    "    # Put a legend to the right of the current axis\n",
    "    leg = ax.legend(loc='center left', bbox_to_anchor=(1, 0.5))\n",
    "    leg.get_frame().set_alpha(0.4)\n",
    "    plt.xticks([1,2,3,4], [1,2,3,4])\n",
    "    plt.margins(0.04)\n",
    "    plt.show()\n",
    "    pdf.savefig(fig,bbox_inches='tight')"
   ]
  },
  {
   "cell_type": "code",
   "execution_count": null,
   "metadata": {
    "collapsed": true
   },
   "outputs": [],
   "source": []
  }
 ],
 "metadata": {
  "kernelspec": {
   "display_name": "Python 2",
   "language": "python",
   "name": "python2"
  },
  "language_info": {
   "codemirror_mode": {
    "name": "ipython",
    "version": 2
   },
   "file_extension": ".py",
   "mimetype": "text/x-python",
   "name": "python",
   "nbconvert_exporter": "python",
   "pygments_lexer": "ipython2",
   "version": "2.7.10"
  }
 },
 "nbformat": 4,
 "nbformat_minor": 0
}
