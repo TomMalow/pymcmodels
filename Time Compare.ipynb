{
 "cells": [
  {
   "cell_type": "code",
   "execution_count": 1,
   "metadata": {
    "collapsed": true
   },
   "outputs": [],
   "source": [
    "%matplotlib inline\n",
    "from IPython.core.pylabtools import figsize\n",
    "import numpy as np\n",
    "from matplotlib import pyplot as plt\n",
    "from matplotlib.backends.backend_pdf import PdfPages"
   ]
  },
  {
   "cell_type": "code",
   "execution_count": 8,
   "metadata": {
    "collapsed": true
   },
   "outputs": [],
   "source": [
    "fig_store = \"../MasterThesis/Thesis/figures/ModelsOfPeer/\""
   ]
  },
  {
   "cell_type": "markdown",
   "metadata": {},
   "source": [
    "# Compare"
   ]
  },
  {
   "cell_type": "markdown",
   "metadata": {},
   "source": [
    "PyMC"
   ]
  },
  {
   "cell_type": "markdown",
   "metadata": {},
   "source": [
    "graders:time\n",
    "20:14.8\n",
    "40:31.1\n",
    "100:80.7"
   ]
  },
  {
   "cell_type": "markdown",
   "metadata": {},
   "source": [
    "MH"
   ]
  },
  {
   "cell_type": "markdown",
   "metadata": {},
   "source": [
    "graders:time\n",
    "100:8.941389"
   ]
  },
  {
   "cell_type": "markdown",
   "metadata": {},
   "source": [
    "Gibbs"
   ]
  },
  {
   "cell_type": "markdown",
   "metadata": {},
   "source": [
    "graders:time\n",
    "100:3.834045"
   ]
  },
  {
   "cell_type": "markdown",
   "metadata": {},
   "source": [
    "Extended Gibbs"
   ]
  },
  {
   "cell_type": "markdown",
   "metadata": {},
   "source": [
    "graders:time\n",
    "100:56.172505"
   ]
  },
  {
   "cell_type": "code",
   "execution_count": null,
   "metadata": {
    "collapsed": false
   },
   "outputs": [],
   "source": [
    "63.589409/489.620924"
   ]
  },
  {
   "cell_type": "code",
   "execution_count": null,
   "metadata": {
    "collapsed": false
   },
   "outputs": [],
   "source": [
    "489.620924/3"
   ]
  },
  {
   "cell_type": "markdown",
   "metadata": {},
   "source": [
    "Cython"
   ]
  },
  {
   "cell_type": "markdown",
   "metadata": {},
   "source": [
    "graders:time\n",
    "20:1.441123\n",
    "100:6.071004"
   ]
  },
  {
   "cell_type": "markdown",
   "metadata": {},
   "source": [
    "Numpy"
   ]
  },
  {
   "cell_type": "markdown",
   "metadata": {},
   "source": [
    "graders:time\n",
    "10:34.483265\n",
    "20:63.801284\n",
    "25:78.431979\n",
    "50:151.981305\n",
    "100:299.384263"
   ]
  },
  {
   "cell_type": "markdown",
   "metadata": {},
   "source": [
    "PyPy MH"
   ]
  },
  {
   "cell_type": "markdown",
   "metadata": {},
   "source": [
    "graders:time\n",
    "100:0.823724"
   ]
  },
  {
   "cell_type": "markdown",
   "metadata": {},
   "source": [
    "PyPy Gibbs"
   ]
  },
  {
   "cell_type": "markdown",
   "metadata": {},
   "source": [
    "graders:time\n",
    "100:0.671064"
   ]
  },
  {
   "cell_type": "markdown",
   "metadata": {},
   "source": [
    "PyPy Extended Gibbs"
   ]
  },
  {
   "cell_type": "markdown",
   "metadata": {},
   "source": [
    "graders:time\n",
    "100:2.654069"
   ]
  },
  {
   "cell_type": "code",
   "execution_count": null,
   "metadata": {
    "collapsed": false
   },
   "outputs": [],
   "source": [
    "80.7/8.567933"
   ]
  },
  {
   "cell_type": "code",
   "execution_count": 11,
   "metadata": {
    "collapsed": false
   },
   "outputs": [],
   "source": [
    "data = [('PyMC',80.7),('MH',8.941389),('Gibbs',3.834045),('Ext. Gibbs',56.172505)]"
   ]
  },
  {
   "cell_type": "code",
   "execution_count": 12,
   "metadata": {
    "collapsed": false
   },
   "outputs": [
    {
     "data": {
      "image/png": "[encoded data removed]",
      "text/plain": [
       "<matplotlib.figure.Figure at 0x10e9ae090>"
      ]
     },
     "metadata": {},
     "output_type": "display_data"
    }
   ],
   "source": [
    "with PdfPages(fig_store + \"ModelsSpeedCompare.pdf\") as pdf:\n",
    "    fig = plt.figure(figsize(7,4))\n",
    "    labels = list()\n",
    "    values = list()\n",
    "    width = 0.5\n",
    "    data.reverse()\n",
    "    #data.sort(key=lambda x : x[1], reverse=True)\n",
    "    for (l, v) in data:\n",
    "        labels.append(l)\n",
    "        values.append(v)\n",
    "    ind = np.arange(len(data)) \n",
    "    plt.barh(ind + width,values,height = width,alpha = 0.65, color = \"#348ABD\",linewidth=0)\n",
    "    plt.yticks(ind + width*1.5, labels)\n",
    "    plt.xlabel('seconds')\n",
    "    plt.ylabel('Models')\n",
    "    #plt.yscale('log', nonposy='clip')\n",
    "    plt.margins(0.04)\n",
    "    plt.show()\n",
    "    pdf.savefig(fig)"
   ]
  },
  {
   "cell_type": "code",
   "execution_count": 13,
   "metadata": {
    "collapsed": false
   },
   "outputs": [],
   "source": [
    "data = [('MH',8.941389),('PyPy MH',0.823724),\n",
    "        ('Gibbs',3.834045),('PyPy Gibbs',0.671064),\n",
    "        ('Ext. Gibbs',56.172505),('PyPy Ext. Gibbs',2.654069)]\n",
    "data.reverse()"
   ]
  },
  {
   "cell_type": "code",
   "execution_count": 14,
   "metadata": {
    "collapsed": false
   },
   "outputs": [
    {
     "data": {
      "image/png": "[encoded data removed]",
      "text/plain": [
       "<matplotlib.figure.Figure at 0x10e841810>"
      ]
     },
     "metadata": {},
     "output_type": "display_data"
    }
   ],
   "source": [
    "with PdfPages(fig_store + \"PyPyCompareSpeed.pdf\") as pdf:\n",
    "    fig = plt.figure(figsize(7,4))\n",
    "    labels = ['MH','Gibbs','Ext. Gibbs']\n",
    "    labels.reverse()\n",
    "    values_1 = list()\n",
    "    values_2 = list()\n",
    "    width = 0.4\n",
    "    for i, (l, v) in enumerate(data):\n",
    "        if i % 2 == 0:\n",
    "            values_1.append(v)\n",
    "        else:\n",
    "            values_2.append(v)\n",
    "    ind = np.arange(len(data)/ 2)\n",
    "    plt.barh(ind + width*1.5,values_2,height = width,alpha = 0.65, color = \"#348ABD\",label=\"Normal\",linewidth=0)\n",
    "    plt.barh(ind + width*0.5,values_1,height = width,alpha = 0.65, color = \"#A60628\",label=\"PyPy\",linewidth=0)\n",
    "    ind = np.arange(len(data))  \n",
    "    plt.yticks(ind + width*1.5, labels)\n",
    "    plt.xlabel('seconds')\n",
    "    plt.ylabel('Models')\n",
    "    plt.legend()\n",
    "    plt.margins(0.04)\n",
    "    plt.show()\n",
    "    pdf.savefig(fig)"
   ]
  },
  {
   "cell_type": "code",
   "execution_count": null,
   "metadata": {
    "collapsed": true
   },
   "outputs": [],
   "source": [
    "data = [('PyPy MH',0.823724),\n",
    "        ('PyPy Gibbs',0.671064),\n",
    "        ('PyPy Ext. Gibbs',2.654069)]\n",
    "data.reverse()"
   ]
  },
  {
   "cell_type": "code",
   "execution_count": null,
   "metadata": {
    "collapsed": false
   },
   "outputs": [],
   "source": [
    "labels = list()\n",
    "values = list()\n",
    "figsize(7,5)\n",
    "width = 0.5\n",
    "#data.sort(key=lambda x : x[1], reverse=True)\n",
    "for (l, v) in data:\n",
    "    labels.append(l)\n",
    "    values.append(v)\n",
    "ind = np.arange(len(data)) \n",
    "plt.barh(ind + width,values,height = width,alpha = 0.65, color = \"#A60628\")\n",
    "plt.yticks(ind + width*1.5, labels)\n",
    "plt.ylabel('seconds')\n",
    "plt.xlabel('')\n",
    "plt.margins(0.02)\n",
    "plt.show()"
   ]
  },
  {
   "cell_type": "code",
   "execution_count": null,
   "metadata": {
    "collapsed": true
   },
   "outputs": [],
   "source": []
  }
 ],
 "metadata": {
  "kernelspec": {
   "display_name": "Python 2",
   "language": "python",
   "name": "python2"
  },
  "language_info": {
   "codemirror_mode": {
    "name": "ipython",
    "version": 2
   },
   "file_extension": ".py",
   "mimetype": "text/x-python",
   "name": "python",
   "nbconvert_exporter": "python",
   "pygments_lexer": "ipython2",
   "version": "2.7.10"
  }
 },
 "nbformat": 4,
 "nbformat_minor": 0
}
