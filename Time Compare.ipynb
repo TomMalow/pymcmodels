{
 "cells": [
  {
   "cell_type": "code",
   "execution_count": 2,
   "metadata": {
    "collapsed": true
   },
   "outputs": [],
   "source": [
    "%matplotlib inline\n",
    "from IPython.core.pylabtools import figsize\n",
    "import numpy as np\n",
    "from matplotlib import pyplot as plt\n",
    "from matplotlib.backends.backend_pdf import PdfPages"
   ]
  },
  {
   "cell_type": "code",
   "execution_count": 3,
   "metadata": {
    "collapsed": true
   },
   "outputs": [],
   "source": [
    "fig_store = \"../MasterThesis/Thesis/figures/ModelsOfPeer/\""
   ]
  },
  {
   "cell_type": "markdown",
   "metadata": {},
   "source": [
    "# Compare"
   ]
  },
  {
   "cell_type": "markdown",
   "metadata": {},
   "source": [
    "PyMC"
   ]
  },
  {
   "cell_type": "markdown",
   "metadata": {},
   "source": [
    "graders:time\n",
    "20:14.8\n",
    "40:31.1\n",
    "100:80.7"
   ]
  },
  {
   "cell_type": "markdown",
   "metadata": {},
   "source": [
    "MH"
   ]
  },
  {
   "cell_type": "markdown",
   "metadata": {},
   "source": [
    "graders:time\n",
    "100:8.941389"
   ]
  },
  {
   "cell_type": "markdown",
   "metadata": {},
   "source": [
    "Gibbs"
   ]
  },
  {
   "cell_type": "markdown",
   "metadata": {},
   "source": [
    "graders:time\n",
    "100:3.834045"
   ]
  },
  {
   "cell_type": "markdown",
   "metadata": {},
   "source": [
    "Extended Gibbs"
   ]
  },
  {
   "cell_type": "markdown",
   "metadata": {},
   "source": [
    "graders:time\n",
    "100:56.172505"
   ]
  },
  {
   "cell_type": "code",
   "execution_count": null,
   "metadata": {
    "collapsed": false
   },
   "outputs": [],
   "source": [
    "63.589409/489.620924"
   ]
  },
  {
   "cell_type": "code",
   "execution_count": null,
   "metadata": {
    "collapsed": false
   },
   "outputs": [],
   "source": [
    "489.620924/3"
   ]
  },
  {
   "cell_type": "markdown",
   "metadata": {},
   "source": [
    "Cython"
   ]
  },
  {
   "cell_type": "markdown",
   "metadata": {},
   "source": [
    "graders:time\n",
    "20:1.441123\n",
    "100:6.071004"
   ]
  },
  {
   "cell_type": "markdown",
   "metadata": {},
   "source": [
    "Numpy"
   ]
  },
  {
   "cell_type": "markdown",
   "metadata": {},
   "source": [
    "graders:time\n",
    "10:34.483265\n",
    "20:63.801284\n",
    "25:78.431979\n",
    "50:151.981305\n",
    "100:299.384263"
   ]
  },
  {
   "cell_type": "markdown",
   "metadata": {},
   "source": [
    "PyPy MH"
   ]
  },
  {
   "cell_type": "markdown",
   "metadata": {},
   "source": [
    "graders:time\n",
    "100:0.823724"
   ]
  },
  {
   "cell_type": "markdown",
   "metadata": {},
   "source": [
    "PyPy Gibbs"
   ]
  },
  {
   "cell_type": "markdown",
   "metadata": {},
   "source": [
    "graders:time\n",
    "100:0.671064"
   ]
  },
  {
   "cell_type": "markdown",
   "metadata": {},
   "source": [
    "PyPy Extended Gibbs"
   ]
  },
  {
   "cell_type": "markdown",
   "metadata": {},
   "source": [
    "graders:time\n",
    "100:2.654069"
   ]
  },
  {
   "cell_type": "code",
   "execution_count": 6,
   "metadata": {
    "collapsed": false
   },
   "outputs": [
    {
     "data": {
      "text/plain": [
       "4.2415849752576307"
      ]
     },
     "execution_count": 6,
     "metadata": {},
     "output_type": "execute_result"
    }
   ],
   "source": [
    "67.7/np.mean([15.913485,15.941484,16.028075])"
   ]
  },
  {
   "cell_type": "code",
   "execution_count": 35,
   "metadata": {
    "collapsed": false
   },
   "outputs": [],
   "source": [
    "data = [('PG (PyMC)',67.7),('PG',[6.933775,6.762796,7.049993]),('PG2',[1.640868,1.432870,1.717588]),('PG3',[15.913485,15.941484,16.028075])]"
   ]
  },
  {
   "cell_type": "code",
   "execution_count": 36,
   "metadata": {
    "collapsed": false
   },
   "outputs": [
    {
     "data": {
      "image/png": "[encoded data removed]",
      "text/plain": [
       "<matplotlib.figure.Figure at 0x1103d0b90>"
      ]
     },
     "metadata": {},
     "output_type": "display_data"
    }
   ],
   "source": [
    "with PdfPages(fig_store + \"ModelsSpeedCompare.pdf\") as pdf:\n",
    "    fig = plt.figure(figsize(7,4))\n",
    "    labels = list()\n",
    "    values = list()\n",
    "    width = 0.5\n",
    "    data.reverse()\n",
    "    #data.sort(key=lambda x : x[1], reverse=True)\n",
    "    for (l, v) in data:\n",
    "        labels.append(l)\n",
    "        values.append(np.mean(v))\n",
    "    ind = np.arange(len(data)) \n",
    "    plt.barh(ind + width,values,height = width,alpha = 0.65, color = \"#348ABD\",linewidth=0)\n",
    "    plt.yticks(ind + width*1.5, labels)\n",
    "    plt.xlabel('seconds')\n",
    "    plt.ylabel('Models')\n",
    "    #plt.yscale('log', nonposy='clip')\n",
    "    plt.margins(0.04)\n",
    "    plt.show()\n",
    "    pdf.savefig(fig,bbox_inches='tight')"
   ]
  },
  {
   "cell_type": "code",
   "execution_count": 198,
   "metadata": {
    "collapsed": false
   },
   "outputs": [
    {
     "data": {
      "text/plain": [
       "8.933123955028158"
      ]
     },
     "execution_count": 198,
     "metadata": {},
     "output_type": "execute_result"
    }
   ],
   "source": [
    "np.mean([6.933775,6.762796,7.049993])/np.mean([0.880314,0.757480,0.684637])"
   ]
  },
  {
   "cell_type": "code",
   "execution_count": 197,
   "metadata": {
    "collapsed": false
   },
   "outputs": [
    {
     "data": {
      "text/plain": [
       "4.667047200108315"
      ]
     },
     "execution_count": 197,
     "metadata": {},
     "output_type": "execute_result"
    }
   ],
   "source": [
    "np.mean([1.640868,1.432870,1.717588])/np.mean([0.358682,0.326529,0.341418])"
   ]
  },
  {
   "cell_type": "code",
   "execution_count": 199,
   "metadata": {
    "collapsed": false
   },
   "outputs": [
    {
     "data": {
      "text/plain": [
       "12.591595933288769"
      ]
     },
     "execution_count": 199,
     "metadata": {},
     "output_type": "execute_result"
    }
   ],
   "source": [
    "np.mean([15.913485,15.941484,16.028075])/np.mean([1.353521,1.281770,1.167487])"
   ]
  },
  {
   "cell_type": "code",
   "execution_count": 201,
   "metadata": {
    "collapsed": false
   },
   "outputs": [
    {
     "data": {
      "text/plain": [
       "15.961014666666665"
      ]
     },
     "execution_count": 201,
     "metadata": {},
     "output_type": "execute_result"
    }
   ],
   "source": [
    "np.mean([15.913485,15.941484,16.028075])"
   ]
  },
  {
   "cell_type": "code",
   "execution_count": 37,
   "metadata": {
    "collapsed": false
   },
   "outputs": [],
   "source": [
    "data = [('PG',[6.933775,6.762796,7.049993]),('PyPy PG',[0.880314,0.757480,0.684637]),\n",
    "        ('PG2',[1.640868,1.432870,1.717588]),('PyPy PG2',[0.358682,0.326529,0.341418]),\n",
    "        ('PG3',[15.913485,15.941484,16.028075]),('PyPy PG3',[1.353521,1.281770,1.167487])]\n",
    "data.reverse()"
   ]
  },
  {
   "cell_type": "code",
   "execution_count": 39,
   "metadata": {
    "collapsed": false
   },
   "outputs": [
    {
     "data": {
      "image/png": "[encoded data removed]",
      "text/plain": [
       "<matplotlib.figure.Figure at 0x11055a7d0>"
      ]
     },
     "metadata": {},
     "output_type": "display_data"
    }
   ],
   "source": [
    "with PdfPages(fig_store + \"PyPyCompareSpeed.pdf\") as pdf:\n",
    "    fig = plt.figure(figsize(7,4))\n",
    "    labels = ['PG','PG2','PG3']\n",
    "    labels.reverse()\n",
    "    values_1 = list()\n",
    "    values_2 = list()\n",
    "    width = 0.4\n",
    "    for i, (l, v) in enumerate(data):\n",
    "        if i % 2 == 0:\n",
    "            values_1.append(np.mean(v))\n",
    "        else:\n",
    "            values_2.append(np.mean(v))\n",
    "    ind = np.arange(len(data)/ 2)\n",
    "    plt.barh(ind + width*1.5,values_2,height = width,alpha = 0.65, color = \"#348ABD\",label=\"Normal\",linewidth=0)\n",
    "    plt.barh(ind + width*0.5,values_1,height = width,alpha = 0.65, color = \"#A60628\",label=\"PyPy\",linewidth=0)\n",
    "    ind = np.arange(len(data))  \n",
    "    plt.yticks(ind + width*1.5, labels)\n",
    "    plt.xlabel('seconds')\n",
    "    plt.ylabel('Models')\n",
    "    plt.legend()\n",
    "    plt.margins(0.04)\n",
    "    plt.show()\n",
    "    pdf.savefig(fig,bbox_inches='tight')"
   ]
  },
  {
   "cell_type": "code",
   "execution_count": null,
   "metadata": {
    "collapsed": true
   },
   "outputs": [],
   "source": [
    "data = [('PyPy MH',0.823724),\n",
    "        ('PyPy Gibbs',0.671064),\n",
    "        ('PyPy Ext. Gibbs',2.654069)]\n",
    "data.reverse()"
   ]
  },
  {
   "cell_type": "code",
   "execution_count": null,
   "metadata": {
    "collapsed": false
   },
   "outputs": [],
   "source": [
    "labels = list()\n",
    "values = list()\n",
    "figsize(7,5)\n",
    "width = 0.5\n",
    "#data.sort(key=lambda x : x[1], reverse=True)\n",
    "for (l, v) in data:\n",
    "    labels.append(l)\n",
    "    values.append(v)\n",
    "ind = np.arange(len(data)) \n",
    "plt.barh(ind + width,values,height = width,alpha = 0.65, color = \"#A60628\")\n",
    "plt.yticks(ind + width*1.5, labels)\n",
    "plt.ylabel('seconds')\n",
    "plt.xlabel('')\n",
    "plt.margins(0.02)\n",
    "plt.show()"
   ]
  },
  {
   "cell_type": "code",
   "execution_count": 194,
   "metadata": {
    "collapsed": false
   },
   "outputs": [],
   "source": [
    "\n",
    "# Ext gibbs, gibbs, MH\n",
    "data = [(\"Base\",[[16.391281,14.687160,13.221359],[1.654619,1.371196,1.352810],[6.991439,5.757080,5.972307]]), \n",
    "        (\"Double Q\",[[31.744715,26.544267,26.462529],[1.613914,1.447797,1.420508],[7.297817,5.989157,5.952376]]),\n",
    "        (\"Double G\",[[26.039961,25.781691,26.955399],[2.788729,2.837696,2.812466],[11.910357,11.421743,11.438066]]),\n",
    "        (\"Double G pr g\",[[24.003236,22.361297,19.927950],[2.701890,2.348659,2.257807],[11.771779,9.244832,9.228990]]),\n",
    "       ]"
   ]
  },
  {
   "cell_type": "code",
   "execution_count": 196,
   "metadata": {
    "collapsed": false
   },
   "outputs": [
    {
     "data": {
      "image/png": "[encoded data removed]",
      "text/plain": [
       "<matplotlib.figure.Figure at 0x110a2d8d0>"
      ]
     },
     "metadata": {},
     "output_type": "display_data"
    }
   ],
   "source": [
    "with PdfPages(fig_store + \"CompareSpeedScaling.pdf\") as pdf:\n",
    "    fig = plt.figure(figsize(7,4))\n",
    "    labels = ['PG','PG2','PG3']\n",
    "    colors = [\"#348ABD\",\"#A60628\",\"#7A68A6\",\"#467821\"]\n",
    "    legends = map(lambda x: x[0], data)\n",
    "    data_ = map(lambda x: x[1], data)\n",
    "    labels.reverse()\n",
    "    width = 0.8 / len(data_)\n",
    "    ind = np.arange(len(labels))\n",
    "    ind = ind - 0.5\n",
    "    for k, d in enumerate(data_):\n",
    "        plt.barh(ind + width + width*len(data) - width*k ,map(lambda x: np.mean(x[1]), d), height = width, alpha = 0.65, \n",
    "                 color = colors[k],label=legends[k],linewidth=0)\n",
    "    ind = np.arange(len(data))  \n",
    "    plt.yticks(ind + width*1.5, labels)\n",
    "    plt.xlabel('seconds')\n",
    "    plt.ylabel('Models')\n",
    "    leg = plt.legend(loc=1)\n",
    "    leg.get_frame().set_alpha(0.4)\n",
    "    plt.margins(0.04)\n",
    "    plt.show()\n",
    "    pdf.savefig(fig,bbox_inches='tight')"
   ]
  },
  {
   "cell_type": "code",
   "execution_count": null,
   "metadata": {
    "collapsed": true
   },
   "outputs": [],
   "source": []
  }
 ],
 "metadata": {
  "kernelspec": {
   "display_name": "Python 2",
   "language": "python",
   "name": "python2"
  },
  "language_info": {
   "codemirror_mode": {
    "name": "ipython",
    "version": 2
   },
   "file_extension": ".py",
   "mimetype": "text/x-python",
   "name": "python",
   "nbconvert_exporter": "python",
   "pygments_lexer": "ipython2",
   "version": "2.7.10"
  }
 },
 "nbformat": 4,
 "nbformat_minor": 0
}
